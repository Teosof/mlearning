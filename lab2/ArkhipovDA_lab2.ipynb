{
 "cells": [
  {
   "cell_type": "markdown",
   "source": [
    "# Использование метода ближайших соседей для решения задачи классификации\n",
    "Группа: ИВТ-М20.<br/>\n",
    "Студент: Архипов Д.А."
   ],
   "metadata": {
    "collapsed": false
   }
  },
  {
   "cell_type": "code",
   "execution_count": 5,
   "outputs": [],
   "source": [
    "import warnings\n",
    "warnings.filterwarnings('ignore')\n",
    "\n",
    "import matplotlib as mpl\n",
    "import matplotlib.pyplot as plt\n",
    "\n",
    "from pandas import (\n",
    "    DataFrame,\n",
    "    read_csv\n",
    ")\n",
    "from sklearn.metrics import accuracy_score, classification_report\n",
    "from sklearn.model_selection import train_test_split, cross_val_score\n",
    "from sklearn.neighbors import KNeighborsClassifier\n",
    "from sklearn.model_selection import GridSearchCV"
   ],
   "metadata": {
    "collapsed": false,
    "pycharm": {
     "name": "#%%\n"
    }
   }
  },
  {
   "cell_type": "code",
   "execution_count": 14,
   "outputs": [],
   "source": [
    "plt.style.use(['ggplot'])"
   ],
   "metadata": {
    "collapsed": false,
    "pycharm": {
     "name": "#%%\n"
    }
   }
  },
  {
   "cell_type": "markdown",
   "source": [
    "## Чтение данных из файлов"
   ],
   "metadata": {
    "collapsed": false
   }
  },
  {
   "cell_type": "code",
   "execution_count": 5,
   "outputs": [],
   "source": [
    "target = DataFrame(read_csv('data/target1.csv', header=0))\n",
    "target.columns = ['data']\n",
    "var = DataFrame(read_csv('data/var1.csv', sep=',', header=None))\n"
   ],
   "metadata": {
    "collapsed": false,
    "pycharm": {
     "name": "#%%\n"
    }
   }
  },
  {
   "cell_type": "markdown",
   "source": [
    "## Транспонирование исходной матрицы\n",
    "## Отображение нескольких записей"
   ],
   "metadata": {
    "collapsed": false
   }
  },
  {
   "cell_type": "code",
   "execution_count": 6,
   "outputs": [
    {
     "name": "stdout",
     "output_type": "stream",
     "text": [
      "      0   1   2   3   4   5   6   7   8   9   ...  50  51  52  53  54  55  56  \\\n",
      "data   1   1   1   1   1   1   1   1   1   1  ...   2   2   2   2   2   2   2   \n",
      "\n",
      "      57  58  59  \n",
      "data   2   2   2  \n",
      "\n",
      "[1 rows x 60 columns]\n",
      "      0   1   2   3   4   5   6   7   8   9   ...  50  51  52  53  54  55  56  \\\n",
      "data   1   1   1   1   1   1   1   1   1   1  ...   2   2   2   2   2   2   2   \n",
      "\n",
      "      57  58  59  \n",
      "data   2   2   2  \n",
      "\n",
      "[1 rows x 60 columns]\n",
      "          0         1         2         3         4          5         6   \\\n",
      "0  10.660937  9.266645  8.163384  9.291998  6.683817  11.054668  9.368904   \n",
      "1   8.837976  8.422462  7.887574  8.345648  6.691520   9.338379  8.224688   \n",
      "2   4.869347  5.690374  4.825932  5.327111  5.066057   4.523733  3.887042   \n",
      "3   3.841726  5.288656  6.759585  5.093615  3.972489   6.223527  5.677149   \n",
      "4   2.965282  5.558424  7.383261  5.726576  3.536099   6.199316  4.605147   \n",
      "\n",
      "          7         8         9   ...         50         51         52  \\\n",
      "0  12.977878  9.236626  9.840215  ...  11.857264  12.895890  13.134568   \n",
      "1  10.295674  8.447220  8.515675  ...  11.250785  11.053541  11.016023   \n",
      "2   4.310234  6.397357  4.260144  ...   7.492301   4.580788   4.626027   \n",
      "3   5.818557  4.914216  5.444044  ...   8.328328   6.967320   7.288541   \n",
      "4   4.160739  4.578611  4.327908  ...   9.765597   5.642737   7.000405   \n",
      "\n",
      "          53         54         55         56         57         58         59  \n",
      "0  11.802193  11.962313  11.920297  14.603030  11.889351  14.830939  11.112254  \n",
      "1  10.137686  10.282155  10.279770  12.307543  10.415799  11.954417   9.536774  \n",
      "2   3.874202   6.084810   5.004289   5.179977   5.502083   4.161920   4.537337  \n",
      "3   6.296687   5.517580   5.714130   8.198934   5.684873   6.599443   5.745666  \n",
      "4   4.284659   6.005416   4.168375   7.285317   4.038633   4.331671   4.044630  \n",
      "\n",
      "[5 rows x 60 columns]\n",
      "           0         1         2         3         4         5         6   \\\n",
      "195  3.125680  3.267026  3.029492  2.656386  3.623183  4.330039  4.331383   \n",
      "196  4.389479  4.359180  3.221400  3.272562  6.670483  2.454472  4.387610   \n",
      "197  3.460729  2.608956  2.454002  3.670229  3.329430  3.826743  2.942408   \n",
      "198  4.470180  3.903345  2.881283  3.905332  5.923117  3.707086  4.124207   \n",
      "199  3.668878  3.358269  2.952321  4.054018  2.557104  4.528353  2.878989   \n",
      "\n",
      "           7         8         9   ...        50        51        52  \\\n",
      "195  6.165689  6.248261  4.214335  ...  5.077341  4.567783  4.389208   \n",
      "196  3.925381  7.037519  4.579577  ...  3.234667  2.214661  2.054102   \n",
      "197  3.113872  2.900196  2.598997  ...  4.024269  4.336321  4.026444   \n",
      "198  4.378209  6.493159  4.002899  ...  3.596307  4.084645  2.264698   \n",
      "199  4.157906  3.649004  2.838819  ...  5.109505  4.196226  4.674658   \n",
      "\n",
      "           53        54        55        56        57        58        59  \n",
      "195  3.262275  4.388935  4.277942  4.348785  3.725290  4.228943  4.476239  \n",
      "196  3.423455  3.866602  3.419940  1.252499  3.879549  2.285904  4.139352  \n",
      "197  2.767669  4.792355  3.798945  3.023498  2.883247  3.233596  2.703587  \n",
      "198  2.674313  4.188550  5.081380  2.009719  4.607514  2.606208  4.451271  \n",
      "199  2.420840  5.326448  3.675210  4.156490  2.993956  3.659502  2.902575  \n",
      "\n",
      "[5 rows x 60 columns]\n"
     ]
    }
   ],
   "source": [
    "targetT = target.T\n",
    "varT = var.T\n",
    "print(targetT.head())\n",
    "print(targetT.tail())\n",
    "print(varT.head())\n",
    "print(varT.tail())"
   ],
   "metadata": {
    "collapsed": false,
    "pycharm": {
     "name": "#%%\n"
    }
   }
  },
  {
   "cell_type": "markdown",
   "source": [
    "## Обучающаяся и проверочная выборка"
   ],
   "metadata": {
    "collapsed": false,
    "pycharm": {
     "name": "#%% md\n"
    }
   }
  },
  {
   "cell_type": "code",
   "execution_count": 7,
   "outputs": [
    {
     "name": "stdout",
     "output_type": "stream",
     "text": [
      "(60, 1) (60, 200)\n",
      "(18, 1) (18, 200)\n",
      "(42, 1) (42, 200)\n"
     ]
    }
   ],
   "source": [
    "print(target.shape, var.shape)\n",
    "target_train, target_test, var_train, var_test = train_test_split(target, var, test_size=0.3, train_size=0.7, shuffle=0)\n",
    "print(target_test.shape, var_test.shape)\n",
    "print(target_train.shape, var_train.shape)"
   ],
   "metadata": {
    "collapsed": false,
    "pycharm": {
     "name": "#%%\n"
    }
   }
  },
  {
   "cell_type": "markdown",
   "source": [
    "## Алгоритм K-ближайших соседей"
   ],
   "metadata": {
    "collapsed": false
   }
  },
  {
   "cell_type": "code",
   "execution_count": 8,
   "outputs": [
    {
     "name": "stdout",
     "output_type": "stream",
     "text": [
      "Test score [1.   1.   1.   1.   1.   1.   1.   0.75 1.   1.  ]\n"
     ]
    },
    {
     "data": {
      "text/plain": "array([2, 1, 2, 2, 1, 1, 1, 2, 2, 2, 2, 2, 1, 2, 1, 1, 2, 1], dtype=int64)"
     },
     "execution_count": 8,
     "metadata": {},
     "output_type": "execute_result"
    }
   ],
   "source": [
    "knn = KNeighborsClassifier(n_neighbors=3)\n",
    "knn.fit(var_train, target_train)\n",
    "scores = cross_val_score(knn, var_train, target_train, cv=10, scoring='accuracy')\n",
    "print(f\"Test score {scores}\")\n",
    "\n",
    "knn.predict(var_test)"
   ],
   "metadata": {
    "collapsed": false,
    "pycharm": {
     "name": "#%%\n"
    }
   }
  },
  {
   "cell_type": "markdown",
   "source": [
    "## Оценка качества"
   ],
   "metadata": {
    "collapsed": false
   }
  },
  {
   "cell_type": "code",
   "execution_count": 2,
   "outputs": [
    {
     "ename": "NameError",
     "evalue": "name 'target_test' is not defined",
     "output_type": "error",
     "traceback": [
      "\u001B[1;31m---------------------------------------------------------------------------\u001B[0m",
      "\u001B[1;31mNameError\u001B[0m                                 Traceback (most recent call last)",
      "\u001B[1;32m<ipython-input-2-a644d7cfc92d>\u001B[0m in \u001B[0;36m<module>\u001B[1;34m\u001B[0m\n\u001B[1;32m----> 1\u001B[1;33m \u001B[0my_true\u001B[0m \u001B[1;33m=\u001B[0m \u001B[0mtarget_test\u001B[0m\u001B[1;33m\u001B[0m\u001B[1;33m\u001B[0m\u001B[0m\n\u001B[0m\u001B[0;32m      2\u001B[0m \u001B[0my_pred\u001B[0m \u001B[1;33m=\u001B[0m \u001B[0mknn\u001B[0m\u001B[1;33m.\u001B[0m\u001B[0mpredict\u001B[0m\u001B[1;33m(\u001B[0m\u001B[0mvar_test\u001B[0m\u001B[1;33m)\u001B[0m\u001B[1;33m\u001B[0m\u001B[1;33m\u001B[0m\u001B[0m\n\u001B[0;32m      3\u001B[0m \u001B[1;33m\u001B[0m\u001B[0m\n\u001B[0;32m      4\u001B[0m \u001B[0mprint\u001B[0m\u001B[1;33m(\u001B[0m\u001B[0maccuracy_score\u001B[0m\u001B[1;33m(\u001B[0m\u001B[0my_true\u001B[0m\u001B[1;33m,\u001B[0m \u001B[0my_pred\u001B[0m\u001B[1;33m,\u001B[0m \u001B[0mnormalize\u001B[0m\u001B[1;33m=\u001B[0m\u001B[1;32mTrue\u001B[0m\u001B[1;33m)\u001B[0m\u001B[1;33m)\u001B[0m\u001B[1;33m\u001B[0m\u001B[1;33m\u001B[0m\u001B[0m\n\u001B[0;32m      5\u001B[0m \u001B[0mprint\u001B[0m\u001B[1;33m(\u001B[0m\u001B[0mclassification_report\u001B[0m\u001B[1;33m(\u001B[0m\u001B[0my_true\u001B[0m\u001B[1;33m,\u001B[0m \u001B[0my_pred\u001B[0m\u001B[1;33m)\u001B[0m\u001B[1;33m)\u001B[0m\u001B[1;33m\u001B[0m\u001B[1;33m\u001B[0m\u001B[0m\n",
      "\u001B[1;31mNameError\u001B[0m: name 'target_test' is not defined"
     ]
    }
   ],
   "source": [
    "y_true = target_test\n",
    "y_pred = knn.predict(var_test)\n",
    "\n",
    "print(accuracy_score(y_true, y_pred, normalize=True))\n",
    "print(classification_report(y_true, y_pred))"
   ],
   "metadata": {
    "collapsed": false,
    "pycharm": {
     "name": "#%%\n"
    }
   }
  },
  {
   "cell_type": "markdown",
   "source": [
    "## Подбор гиперпараметров"
   ],
   "metadata": {
    "collapsed": false
   }
  },
  {
   "cell_type": "code",
   "execution_count": 10,
   "outputs": [],
   "source": [
    "parameters = { 'n_neighbors': [3,5,11,19],\n",
    "               'weights': ['uniform', 'distance'],\n",
    "               'metric': ['euclidean', 'manhattan']}\n",
    "grid = GridSearchCV(KNeighborsClassifier(),\n",
    "                    parameters,\n",
    "                    cv=5)\n",
    "gs_result = grid.fit(var_train, target_train)"
   ],
   "metadata": {
    "collapsed": false,
    "pycharm": {
     "name": "#%%\n"
    }
   }
  },
  {
   "cell_type": "markdown",
   "source": [
    "## Повторное обучение"
   ],
   "metadata": {
    "collapsed": false
   }
  },
  {
   "cell_type": "code",
   "execution_count": 11,
   "outputs": [
    {
     "name": "stdout",
     "output_type": "stream",
     "text": [
      "{'metric': 'euclidean', 'n_neighbors': 3, 'weights': 'uniform'}\n",
      "0.975\n",
      "[2 1 2 2 1 1 1 2 2 2 2 2 1 2 1 1 2 1]\n",
      "0.9444444444444444\n"
     ]
    }
   ],
   "source": [
    "print(gs_result.best_params_)\n",
    "print(gs_result.best_score_)\n",
    "print(gs_result.predict(var_test))\n",
    "\n",
    "y_pred = gs_result.predict(var_test)\n",
    "print(accuracy_score(y_true, y_pred, normalize=True))"
   ],
   "metadata": {
    "collapsed": false,
    "pycharm": {
     "name": "#%%\n"
    }
   }
  },
  {
   "cell_type": "markdown",
   "source": [
    "# Ответы на контрольные вопросы"
   ],
   "metadata": {
    "collapsed": false
   }
  },
  {
   "cell_type": "markdown",
   "source": [
    "## 1. Опишите этапы реализации алгоритма KNN и для решения каких задач его можно использовать?\n",
    "### Этапы реализации\n",
    "Алгоритм K-ближайших соседей (KNN) использует «сходство признаков» для прогнозирования значений новых точек данных, что также означает, что новой точке данных будет присвоено значение на основе того, насколько близко он соответствует точкам в обучающем наборе. Мы можем понять его работу с помощью следующих шагов —\n",
    "\n",
    "Шаг 1 — Для реализации любого алгоритма нам нужен набор данных. Таким образом, во время первого шага KNN мы должны загрузить данные обучения, а также данные испытаний.\n",
    "\n",
    "Шаг 2 — Далее нам нужно выбрать значение K, то есть ближайшие точки данных. K может быть любым целым числом.\n",
    "\n",
    "Шаг 3 — Для каждой точки в тестовых данных сделайте следующее —\n",
    "\n",
    "3.1 — Рассчитайте расстояние между данными испытаний и каждой строкой данных тренировки с помощью любого из методов, а именно: Евклидово, Манхэттенское или Хэмминговское расстояние. Наиболее часто используемый метод расчета расстояния — евклидов.\n",
    "\n",
    "3.2 — Теперь, основываясь на значении расстояния, отсортируйте их в порядке возрастания.\n",
    "\n",
    "3.3 — Далее он выберет верхние K строк из отсортированного массива.\n",
    "\n",
    "3.4 — Теперь он назначит класс контрольной точке на основе наиболее часто встречающегося класса этих строк.\n",
    "\n",
    "3.1 — Рассчитайте расстояние между данными испытаний и каждой строкой данных тренировки с помощью любого из методов, а именно: Евклидово, Манхэттенское или Хэмминговское расстояние. Наиболее часто используемый метод расчета расстояния — евклидов.\n",
    "\n",
    "3.2 — Теперь, основываясь на значении расстояния, отсортируйте их в порядке возрастания.\n",
    "\n",
    "3.3 — Далее он выберет верхние K строк из отсортированного массива.\n",
    "\n",
    "3.4 — Теперь он назначит класс контрольной точке на основе наиболее часто встречающегося класса этих строк.\n",
    "\n",
    "Шаг 4 — Конец\n",
    "### Области применения алгоритма KNN\n",
    "Алгоритм k-ближайших соседей имеет широкое применение. Например:\n",
    "\n",
    "- Обнаружение мошенничества. Новые случаи мошенничества могут быть похожи на те, которые происходили когда-то в прошлом. Алгоритм KNN может распознать их для дальнейшего рассмотрения.\n",
    "- Предсказание отклика клиентов. Можно определить отклик новых клиентов по данным из прошлого.\n",
    "- Медицина. Алгоритм может классифицировать пациентов по разным показателям, основываясь на данных прошедших периодов.\n",
    "- Прочие задачи, требующие классификацию."
   ],
   "metadata": {
    "collapsed": false,
    "pycharm": {
     "name": "#%% md\n"
    }
   }
  },
  {
   "cell_type": "markdown",
   "source": [
    "## 2. Какие метрики используются для оценки качества работы алгоритмов классификации? Опишите данные метрики с математической точки зрения и скажите, чем они отличаются друг от друга.\n",
    "[Подробно](https://goo-gl.ru/MlQae \"Оценка качества\")"
   ],
   "metadata": {
    "collapsed": false
   }
  },
  {
   "cell_type": "markdown",
   "source": [
    "## 3. Каким способом можно повысить качество работы алгоритмов классификации?\n"
   ],
   "metadata": {
    "collapsed": false
   }
  }
 ],
 "metadata": {
  "kernelspec": {
   "display_name": "Python 3",
   "language": "python",
   "name": "python3"
  },
  "language_info": {
   "codemirror_mode": {
    "name": "ipython",
    "version": 2
   },
   "file_extension": ".py",
   "mimetype": "text/x-python",
   "name": "python",
   "nbconvert_exporter": "python",
   "pygments_lexer": "ipython2",
   "version": "2.7.6"
  }
 },
 "nbformat": 4,
 "nbformat_minor": 0
}