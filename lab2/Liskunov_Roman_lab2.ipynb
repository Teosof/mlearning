{
 "cells": [
  {
   "cell_type": "markdown",
   "source": [
    "# Использование метода ближайших соседей для решения задачи классификации\n",
    "Группа: ИВТ-М20.<br/>\n",
    "Студент: Лискунов Роман Геннадьвич"
   ],
   "metadata": {
    "collapsed": false
   }
  },
  {
   "cell_type": "code",
   "execution_count": 28,
   "outputs": [],
   "source": [
    "import warnings\n",
    "from typing import Union, Any\n",
    "\n",
    "warnings.filterwarnings('ignore')"
   ],
   "metadata": {
    "collapsed": false,
    "pycharm": {
     "name": "#%%\n"
    }
   }
  },
  {
   "cell_type": "code",
   "execution_count": 29,
   "outputs": [],
   "source": [
    "from pandas import (\n",
    "    DataFrame,\n",
    "    read_csv\n",
    ")\n",
    "from sklearn.metrics import accuracy_score, classification_report\n",
    "from sklearn.model_selection import train_test_split, cross_val_score\n",
    "from sklearn.neighbors import KNeighborsClassifier\n",
    "from sklearn.model_selection import GridSearchCV"
   ],
   "metadata": {
    "collapsed": false,
    "pycharm": {
     "name": "#%%\n"
    }
   }
  },
  {
   "cell_type": "markdown",
   "source": [
    "## Чтение данных из файлов (1)"
   ],
   "metadata": {
    "collapsed": false
   }
  },
  {
   "cell_type": "code",
   "execution_count": 30,
   "outputs": [],
   "source": [
    "target: DataFrame = DataFrame(read_csv('data/target5.csv', header=0))\n",
    "target.columns = ['data']\n",
    "var: DataFrame = DataFrame(read_csv('data/var5.csv', sep=',', header=None))\n"
   ],
   "metadata": {
    "collapsed": false,
    "pycharm": {
     "name": "#%%\n"
    }
   }
  },
  {
   "cell_type": "markdown",
   "source": [
    "## Транспонирование исходной матрицы (2)\n",
    "## Отображение нескольких записей (3)"
   ],
   "metadata": {
    "collapsed": false
   }
  },
  {
   "cell_type": "code",
   "execution_count": 31,
   "outputs": [
    {
     "name": "stdout",
     "output_type": "stream",
     "text": [
      "      0   1   2   3   4   5   6   7   8   9   ...  20  21  22  23  24  25  26  \\\n",
      "data   1   1   1   1   1   1   1   1   1   1  ...   2   2   2   2   2   2   2   \n",
      "\n",
      "      27  28  29  \n",
      "data   2   2   2  \n",
      "\n",
      "[1 rows x 30 columns]\n",
      "      0   1   2   3   4   5   6   7   8   9   ...  20  21  22  23  24  25  26  \\\n",
      "data   1   1   1   1   1   1   1   1   1   1  ...   2   2   2   2   2   2   2   \n",
      "\n",
      "      27  28  29  \n",
      "data   2   2   2  \n",
      "\n",
      "[1 rows x 30 columns]\n",
      "          0          1          2          3          4          5   \\\n",
      "0  10.659607   5.623670   5.773385   8.318744  10.798757   3.392248   \n",
      "1  12.707813  12.437502  12.293281  15.946799  15.800968  18.957569   \n",
      "2   4.944295   7.421738   7.322419  11.696521   8.865894  15.108460   \n",
      "3  12.466091   6.826808   8.880880   7.573538  13.083592   9.473492   \n",
      "4   6.401173   6.063046   6.493885   6.441410   7.014855   7.835656   \n",
      "\n",
      "          6          7          8          9   ...         20         21  \\\n",
      "0   9.309021   9.674849   7.147078   5.687350  ...   3.767338   3.364593   \n",
      "1  13.885331  16.345535  16.292809  14.086400  ...  11.893540  11.259945   \n",
      "2   8.064355  11.124848  12.013884  11.838692  ...   9.419042   7.984121   \n",
      "3   9.935888  11.891872   9.359934   2.525389  ...   4.556077   6.467037   \n",
      "4   6.399653   7.208384   7.036673   5.654433  ...   4.422181   6.124507   \n",
      "\n",
      "          22         23         24         25         26         27  \\\n",
      "0   5.341825   4.336650   5.169530   2.794644   4.301933   6.980154   \n",
      "1  11.800750  12.292093  11.971274  11.106815  12.229660  12.302840   \n",
      "2   9.942218   7.979605   8.864819   7.759778   9.801859   9.993305   \n",
      "3   4.045264   6.164419   5.531283   7.216325   4.568071   4.055335   \n",
      "4   5.492263   4.725062   5.102117   5.378854   5.015263   4.389935   \n",
      "\n",
      "          28         29  \n",
      "0   3.698926   3.962661  \n",
      "1  11.354582  11.715140  \n",
      "2   8.823756   8.846768  \n",
      "3   6.175047   4.957842  \n",
      "4   6.178852   6.118700  \n",
      "\n",
      "[5 rows x 30 columns]\n",
      "           0         1         2         3         4         5         6   \\\n",
      "195  3.968885  4.395811  4.308547  2.997465  2.723231  3.391700  3.440988   \n",
      "196  4.242111  3.344781  3.668049  4.298873  4.619140  4.380358  4.184601   \n",
      "197  6.474413  4.956981  4.852539  3.414158  5.259307  2.753954  4.926043   \n",
      "198  5.405617  5.128044  4.612163  3.820049  4.729111  3.863502  4.551732   \n",
      "199  2.931317  5.173970  2.978478  4.267044  3.167341  5.802209  3.189512   \n",
      "\n",
      "           7         8         9   ...        20        21        22  \\\n",
      "195  1.358350  2.280644  3.947055  ...  4.450079  3.134341  4.078345   \n",
      "196  4.221955  4.025305  3.743998  ...  3.684472  4.030382  3.610464   \n",
      "197  4.164338  3.578715  2.478196  ...  4.813380  2.472762  3.119563   \n",
      "198  4.203220  4.079489  3.377491  ...  2.948352  3.774058  3.376625   \n",
      "199  2.756688  4.006443  4.811639  ...  4.671333  2.839370  3.287504   \n",
      "\n",
      "           23        24        25        26        27        28        29  \n",
      "195  3.632046  3.816937  3.254838  2.817790  3.188179  3.513910  4.091145  \n",
      "196  4.238613  3.835101  3.797532  3.309454  3.812842  3.272825  3.537379  \n",
      "197  4.353143  3.980821  3.936760  3.232622  3.949153  2.975979  3.217924  \n",
      "198  3.204240  3.143736  4.289886  4.293338  3.418182  4.381537  3.913806  \n",
      "199  3.485200  3.351141  3.986116  4.153411  3.238472  3.549843  2.705482  \n",
      "\n",
      "[5 rows x 30 columns]\n"
     ]
    }
   ],
   "source": [
    "targetT: DataFrame = target.T\n",
    "varT: DataFrame = var.T\n",
    "print(targetT.head())\n",
    "print(targetT.tail())\n",
    "print(varT.head())\n",
    "print(varT.tail())"
   ],
   "metadata": {
    "collapsed": false,
    "pycharm": {
     "name": "#%%\n"
    }
   }
  },
  {
   "cell_type": "markdown",
   "source": [
    "## Обучающаяся и проверочная выборка (4)"
   ],
   "metadata": {
    "collapsed": false,
    "pycharm": {
     "name": "#%% md\n"
    }
   }
  },
  {
   "cell_type": "code",
   "execution_count": 32,
   "outputs": [
    {
     "name": "stdout",
     "output_type": "stream",
     "text": [
      "(30, 1) (30, 200)\n",
      "(9, 1) (9, 200)\n",
      "(21, 1) (21, 200)\n"
     ]
    }
   ],
   "source": [
    "print(target.shape, var.shape)\n",
    "target_train, target_test, var_train, var_test = train_test_split(target, var, test_size=0.3, train_size=0.7)\n",
    "print(target_test.shape, var_test.shape)\n",
    "print(target_train.shape, var_train.shape)"
   ],
   "metadata": {
    "collapsed": false,
    "pycharm": {
     "name": "#%%\n"
    }
   }
  },
  {
   "cell_type": "markdown",
   "source": [
    "## Алгоритм K-ближайших соседей (5)"
   ],
   "metadata": {
    "collapsed": false
   }
  },
  {
   "cell_type": "code",
   "execution_count": 33,
   "outputs": [
    {
     "name": "stdout",
     "output_type": "stream",
     "text": [
      "Test score [1. 1. 1. 1. 1. 1. 1. 1. 1. 1.]\n",
      "[1 1 2 1 2 2 1 1 2]\n"
     ]
    }
   ],
   "source": [
    "knn: KNeighborsClassifier = KNeighborsClassifier(n_neighbors=3)\n",
    "knn.fit(var_train, target_train)\n",
    "scores: object = cross_val_score(knn, var_train, target_train, cv=10, scoring='accuracy')\n",
    "print(f\"Test score {scores}\")\n",
    "y_true: object = target_test\n",
    "y_pred: object = knn.predict(var_test)\n",
    "print(y_pred);"
   ],
   "metadata": {
    "collapsed": false,
    "pycharm": {
     "name": "#%%\n"
    }
   }
  },
  {
   "cell_type": "markdown",
   "source": [
    "## Оценка качества (6)"
   ],
   "metadata": {
    "collapsed": false
   }
  },
  {
   "cell_type": "code",
   "execution_count": 34,
   "outputs": [
    {
     "name": "stdout",
     "output_type": "stream",
     "text": [
      "0.8888888888888888\n",
      "              precision    recall  f1-score   support\n",
      "\n",
      "           1       1.00      0.83      0.91         6\n",
      "           2       0.75      1.00      0.86         3\n",
      "\n",
      "    accuracy                           0.89         9\n",
      "   macro avg       0.88      0.92      0.88         9\n",
      "weighted avg       0.92      0.89      0.89         9\n",
      "\n"
     ]
    }
   ],
   "source": [
    "print(accuracy_score(y_true, y_pred, normalize=True))\n",
    "print(classification_report(y_true, y_pred))"
   ],
   "metadata": {
    "collapsed": false,
    "pycharm": {
     "name": "#%%\n"
    }
   }
  },
  {
   "cell_type": "markdown",
   "source": [
    "## Отбор информативных частот (7)"
   ],
   "metadata": {
    "collapsed": false
   }
  },
  {
   "cell_type": "markdown",
   "source": [
    "## Подбор гиперпараметров (8)\n"
   ],
   "metadata": {
    "collapsed": false
   }
  },
  {
   "cell_type": "code",
   "execution_count": 35,
   "outputs": [
    {
     "name": "stdout",
     "output_type": "stream",
     "text": [
      "GridSearchCV(cv=5, estimator=KNeighborsClassifier(),\n",
      "             param_grid={'metric': ['euclidean', 'manhattan'],\n",
      "                         'n_neighbors': [3, 5, 11, 19],\n",
      "                         'weights': ['uniform', 'distance']})\n"
     ]
    }
   ],
   "source": [
    "parameters: dict[str, Union[list[int], list[str]]] = {\n",
    "    'n_neighbors': [3, 5, 11, 19],\n",
    "    'weights': ['uniform', 'distance'],\n",
    "    'metric': ['euclidean', 'manhattan']\n",
    "}\n",
    "grid: GridSearchCV = GridSearchCV(\n",
    "    KNeighborsClassifier(),\n",
    "    parameters,\n",
    "    cv=5\n",
    ")\n",
    "gs_result: Union[GridSearchCV, Any] = grid.fit(var_train, target_train)\n",
    "print(gs_result)"
   ],
   "metadata": {
    "collapsed": false,
    "pycharm": {
     "name": "#%%\n"
    }
   }
  },
  {
   "cell_type": "markdown",
   "source": [
    "## Повторное обучение (9)"
   ],
   "metadata": {
    "collapsed": false
   }
  },
  {
   "cell_type": "code",
   "execution_count": 36,
   "outputs": [
    {
     "name": "stdout",
     "output_type": "stream",
     "text": [
      "{'metric': 'euclidean', 'n_neighbors': 3, 'weights': 'uniform'}\n",
      "1.0\n",
      "[1 1 2 1 2 2 1 1 2]\n",
      "0.8888888888888888\n"
     ]
    }
   ],
   "source": [
    "print(gs_result.best_params_)\n",
    "print(gs_result.best_score_)\n",
    "print(gs_result.predict(var_test))\n",
    "\n",
    "y_pred = gs_result.predict(var_test)\n",
    "print(round(accuracy_score(y_true, y_pred, normalize=True), 3))"
   ],
   "metadata": {
    "collapsed": false,
    "pycharm": {
     "name": "#%%\n"
    }
   }
  },
  {
   "cell_type": "markdown",
   "source": [
    "# Ответы на контрольные вопросы"
   ],
   "metadata": {
    "collapsed": false
   }
  },
  {
   "cell_type": "markdown",
   "source": [
    "## 1. Опишите этапы реализации алгоритма KNN и для решения каких задач его можно использовать?\n",
    "### Этапы реализации\n",
    "Алгоритм K-ближайших соседей (KNN) использует «сходство признаков» для прогнозирования значений новых точек данных, что также означает, что новой точке данных будет присвоено значение на основе того, насколько близко он соответствует точкам в обучающем наборе. Мы можем понять его работу с помощью следующих шагов —\n",
    "\n",
    "Шаг 1 — Для реализации любого алгоритма нам нужен набор данных. Таким образом, во время первого шага KNN мы должны загрузить данные обучения, а также данные испытаний.\n",
    "\n",
    "Шаг 2 — Далее нам нужно выбрать значение K, то есть ближайшие точки данных. K может быть любым целым числом.\n",
    "\n",
    "Шаг 3 — Для каждой точки в тестовых данных сделайте следующее —\n",
    "\n",
    "3.1 — Рассчитайте расстояние между данными испытаний и каждой строкой данных тренировки с помощью любого из методов, а именно: Евклидово, Манхэттенское или Хэмминговское расстояние. Наиболее часто используемый метод расчета расстояния — евклидов.\n",
    "\n",
    "3.2 — Теперь, основываясь на значении расстояния, отсортируйте их в порядке возрастания.\n",
    "\n",
    "3.3 — Далее он выберет верхние K строк из отсортированного массива.\n",
    "\n",
    "3.4 — Теперь он назначит класс контрольной точке на основе наиболее часто встречающегося класса этих строк.\n",
    "\n",
    "3.1 — Рассчитайте расстояние между данными испытаний и каждой строкой данных тренировки с помощью любого из методов, а именно: Евклидово, Манхэттенское или Хэмминговское расстояние. Наиболее часто используемый метод расчета расстояния — евклидов.\n",
    "\n",
    "3.2 — Теперь, основываясь на значении расстояния, отсортируйте их в порядке возрастания.\n",
    "\n",
    "3.3 — Далее он выберет верхние K строк из отсортированного массива.\n",
    "\n",
    "3.4 — Теперь он назначит класс контрольной точке на основе наиболее часто встречающегося класса этих строк.\n",
    "\n",
    "Шаг 4 — Конец\n",
    "### Области применения алгоритма KNN\n",
    "Алгоритм k-ближайших соседей имеет широкое применение. Например:\n",
    "\n",
    "- Обнаружение мошенничества. Новые случаи мошенничества могут быть похожи на те, которые происходили когда-то в прошлом. Алгоритм KNN может распознать их для дальнейшего рассмотрения.\n",
    "- Предсказание отклика клиентов. Можно определить отклик новых клиентов по данным из прошлого.\n",
    "- Медицина. Алгоритм может классифицировать пациентов по разным показателям, основываясь на данных прошедших периодов.\n",
    "- Прочие задачи, требующие классификацию."
   ],
   "metadata": {
    "collapsed": false,
    "pycharm": {
     "name": "#%% md\n"
    }
   }
  },
  {
   "cell_type": "markdown",
   "source": [
    "## 2. Какие метрики используются для оценки качества работы алгоритмов классификации? Опишите данные метрики с математической точки зрения и скажите, чем они отличаются друг от друга.\n",
    "[Подробно](https://goo-gl.ru/MlQae \"Оценка качества\")"
   ],
   "metadata": {
    "collapsed": false
   }
  },
  {
   "cell_type": "markdown",
   "source": [
    "## 3. Каким способом можно повысить качество работы алгоритмов классификации?\n"
   ],
   "metadata": {
    "collapsed": false
   }
  }
 ],
 "metadata": {
  "kernelspec": {
   "display_name": "Python 3",
   "language": "python",
   "name": "python3"
  },
  "language_info": {
   "codemirror_mode": {
    "name": "ipython",
    "version": 2
   },
   "file_extension": ".py",
   "mimetype": "text/x-python",
   "name": "python",
   "nbconvert_exporter": "python",
   "pygments_lexer": "ipython2",
   "version": "2.7.6"
  }
 },
 "nbformat": 4,
 "nbformat_minor": 0
}