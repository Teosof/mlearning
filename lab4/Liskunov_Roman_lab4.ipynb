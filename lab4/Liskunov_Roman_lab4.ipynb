{
 "cells": [
  {
   "cell_type": "markdown",
   "metadata": {
    "collapsed": true,
    "pycharm": {
     "name": "#%% md\n"
    }
   },
   "source": [
    "# Применение линейных методов классификации для диагностики кризиса теплообмена в ЯЭУ.\n",
    "Группа: ИВТ-М20.<br/>\n",
    "Студент: Лискунов Роман Геннадьвич"
   ]
  },
  {
   "cell_type": "code",
   "execution_count": 126,
   "outputs": [],
   "source": [
    "import warnings\n",
    "from typing import (\n",
    "    Any,\n",
    "    Union\n",
    ")\n",
    "from icecream import ic\n",
    "from pandas import (\n",
    "    DataFrame,\n",
    "    read_csv\n",
    ")\n",
    "from sklearn.linear_model import (\n",
    "    LogisticRegression,\n",
    "    SGDClassifier,\n",
    "    RidgeClassifier\n",
    ")\n",
    "from sklearn.metrics import (\n",
    "    accuracy_score,\n",
    "    classification_report\n",
    ")\n",
    "from sklearn.model_selection import (\n",
    "    train_test_split,\n",
    "    cross_val_score,\n",
    "    GridSearchCV\n",
    ")\n",
    "\n",
    "warnings.filterwarnings('ignore')\n"
   ],
   "metadata": {
    "collapsed": false,
    "pycharm": {
     "name": "#%%\n"
    }
   }
  },
  {
   "cell_type": "markdown",
   "source": [
    "(1) Чтение данных из файлов"
   ],
   "metadata": {
    "collapsed": false,
    "pycharm": {
     "name": "#%% md\n"
    }
   }
  },
  {
   "cell_type": "code",
   "execution_count": 127,
   "outputs": [],
   "source": [
    "target: DataFrame = DataFrame(read_csv('data/target5.csv', header=0))\n",
    "target.columns = ['data']\n",
    "var: DataFrame = DataFrame(read_csv('data/var5.csv', sep=',', header=None))"
   ],
   "metadata": {
    "collapsed": false,
    "pycharm": {
     "name": "#%%\n"
    }
   }
  },
  {
   "cell_type": "markdown",
   "source": [
    "(2) Транспонирование матрицы"
   ],
   "metadata": {
    "collapsed": false,
    "pycharm": {
     "name": "#%% md\n"
    }
   }
  },
  {
   "cell_type": "code",
   "execution_count": 128,
   "outputs": [],
   "source": [
    "targetT: DataFrame = target.T\n",
    "varT: DataFrame = var.T"
   ],
   "metadata": {
    "collapsed": false,
    "pycharm": {
     "name": "#%%\n"
    }
   }
  },
  {
   "cell_type": "markdown",
   "source": [
    "(3) Отображение первых и последних записей"
   ],
   "metadata": {
    "collapsed": false
   }
  },
  {
   "cell_type": "code",
   "execution_count": 129,
   "outputs": [
    {
     "name": "stdout",
     "output_type": "stream",
     "text": [
      "      0   1   2   3   4   5   6   7   8   9   ...  20  21  22  23  24  25  26  \\\n",
      "data   1   1   1   1   1   1   1   1   1   1  ...   2   2   2   2   2   2   2   \n",
      "\n",
      "      27  28  29  \n",
      "data   2   2   2  \n",
      "\n",
      "[1 rows x 30 columns]\n",
      "      0   1   2   3   4   5   6   7   8   9   ...  20  21  22  23  24  25  26  \\\n",
      "data   1   1   1   1   1   1   1   1   1   1  ...   2   2   2   2   2   2   2   \n",
      "\n",
      "      27  28  29  \n",
      "data   2   2   2  \n",
      "\n",
      "[1 rows x 30 columns]\n",
      "          0          1          2          3          4          5   \\\n",
      "0  10.659607   5.623670   5.773385   8.318744  10.798757   3.392248   \n",
      "1  12.707813  12.437502  12.293281  15.946799  15.800968  18.957569   \n",
      "2   4.944295   7.421738   7.322419  11.696521   8.865894  15.108460   \n",
      "3  12.466091   6.826808   8.880880   7.573538  13.083592   9.473492   \n",
      "4   6.401173   6.063046   6.493885   6.441410   7.014855   7.835656   \n",
      "\n",
      "          6          7          8          9   ...         20         21  \\\n",
      "0   9.309021   9.674849   7.147078   5.687350  ...   3.767338   3.364593   \n",
      "1  13.885331  16.345535  16.292809  14.086400  ...  11.893540  11.259945   \n",
      "2   8.064355  11.124848  12.013884  11.838692  ...   9.419042   7.984121   \n",
      "3   9.935888  11.891872   9.359934   2.525389  ...   4.556077   6.467037   \n",
      "4   6.399653   7.208384   7.036673   5.654433  ...   4.422181   6.124507   \n",
      "\n",
      "          22         23         24         25         26         27  \\\n",
      "0   5.341825   4.336650   5.169530   2.794644   4.301933   6.980154   \n",
      "1  11.800750  12.292093  11.971274  11.106815  12.229660  12.302840   \n",
      "2   9.942218   7.979605   8.864819   7.759778   9.801859   9.993305   \n",
      "3   4.045264   6.164419   5.531283   7.216325   4.568071   4.055335   \n",
      "4   5.492263   4.725062   5.102117   5.378854   5.015263   4.389935   \n",
      "\n",
      "          28         29  \n",
      "0   3.698926   3.962661  \n",
      "1  11.354582  11.715140  \n",
      "2   8.823756   8.846768  \n",
      "3   6.175047   4.957842  \n",
      "4   6.178852   6.118700  \n",
      "\n",
      "[5 rows x 30 columns]\n",
      "           0         1         2         3         4         5         6   \\\n",
      "195  3.968885  4.395811  4.308547  2.997465  2.723231  3.391700  3.440988   \n",
      "196  4.242111  3.344781  3.668049  4.298873  4.619140  4.380358  4.184601   \n",
      "197  6.474413  4.956981  4.852539  3.414158  5.259307  2.753954  4.926043   \n",
      "198  5.405617  5.128044  4.612163  3.820049  4.729111  3.863502  4.551732   \n",
      "199  2.931317  5.173970  2.978478  4.267044  3.167341  5.802209  3.189512   \n",
      "\n",
      "           7         8         9   ...        20        21        22  \\\n",
      "195  1.358350  2.280644  3.947055  ...  4.450079  3.134341  4.078345   \n",
      "196  4.221955  4.025305  3.743998  ...  3.684472  4.030382  3.610464   \n",
      "197  4.164338  3.578715  2.478196  ...  4.813380  2.472762  3.119563   \n",
      "198  4.203220  4.079489  3.377491  ...  2.948352  3.774058  3.376625   \n",
      "199  2.756688  4.006443  4.811639  ...  4.671333  2.839370  3.287504   \n",
      "\n",
      "           23        24        25        26        27        28        29  \n",
      "195  3.632046  3.816937  3.254838  2.817790  3.188179  3.513910  4.091145  \n",
      "196  4.238613  3.835101  3.797532  3.309454  3.812842  3.272825  3.537379  \n",
      "197  4.353143  3.980821  3.936760  3.232622  3.949153  2.975979  3.217924  \n",
      "198  3.204240  3.143736  4.289886  4.293338  3.418182  4.381537  3.913806  \n",
      "199  3.485200  3.351141  3.986116  4.153411  3.238472  3.549843  2.705482  \n",
      "\n",
      "[5 rows x 30 columns]\n"
     ]
    }
   ],
   "source": [
    "print(targetT.head())\n",
    "print(targetT.tail())\n",
    "print(varT.head())\n",
    "print(varT.tail())"
   ],
   "metadata": {
    "collapsed": false,
    "pycharm": {
     "name": "#%%\n"
    }
   }
  },
  {
   "cell_type": "markdown",
   "source": [
    "(4) Отбор информативных частот"
   ],
   "metadata": {
    "collapsed": false
   }
  },
  {
   "cell_type": "code",
   "execution_count": 130,
   "outputs": [],
   "source": [
    "# гистограмма"
   ],
   "metadata": {
    "collapsed": false,
    "pycharm": {
     "name": "#%%\n"
    }
   }
  },
  {
   "cell_type": "markdown",
   "source": [
    "(5) Разбиение данных на обучающую и проверочную выборки"
   ],
   "metadata": {
    "collapsed": false
   }
  },
  {
   "cell_type": "code",
   "execution_count": 131,
   "outputs": [],
   "source": [
    "target_train, target_test, var_train, var_test = train_test_split(target, var, test_size=0.3, train_size=0.7)"
   ],
   "metadata": {
    "collapsed": false,
    "pycharm": {
     "name": "#%%\n"
    }
   }
  },
  {
   "cell_type": "markdown",
   "source": [
    "(6) Последовательное применение алгоритмов"
   ],
   "metadata": {
    "collapsed": false
   }
  },
  {
   "cell_type": "code",
   "execution_count": 132,
   "outputs": [
    {
     "data": {
      "text/plain": "LogisticRegression()"
     },
     "execution_count": 132,
     "metadata": {},
     "output_type": "execute_result"
    }
   ],
   "source": [
    "# LogisticRegression\n",
    "lr: LogisticRegression = LogisticRegression()\n",
    "lr.fit(var_train, target_train)"
   ],
   "metadata": {
    "collapsed": false,
    "pycharm": {
     "name": "#%%\n"
    }
   }
  },
  {
   "cell_type": "code",
   "execution_count": 133,
   "outputs": [
    {
     "data": {
      "text/plain": "SGDClassifier()"
     },
     "execution_count": 133,
     "metadata": {},
     "output_type": "execute_result"
    }
   ],
   "source": [
    "# SGDClassifier\n",
    "sgdc: SGDClassifier = SGDClassifier()\n",
    "sgdc.fit(var_train, target_train)"
   ],
   "metadata": {
    "collapsed": false,
    "pycharm": {
     "name": "#%%\n"
    }
   }
  },
  {
   "cell_type": "code",
   "execution_count": 134,
   "outputs": [
    {
     "data": {
      "text/plain": "RidgeClassifier()"
     },
     "execution_count": 134,
     "metadata": {},
     "output_type": "execute_result"
    }
   ],
   "source": [
    "# RidgeClassifier\n",
    "rc: RidgeClassifier = RidgeClassifier()\n",
    "rc.fit(var_train, target_train)\n"
   ],
   "metadata": {
    "collapsed": false,
    "pycharm": {
     "name": "#%%\n"
    }
   }
  },
  {
   "cell_type": "markdown",
   "source": [
    "(7) Оценка качества модели"
   ],
   "metadata": {
    "collapsed": false
   }
  },
  {
   "cell_type": "code",
   "execution_count": 135,
   "outputs": [],
   "source": [
    "def estimate(classifier, ttraing, ttest, vtrain, vtest):\n",
    "    print(f\"test score: {cross_val_score(classifier, vtrain, ttraing, cv=10, scoring='accuracy')}\")\n",
    "    print(f\"accuracy_score: {accuracy_score(ttest, classifier.predict(vtest), normalize=True)}\")\n",
    "    print(f\"classification_report: {classification_report(ttest, classifier.predict(vtest))}\")"
   ],
   "metadata": {
    "collapsed": false,
    "pycharm": {
     "name": "#%%\n"
    }
   }
  },
  {
   "cell_type": "code",
   "execution_count": 136,
   "outputs": [
    {
     "name": "stdout",
     "output_type": "stream",
     "text": [
      "LogisticRegression\n",
      "test score: [1. 1. 1. 1. 1. 1. 1. 1. 1. 1.]\n",
      "accuracy_score: 1.0\n",
      "classification_report:               precision    recall  f1-score   support\n",
      "\n",
      "           1       1.00      1.00      1.00         5\n",
      "           2       1.00      1.00      1.00         4\n",
      "\n",
      "    accuracy                           1.00         9\n",
      "   macro avg       1.00      1.00      1.00         9\n",
      "weighted avg       1.00      1.00      1.00         9\n",
      "\n"
     ]
    }
   ],
   "source": [
    "print(\"LogisticRegression\")\n",
    "estimate(lr, target_train, target_test, var_train, var_test)"
   ],
   "metadata": {
    "collapsed": false,
    "pycharm": {
     "name": "#%%\n"
    }
   }
  },
  {
   "cell_type": "code",
   "execution_count": 137,
   "outputs": [
    {
     "name": "stdout",
     "output_type": "stream",
     "text": [
      "SGDClassifier\n",
      "test score: [1.  1.  1.  1.  1.  1.  0.5 1.  1.  1. ]\n",
      "accuracy_score: 1.0\n",
      "classification_report:               precision    recall  f1-score   support\n",
      "\n",
      "           1       1.00      1.00      1.00         5\n",
      "           2       1.00      1.00      1.00         4\n",
      "\n",
      "    accuracy                           1.00         9\n",
      "   macro avg       1.00      1.00      1.00         9\n",
      "weighted avg       1.00      1.00      1.00         9\n",
      "\n"
     ]
    }
   ],
   "source": [
    "print(\"SGDClassifier\")\n",
    "estimate(sgdc, target_train, target_test, var_train, var_test)"
   ],
   "metadata": {
    "collapsed": false,
    "pycharm": {
     "name": "#%%\n"
    }
   }
  },
  {
   "cell_type": "code",
   "execution_count": 138,
   "outputs": [
    {
     "name": "stdout",
     "output_type": "stream",
     "text": [
      "RidgeClassifier\n",
      "test score: [1. 1. 1. 1. 1. 1. 1. 1. 1. 1.]\n",
      "accuracy_score: 1.0\n",
      "classification_report:               precision    recall  f1-score   support\n",
      "\n",
      "           1       1.00      1.00      1.00         5\n",
      "           2       1.00      1.00      1.00         4\n",
      "\n",
      "    accuracy                           1.00         9\n",
      "   macro avg       1.00      1.00      1.00         9\n",
      "weighted avg       1.00      1.00      1.00         9\n",
      "\n"
     ]
    }
   ],
   "source": [
    "print(\"RidgeClassifier\")\n",
    "estimate(rc, target_train, target_test, var_train, var_test)"
   ],
   "metadata": {
    "collapsed": false,
    "pycharm": {
     "name": "#%%\n"
    }
   }
  },
  {
   "cell_type": "markdown",
   "source": [
    "(8) Подбор гиперпараметров"
   ],
   "metadata": {
    "collapsed": false
   }
  },
  {
   "cell_type": "code",
   "execution_count": 139,
   "outputs": [
    {
     "name": "stdout",
     "output_type": "stream",
     "text": [
      "LogisticRegression\n",
      "GridSearchCV(cv=5, estimator=LogisticRegression(),\n",
      "             param_grid={'C': [0.001, 0.01, 0.1, 1, 10, 100, 1000],\n",
      "                         'penalty': ['l1', 'l2']})\n"
     ]
    }
   ],
   "source": [
    "print(\"LogisticRegression\")\n",
    "parameters: dict[str, Union[list[str], list[Union[float, int]]]] = {\n",
    "    'penalty': ['l1', 'l2'],\n",
    "    'C': [0.001, 0.01, 0.1, 1, 10, 100, 1000]\n",
    "}\n",
    "grid: GridSearchCV = GridSearchCV(\n",
    "    LogisticRegression(),\n",
    "    parameters,\n",
    "    cv=5\n",
    ")\n",
    "lr_grid: Union[GridSearchCV, Any] = grid.fit(var_train, target_train)\n",
    "print(lr_grid)"
   ],
   "metadata": {
    "collapsed": false,
    "pycharm": {
     "name": "#%%\n"
    }
   }
  },
  {
   "cell_type": "code",
   "execution_count": 140,
   "outputs": [
    {
     "name": "stdout",
     "output_type": "stream",
     "text": [
      "SGDClassifier\n",
      "GridSearchCV(cv=5, estimator=SGDClassifier(),\n",
      "             param_grid={'alpha': [1e-06, 1e-05, 0.0001, 0.001, 0.01, 0.1, 1],\n",
      "                         'l1_ratio': [0, 0.05, 0.1, 0.2, 0.5, 0.8, 0.9, 0.95,\n",
      "                                      1]})\n"
     ]
    }
   ],
   "source": [
    "print(\"SGDClassifier\")\n",
    "parameters: dict[str, Union[list[str], list[Union[float, int]]]] = {\n",
    "    'alpha': [10 ** x for x in range(-6, 1)],\n",
    "    'l1_ratio': [0, 0.05, 0.1, 0.2, 0.5, 0.8, 0.9, 0.95, 1],\n",
    "}\n",
    "grid: GridSearchCV = GridSearchCV(\n",
    "    SGDClassifier(),\n",
    "    parameters,\n",
    "    cv=5\n",
    ")\n",
    "sgd_grid: Union[GridSearchCV, Any] = grid.fit(var_train, target_train)\n",
    "print(sgd_grid)"
   ],
   "metadata": {
    "collapsed": false,
    "pycharm": {
     "name": "#%%\n"
    }
   }
  },
  {
   "cell_type": "code",
   "execution_count": 141,
   "outputs": [
    {
     "name": "stdout",
     "output_type": "stream",
     "text": [
      "RidgeClassifier\n",
      "GridSearchCV(cv=5, estimator=RidgeClassifier(),\n",
      "             param_grid={'alpha': [0.1, 0.2, 0.3, 0.4, 0.5, 0.6, 0.7, 0.8, 0.9,\n",
      "                                   1.0]})\n"
     ]
    }
   ],
   "source": [
    "print(\"RidgeClassifier\")\n",
    "parameters: dict[str, Union[list[str], list[Union[float, int]]]] = {\n",
    "    'alpha': [0.1, 0.2, 0.3, 0.4, 0.5, 0.6, 0.7, 0.8, 0.9, 1.0]\n",
    "}\n",
    "grid: GridSearchCV = GridSearchCV(\n",
    "    RidgeClassifier(),\n",
    "    parameters,\n",
    "    cv=5\n",
    ")\n",
    "rc_grid: Union[GridSearchCV, Any] = grid.fit(var_train, target_train)\n",
    "print(rc_grid)"
   ],
   "metadata": {
    "collapsed": false,
    "pycharm": {
     "name": "#%%\n"
    }
   }
  },
  {
   "cell_type": "markdown",
   "source": [
    "(9) Переобучение модели"
   ],
   "metadata": {
    "collapsed": false
   }
  },
  {
   "cell_type": "code",
   "execution_count": 142,
   "outputs": [
    {
     "name": "stderr",
     "output_type": "stream",
     "text": [
      "ic| 'LogisticRegression'\n",
      "ic| lr_grid.best_params_: {'C': 0.001, 'penalty': 'l2'}\n",
      "ic| lr_grid.best_score_: 1.0\n",
      "ic| lr_grid.predict(var_test): array([1, 2, 2, 1, 1, 2, 1, 1, 2])\n",
      "ic| accuracy_score(target_test, lr_grid.predict(var_test), normalize=True): 1.0\n"
     ]
    },
    {
     "data": {
      "text/plain": "1.0"
     },
     "execution_count": 142,
     "metadata": {},
     "output_type": "execute_result"
    }
   ],
   "source": [
    "ic(\"LogisticRegression\")\n",
    "ic(lr_grid.best_params_)\n",
    "ic(lr_grid.best_score_)\n",
    "ic(lr_grid.predict(var_test))\n",
    "ic(accuracy_score(target_test, lr_grid.predict(var_test), normalize=True))"
   ],
   "metadata": {
    "collapsed": false,
    "pycharm": {
     "name": "#%%\n"
    }
   }
  },
  {
   "cell_type": "code",
   "execution_count": 143,
   "outputs": [
    {
     "name": "stderr",
     "output_type": "stream",
     "text": [
      "ic| 'SGDClassifier'\n",
      "ic| sgd_grid.best_params_: {'alpha': 1e-06, 'l1_ratio': 0.1}\n",
      "ic| sgd_grid.best_score_: 1.0\n",
      "ic| sgd_grid.predict(var_test): array([1, 2, 2, 1, 1, 2, 1, 1, 2])\n",
      "ic| accuracy_score(target_test, sgd_grid.predict(var_test), normalize=True): 1.0\n"
     ]
    },
    {
     "data": {
      "text/plain": "1.0"
     },
     "execution_count": 143,
     "metadata": {},
     "output_type": "execute_result"
    }
   ],
   "source": [
    "ic(\"SGDClassifier\")\n",
    "ic(sgd_grid.best_params_)\n",
    "ic(sgd_grid.best_score_)\n",
    "ic(sgd_grid.predict(var_test))\n",
    "ic(accuracy_score(target_test, sgd_grid.predict(var_test), normalize=True))"
   ],
   "metadata": {
    "collapsed": false,
    "pycharm": {
     "name": "#%%\n"
    }
   }
  },
  {
   "cell_type": "code",
   "execution_count": 144,
   "outputs": [
    {
     "name": "stderr",
     "output_type": "stream",
     "text": [
      "ic| 'RidgeClassifier'\n",
      "ic| rc_grid.best_params_: {'alpha': 0.1}\n",
      "ic| rc_grid.best_score_: 1.0\n",
      "ic| rc_grid.predict(var_test): array([1, 2, 2, 1, 1, 2, 1, 1, 2])\n",
      "ic| accuracy_score(target_test, rc_grid.predict(var_test), normalize=True): 1.0\n"
     ]
    },
    {
     "data": {
      "text/plain": "1.0"
     },
     "execution_count": 144,
     "metadata": {},
     "output_type": "execute_result"
    }
   ],
   "source": [
    "ic(\"RidgeClassifier\")\n",
    "ic(rc_grid.best_params_)\n",
    "ic(rc_grid.best_score_)\n",
    "ic(rc_grid.predict(var_test))\n",
    "ic(accuracy_score(target_test, rc_grid.predict(var_test), normalize=True))"
   ],
   "metadata": {
    "collapsed": false,
    "pycharm": {
     "name": "#%%\n"
    }
   }
  },
  {
   "cell_type": "markdown",
   "source": [
    "# Ответы на контрольные вопросы"
   ],
   "metadata": {
    "collapsed": false
   }
  },
  {
   "cell_type": "markdown",
   "source": [
    "## 1. Опишите этапы построения линейных классификаторов. Чем они отличаются и чем схожи?"
   ],
   "metadata": {
    "collapsed": false
   }
  },
  {
   "cell_type": "markdown",
   "source": [
    "## 2. Что означает L-1 и L-2 регуляризация?"
   ],
   "metadata": {
    "collapsed": false,
    "pycharm": {
     "name": "#%% md\n"
    }
   }
  },
  {
   "cell_type": "markdown",
   "source": [
    "## 3. В чем заключается метод стохастического градиентного спуска? Где и когда его можно использовать?"
   ],
   "metadata": {
    "collapsed": false
   }
  }
 ],
 "metadata": {
  "kernelspec": {
   "display_name": "Python 3",
   "language": "python",
   "name": "python3"
  },
  "language_info": {
   "codemirror_mode": {
    "name": "ipython",
    "version": 2
   },
   "file_extension": ".py",
   "mimetype": "text/x-python",
   "name": "python",
   "nbconvert_exporter": "python",
   "pygments_lexer": "ipython2",
   "version": "2.7.6"
  }
 },
 "nbformat": 4,
 "nbformat_minor": 0
}