{
 "cells": [
  {
   "cell_type": "markdown",
   "metadata": {
    "collapsed": true,
    "pycharm": {
     "name": "#%% md\n"
    }
   },
   "source": [
    "# Применение линейных методов классификации для диагностики кризиса теплообмена в ЯЭУ.\n",
    "Группа: ИВТ-М20.<br/>\n",
    "Студент: Лискунов Роман Геннадьвич"
   ]
  },
  {
   "cell_type": "code",
   "execution_count": 1,
   "outputs": [],
   "source": [
    "from typing import Union, Any\n",
    "\n",
    "from pandas import (\n",
    "    DataFrame,\n",
    "    read_csv\n",
    ")\n",
    "from sklearn.metrics import (\n",
    "    accuracy_score,\n",
    "    classification_report\n",
    ")\n",
    "from sklearn.model_selection import (\n",
    "    train_test_split,\n",
    "    GridSearchCV\n",
    ")\n",
    "from sklearn.pipeline import make_pipeline, Pipeline\n",
    "from sklearn.preprocessing import StandardScaler\n",
    "from sklearn.svm import SVC\n"
   ],
   "metadata": {
    "collapsed": false,
    "pycharm": {
     "name": "#%%\n"
    }
   }
  },
  {
   "cell_type": "markdown",
   "source": [
    "## 1. Прочтите данные из файлов"
   ],
   "metadata": {
    "collapsed": false
   }
  },
  {
   "cell_type": "code",
   "execution_count": 2,
   "outputs": [],
   "source": [
    "transformators: DataFrame = DataFrame(\n",
    "    read_csv(\n",
    "        'data/transformators.csv',\n",
    "        sep=',',\n",
    "        header=0\n",
    "    )\n",
    ")"
   ],
   "metadata": {
    "collapsed": false,
    "pycharm": {
     "name": "#%%\n"
    }
   }
  },
  {
   "cell_type": "code",
   "execution_count": 3,
   "outputs": [],
   "source": [
    "x = transformators.drop('label', axis=1)\n",
    "y = transformators.label"
   ],
   "metadata": {
    "collapsed": false,
    "pycharm": {
     "name": "#%%\n"
    }
   }
  },
  {
   "cell_type": "markdown",
   "source": [
    "## 2. Отобразите несколько первых и несколько последних записей."
   ],
   "metadata": {
    "collapsed": false
   }
  },
  {
   "cell_type": "code",
   "execution_count": 4,
   "outputs": [
    {
     "name": "stdout",
     "output_type": "stream",
     "text": [
      "         H2        CO      C2H4      C2H2  label\n",
      "0  0.002590  0.016491  0.002876  0.000336      1\n",
      "1  0.002825  0.014728  0.001992  0.000339      1\n",
      "2  0.002764  0.017030  0.003394  0.000195      1\n",
      "3  0.000508  0.016334  0.004104  0.000380      1\n",
      "4  0.002654  0.021278  0.004068  0.000124      1\n",
      "\n",
      "\n",
      "            H2        CO      C2H4      C2H2  label\n",
      "2095  0.002549  0.009460  0.007465  0.000242      1\n",
      "2096  0.000915  0.005770  0.007230  0.000081      3\n",
      "2097  0.001565  0.002492  0.008529  0.000176      3\n",
      "2098  0.001688  0.020291  0.007305  0.000252      1\n",
      "2099  0.002935  0.028001  0.008048  0.000219      1\n"
     ]
    }
   ],
   "source": [
    "print(transformators.head())\n",
    "print('\\n')\n",
    "print(transformators.tail())"
   ],
   "metadata": {
    "collapsed": false,
    "pycharm": {
     "name": "#%%\n"
    }
   }
  },
  {
   "cell_type": "markdown",
   "source": [
    "## 3. Разбейте данные для классификации"
   ],
   "metadata": {
    "collapsed": false
   }
  },
  {
   "cell_type": "code",
   "execution_count": 5,
   "outputs": [],
   "source": [
    "x_train, x_test, y_train, y_test = train_test_split(x, y, test_size=0.3, train_size=0.7)"
   ],
   "metadata": {
    "collapsed": false,
    "pycharm": {
     "name": "#%%\n"
    }
   }
  },
  {
   "cell_type": "markdown",
   "source": [
    "##  4. Примените метод опорных векторов для классификации (SVC)"
   ],
   "metadata": {
    "collapsed": false,
    "pycharm": {
     "name": "#%% md\n"
    }
   }
  },
  {
   "cell_type": "code",
   "source": [
    "clf: SVC = SVC()\n",
    "clf.fit(x, y)"
   ],
   "metadata": {
    "collapsed": false,
    "pycharm": {
     "name": "#%%\n"
    }
   },
   "execution_count": 6,
   "outputs": [
    {
     "data": {
      "text/plain": "SVC()"
     },
     "execution_count": 6,
     "metadata": {},
     "output_type": "execute_result"
    }
   ]
  },
  {
   "cell_type": "markdown",
   "source": [
    "## 5. Сделайте предсказание на тестовой выборке"
   ],
   "metadata": {
    "collapsed": false,
    "pycharm": {
     "name": "#%% md\n"
    }
   }
  },
  {
   "cell_type": "code",
   "execution_count": 7,
   "outputs": [
    {
     "name": "stdout",
     "output_type": "stream",
     "text": [
      "prediction: [1 1 2 1 3 1 1 2 1 1 1 1 1 1 1 1 2 1 1 1 1 1 1 1 1 1 1 2 1 1 1 1 1 2 4 1 3\n",
      " 1 1 1 1 1 1 1 1 1 1 2 1 1 1 2 1 1 1 1 1 1 1 1 1 1 1 1 3 1 1 3 1 1 3 1 1 1\n",
      " 2 1 2 3 1 1 4 1 3 1 1 1 1 1 1 3 1 1 1 1 1 3 1 1 1 3 1 3 1 1 1 1 1 1 1 1 1\n",
      " 1 3 1 1 1 1 1 1 1 4 1 1 1 1 1 4 2 1 1 1 1 1 1 2 1 1 1 1 1 1 4 1 1 1 1 1 1\n",
      " 4 1 1 1 1 1 1 1 4 1 1 2 1 1 1 1 1 1 3 1 1 1 1 1 1 1 1 1 1 1 1 1 1 1 1 1 1\n",
      " 1 1 1 1 1 1 1 1 1 1 1 1 1 1 1 1 1 1 1 1 1 1 1 1 1 4 1 1 1 4 1 1 1 1 1 1 1\n",
      " 1 1 1 1 3 2 4 1 1 2 1 1 1 1 1 1 1 1 1 1 3 1 1 1 1 1 1 1 1 1 1 1 1 1 1 1 1\n",
      " 1 1 1 1 1 1 1 1 1 1 1 1 1 1 1 1 1 1 1 1 1 1 3 1 1 1 1 1 1 1 1 4 1 1 4 1 1\n",
      " 1 1 1 1 1 2 1 1 1 1 1 1 1 1 1 2 1 1 1 1 1 1 4 1 2 3 1 1 1 4 1 4 1 1 1 4 1\n",
      " 1 1 1 1 1 1 2 4 3 1 2 1 1 1 1 1 1 1 1 1 1 1 1 1 1 1 1 3 1 1 1 1 1 1 4 1 1\n",
      " 1 1 1 1 1 1 1 1 1 4 1 1 2 1 1 1 1 1 1 1 1 2 1 1 3 1 1 1 1 2 1 3 1 2 1 4 1\n",
      " 1 1 1 1 1 2 1 1 1 1 2 1 1 1 3 1 1 1 1 1 1 1 1 1 1 1 1 1 1 1 3 1 1 1 1 1 1\n",
      " 1 1 1 3 1 3 1 1 1 1 1 1 1 1 2 1 1 1 1 1 1 4 1 1 1 1 1 1 1 1 1 4 1 2 3 1 1\n",
      " 1 1 4 1 4 4 1 1 1 1 1 1 1 1 1 1 1 1 1 1 1 1 1 1 1 1 1 1 1 1 3 2 1 1 1 4 1\n",
      " 1 1 1 4 1 1 1 1 1 4 4 1 1 1 1 1 2 1 1 1 1 1 1 1 1 4 1 1 1 1 1 1 3 1 1 1 1\n",
      " 4 1 1 1 1 1 1 4 1 1 3 1 1 1 2 4 2 1 1 1 1 1 1 3 1 1 1 1 1 1 1 1 1 1 1 1 1\n",
      " 1 3 1 1 3 1 3 1 1 1 1 1 1 1 1 1 1 1 1 1 1 1 4 1 1 4 2 1 1 1 1 1 1 1 1 1 3\n",
      " 1]\n",
      "\n",
      "accuracy_score: 0.921\n",
      "\n",
      "classification_report:               precision    recall  f1-score   support\n",
      "\n",
      "           1       0.94      0.99      0.96       506\n",
      "           2       0.72      1.00      0.84        23\n",
      "           3       0.82      0.65      0.73        43\n",
      "           4       0.86      0.52      0.65        58\n",
      "\n",
      "    accuracy                           0.92       630\n",
      "   macro avg       0.84      0.79      0.79       630\n",
      "weighted avg       0.92      0.92      0.91       630\n",
      "\n",
      "\n"
     ]
    }
   ],
   "source": [
    "pred = clf.predict(x_test)\n",
    "print(f\"prediction: {pred}\", end='\\n\\n')\n",
    "print(f\"accuracy_score: {round(accuracy_score(y_test, pred, normalize=True), 3)}\", end='\\n\\n')\n",
    "print(f\"classification_report: {classification_report(y_test, pred)}\", end='\\n\\n')"
   ],
   "metadata": {
    "collapsed": false,
    "pycharm": {
     "name": "#%%\n"
    }
   }
  },
  {
   "cell_type": "markdown",
   "source": [
    "## 6. Подбор гиперпараметров"
   ],
   "metadata": {
    "collapsed": false
   }
  },
  {
   "cell_type": "code",
   "execution_count": 8,
   "outputs": [
    {
     "name": "stdout",
     "output_type": "stream",
     "text": [
      "GridSearchCV(cv=5, estimator=SVC(),\n",
      "             param_grid={'C': [1, 10], 'gamma': ('scale', 'auto'),\n",
      "                         'kernel': ('linear', 'poly', 'rbf', 'sigmoid')})\n"
     ]
    }
   ],
   "source": [
    "parameters: dict[str, Union[tuple[str, str], list[int]]] = {\n",
    "    'kernel': ('linear', 'poly', 'rbf', 'sigmoid'),\n",
    "    'gamma': ('scale', 'auto'),\n",
    "    'C': [1, 10]\n",
    "}\n",
    "\n",
    "grid: GridSearchCV = GridSearchCV(\n",
    "    SVC(),\n",
    "    parameters,\n",
    "    cv=5\n",
    ")\n",
    "results: Union[GridSearchCV, Any] = grid.fit(x_train, y_train)\n",
    "print(results)"
   ],
   "metadata": {
    "collapsed": false,
    "pycharm": {
     "name": "#%%\n"
    }
   }
  },
  {
   "cell_type": "markdown",
   "source": [
    "## 7. Заново обучим модель с подобранными гиперпараметрами"
   ],
   "metadata": {
    "collapsed": false,
    "pycharm": {
     "name": "#%% md\n"
    }
   }
  },
  {
   "cell_type": "code",
   "execution_count": 9,
   "outputs": [
    {
     "name": "stdout",
     "output_type": "stream",
     "text": [
      "params: {'C': 10, 'gamma': 'scale', 'kernel': 'rbf'}\n",
      "\n",
      "score: 0.935\n",
      "\n",
      "prediction: [1 1 2 1 3 1 1 2 1 1 1 1 1 1 1 1 2 1 1 1 1 1 1 1 1 1 1 2 1 1 1 1 1 2 4 1 3\n",
      " 1 1 1 1 1 1 1 1 1 1 2 1 1 1 2 1 1 1 1 1 1 1 1 1 1 1 1 3 1 1 3 1 1 3 1 1 1\n",
      " 4 1 2 3 1 1 4 1 3 1 1 1 1 1 1 3 1 1 1 1 1 3 1 1 1 3 1 3 1 1 1 1 1 4 1 1 1\n",
      " 1 3 1 1 1 1 1 1 1 4 1 1 1 1 1 4 4 1 1 1 1 1 1 2 1 1 1 1 1 1 4 1 1 1 1 1 1\n",
      " 4 1 1 1 1 1 1 1 4 1 1 2 1 1 1 1 1 1 3 1 1 1 1 1 1 1 1 1 1 1 1 1 1 1 1 1 1\n",
      " 1 1 1 1 1 1 1 1 1 1 1 1 1 1 1 1 1 1 1 1 1 1 1 1 1 4 1 1 1 4 1 1 1 1 1 1 1\n",
      " 1 1 1 1 3 2 4 1 1 2 1 1 1 1 1 1 1 1 1 1 3 1 1 1 1 1 1 1 1 1 1 1 1 1 1 1 1\n",
      " 1 1 1 1 1 1 1 1 1 1 1 1 1 1 4 1 1 1 1 1 1 1 3 1 1 1 1 1 1 1 1 4 1 1 4 1 1\n",
      " 1 1 1 1 1 2 1 1 1 1 1 1 1 1 1 4 1 1 1 1 1 1 4 1 2 3 1 1 1 4 1 4 1 1 1 4 1\n",
      " 1 1 1 1 1 1 2 4 3 1 2 4 1 1 1 1 1 1 1 1 1 1 1 1 1 1 1 3 1 1 1 1 1 1 4 1 1\n",
      " 1 1 1 1 1 1 1 1 1 4 1 1 2 1 1 1 1 1 1 1 1 2 1 1 3 1 1 1 1 2 1 3 1 2 1 4 1\n",
      " 1 1 4 1 1 2 1 1 1 1 4 1 1 1 3 1 1 1 1 1 1 1 1 1 1 1 1 1 1 1 3 1 1 1 1 1 1\n",
      " 1 1 1 3 1 3 1 1 1 1 1 1 1 1 4 1 1 1 1 1 1 4 1 3 1 1 1 1 1 1 1 4 1 4 3 1 1\n",
      " 1 1 1 1 4 4 1 1 1 1 1 1 1 1 1 1 1 1 1 1 1 1 1 1 1 1 1 1 1 1 3 4 1 1 1 4 1\n",
      " 1 1 1 4 1 1 1 1 1 4 1 1 1 1 1 1 2 1 1 1 1 1 1 1 1 4 1 1 1 1 1 1 3 1 1 1 1\n",
      " 4 1 1 1 1 1 1 4 1 1 3 1 1 1 2 4 2 1 1 1 1 1 1 1 1 1 1 1 1 1 1 1 1 1 1 1 1\n",
      " 1 3 1 1 3 1 3 1 1 1 1 1 1 1 1 1 1 1 1 1 1 1 4 1 1 4 2 1 1 1 1 1 1 1 1 1 3\n",
      " 1]\n",
      "\n",
      "accuracy_score: 0.933\n"
     ]
    }
   ],
   "source": [
    "print(f\"params: {results.best_params_}\", end='\\n\\n')\n",
    "print(f\"score: {round(results.best_score_, 3)}\", end='\\n\\n')\n",
    "print(f\"prediction: {results.predict(x_test)}\", end='\\n\\n')\n",
    "\n",
    "pred = results.predict(x_test)\n",
    "print(f\"accuracy_score: {round(accuracy_score(y_test, pred, normalize=True), 3)}\")"
   ],
   "metadata": {
    "collapsed": false,
    "pycharm": {
     "name": "#%%\n"
    }
   }
  },
  {
   "cell_type": "markdown",
   "source": [
    "# Ответы на контрольные вопросы"
   ],
   "metadata": {
    "collapsed": false
   }
  },
  {
   "cell_type": "markdown",
   "source": [
    "## 1. Опишите этапы построения алгоритма классификации SVC. В чем его отличие от других линейных алгоритмов?"
   ],
   "metadata": {
    "collapsed": false
   }
  },
  {
   "cell_type": "markdown",
   "source": [
    "SVM – (support vector machine) – «машина опорных векторов» считается одним из лучших методов классификации. Он обладает несколькими замечательными свойствами.\n",
    "\n",
    "Во-первых, обучение SVM сводится к задаче квадратичного программирования, имеющей единственное решение, которое вычисляется достаточно эффективно даже на выборках в сотни тысяч объектов.\n",
    "\n",
    "Во-вторых, решение обладает свойством разреженности: положение оптимальной разделяющей гиперплоскости зависит лишь от небольшой доли обучающих объектов. Они и называются опорными векторами; остальные объекты фактически не задействуются.\n",
    "\n",
    "Наконец, с помощью изящного математического приёма введения функции ядра метод обобщается на случай нелинейных разделяющих поверхностей. Вопрос о выборе ядра, оптимального для данной прикладной задачи, до сих пор остаётся открытой теоретической проблемой."
   ],
   "metadata": {
    "collapsed": false,
    "pycharm": {
     "name": "#%% md\n"
    }
   }
  },
  {
   "cell_type": "markdown",
   "source": [
    "## 2. Какие гиперпараметры влияют на качество работы классификационной модели опорных векторов SVC? Каким образом их можно настроить?"
   ],
   "metadata": {
    "collapsed": false
   }
  },
  {
   "cell_type": "markdown",
   "source": [
    "Gamma является параметром ядра RBF и может рассматриваться как «разброс» ядра и, следовательно, область принятия решения. Когда gamma маленькая, «кривая» границы принятия решения очень низкая, и, следовательно, область принятия решения очень широкая. Когда gamma большая, «кривая» границы принятия решения высока, что создает островки границ принятия решения вокруг точек данных.\n",
    "\n",
    "C является параметром обучаемого SVC и является штрафом за неправильную классификацию точки данных. Когда C мала, классификатор работает с неверно классифицированными точками данных (высокая систематическая ошибка, низкая дисперсия). Когда C большая, классификатор подвергается серьезным штрафам за неверно классифицированные данные и поэтому изгибается назад, чтобы избежать неверно классифицированных точек данных (низкая систематическая ошибка, высокая дисперсия).\n",
    "\n",
    "Увеличение gamma приводит к сужению колоколообразной кривой (см. график слева на рис.), в результате чего сфера влияния каждого образца уменьшается: граница решений становится более неравномерной, извивающейся вблизи индивидуальных образцов. И наоборот, небольшое значение gamma делает колоколообразную кривую шире, поэтому образцы имеют большую сферу влияния, а граница решений оказывается более гладкой. Таким образом, γ действует аналогично гиперпараметру регуляризации: если ваша модель переобучается, тогда вы должны уменьшить значение gamma, а если недообучается — то увеличить его (подобно г иперпараметру C).\n",
    "\n",
    "Эти параметры можно настроить методом перебора или с применением GridSearchCV, который принимает на вход набор параметров, образуя тем самым сетку. После чего происходит подбор параметров, соответствующих наилучшему результату, с помощью перекрёстного поиска по сетке."
   ],
   "metadata": {
    "collapsed": false,
    "pycharm": {
     "name": "#%% md\n"
    }
   }
  },
  {
   "cell_type": "markdown",
   "source": [
    "## 3. Опишите параметры лучшей модели, полученной в лабораторной работе."
   ],
   "metadata": {
    "collapsed": false,
    "pycharm": {
     "name": "#%% md\n"
    }
   }
  },
  {
   "cell_type": "markdown",
   "source": [
    "Параметры лучшей модели:\n",
    "\n",
    "*\tgamma - коэффициент ядра для 'rbf', 'poly' и 'sigmoid', по умолчанию в нашей модели используется «авто», т.е. использует 1 / n_features.\n",
    "*\tиспользуемое ядро RFB – это функция близости, используемая в методике решения нелинейных задач, применяется для подсчитывания добавляемых признаков: $$\\phi_\\gamma(x,l)=exp(-\\gamma||x-l||^2)$$\n",
    "*\tC - параметр SVC является штрафом за неправильную классификацию точки данных, в нашем случае он равен 10.\n"
   ],
   "metadata": {
    "collapsed": false
   }
  }
 ],
 "metadata": {
  "kernelspec": {
   "display_name": "Python 3",
   "language": "python",
   "name": "python3"
  },
  "language_info": {
   "codemirror_mode": {
    "name": "ipython",
    "version": 2
   },
   "file_extension": ".py",
   "mimetype": "text/x-python",
   "name": "python",
   "nbconvert_exporter": "python",
   "pygments_lexer": "ipython2",
   "version": "2.7.6"
  }
 },
 "nbformat": 4,
 "nbformat_minor": 0
}