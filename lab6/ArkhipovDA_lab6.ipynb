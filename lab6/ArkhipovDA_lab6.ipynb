{
 "cells": [
  {
   "cell_type": "markdown",
   "metadata": {
    "collapsed": true,
    "pycharm": {
     "name": "#%% md\n"
    }
   },
   "source": [
    "# Понижение размерности данных с помощью метода главных компонент и сингулярного разложения\n",
    "Группа: ИВТ-М20.<br/>\n",
    "Студент: Архипов Дмитрий Алексеевич"
   ]
  },
  {
   "cell_type": "code",
   "execution_count": 37,
   "outputs": [],
   "source": [
    "from pprint import pprint\n",
    "import warnings\n",
    "import math\n",
    "from typing import Any, Union\n",
    "\n",
    "import matplotlib as mpl\n",
    "import matplotlib.pyplot as plt\n",
    "import pandas as pd\n",
    "from sklearn.linear_model import (\n",
    "    LogisticRegression,\n",
    "    SGDClassifier,\n",
    "    RidgeClassifier\n",
    ")\n",
    "from sklearn.metrics import (\n",
    "    accuracy_score,\n",
    "    classification_report, r2_score, mean_absolute_error\n",
    ")\n",
    "from sklearn.model_selection import (\n",
    "    train_test_split,\n",
    "    cross_val_score,\n",
    "    GridSearchCV\n",
    ")"
   ],
   "metadata": {
    "collapsed": false,
    "pycharm": {
     "name": "#%%\n"
    }
   }
  },
  {
   "cell_type": "code",
   "execution_count": 2,
   "outputs": [],
   "source": [
    "warnings.filterwarnings('ignore')\n",
    "mpl.style.use(['ggplot'])"
   ],
   "metadata": {
    "collapsed": false,
    "pycharm": {
     "name": "#%%\n"
    }
   }
  },
  {
   "cell_type": "markdown",
   "source": [
    "## Прочтите данные из файлов"
   ],
   "metadata": {
    "collapsed": false
   }
  },
  {
   "cell_type": "code",
   "execution_count": 3,
   "outputs": [],
   "source": [
    "\n",
    "sop1: pd.DataFrame = pd.DataFrame(\n",
    "    pd.read_csv(\n",
    "        \"data/train/SOP1.dat\",\n",
    "        sep=\" \",\n",
    "        header=0\n",
    "    )\n",
    ")\n",
    "sop1.name = \"SOP1\"\n",
    "\n",
    "sop2: pd.DataFrame = pd.DataFrame(\n",
    "    pd.read_csv(\n",
    "        \"data/train/SOP2.dat\",\n",
    "        sep=\" \",\n",
    "        header=0\n",
    "    )\n",
    ")\n",
    "sop2.name = \"SOP2\"\n",
    "\n",
    "sop3: pd.DataFrame = pd.DataFrame(\n",
    "    pd.read_csv(\n",
    "        \"data/train/SOP3.dat\",\n",
    "        sep=\" \",\n",
    "        header=0\n",
    "    )\n",
    ")\n",
    "sop3.name = \"SOP3\"\n",
    "\n",
    "target1: pd.DataFrame = pd.DataFrame(\n",
    "    pd.read_csv(\n",
    "        \"data/train/target1.csv\",\n",
    "        sep=\",\",\n",
    "        header=0\n",
    "    )\n",
    ")\n",
    "target1.name = \"target1\"\n",
    "\n",
    "target2: pd.DataFrame = pd.DataFrame(\n",
    "    pd.read_csv(\n",
    "        \"data/train/target2.csv\",\n",
    "        sep=\",\",\n",
    "        header=0\n",
    "    )\n",
    ")\n",
    "target2.name = \"target2\"\n",
    "\n",
    "target3: pd.DataFrame = pd.DataFrame(\n",
    "    pd.read_csv(\n",
    "        \"data/train/target3.csv\",\n",
    "        sep=\",\",\n",
    "        header=0\n",
    "    )\n",
    ")\n",
    "target3.name = \"target3\"\n"
   ],
   "metadata": {
    "collapsed": false,
    "pycharm": {
     "name": "#%%\n"
    }
   }
  },
  {
   "cell_type": "markdown",
   "source": [
    "##  Отобразите несколько первых и несколько последних записей."
   ],
   "metadata": {
    "collapsed": false
   }
  },
  {
   "cell_type": "code",
   "execution_count": 4,
   "outputs": [],
   "source": [
    "def printer(variable):\n",
    "    pprint(variable.name)\n",
    "    print(end=\"\\n\")\n",
    "    pprint(variable.head())\n",
    "    print(end=\"\\n\\n\")\n",
    "    pprint(variable.tail())\n",
    "    print(end=\"\\n\\n\\n\\n\")"
   ],
   "metadata": {
    "collapsed": false,
    "pycharm": {
     "name": "#%%\n"
    }
   }
  },
  {
   "cell_type": "code",
   "execution_count": 5,
   "outputs": [
    {
     "name": "stdout",
     "output_type": "stream",
     "text": [
      "'SOP1'\n",
      "\n",
      "   0000  29-08-03  12:34:21  +20C  Unnamed: 4  Unnamed: 5  257  Unnamed: 7  \\\n",
      "0     1         0        35   202          27          29   35           0   \n",
      "1     2         0        23   190          27          22   29           0   \n",
      "2     3         1         0   188          24          10   13           0   \n",
      "3     4         5         0   183          26           6    1           0   \n",
      "4     5         4         0   188          32           4    0           0   \n",
      "\n",
      "   Unnamed: 8  325  Unnamed: 10  Unnamed: 11   16  Unnamed: 13  Unnamed: 14  \\\n",
      "0           0  255          147           54  119          125          212   \n",
      "1           0  255          147           56   95          156          223   \n",
      "2           0  255          145           59   40          172          254   \n",
      "3           0  255          153           66   22          172          255   \n",
      "4           0  255          157           62   18          170          255   \n",
      "\n",
      "    5  ���1  Unnamed: 17  \n",
      "0  17    39          NaN  \n",
      "1  13    27          NaN  \n",
      "2  10     0          NaN  \n",
      "3   7     0          NaN  \n",
      "4  14    21          NaN  \n",
      "\n",
      "\n",
      "      0000  29-08-03  12:34:21  +20C  Unnamed: 4  Unnamed: 5  257  Unnamed: 7  \\\n",
      "1037  1038         0         0   159          36           0    0           0   \n",
      "1038  1039         0         0   189          56           0    0           0   \n",
      "1039  1040         0         0   188          64          16    0           0   \n",
      "1040  1041         0         0   177          43          25    0           0   \n",
      "1041  1042         0         0   177          22          21    0           0   \n",
      "\n",
      "      Unnamed: 8  325  Unnamed: 10  Unnamed: 11  16  Unnamed: 13  Unnamed: 14  \\\n",
      "1037           0  255          175            0   0          127           11   \n",
      "1038           0  255          221            0   0          129            6   \n",
      "1039           0  255          232            0   0          163            0   \n",
      "1040           0  255          181            0   0          198            1   \n",
      "1041           0  255          133            0   0          217            0   \n",
      "\n",
      "       5  ���1  Unnamed: 17  \n",
      "1037   0     1          NaN  \n",
      "1038   0     9          NaN  \n",
      "1039   0    15          NaN  \n",
      "1040  11    13          NaN  \n",
      "1041   0     9          NaN  \n",
      "\n",
      "\n",
      "\n",
      "\n",
      "'SOP2'\n",
      "\n",
      "   0000  29-08-03  13:00:27  +23C  Unnamed: 4  Unnamed: 5  257  Unnamed: 7  \\\n",
      "0     1         0         0   175          12           0    0           0   \n",
      "1     2         0         0   159          10          10    0           0   \n",
      "2     3         0         0   139          25          48    0           0   \n",
      "3     4         0         0   130          54          61    0           0   \n",
      "4     5         0         0   110          54          57    0           0   \n",
      "\n",
      "   Unnamed: 8  325  Unnamed: 10  Unnamed: 11  16  Unnamed: 13  Unnamed: 14  \\\n",
      "0           0  255          112            0   0          233          173   \n",
      "1           0  255          108            0   0          222          173   \n",
      "2           0  255          145            0   0          230          175   \n",
      "3           0  255          216            0   1          237          185   \n",
      "4           0  236          207            3   4          239          205   \n",
      "\n",
      "    5  ���2  Unnamed: 17  \n",
      "0   2    23          NaN  \n",
      "1  10    34          NaN  \n",
      "2  18    18          NaN  \n",
      "3  52    22          NaN  \n",
      "4  43    20          NaN  \n",
      "\n",
      "\n",
      "      0000  29-08-03  13:00:27  +23C  Unnamed: 4  Unnamed: 5  257  Unnamed: 7  \\\n",
      "1034  1035         0         0     0           0           0    0           0   \n",
      "1035  1036         0         0     0          17           0    0           0   \n",
      "1036  1037         0         0     0          17           2    0           0   \n",
      "1037  1038         0         0     0          11          26    0          11   \n",
      "1038  1039         0         0     0           9          43    0           0   \n",
      "\n",
      "      Unnamed: 8  325  Unnamed: 10  Unnamed: 11  16  Unnamed: 13  Unnamed: 14  \\\n",
      "1034           0    0           79            0  28          166            4   \n",
      "1035           0    4          123            0  48          163           16   \n",
      "1036           0    9          122            0  34          125           31   \n",
      "1037           0    0          110            0  27          132           42   \n",
      "1038           0    0          104            0  14          147           40   \n",
      "\n",
      "       5  ���2  Unnamed: 17  \n",
      "1034   0    21          NaN  \n",
      "1035  14     2          NaN  \n",
      "1036   0    11          NaN  \n",
      "1037   0     2          NaN  \n",
      "1038   4    11          NaN  \n",
      "\n",
      "\n",
      "\n",
      "\n",
      "'SOP3'\n",
      "\n",
      "   0000  29-08-03  13:49:13  +21C  Unnamed: 4  Unnamed: 5  257  Unnamed: 7  \\\n",
      "0     1         0         0     0          10         148   56           0   \n",
      "1     2         0         0     0          28         129   55           0   \n",
      "2     3         0         0     0          48          94   58          13   \n",
      "3     4         0         0     0          54          68   51           0   \n",
      "4     5         0         0     0          81          46   36           0   \n",
      "\n",
      "   Unnamed: 8  325  Unnamed: 10  Unnamed: 11  16  Unnamed: 13  Unnamed: 14  \\\n",
      "0           3   39          118            0   4           88          154   \n",
      "1           0   48          150            0   0           67          140   \n",
      "2           0   16          210            0   0           47           98   \n",
      "3           0   18          244            2   0           37           73   \n",
      "4           0   16          255           11   0           41           58   \n",
      "\n",
      "    5  ���3  Unnamed: 17  \n",
      "0  49    14          NaN  \n",
      "1  54     5          NaN  \n",
      "2  59    62          NaN  \n",
      "3  29    12          NaN  \n",
      "4  15     3          NaN  \n",
      "\n",
      "\n",
      "      0000  29-08-03  13:49:13  +21C  Unnamed: 4  Unnamed: 5  257  Unnamed: 7  \\\n",
      "1033  1034         0         0     0         138          76   30           0   \n",
      "1034  1035         0         0     0         134          71   45           0   \n",
      "1035  1036         0         0     0         133          63   50           0   \n",
      "1036  1037         0         0     0         132          41   47           0   \n",
      "1037  1038         0         0     0         130          28   44           0   \n",
      "\n",
      "      Unnamed: 8  325  Unnamed: 10  Unnamed: 11  16  Unnamed: 13  Unnamed: 14  \\\n",
      "1033           0    1          255            0  15            9            0   \n",
      "1034           0   26          255            0  24            2            0   \n",
      "1035           0   12          255            0  27            0            0   \n",
      "1036           0    5          255            0  27            0            0   \n",
      "1037           0    8          255            0  21            0            0   \n",
      "\n",
      "      5  ���3  Unnamed: 17  \n",
      "1033  0     0          NaN  \n",
      "1034  0     0          NaN  \n",
      "1035  1     0          NaN  \n",
      "1036  0     0          NaN  \n",
      "1037  2     0          NaN  \n",
      "\n",
      "\n",
      "\n",
      "\n",
      "'target1'\n",
      "\n",
      "   Начало дефекта  Длина дефекта  Высота дефекта Тип дефекта Сторона\n",
      "0              51           42.0               7           L       A\n",
      "1             200           40.0               6           L       B\n",
      "2             278           39.0               4           L       A\n",
      "3             365           43.0               6           L       B\n",
      "4             460           27.0               5           L       A\n",
      "\n",
      "\n",
      "   Начало дефекта  Длина дефекта  Высота дефекта Тип дефекта Сторона\n",
      "3             365           43.0               6           L       B\n",
      "4             460           27.0               5           L       A\n",
      "5             845           36.0               4           L       B\n",
      "6             959           62.0               6           L       A\n",
      "7             141            NaN               4           T        \n",
      "\n",
      "\n",
      "\n",
      "\n",
      "'target2'\n",
      "\n",
      "   Начало дефекта  Длина дефекта  Высота дефекта Тип дефекта Сторона\n",
      "0             178           37.0               6           L       B\n",
      "1             258           38.0               4           L       A\n",
      "2             337           53.0               5           L       B\n",
      "3             822           37.0               5           L       B\n",
      "4             957           48.0               5           L       A\n",
      "\n",
      "\n",
      "   Начало дефекта  Длина дефекта  Высота дефекта Тип дефекта Сторона\n",
      "1             258           38.0               4           L       A\n",
      "2             337           53.0               5           L       B\n",
      "3             822           37.0               5           L       B\n",
      "4             957           48.0               5           L       A\n",
      "5             123            NaN               3           T        \n",
      "\n",
      "\n",
      "\n",
      "\n",
      "'target3'\n",
      "\n",
      "   Начало дефекта  Длина дефекта  Высота дефекта Тип дефекта Сторона\n",
      "0              26           42.0               5           L       A\n",
      "1             172           47.0               6           L       B\n",
      "2             276           55.0               8           L       B\n",
      "3             795           34.0               8           L       B\n",
      "4             877           49.0               4           L       A\n",
      "\n",
      "\n",
      "   Начало дефекта  Длина дефекта  Высота дефекта Тип дефекта Сторона\n",
      "2             276           55.0               8           L       B\n",
      "3             795           34.0               8           L       B\n",
      "4             877           49.0               4           L       A\n",
      "5             971           50.0               5           L       B\n",
      "6             112            NaN               4           T        \n",
      "\n",
      "\n",
      "\n",
      "\n"
     ]
    }
   ],
   "source": [
    "printer(sop1)\n",
    "printer(sop2)\n",
    "printer(sop3)\n",
    "printer(target1)\n",
    "printer(target2)\n",
    "printer(target3)"
   ],
   "metadata": {
    "collapsed": false,
    "pycharm": {
     "name": "#%%\n"
    }
   }
  },
  {
   "cell_type": "code",
   "execution_count": 16,
   "outputs": [
    {
     "name": "stdout",
     "output_type": "stream",
     "text": [
      "   0000  29-08-03  12:34:21  +20C  Unnamed: 4  Unnamed: 5  257  Unnamed: 7  \\\n",
      "0     1         0        35   202          27          29   35           0   \n",
      "1     2         0        23   190          27          22   29           0   \n",
      "2     3         1         0   188          24          10   13           0   \n",
      "3     4         5         0   183          26           6    1           0   \n",
      "4     5         4         0   188          32           4    0           0   \n",
      "\n",
      "   Unnamed: 8  325  Unnamed: 10  Unnamed: 11   16  Unnamed: 13  Unnamed: 14  \\\n",
      "0           0  255          147           54  119          125          212   \n",
      "1           0  255          147           56   95          156          223   \n",
      "2           0  255          145           59   40          172          254   \n",
      "3           0  255          153           66   22          172          255   \n",
      "4           0  255          157           62   18          170          255   \n",
      "\n",
      "    5  ���1  Unnamed: 17  \n",
      "0  17    39          NaN  \n",
      "1  13    27          NaN  \n",
      "2  10     0          NaN  \n",
      "3   7     0          NaN  \n",
      "4  14    21          NaN  \n"
     ]
    }
   ],
   "source": [
    "print(sop1.head())"
   ],
   "metadata": {
    "collapsed": false,
    "pycharm": {
     "name": "#%%\n"
    }
   }
  },
  {
   "cell_type": "markdown",
   "source": [
    "##  Ящик с усами."
   ],
   "metadata": {
    "collapsed": false
   }
  },
  {
   "cell_type": "code",
   "execution_count": 25,
   "outputs": [
    {
     "data": {
      "text/plain": "array([[<AxesSubplot:title={'center':'0000'}>,\n        <AxesSubplot:title={'center':'29-08-03'}>,\n        <AxesSubplot:title={'center':'12:34:21'}>,\n        <AxesSubplot:title={'center':'+20C'}>],\n       [<AxesSubplot:title={'center':'Unnamed: 4'}>,\n        <AxesSubplot:title={'center':'Unnamed: 5'}>,\n        <AxesSubplot:title={'center':'257'}>,\n        <AxesSubplot:title={'center':'Unnamed: 7'}>],\n       [<AxesSubplot:title={'center':'Unnamed: 8'}>,\n        <AxesSubplot:title={'center':'325'}>,\n        <AxesSubplot:title={'center':'Unnamed: 10'}>,\n        <AxesSubplot:title={'center':'Unnamed: 11'}>],\n       [<AxesSubplot:title={'center':'16'}>,\n        <AxesSubplot:title={'center':'Unnamed: 13'}>,\n        <AxesSubplot:title={'center':'Unnamed: 14'}>,\n        <AxesSubplot:title={'center':'5'}>],\n       [<AxesSubplot:title={'center':'���1'}>,\n        <AxesSubplot:title={'center':'Unnamed: 17'}>, <AxesSubplot:>,\n        <AxesSubplot:>]], dtype=object)"
     },
     "execution_count": 25,
     "metadata": {},
     "output_type": "execute_result"
    },
    {
     "data": {
      "text/plain": "<Figure size 432x288 with 1 Axes>",
      "image/png": "[encoded data removed]"
     },
     "metadata": {},
     "output_type": "display_data"
    },
    {
     "data": {
      "text/plain": "<Figure size 432x288 with 20 Axes>",
      "image/png": "[encoded data removed]"
     },
     "metadata": {},
     "output_type": "display_data"
    }
   ],
   "source": [
    "sop1.boxplot()\n",
    "sop1.hist()"
   ],
   "metadata": {
    "collapsed": false,
    "pycharm": {
     "name": "#%%\n"
    }
   }
  },
  {
   "cell_type": "code",
   "execution_count": 26,
   "outputs": [
    {
     "data": {
      "text/plain": "array([[<AxesSubplot:title={'center':'0000'}>,\n        <AxesSubplot:title={'center':'29-08-03'}>,\n        <AxesSubplot:title={'center':'13:00:27'}>,\n        <AxesSubplot:title={'center':'+23C'}>],\n       [<AxesSubplot:title={'center':'Unnamed: 4'}>,\n        <AxesSubplot:title={'center':'Unnamed: 5'}>,\n        <AxesSubplot:title={'center':'257'}>,\n        <AxesSubplot:title={'center':'Unnamed: 7'}>],\n       [<AxesSubplot:title={'center':'Unnamed: 8'}>,\n        <AxesSubplot:title={'center':'325'}>,\n        <AxesSubplot:title={'center':'Unnamed: 10'}>,\n        <AxesSubplot:title={'center':'Unnamed: 11'}>],\n       [<AxesSubplot:title={'center':'16'}>,\n        <AxesSubplot:title={'center':'Unnamed: 13'}>,\n        <AxesSubplot:title={'center':'Unnamed: 14'}>,\n        <AxesSubplot:title={'center':'5'}>],\n       [<AxesSubplot:title={'center':'���2'}>,\n        <AxesSubplot:title={'center':'Unnamed: 17'}>, <AxesSubplot:>,\n        <AxesSubplot:>]], dtype=object)"
     },
     "execution_count": 26,
     "metadata": {},
     "output_type": "execute_result"
    },
    {
     "data": {
      "text/plain": "<Figure size 432x288 with 1 Axes>",
      "image/png": "[encoded data removed]"
     },
     "metadata": {},
     "output_type": "display_data"
    },
    {
     "data": {
      "text/plain": "<Figure size 432x288 with 20 Axes>",
      "image/png": "[encoded data removed]"
     },
     "metadata": {},
     "output_type": "display_data"
    }
   ],
   "source": [
    "sop2.boxplot()\n",
    "sop2.hist()"
   ],
   "metadata": {
    "collapsed": false,
    "pycharm": {
     "name": "#%%\n"
    }
   }
  },
  {
   "cell_type": "code",
   "execution_count": 27,
   "outputs": [
    {
     "data": {
      "text/plain": "array([[<AxesSubplot:title={'center':'0000'}>,\n        <AxesSubplot:title={'center':'29-08-03'}>,\n        <AxesSubplot:title={'center':'13:49:13'}>,\n        <AxesSubplot:title={'center':'+21C'}>],\n       [<AxesSubplot:title={'center':'Unnamed: 4'}>,\n        <AxesSubplot:title={'center':'Unnamed: 5'}>,\n        <AxesSubplot:title={'center':'257'}>,\n        <AxesSubplot:title={'center':'Unnamed: 7'}>],\n       [<AxesSubplot:title={'center':'Unnamed: 8'}>,\n        <AxesSubplot:title={'center':'325'}>,\n        <AxesSubplot:title={'center':'Unnamed: 10'}>,\n        <AxesSubplot:title={'center':'Unnamed: 11'}>],\n       [<AxesSubplot:title={'center':'16'}>,\n        <AxesSubplot:title={'center':'Unnamed: 13'}>,\n        <AxesSubplot:title={'center':'Unnamed: 14'}>,\n        <AxesSubplot:title={'center':'5'}>],\n       [<AxesSubplot:title={'center':'���3'}>,\n        <AxesSubplot:title={'center':'Unnamed: 17'}>, <AxesSubplot:>,\n        <AxesSubplot:>]], dtype=object)"
     },
     "execution_count": 27,
     "metadata": {},
     "output_type": "execute_result"
    },
    {
     "data": {
      "text/plain": "<Figure size 432x288 with 1 Axes>",
      "image/png": "[encoded data removed]"
     },
     "metadata": {},
     "output_type": "display_data"
    },
    {
     "data": {
      "text/plain": "<Figure size 432x288 with 20 Axes>",
      "image/png": "[encoded data removed]"
     },
     "metadata": {},
     "output_type": "display_data"
    }
   ],
   "source": [
    "sop3.boxplot()\n",
    "sop3.hist()\n"
   ],
   "metadata": {
    "collapsed": false,
    "pycharm": {
     "name": "#%%\n"
    }
   }
  },
  {
   "cell_type": "markdown",
   "source": [
    "## Вектор с результатами наличия дефектов"
   ],
   "metadata": {
    "collapsed": false
   }
  },
  {
   "cell_type": "code",
   "execution_count": 86,
   "outputs": [
    {
     "name": "stdout",
     "output_type": "stream",
     "text": [
      "0       0\n",
      "1       0\n",
      "2       0\n",
      "3       0\n",
      "4       0\n",
      "       ..\n",
      "1037    0\n",
      "1038    0\n",
      "1039    0\n",
      "1040    0\n",
      "1041    0\n",
      "Length: 1042, dtype: int64\n"
     ]
    }
   ],
   "source": [
    "list = [0]*sop1.count()[0]\n",
    "ser1 = pd.Series(data=list)\n",
    "ser2 = pd.Series(data=list)\n",
    "ser3 = pd.Series(data=list)\n"
   ],
   "metadata": {
    "collapsed": false,
    "pycharm": {
     "name": "#%%\n"
    }
   }
  },
  {
   "cell_type": "code",
   "execution_count": 89,
   "outputs": [],
   "source": [
    "for inex, row in target1.iterrows():\n",
    "    begin = row['Начало дефекта']\n",
    "    end = row['Начало дефекта'] + row['Длина дефекта']\n",
    "    if (math.isnan(end)):\n",
    "        pass\n",
    "    else:\n",
    "        ser1.loc[begin:int(end)] = 1"
   ],
   "metadata": {
    "collapsed": false,
    "pycharm": {
     "name": "#%%\n"
    }
   }
  },
  {
   "cell_type": "code",
   "execution_count": 90,
   "outputs": [],
   "source": [
    "for inex, row in target2.iterrows():\n",
    "    begin = row['Начало дефекта']\n",
    "    end = row['Начало дефекта'] + row['Длина дефекта']\n",
    "    if (math.isnan(end)):\n",
    "        pass\n",
    "    else:\n",
    "        ser2.loc[begin:int(end)] = 1"
   ],
   "metadata": {
    "collapsed": false,
    "pycharm": {
     "name": "#%%\n"
    }
   }
  },
  {
   "cell_type": "code",
   "execution_count": 91,
   "outputs": [],
   "source": [
    "for inex, row in target3.iterrows():\n",
    "    begin = row['Начало дефекта']\n",
    "    end = row['Начало дефекта'] + row['Длина дефекта']\n",
    "    if (math.isnan(end)):\n",
    "        pass\n",
    "    else:\n",
    "        ser3.loc[begin:int(end)] = 1"
   ],
   "metadata": {
    "collapsed": false,
    "pycharm": {
     "name": "#%%\n"
    }
   }
  },
  {
   "cell_type": "markdown",
   "source": [
    "## Метод понижения размерности"
   ],
   "metadata": {
    "collapsed": false
   }
  },
  {
   "cell_type": "markdown",
   "source": [
    "## Вектор, содержащий значения высоты дефектов в местах их наличия"
   ],
   "metadata": {
    "collapsed": false
   }
  },
  {
   "cell_type": "code",
   "execution_count": 92,
   "outputs": [],
   "source": [
    "for inex, row in target1.iterrows():\n",
    "    begin = row['Начало дефекта']\n",
    "    end = row['Начало дефекта'] + row['Длина дефекта']\n",
    "    if (math.isnan(end)):\n",
    "        pass\n",
    "    else:\n",
    "        ser1.loc[begin:int(end)] = row['Высота дефекта']"
   ],
   "metadata": {
    "collapsed": false,
    "pycharm": {
     "name": "#%%\n"
    }
   }
  },
  {
   "cell_type": "code",
   "execution_count": 93,
   "outputs": [],
   "source": [
    "for inex, row in target2.iterrows():\n",
    "    begin = row['Начало дефекта']\n",
    "    end = row['Начало дефекта'] + row['Длина дефекта']\n",
    "    if (math.isnan(end)):\n",
    "        pass\n",
    "    else:\n",
    "        ser2.loc[begin:int(end)] = row['Высота дефекта']"
   ],
   "metadata": {
    "collapsed": false,
    "pycharm": {
     "name": "#%%\n"
    }
   }
  },
  {
   "cell_type": "code",
   "execution_count": 94,
   "outputs": [],
   "source": [
    "for inex, row in target3.iterrows():\n",
    "    begin = row['Начало дефекта']\n",
    "    end = row['Начало дефекта'] + row['Длина дефекта']\n",
    "    if (math.isnan(end)):\n",
    "        pass\n",
    "    else:\n",
    "        ser3.loc[begin:int(end)] = row['Высота дефекта']"
   ],
   "metadata": {
    "collapsed": false,
    "pycharm": {
     "name": "#%%\n"
    }
   }
  },
  {
   "cell_type": "markdown",
   "source": [
    "## Разбиение данных на обучающую и проверочную выборки"
   ],
   "metadata": {
    "collapsed": false,
    "pycharm": {
     "name": "#%% md\n"
    }
   }
  },
  {
   "cell_type": "code",
   "source": [
    "var_train, var_test, target_train, target_test = train_test_split(var, target['data'], test_size=0.3, train_size=0.7)"
   ],
   "metadata": {
    "collapsed": false,
    "pycharm": {
     "name": "#%%\n"
    }
   },
   "execution_count": null,
   "outputs": []
  },
  {
   "cell_type": "markdown",
   "source": [
    "## Последовательное применение алгоритмов"
   ],
   "metadata": {
    "collapsed": false
   }
  },
  {
   "cell_type": "code",
   "source": [
    "# LogisticRegression\n",
    "lr: LogisticRegression = LogisticRegression()\n",
    "lr.fit(var_train, target_train)"
   ],
   "metadata": {
    "collapsed": false,
    "pycharm": {
     "name": "#%%\n"
    }
   },
   "execution_count": null,
   "outputs": []
  },
  {
   "cell_type": "code",
   "source": [
    "# SGDClassifier\n",
    "sgdc: SGDClassifier = SGDClassifier()\n",
    "sgdc.fit(var_train, target_train)"
   ],
   "metadata": {
    "collapsed": false,
    "pycharm": {
     "name": "#%%\n"
    }
   },
   "execution_count": null,
   "outputs": []
  },
  {
   "cell_type": "code",
   "execution_count": null,
   "outputs": [],
   "source": [
    "# RidgeClassifier\n",
    "rc: RidgeClassifier = RidgeClassifier()\n",
    "rc.fit(var_train, target_train)\n"
   ],
   "metadata": {
    "collapsed": false,
    "pycharm": {
     "name": "#%%\n"
    }
   }
  },
  {
   "cell_type": "markdown",
   "source": [
    "## Оценка качества модели"
   ],
   "metadata": {
    "collapsed": false
   }
  },
  {
   "cell_type": "code",
   "execution_count": null,
   "outputs": [],
   "source": [],
   "metadata": {
    "collapsed": false,
    "pycharm": {
     "name": "#%%\n"
    }
   }
  },
  {
   "cell_type": "markdown",
   "source": [
    "## Подбор гиперпараметров"
   ],
   "metadata": {
    "collapsed": false
   }
  },
  {
   "cell_type": "code",
   "execution_count": null,
   "outputs": [],
   "source": [
    "print(\"LogisticRegression\")\n",
    "parameters: dict[str, Union[list[str], list[Union[float, int]]]] = {\n",
    "    'penalty': ['l1', 'l2'],\n",
    "    'C': [0.001, 0.01, 0.1, 1, 10, 100, 1000]\n",
    "}\n",
    "grid: GridSearchCV = GridSearchCV(\n",
    "    LogisticRegression(),\n",
    "    parameters,\n",
    "    cv=5\n",
    ")\n",
    "lr_grid: Union[GridSearchCV, Any] = grid.fit(var_train, target_train)\n",
    "print(lr_grid)"
   ],
   "metadata": {
    "collapsed": false,
    "pycharm": {
     "name": "#%%\n"
    }
   }
  },
  {
   "cell_type": "code",
   "execution_count": null,
   "outputs": [],
   "source": [
    "print(\"SGDClassifier\")\n",
    "parameters: dict[str, Union[list[str], list[Union[float, int]]]] = {\n",
    "    'alpha': [10 ** x for x in range(-6, 1)],\n",
    "    'l1_ratio': [0, 0.05, 0.1, 0.2, 0.5, 0.8, 0.9, 0.95, 1],\n",
    "}\n",
    "grid: GridSearchCV = GridSearchCV(\n",
    "    SGDClassifier(),\n",
    "    parameters,\n",
    "    cv=5\n",
    ")\n",
    "sgd_grid: Union[GridSearchCV, Any] = grid.fit(var_train, target_train)\n",
    "print(sgd_grid)"
   ],
   "metadata": {
    "collapsed": false,
    "pycharm": {
     "name": "#%%\n"
    }
   }
  },
  {
   "cell_type": "code",
   "execution_count": null,
   "outputs": [],
   "source": [
    "print(\"RidgeClassifier\")\n",
    "parameters: dict[str, Union[list[str], list[Union[float, int]]]] = {\n",
    "    'alpha': [0.1, 0.2, 0.3, 0.4, 0.5, 0.6, 0.7, 0.8, 0.9, 1.0]\n",
    "}\n",
    "grid: GridSearchCV = GridSearchCV(\n",
    "    RidgeClassifier(),\n",
    "    parameters,\n",
    "    cv=5\n",
    ")\n",
    "rc_grid: Union[GridSearchCV, Any] = grid.fit(var_train, target_train)\n",
    "print(rc_grid)"
   ],
   "metadata": {
    "collapsed": false,
    "pycharm": {
     "name": "#%%\n"
    }
   }
  },
  {
   "cell_type": "markdown",
   "source": [
    "## Заново обучите модель с подобранными гиперпараметрам"
   ],
   "metadata": {
    "collapsed": false
   }
  },
  {
   "cell_type": "code",
   "execution_count": null,
   "outputs": [],
   "source": [
    "def relearn(classifier, ttest, vtest) -> None:\n",
    "    print(classifier.best_params_)\n",
    "    print(classifier.best_score_)\n",
    "    pred: object = classifier.predict(vtest)\n",
    "    print(f\"r2_score: {round(r2_score(ttest, pred), 3)}\")\n",
    "    print(f\"mean_absolute_error: {round(mean_absolute_error(ttest, pred), 3)}\")"
   ],
   "metadata": {
    "collapsed": false,
    "pycharm": {
     "name": "#%%\n"
    }
   }
  },
  {
   "cell_type": "markdown",
   "source": [
    "# Ответы на контрольные вопросы"
   ],
   "metadata": {
    "collapsed": false
   }
  },
  {
   "cell_type": "markdown",
   "source": [
    "### 1. Что такое система ПУЗК? Какие основные методы УЗК реализуются в данной системе?"
   ],
   "metadata": {
    "collapsed": false
   }
  },
  {
   "cell_type": "markdown",
   "source": [],
   "metadata": {
    "collapsed": false
   }
  },
  {
   "cell_type": "markdown",
   "source": [
    "### 2. Чем отличается эхо-метод от теневого и эхо-контактного метода УЗК?"
   ],
   "metadata": {
    "collapsed": false
   }
  },
  {
   "cell_type": "markdown",
   "source": [],
   "metadata": {
    "collapsed": false
   }
  },
  {
   "cell_type": "markdown",
   "source": [
    "### 3. Какие типы дефектов можно найти с помощью системы ПУЗК?"
   ],
   "metadata": {
    "collapsed": false
   }
  },
  {
   "cell_type": "markdown",
   "source": [],
   "metadata": {
    "collapsed": false
   }
  }
 ],
 "metadata": {
  "kernelspec": {
   "display_name": "Python 3",
   "language": "python",
   "name": "python3"
  },
  "language_info": {
   "codemirror_mode": {
    "name": "ipython",
    "version": 2
   },
   "file_extension": ".py",
   "mimetype": "text/x-python",
   "name": "python",
   "nbconvert_exporter": "python",
   "pygments_lexer": "ipython2",
   "version": "2.7.6"
  }
 },
 "nbformat": 4,
 "nbformat_minor": 0
}