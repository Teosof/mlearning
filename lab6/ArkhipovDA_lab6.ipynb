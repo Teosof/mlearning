{
 "cells": [
  {
   "cell_type": "markdown",
   "metadata": {
    "collapsed": true,
    "pycharm": {
     "name": "#%% md\n"
    }
   },
   "source": [
    "# Понижение размерности данных с помощью метода главных компонент и сингулярного разложения\n",
    "Группа: ИВТ-М20.<br/>\n",
    "Студент: Архипов Дмитрий Алексеевич"
   ]
  },
  {
   "cell_type": "code",
   "execution_count": 1,
   "outputs": [],
   "source": [
    "from math import isnan\n",
    "import matplotlib as mpl\n",
    "from pprint import pprint\n",
    "import matplotlib.pyplot as plt\n",
    "from warnings import filterwarnings\n",
    "from typing import (\n",
    "    Any,\n",
    "    Union\n",
    ")\n",
    "from pandas import (\n",
    "    DataFrame,\n",
    "    read_csv,\n",
    "    Series,\n",
    "    read_table,\n",
    "    lreshape\n",
    ")\n",
    "from sklearn.linear_model import (\n",
    "    LogisticRegression,\n",
    "    SGDClassifier,\n",
    "    RidgeClassifier\n",
    ")\n",
    "from sklearn.metrics import (\n",
    "    r2_score,\n",
    "    mean_absolute_error\n",
    ")\n",
    "from sklearn.model_selection import (\n",
    "    train_test_split,\n",
    "    GridSearchCV\n",
    ")"
   ],
   "metadata": {
    "collapsed": false,
    "pycharm": {
     "name": "#%%\n"
    }
   }
  },
  {
   "cell_type": "code",
   "execution_count": 2,
   "outputs": [],
   "source": [
    "filterwarnings('ignore')\n",
    "mpl.style.use(['ggplot'])"
   ],
   "metadata": {
    "collapsed": false,
    "pycharm": {
     "name": "#%%\n"
    }
   }
  },
  {
   "cell_type": "markdown",
   "source": [
    "## Прочтите данные из файлов"
   ],
   "metadata": {
    "collapsed": false
   }
  },
  {
   "cell_type": "code",
   "execution_count": 10,
   "outputs": [],
   "source": [
    "sop1: DataFrame = DataFrame(\n",
    "    read_table(\n",
    "        \"data/train/SOP1.dat\",\n",
    "        sep=\"\\s+\",\n",
    "        header=0\n",
    "    )\n",
    ")\n",
    "sop1.name = \"SOP1\""
   ],
   "metadata": {
    "collapsed": false,
    "pycharm": {
     "name": "#%%\n"
    }
   }
  },
  {
   "cell_type": "code",
   "execution_count": 3,
   "outputs": [],
   "source": [
    "sop2: DataFrame = DataFrame(\n",
    "    read_table(\n",
    "        \"data/train/SOP2.dat\",\n",
    "        sep=\"\\s+\",\n",
    "        header=0\n",
    "    )\n",
    ")\n",
    "sop2.name = \"SOP2\""
   ],
   "metadata": {
    "collapsed": false,
    "pycharm": {
     "name": "#%%\n"
    }
   }
  },
  {
   "cell_type": "code",
   "execution_count": 4,
   "outputs": [],
   "source": [
    "sop3: DataFrame = DataFrame(\n",
    "    read_table(\n",
    "        \"data/train/SOP3.dat\",\n",
    "        sep=\"\\s+\",\n",
    "        header=0\n",
    "    )\n",
    ")\n",
    "sop3.name = \"SOP3\""
   ],
   "metadata": {
    "collapsed": false,
    "pycharm": {
     "name": "#%%\n"
    }
   }
  },
  {
   "cell_type": "code",
   "execution_count": 5,
   "outputs": [],
   "source": [
    "target1: DataFrame = DataFrame(\n",
    "    read_csv(\n",
    "        \"data/train/target1.csv\",\n",
    "        sep=\",\",\n",
    "        header=0\n",
    "    )\n",
    ")\n",
    "target1.name = \"target1\""
   ],
   "metadata": {
    "collapsed": false,
    "pycharm": {
     "name": "#%%\n"
    }
   }
  },
  {
   "cell_type": "code",
   "execution_count": 6,
   "outputs": [],
   "source": [
    "target2: DataFrame = DataFrame(\n",
    "    read_csv(\n",
    "        \"data/train/target2.csv\",\n",
    "        sep=\",\",\n",
    "        header=0\n",
    "    )\n",
    ")\n",
    "target2.name = \"target2\""
   ],
   "metadata": {
    "collapsed": false,
    "pycharm": {
     "name": "#%%\n"
    }
   }
  },
  {
   "cell_type": "code",
   "execution_count": 7,
   "outputs": [],
   "source": [
    "target3: DataFrame = DataFrame(\n",
    "    read_csv(\n",
    "        \"data/train/target3.csv\",\n",
    "        sep=\",\",\n",
    "        header=0\n",
    "    )\n",
    ")\n",
    "target3.name = \"target3\""
   ],
   "metadata": {
    "collapsed": false,
    "pycharm": {
     "name": "#%%\n"
    }
   }
  },
  {
   "cell_type": "markdown",
   "source": [
    "##  Отобразите несколько первых и несколько последних записей."
   ],
   "metadata": {
    "collapsed": false
   }
  },
  {
   "cell_type": "code",
   "execution_count": 8,
   "outputs": [],
   "source": [
    "def printer(variable):\n",
    "    pprint(variable.name)\n",
    "    print(end=\"\\n\")\n",
    "    pprint(variable.head())\n",
    "    print(end=\"\\n\\n\")\n",
    "    pprint(variable.tail())\n",
    "    print(end=\"\\n\\n\\n\\n\")"
   ],
   "metadata": {
    "collapsed": false,
    "pycharm": {
     "name": "#%%\n"
    }
   }
  },
  {
   "cell_type": "code",
   "execution_count": 11,
   "outputs": [
    {
     "name": "stdout",
     "output_type": "stream",
     "text": [
      "'SOP1'\n",
      "\n",
      "                       0000  29-08-03  12:34:21  +20C  257  325   16   5  ���1\n",
      "1 0 35 202 27 29 35 0     0       255       147    54  119  125  212  17    39\n",
      "2 0 23 190 27 22 29 0     0       255       147    56   95  156  223  13    27\n",
      "3 1 0  188 24 10 13 0     0       255       145    59   40  172  254  10     0\n",
      "4 5 0  183 26 6  1  0     0       255       153    66   22  172  255   7     0\n",
      "5 4 0  188 32 4  0  0     0       255       157    62   18  170  255  14    21\n",
      "\n",
      "\n",
      "                        0000  29-08-03  12:34:21  +20C  257  325  16   5  ���1\n",
      "1038 0 0 159 36 0  0 0     0       255       175     0    0  127  11   0     1\n",
      "1039 0 0 189 56 0  0 0     0       255       221     0    0  129   6   0     9\n",
      "1040 0 0 188 64 16 0 0     0       255       232     0    0  163   0   0    15\n",
      "1041 0 0 177 43 25 0 0     0       255       181     0    0  198   1  11    13\n",
      "1042 0 0 177 22 21 0 0     0       255       133     0    0  217   0   0     9\n",
      "\n",
      "\n",
      "\n",
      "\n"
     ]
    }
   ],
   "source": [
    "printer(sop1)"
   ],
   "metadata": {
    "collapsed": false,
    "pycharm": {
     "name": "#%%\n"
    }
   }
  },
  {
   "cell_type": "code",
   "execution_count": 12,
   "outputs": [
    {
     "name": "stdout",
     "output_type": "stream",
     "text": [
      "'SOP2'\n",
      "\n",
      "                     0000  29-08-03  13:00:27  +23C  257  325   16   5  СОП2\n",
      "1 0 0 175 12 0  0 0     0       255       112     0    0  233  173   2    23\n",
      "2 0 0 159 10 10 0 0     0       255       108     0    0  222  173  10    34\n",
      "3 0 0 139 25 48 0 0     0       255       145     0    0  230  175  18    18\n",
      "4 0 0 130 54 61 0 0     0       255       216     0    1  237  185  52    22\n",
      "5 0 0 110 54 57 0 0     0       236       207     3    4  239  205  43    20\n",
      "\n",
      "\n",
      "                       0000  29-08-03  13:00:27  +23C  257  325  16   5  СОП2\n",
      "1035 0 0 0 0  0  0 0      0         0        79     0   28  166   4   0    21\n",
      "1036 0 0 0 17 0  0 0      0         4       123     0   48  163  16  14     2\n",
      "1037 0 0 0 17 2  0 0      0         9       122     0   34  125  31   0    11\n",
      "1038 0 0 0 11 26 0 11     0         0       110     0   27  132  42   0     2\n",
      "1039 0 0 0 9  43 0 0      0         0       104     0   14  147  40   4    11\n",
      "\n",
      "\n",
      "\n",
      "\n"
     ]
    }
   ],
   "source": [
    "printer(sop2)"
   ],
   "metadata": {
    "collapsed": false,
    "pycharm": {
     "name": "#%%\n"
    }
   }
  },
  {
   "cell_type": "code",
   "execution_count": 13,
   "outputs": [
    {
     "name": "stdout",
     "output_type": "stream",
     "text": [
      "'SOP3'\n",
      "\n",
      "                      0000  29-08-03  13:49:13  +21C  257  325   16   5  ���3\n",
      "1 0 0 0 10 148 56 0      3        39       118     0    4   88  154  49    14\n",
      "2 0 0 0 28 129 55 0      0        48       150     0    0   67  140  54     5\n",
      "3 0 0 0 48 94  58 13     0        16       210     0    0   47   98  59    62\n",
      "4 0 0 0 54 68  51 0      0        18       244     2    0   37   73  29    12\n",
      "5 0 0 0 81 46  36 0      0        16       255    11    0   41   58  15     3\n",
      "\n",
      "\n",
      "                        0000  29-08-03  13:49:13  +21C  257  325  16  5  ���3\n",
      "1034 0 0 0 138 76 30 0     0         1       255     0   15    9   0  0     0\n",
      "1035 0 0 0 134 71 45 0     0        26       255     0   24    2   0  0     0\n",
      "1036 0 0 0 133 63 50 0     0        12       255     0   27    0   0  1     0\n",
      "1037 0 0 0 132 41 47 0     0         5       255     0   27    0   0  0     0\n",
      "1038 0 0 0 130 28 44 0     0         8       255     0   21    0   0  2     0\n",
      "\n",
      "\n",
      "\n",
      "\n"
     ]
    }
   ],
   "source": [
    "printer(sop3)"
   ],
   "metadata": {
    "collapsed": false,
    "pycharm": {
     "name": "#%%\n"
    }
   }
  },
  {
   "cell_type": "code",
   "execution_count": 14,
   "outputs": [
    {
     "name": "stdout",
     "output_type": "stream",
     "text": [
      "'target1'\n",
      "\n",
      "   Начало дефекта  Длина дефекта  Высота дефекта Тип дефекта Сторона\n",
      "0              51           42.0               7           L       A\n",
      "1             200           40.0               6           L       B\n",
      "2             278           39.0               4           L       A\n",
      "3             365           43.0               6           L       B\n",
      "4             460           27.0               5           L       A\n",
      "\n",
      "\n",
      "   Начало дефекта  Длина дефекта  Высота дефекта Тип дефекта Сторона\n",
      "3             365           43.0               6           L       B\n",
      "4             460           27.0               5           L       A\n",
      "5             845           36.0               4           L       B\n",
      "6             959           62.0               6           L       A\n",
      "7             141            NaN               4           T        \n",
      "\n",
      "\n",
      "\n",
      "\n"
     ]
    }
   ],
   "source": [
    "printer(target1)"
   ],
   "metadata": {
    "collapsed": false,
    "pycharm": {
     "name": "#%%\n"
    }
   }
  },
  {
   "cell_type": "code",
   "execution_count": 15,
   "outputs": [
    {
     "name": "stdout",
     "output_type": "stream",
     "text": [
      "'target2'\n",
      "\n",
      "   Начало дефекта  Длина дефекта  Высота дефекта Тип дефекта Сторона\n",
      "0             178           37.0               6           L       B\n",
      "1             258           38.0               4           L       A\n",
      "2             337           53.0               5           L       B\n",
      "3             822           37.0               5           L       B\n",
      "4             957           48.0               5           L       A\n",
      "\n",
      "\n",
      "   Начало дефекта  Длина дефекта  Высота дефекта Тип дефекта Сторона\n",
      "1             258           38.0               4           L       A\n",
      "2             337           53.0               5           L       B\n",
      "3             822           37.0               5           L       B\n",
      "4             957           48.0               5           L       A\n",
      "5             123            NaN               3           T        \n",
      "\n",
      "\n",
      "\n",
      "\n"
     ]
    }
   ],
   "source": [
    "printer(target2)"
   ],
   "metadata": {
    "collapsed": false,
    "pycharm": {
     "name": "#%%\n"
    }
   }
  },
  {
   "cell_type": "code",
   "execution_count": 16,
   "outputs": [
    {
     "name": "stdout",
     "output_type": "stream",
     "text": [
      "'target3'\n",
      "\n",
      "   Начало дефекта  Длина дефекта  Высота дефекта Тип дефекта Сторона\n",
      "0              26           42.0               5           L       A\n",
      "1             172           47.0               6           L       B\n",
      "2             276           55.0               8           L       B\n",
      "3             795           34.0               8           L       B\n",
      "4             877           49.0               4           L       A\n",
      "\n",
      "\n",
      "   Начало дефекта  Длина дефекта  Высота дефекта Тип дефекта Сторона\n",
      "2             276           55.0               8           L       B\n",
      "3             795           34.0               8           L       B\n",
      "4             877           49.0               4           L       A\n",
      "5             971           50.0               5           L       B\n",
      "6             112            NaN               4           T        \n",
      "\n",
      "\n",
      "\n",
      "\n"
     ]
    }
   ],
   "source": [
    "printer(target3)"
   ],
   "metadata": {
    "collapsed": false,
    "pycharm": {
     "name": "#%%\n"
    }
   }
  },
  {
   "cell_type": "markdown",
   "source": [
    "##  Ящик с усами."
   ],
   "metadata": {
    "collapsed": false
   }
  },
  {
   "cell_type": "code",
   "execution_count": 17,
   "outputs": [
    {
     "data": {
      "text/plain": "array([[<AxesSubplot:title={'center':'0000'}>,\n        <AxesSubplot:title={'center':'29-08-03'}>,\n        <AxesSubplot:title={'center':'12:34:21'}>],\n       [<AxesSubplot:title={'center':'+20C'}>,\n        <AxesSubplot:title={'center':'257'}>,\n        <AxesSubplot:title={'center':'325'}>],\n       [<AxesSubplot:title={'center':'16'}>,\n        <AxesSubplot:title={'center':'5'}>,\n        <AxesSubplot:title={'center':'���1'}>]], dtype=object)"
     },
     "execution_count": 17,
     "metadata": {},
     "output_type": "execute_result"
    },
    {
     "data": {
      "text/plain": "<Figure size 432x288 with 1 Axes>",
      "image/png": "[encoded data removed]"
     },
     "metadata": {},
     "output_type": "display_data"
    },
    {
     "data": {
      "text/plain": "<Figure size 432x288 with 9 Axes>",
      "image/png": "[encoded data removed]"
     },
     "metadata": {},
     "output_type": "display_data"
    }
   ],
   "source": [
    "sop1.boxplot()\n",
    "sop1.hist()"
   ],
   "metadata": {
    "collapsed": false,
    "pycharm": {
     "name": "#%%\n"
    }
   }
  },
  {
   "cell_type": "code",
   "execution_count": 19,
   "outputs": [
    {
     "data": {
      "text/plain": "array([[<AxesSubplot:title={'center':'0000'}>,\n        <AxesSubplot:title={'center':'29-08-03'}>,\n        <AxesSubplot:title={'center':'13:00:27'}>],\n       [<AxesSubplot:title={'center':'+23C'}>,\n        <AxesSubplot:title={'center':'257'}>,\n        <AxesSubplot:title={'center':'325'}>],\n       [<AxesSubplot:title={'center':'16'}>,\n        <AxesSubplot:title={'center':'5'}>,\n        <AxesSubplot:title={'center':'СОП2'}>]], dtype=object)"
     },
     "execution_count": 19,
     "metadata": {},
     "output_type": "execute_result"
    },
    {
     "data": {
      "text/plain": "<Figure size 432x288 with 1 Axes>",
      "image/png": "[encoded data removed]"
     },
     "metadata": {},
     "output_type": "display_data"
    },
    {
     "data": {
      "text/plain": "<Figure size 432x288 with 9 Axes>",
      "image/png": "[encoded data removed]"
     },
     "metadata": {},
     "output_type": "display_data"
    }
   ],
   "source": [
    "sop2.boxplot()\n",
    "sop2.hist()"
   ],
   "metadata": {
    "collapsed": false,
    "pycharm": {
     "name": "#%%\n"
    }
   }
  },
  {
   "cell_type": "code",
   "execution_count": 18,
   "outputs": [
    {
     "data": {
      "text/plain": "array([[<AxesSubplot:title={'center':'0000'}>,\n        <AxesSubplot:title={'center':'29-08-03'}>,\n        <AxesSubplot:title={'center':'13:49:13'}>],\n       [<AxesSubplot:title={'center':'+21C'}>,\n        <AxesSubplot:title={'center':'257'}>,\n        <AxesSubplot:title={'center':'325'}>],\n       [<AxesSubplot:title={'center':'16'}>,\n        <AxesSubplot:title={'center':'5'}>,\n        <AxesSubplot:title={'center':'���3'}>]], dtype=object)"
     },
     "execution_count": 18,
     "metadata": {},
     "output_type": "execute_result"
    },
    {
     "data": {
      "text/plain": "<Figure size 432x288 with 1 Axes>",
      "image/png": "[encoded data removed]"
     },
     "metadata": {},
     "output_type": "display_data"
    },
    {
     "data": {
      "text/plain": "<Figure size 432x288 with 9 Axes>",
      "image/png": "[encoded data removed]"
     },
     "metadata": {},
     "output_type": "display_data"
    }
   ],
   "source": [
    "sop3.boxplot()\n",
    "sop3.hist()\n"
   ],
   "metadata": {
    "collapsed": false,
    "pycharm": {
     "name": "#%%\n"
    }
   }
  },
  {
   "cell_type": "markdown",
   "source": [
    "## Вектор с результатами наличия дефектов"
   ],
   "metadata": {
    "collapsed": false
   }
  },
  {
   "cell_type": "code",
   "execution_count": 35,
   "outputs": [],
   "source": [
    "array1 = [0] * sop1.count()[0]\n",
    "array2 = [0] * sop2.count()[0]\n",
    "array3 = [0] * sop3.count()[0]\n",
    "\n",
    "ser1: Series = Series(data=array1)\n",
    "ser2: Series = Series(data=array2)\n",
    "ser3: Series = Series(data=array3)\n",
    "\n",
    "serH1: Series = Series(data=array1)\n",
    "serH2: Series = Series(data=array2)\n",
    "serH3: Series = Series(data=array3)\n"
   ],
   "metadata": {
    "collapsed": false,
    "pycharm": {
     "name": "#%%\n"
    }
   }
  },
  {
   "cell_type": "code",
   "execution_count": 29,
   "outputs": [],
   "source": [
    "def defects(target, series):\n",
    "    for index, row in target.iterrows():\n",
    "        begin = row['Начало дефекта']\n",
    "        end = row['Начало дефекта'] + row['Длина дефекта']\n",
    "        if not isnan(end):\n",
    "            series.loc[begin:int(end)] = 1\n",
    "    return series"
   ],
   "metadata": {
    "collapsed": false,
    "pycharm": {
     "name": "#%%\n"
    }
   }
  },
  {
   "cell_type": "code",
   "execution_count": 44,
   "outputs": [],
   "source": [
    "ser1 = defects(target1, ser1)\n",
    "ser2 = defects(target2, ser2)\n",
    "ser3 = defects(target2, ser3)"
   ],
   "metadata": {
    "collapsed": false,
    "pycharm": {
     "name": "#%%\n"
    }
   }
  },
  {
   "cell_type": "markdown",
   "source": [
    "## Вектор, содержащий значения высоты дефектов в местах их наличия"
   ],
   "metadata": {
    "collapsed": false
   }
  },
  {
   "cell_type": "code",
   "execution_count": 23,
   "outputs": [],
   "source": [
    "def defects_height(target, series):\n",
    "    for index, row in target.iterrows():\n",
    "        begin = row['Начало дефекта']\n",
    "        end = row['Начало дефекта'] + row['Длина дефекта']\n",
    "        if not isnan(end):\n",
    "            series.loc[begin:int(end)] = row['Высота дефекта']\n",
    "    return series"
   ],
   "metadata": {
    "collapsed": false,
    "pycharm": {
     "name": "#%%\n"
    }
   }
  },
  {
   "cell_type": "code",
   "execution_count": 37,
   "outputs": [],
   "source": [
    "serH1 = defects_height(target1, ser1)\n",
    "serH2 = defects_height(target2, ser2)\n",
    "serH3 = defects_height(target3, ser3)\n"
   ],
   "metadata": {
    "collapsed": false,
    "pycharm": {
     "name": "#%%\n"
    }
   }
  },
  {
   "cell_type": "markdown",
   "source": [
    "## Разбиение данных на обучающую и проверочную выборки"
   ],
   "metadata": {
    "collapsed": false,
    "pycharm": {
     "name": "#%% md\n"
    }
   }
  },
  {
   "cell_type": "code",
   "source": [
    "sop_train1, sop_test1, target_train1, target_test1 = train_test_split(sop1, ser1, test_size=0.3, train_size=0.7)\n",
    "sop_train2, sop_test2, target_train2, target_test2 = train_test_split(sop2, ser2, test_size=0.3, train_size=0.7)\n",
    "sop_train3, sop_test3, target_train3, target_test3 = train_test_split(sop3, ser3, test_size=0.3, train_size=0.7)"
   ],
   "metadata": {
    "collapsed": false,
    "pycharm": {
     "name": "#%%\n"
    }
   },
   "execution_count": 38,
   "outputs": []
  },
  {
   "cell_type": "markdown",
   "source": [
    "## Последовательное применение алгоритмов"
   ],
   "metadata": {
    "collapsed": false
   }
  },
  {
   "cell_type": "code",
   "source": [
    "# LogisticRegression\n",
    "lr: LogisticRegression = LogisticRegression()\n",
    "lr.fit(sop_train1, target_train1)"
   ],
   "metadata": {
    "collapsed": false,
    "pycharm": {
     "name": "#%%\n"
    }
   },
   "execution_count": 45,
   "outputs": [
    {
     "data": {
      "text/plain": "LogisticRegression()"
     },
     "execution_count": 45,
     "metadata": {},
     "output_type": "execute_result"
    }
   ]
  },
  {
   "cell_type": "code",
   "source": [
    "# SGDClassifier\n",
    "sgdc: SGDClassifier = SGDClassifier()\n",
    "sgdc.fit(sop_train2, target_train2)"
   ],
   "metadata": {
    "collapsed": false,
    "pycharm": {
     "name": "#%%\n"
    }
   },
   "execution_count": 51,
   "outputs": [
    {
     "data": {
      "text/plain": "SGDClassifier()"
     },
     "execution_count": 51,
     "metadata": {},
     "output_type": "execute_result"
    }
   ]
  },
  {
   "cell_type": "code",
   "execution_count": 52,
   "outputs": [
    {
     "data": {
      "text/plain": "RidgeClassifier()"
     },
     "execution_count": 52,
     "metadata": {},
     "output_type": "execute_result"
    }
   ],
   "source": [
    "# RidgeClassifier\n",
    "rc: RidgeClassifier = RidgeClassifier()\n",
    "rc.fit(sop_train3, target_train3)\n"
   ],
   "metadata": {
    "collapsed": false,
    "pycharm": {
     "name": "#%%\n"
    }
   }
  },
  {
   "cell_type": "markdown",
   "source": [
    "## Оценка качества модели"
   ],
   "metadata": {
    "collapsed": false
   }
  },
  {
   "cell_type": "code",
   "execution_count": 49,
   "outputs": [],
   "source": [
    "def estimate(classifier, vtest, ttest):\n",
    "    pred = classifier.predict(vtest)\n",
    "    print(f\"r2_score: {round(r2_score(ttest, pred), 3)}\")\n",
    "    print(f\"mean_absolute_error: {round(mean_absolute_error(ttest, pred), 3)}\")"
   ],
   "metadata": {
    "collapsed": false,
    "pycharm": {
     "name": "#%%\n"
    }
   }
  },
  {
   "cell_type": "code",
   "execution_count": 50,
   "outputs": [
    {
     "name": "stdout",
     "output_type": "stream",
     "text": [
      "LogisticRegression\n",
      "r2_score: -0.009\n",
      "mean_absolute_error: 1.147\n"
     ]
    }
   ],
   "source": [
    "print(\"LogisticRegression\")\n",
    "estimate(lr, sop_test1, target_test1)"
   ],
   "metadata": {
    "collapsed": false,
    "pycharm": {
     "name": "#%%\n"
    }
   }
  },
  {
   "cell_type": "code",
   "execution_count": 53,
   "outputs": [
    {
     "name": "stdout",
     "output_type": "stream",
     "text": [
      "SGDClassifier\n",
      "r2_score: -0.612\n",
      "mean_absolute_error: 1.237\n"
     ]
    }
   ],
   "source": [
    "print(\"SGDClassifier\")\n",
    "estimate(sgdc, sop_test2, target_test2)"
   ],
   "metadata": {
    "collapsed": false,
    "pycharm": {
     "name": "#%%\n"
    }
   }
  },
  {
   "cell_type": "code",
   "execution_count": 54,
   "outputs": [
    {
     "name": "stdout",
     "output_type": "stream",
     "text": [
      "RidgeClassifier\n",
      "r2_score: -0.376\n",
      "mean_absolute_error: 1.731\n"
     ]
    }
   ],
   "source": [
    "print(\"RidgeClassifier\")\n",
    "estimate(rc, sop_test3, target_test3)"
   ],
   "metadata": {
    "collapsed": false,
    "pycharm": {
     "name": "#%%\n"
    }
   }
  },
  {
   "cell_type": "markdown",
   "source": [
    "## Подбор гиперпараметров"
   ],
   "metadata": {
    "collapsed": false
   }
  },
  {
   "cell_type": "code",
   "execution_count": 56,
   "outputs": [
    {
     "name": "stdout",
     "output_type": "stream",
     "text": [
      "LogisticRegression\n",
      "GridSearchCV(cv=5, estimator=LogisticRegression(),\n",
      "             param_grid={'C': [0.001, 0.01, 0.1, 1, 10, 100, 1000],\n",
      "                         'penalty': ['l1', 'l2']})\n"
     ]
    }
   ],
   "source": [
    "print(\"LogisticRegression\")\n",
    "parameters = {\n",
    "    'penalty': ['l1', 'l2'],\n",
    "    'C': [0.001, 0.01, 0.1, 1, 10, 100, 1000]\n",
    "}\n",
    "grid = GridSearchCV(\n",
    "    LogisticRegression(),\n",
    "    parameters,\n",
    "    cv=5\n",
    ")\n",
    "lr_grid = grid.fit(sop_train1, target_train1)\n",
    "print(lr_grid)"
   ],
   "metadata": {
    "collapsed": false,
    "pycharm": {
     "name": "#%%\n"
    }
   }
  },
  {
   "cell_type": "code",
   "execution_count": 58,
   "outputs": [
    {
     "name": "stdout",
     "output_type": "stream",
     "text": [
      "SGDClassifier\n",
      "GridSearchCV(cv=5, estimator=SGDClassifier(),\n",
      "             param_grid={'alpha': [1e-06, 1e-05, 0.0001, 0.001, 0.01, 0.1, 1],\n",
      "                         'l1_ratio': [0, 0.05, 0.1, 0.2, 0.5, 0.8, 0.9, 0.95,\n",
      "                                      1]})\n"
     ]
    }
   ],
   "source": [
    "print(\"SGDClassifier\")\n",
    "parameters = {\n",
    "    'alpha': [10 ** x for x in range(-6, 1)],\n",
    "    'l1_ratio': [0, 0.05, 0.1, 0.2, 0.5, 0.8, 0.9, 0.95, 1],\n",
    "}\n",
    "grid = GridSearchCV(\n",
    "    SGDClassifier(),\n",
    "    parameters,\n",
    "    cv=5\n",
    ")\n",
    "sgd_grid = grid.fit(sop_train2, target_train2)\n",
    "print(sgd_grid)"
   ],
   "metadata": {
    "collapsed": false,
    "pycharm": {
     "name": "#%%\n"
    }
   }
  },
  {
   "cell_type": "code",
   "execution_count": 59,
   "outputs": [
    {
     "name": "stdout",
     "output_type": "stream",
     "text": [
      "RidgeClassifier\n",
      "GridSearchCV(cv=5, estimator=RidgeClassifier(),\n",
      "             param_grid={'alpha': [0.1, 0.2, 0.3, 0.4, 0.5, 0.6, 0.7, 0.8, 0.9,\n",
      "                                   1.0]})\n"
     ]
    }
   ],
   "source": [
    "print(\"RidgeClassifier\")\n",
    "parameters = {\n",
    "    'alpha': [0.1, 0.2, 0.3, 0.4, 0.5, 0.6, 0.7, 0.8, 0.9, 1.0]\n",
    "}\n",
    "grid = GridSearchCV(\n",
    "    RidgeClassifier(),\n",
    "    parameters,\n",
    "    cv=5\n",
    ")\n",
    "rc_grid = grid.fit(sop_train3, target_train3)\n",
    "print(rc_grid)"
   ],
   "metadata": {
    "collapsed": false,
    "pycharm": {
     "name": "#%%\n"
    }
   }
  },
  {
   "cell_type": "markdown",
   "source": [
    "## Заново обучите модель с подобранными гиперпараметрам"
   ],
   "metadata": {
    "collapsed": false
   }
  },
  {
   "cell_type": "code",
   "execution_count": 60,
   "outputs": [],
   "source": [
    "def relearn(classifier, vtest, ttest) -> None:\n",
    "    print(classifier.best_params_)\n",
    "    print(classifier.best_score_)\n",
    "    pred: object = classifier.predict(vtest)\n",
    "    print(f\"r2_score: {round(r2_score(ttest, pred), 3)}\")\n",
    "    print(f\"mean_absolute_error: {round(mean_absolute_error(ttest, pred), 3)}\")"
   ],
   "metadata": {
    "collapsed": false,
    "pycharm": {
     "name": "#%%\n"
    }
   }
  },
  {
   "cell_type": "code",
   "execution_count": 61,
   "outputs": [
    {
     "name": "stdout",
     "output_type": "stream",
     "text": [
      "LogisticRegression\n",
      "{'C': 0.01, 'penalty': 'l2'}\n",
      "0.7297401983939537\n",
      "r2_score: -0.009\n",
      "mean_absolute_error: 1.147\n"
     ]
    }
   ],
   "source": [
    "print(\"LogisticRegression\")\n",
    "relearn(lr_grid, sop_test1, target_test1)"
   ],
   "metadata": {
    "collapsed": false,
    "pycharm": {
     "name": "#%%\n"
    }
   }
  },
  {
   "cell_type": "code",
   "execution_count": 62,
   "outputs": [
    {
     "name": "stdout",
     "output_type": "stream",
     "text": [
      "SGDClassifier\n",
      "{'alpha': 1, 'l1_ratio': 0.9}\n",
      "0.8087954652810581\n",
      "r2_score: -0.157\n",
      "mean_absolute_error: 0.878\n"
     ]
    }
   ],
   "source": [
    "print(\"SGDClassifier\")\n",
    "relearn(sgd_grid, sop_test2, target_test2)"
   ],
   "metadata": {
    "collapsed": false,
    "pycharm": {
     "name": "#%%\n"
    }
   }
  },
  {
   "cell_type": "code",
   "execution_count": 63,
   "outputs": [
    {
     "name": "stdout",
     "output_type": "stream",
     "text": [
      "RidgeClassifier\n",
      "{'alpha': 0.1}\n",
      "0.6363438828530941\n",
      "r2_score: -0.376\n",
      "mean_absolute_error: 1.731\n"
     ]
    }
   ],
   "source": [
    "print(\"RidgeClassifier\")\n",
    "relearn(rc_grid, sop_test3, target_test3)"
   ],
   "metadata": {
    "collapsed": false,
    "pycharm": {
     "name": "#%%\n"
    }
   }
  },
  {
   "cell_type": "markdown",
   "source": [
    "# Ответы на контрольные вопросы"
   ],
   "metadata": {
    "collapsed": false
   }
  },
  {
   "cell_type": "markdown",
   "source": [
    "### 1. Что такое система ПУЗК? Какие основные методы УЗК реализуются в данной системе?"
   ],
   "metadata": {
    "collapsed": false
   }
  },
  {
   "cell_type": "markdown",
   "source": [],
   "metadata": {
    "collapsed": false
   }
  },
  {
   "cell_type": "markdown",
   "source": [
    "### 2. Чем отличается эхо-метод от теневого и эхо-контактного метода УЗК?"
   ],
   "metadata": {
    "collapsed": false
   }
  },
  {
   "cell_type": "markdown",
   "source": [],
   "metadata": {
    "collapsed": false
   }
  },
  {
   "cell_type": "markdown",
   "source": [
    "### 3. Какие типы дефектов можно найти с помощью системы ПУЗК?"
   ],
   "metadata": {
    "collapsed": false
   }
  },
  {
   "cell_type": "markdown",
   "source": [],
   "metadata": {
    "collapsed": false
   }
  }
 ],
 "metadata": {
  "kernelspec": {
   "display_name": "Python 3",
   "language": "python",
   "name": "python3"
  },
  "language_info": {
   "codemirror_mode": {
    "name": "ipython",
    "version": 2
   },
   "file_extension": ".py",
   "mimetype": "text/x-python",
   "name": "python",
   "nbconvert_exporter": "python",
   "pygments_lexer": "ipython2",
   "version": "2.7.6"
  }
 },
 "nbformat": 4,
 "nbformat_minor": 0
}