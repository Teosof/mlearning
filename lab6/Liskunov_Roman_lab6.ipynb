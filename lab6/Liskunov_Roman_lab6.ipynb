{
 "cells": [
  {
   "cell_type": "markdown",
   "metadata": {
    "collapsed": true,
    "pycharm": {
     "name": "#%% md\n"
    }
   },
   "source": [
    "# Понижение размерности данных с помощью метода главных компонент и сингулярного разложения\n",
    "Группа: ИВТ-М20.<br/>\n",
    "Студент: Лискунов Роман Геннадьвич"
   ]
  },
  {
   "cell_type": "code",
   "execution_count": 64,
   "outputs": [],
   "source": [
    "import warnings\n",
    "from math import isnan\n",
    "from pprint import pprint\n",
    "from typing import Any, Union\n",
    "\n",
    "import matplotlib as mpl\n",
    "import matplotlib.pyplot as plt\n",
    "from pandas import (\n",
    "    DataFrame,\n",
    "    read_csv, Series\n",
    ")\n",
    "from sklearn.linear_model import (\n",
    "    LogisticRegression,\n",
    "    SGDClassifier,\n",
    "    RidgeClassifier\n",
    ")\n",
    "from sklearn.metrics import (\n",
    "    r2_score,\n",
    "    mean_absolute_error\n",
    ")\n",
    "from sklearn.model_selection import (\n",
    "    train_test_split,\n",
    "    GridSearchCV\n",
    ")"
   ],
   "metadata": {
    "collapsed": false,
    "pycharm": {
     "name": "#%%\n"
    }
   }
  },
  {
   "cell_type": "code",
   "execution_count": 65,
   "outputs": [],
   "source": [
    "warnings.filterwarnings('ignore')\n",
    "mpl.style.use(['ggplot'])"
   ],
   "metadata": {
    "collapsed": false,
    "pycharm": {
     "name": "#%%\n"
    }
   }
  },
  {
   "cell_type": "markdown",
   "source": [
    "## Прочтите данные из файлов"
   ],
   "metadata": {
    "collapsed": false
   }
  },
  {
   "cell_type": "code",
   "execution_count": 66,
   "outputs": [],
   "source": [
    "sop1: DataFrame = DataFrame(\n",
    "    read_csv(\n",
    "        \"data/train/SOP1.dat\",\n",
    "        sep=\" \",\n",
    "        header=0\n",
    "    )\n",
    ")\n",
    "sop1.name = \"SOP1\""
   ],
   "metadata": {
    "collapsed": false,
    "pycharm": {
     "name": "#%%\n"
    }
   }
  },
  {
   "cell_type": "code",
   "execution_count": 67,
   "outputs": [],
   "source": [
    "sop2: DataFrame = DataFrame(\n",
    "    read_csv(\n",
    "        \"data/train/SOP2.dat\",\n",
    "        sep=\" \",\n",
    "        header=0\n",
    "    )\n",
    ")\n",
    "sop2.name = \"SOP2\""
   ],
   "metadata": {
    "collapsed": false,
    "pycharm": {
     "name": "#%%\n"
    }
   }
  },
  {
   "cell_type": "code",
   "execution_count": 68,
   "outputs": [],
   "source": [
    "sop3: DataFrame = DataFrame(\n",
    "    read_csv(\n",
    "        \"data/train/SOP3.dat\",\n",
    "        sep=\" \",\n",
    "        header=0\n",
    "    )\n",
    ")\n",
    "sop3.name = \"SOP3\""
   ],
   "metadata": {
    "collapsed": false,
    "pycharm": {
     "name": "#%%\n"
    }
   }
  },
  {
   "cell_type": "code",
   "execution_count": null,
   "outputs": [],
   "source": [
    "target1: DataFrame = DataFrame(\n",
    "    read_csv(\n",
    "        \"data/train/target1.csv\",\n",
    "        sep=\",\",\n",
    "        header=0\n",
    "    )\n",
    ")\n",
    "target1.name = \"target1\""
   ],
   "metadata": {
    "collapsed": false,
    "pycharm": {
     "name": "#%%\n"
    }
   }
  },
  {
   "cell_type": "code",
   "execution_count": 69,
   "outputs": [],
   "source": [
    "target2: DataFrame = DataFrame(\n",
    "    read_csv(\n",
    "        \"data/train/target2.csv\",\n",
    "        sep=\",\",\n",
    "        header=0\n",
    "    )\n",
    ")\n",
    "target2.name = \"target2\""
   ],
   "metadata": {
    "collapsed": false,
    "pycharm": {
     "name": "#%%\n"
    }
   }
  },
  {
   "cell_type": "code",
   "execution_count": 70,
   "outputs": [],
   "source": [
    "target3: DataFrame = DataFrame(\n",
    "    read_csv(\n",
    "        \"data/train/target3.csv\",\n",
    "        sep=\",\",\n",
    "        header=0\n",
    "    )\n",
    ")\n",
    "target3.name = \"target3\""
   ],
   "metadata": {
    "collapsed": false,
    "pycharm": {
     "name": "#%%\n"
    }
   }
  },
  {
   "cell_type": "markdown",
   "source": [
    "##  Отобразите несколько первых и несколько последних записей."
   ],
   "metadata": {
    "collapsed": false
   }
  },
  {
   "cell_type": "code",
   "execution_count": 71,
   "outputs": [],
   "source": [
    "def printer(variable: DataFrame) -> None:\n",
    "    pprint(variable.name)\n",
    "    print(end=\"\\n\")\n",
    "    pprint(variable.head())\n",
    "    print(end=\"\\n\\n\")\n",
    "    pprint(variable.tail())\n",
    "    print(end=\"\\n\\n\\n\\n\")"
   ],
   "metadata": {
    "collapsed": false,
    "pycharm": {
     "name": "#%%\n"
    }
   }
  },
  {
   "cell_type": "code",
   "execution_count": 72,
   "outputs": [
    {
     "name": "stdout",
     "output_type": "stream",
     "text": [
      "'SOP1'\n",
      "\n",
      "   0000  29-08-03  12:34:21  +20C  Unnamed: 4  Unnamed: 5  257  Unnamed: 7  \\\n",
      "0     1         0        35   202          27          29   35           0   \n",
      "1     2         0        23   190          27          22   29           0   \n",
      "2     3         1         0   188          24          10   13           0   \n",
      "3     4         5         0   183          26           6    1           0   \n",
      "4     5         4         0   188          32           4    0           0   \n",
      "\n",
      "   Unnamed: 8  325  Unnamed: 10  Unnamed: 11   16  Unnamed: 13  Unnamed: 14  \\\n",
      "0           0  255          147           54  119          125          212   \n",
      "1           0  255          147           56   95          156          223   \n",
      "2           0  255          145           59   40          172          254   \n",
      "3           0  255          153           66   22          172          255   \n",
      "4           0  255          157           62   18          170          255   \n",
      "\n",
      "    5  ���1  Unnamed: 17  \n",
      "0  17    39          NaN  \n",
      "1  13    27          NaN  \n",
      "2  10     0          NaN  \n",
      "3   7     0          NaN  \n",
      "4  14    21          NaN  \n",
      "\n",
      "\n",
      "      0000  29-08-03  12:34:21  +20C  Unnamed: 4  Unnamed: 5  257  Unnamed: 7  \\\n",
      "1037  1038         0         0   159          36           0    0           0   \n",
      "1038  1039         0         0   189          56           0    0           0   \n",
      "1039  1040         0         0   188          64          16    0           0   \n",
      "1040  1041         0         0   177          43          25    0           0   \n",
      "1041  1042         0         0   177          22          21    0           0   \n",
      "\n",
      "      Unnamed: 8  325  Unnamed: 10  Unnamed: 11  16  Unnamed: 13  Unnamed: 14  \\\n",
      "1037           0  255          175            0   0          127           11   \n",
      "1038           0  255          221            0   0          129            6   \n",
      "1039           0  255          232            0   0          163            0   \n",
      "1040           0  255          181            0   0          198            1   \n",
      "1041           0  255          133            0   0          217            0   \n",
      "\n",
      "       5  ���1  Unnamed: 17  \n",
      "1037   0     1          NaN  \n",
      "1038   0     9          NaN  \n",
      "1039   0    15          NaN  \n",
      "1040  11    13          NaN  \n",
      "1041   0     9          NaN  \n",
      "\n",
      "\n",
      "\n",
      "\n"
     ]
    }
   ],
   "source": [
    "printer(sop1)"
   ],
   "metadata": {
    "collapsed": false,
    "pycharm": {
     "name": "#%%\n"
    }
   }
  },
  {
   "cell_type": "code",
   "execution_count": 73,
   "outputs": [
    {
     "name": "stdout",
     "output_type": "stream",
     "text": [
      "'SOP2'\n",
      "\n",
      "   0000  29-08-03  13:00:27  +23C  Unnamed: 4  Unnamed: 5  257  Unnamed: 7  \\\n",
      "0     1         0         0   175          12           0    0           0   \n",
      "1     2         0         0   159          10          10    0           0   \n",
      "2     3         0         0   139          25          48    0           0   \n",
      "3     4         0         0   130          54          61    0           0   \n",
      "4     5         0         0   110          54          57    0           0   \n",
      "\n",
      "   Unnamed: 8  325  Unnamed: 10  Unnamed: 11  16  Unnamed: 13  Unnamed: 14  \\\n",
      "0           0  255          112            0   0          233          173   \n",
      "1           0  255          108            0   0          222          173   \n",
      "2           0  255          145            0   0          230          175   \n",
      "3           0  255          216            0   1          237          185   \n",
      "4           0  236          207            3   4          239          205   \n",
      "\n",
      "    5  ���2  Unnamed: 17  \n",
      "0   2    23          NaN  \n",
      "1  10    34          NaN  \n",
      "2  18    18          NaN  \n",
      "3  52    22          NaN  \n",
      "4  43    20          NaN  \n",
      "\n",
      "\n",
      "      0000  29-08-03  13:00:27  +23C  Unnamed: 4  Unnamed: 5  257  Unnamed: 7  \\\n",
      "1034  1035         0         0     0           0           0    0           0   \n",
      "1035  1036         0         0     0          17           0    0           0   \n",
      "1036  1037         0         0     0          17           2    0           0   \n",
      "1037  1038         0         0     0          11          26    0          11   \n",
      "1038  1039         0         0     0           9          43    0           0   \n",
      "\n",
      "      Unnamed: 8  325  Unnamed: 10  Unnamed: 11  16  Unnamed: 13  Unnamed: 14  \\\n",
      "1034           0    0           79            0  28          166            4   \n",
      "1035           0    4          123            0  48          163           16   \n",
      "1036           0    9          122            0  34          125           31   \n",
      "1037           0    0          110            0  27          132           42   \n",
      "1038           0    0          104            0  14          147           40   \n",
      "\n",
      "       5  ���2  Unnamed: 17  \n",
      "1034   0    21          NaN  \n",
      "1035  14     2          NaN  \n",
      "1036   0    11          NaN  \n",
      "1037   0     2          NaN  \n",
      "1038   4    11          NaN  \n",
      "\n",
      "\n",
      "\n",
      "\n"
     ]
    }
   ],
   "source": [
    "printer(sop2)"
   ],
   "metadata": {
    "collapsed": false,
    "pycharm": {
     "name": "#%%\n"
    }
   }
  },
  {
   "cell_type": "code",
   "execution_count": 74,
   "outputs": [
    {
     "name": "stdout",
     "output_type": "stream",
     "text": [
      "'SOP3'\n",
      "\n",
      "   0000  29-08-03  13:49:13  +21C  Unnamed: 4  Unnamed: 5  257  Unnamed: 7  \\\n",
      "0     1         0         0     0          10         148   56           0   \n",
      "1     2         0         0     0          28         129   55           0   \n",
      "2     3         0         0     0          48          94   58          13   \n",
      "3     4         0         0     0          54          68   51           0   \n",
      "4     5         0         0     0          81          46   36           0   \n",
      "\n",
      "   Unnamed: 8  325  Unnamed: 10  Unnamed: 11  16  Unnamed: 13  Unnamed: 14  \\\n",
      "0           3   39          118            0   4           88          154   \n",
      "1           0   48          150            0   0           67          140   \n",
      "2           0   16          210            0   0           47           98   \n",
      "3           0   18          244            2   0           37           73   \n",
      "4           0   16          255           11   0           41           58   \n",
      "\n",
      "    5  ���3  Unnamed: 17  \n",
      "0  49    14          NaN  \n",
      "1  54     5          NaN  \n",
      "2  59    62          NaN  \n",
      "3  29    12          NaN  \n",
      "4  15     3          NaN  \n",
      "\n",
      "\n",
      "      0000  29-08-03  13:49:13  +21C  Unnamed: 4  Unnamed: 5  257  Unnamed: 7  \\\n",
      "1033  1034         0         0     0         138          76   30           0   \n",
      "1034  1035         0         0     0         134          71   45           0   \n",
      "1035  1036         0         0     0         133          63   50           0   \n",
      "1036  1037         0         0     0         132          41   47           0   \n",
      "1037  1038         0         0     0         130          28   44           0   \n",
      "\n",
      "      Unnamed: 8  325  Unnamed: 10  Unnamed: 11  16  Unnamed: 13  Unnamed: 14  \\\n",
      "1033           0    1          255            0  15            9            0   \n",
      "1034           0   26          255            0  24            2            0   \n",
      "1035           0   12          255            0  27            0            0   \n",
      "1036           0    5          255            0  27            0            0   \n",
      "1037           0    8          255            0  21            0            0   \n",
      "\n",
      "      5  ���3  Unnamed: 17  \n",
      "1033  0     0          NaN  \n",
      "1034  0     0          NaN  \n",
      "1035  1     0          NaN  \n",
      "1036  0     0          NaN  \n",
      "1037  2     0          NaN  \n",
      "\n",
      "\n",
      "\n",
      "\n"
     ]
    }
   ],
   "source": [
    "printer(sop3)"
   ],
   "metadata": {
    "collapsed": false,
    "pycharm": {
     "name": "#%%\n"
    }
   }
  },
  {
   "cell_type": "code",
   "execution_count": 75,
   "outputs": [
    {
     "name": "stdout",
     "output_type": "stream",
     "text": [
      "'target1'\n",
      "\n",
      "   Начало дефекта  Длина дефекта  Высота дефекта Тип дефекта Сторона\n",
      "0              51           42.0               7           L       A\n",
      "1             200           40.0               6           L       B\n",
      "2             278           39.0               4           L       A\n",
      "3             365           43.0               6           L       B\n",
      "4             460           27.0               5           L       A\n",
      "\n",
      "\n",
      "   Начало дефекта  Длина дефекта  Высота дефекта Тип дефекта Сторона\n",
      "3             365           43.0               6           L       B\n",
      "4             460           27.0               5           L       A\n",
      "5             845           36.0               4           L       B\n",
      "6             959           62.0               6           L       A\n",
      "7             141            NaN               4           T        \n",
      "\n",
      "\n",
      "\n",
      "\n"
     ]
    }
   ],
   "source": [
    "printer(target1)"
   ],
   "metadata": {
    "collapsed": false,
    "pycharm": {
     "name": "#%%\n"
    }
   }
  },
  {
   "cell_type": "code",
   "execution_count": 76,
   "outputs": [
    {
     "name": "stdout",
     "output_type": "stream",
     "text": [
      "'target2'\n",
      "\n",
      "   Начало дефекта  Длина дефекта  Высота дефекта Тип дефекта Сторона\n",
      "0             178           37.0               6           L       B\n",
      "1             258           38.0               4           L       A\n",
      "2             337           53.0               5           L       B\n",
      "3             822           37.0               5           L       B\n",
      "4             957           48.0               5           L       A\n",
      "\n",
      "\n",
      "   Начало дефекта  Длина дефекта  Высота дефекта Тип дефекта Сторона\n",
      "1             258           38.0               4           L       A\n",
      "2             337           53.0               5           L       B\n",
      "3             822           37.0               5           L       B\n",
      "4             957           48.0               5           L       A\n",
      "5             123            NaN               3           T        \n",
      "\n",
      "\n",
      "\n",
      "\n"
     ]
    }
   ],
   "source": [
    "printer(target2)"
   ],
   "metadata": {
    "collapsed": false,
    "pycharm": {
     "name": "#%%\n"
    }
   }
  },
  {
   "cell_type": "code",
   "execution_count": 77,
   "outputs": [
    {
     "name": "stdout",
     "output_type": "stream",
     "text": [
      "'target3'\n",
      "\n",
      "   Начало дефекта  Длина дефекта  Высота дефекта Тип дефекта Сторона\n",
      "0              26           42.0               5           L       A\n",
      "1             172           47.0               6           L       B\n",
      "2             276           55.0               8           L       B\n",
      "3             795           34.0               8           L       B\n",
      "4             877           49.0               4           L       A\n",
      "\n",
      "\n",
      "   Начало дефекта  Длина дефекта  Высота дефекта Тип дефекта Сторона\n",
      "2             276           55.0               8           L       B\n",
      "3             795           34.0               8           L       B\n",
      "4             877           49.0               4           L       A\n",
      "5             971           50.0               5           L       B\n",
      "6             112            NaN               4           T        \n",
      "\n",
      "\n",
      "\n",
      "\n"
     ]
    }
   ],
   "source": [
    "printer(target3)"
   ],
   "metadata": {
    "collapsed": false,
    "pycharm": {
     "name": "#%%\n"
    }
   }
  },
  {
   "cell_type": "markdown",
   "source": [
    "##  Ящик с усами и временные реализации."
   ],
   "metadata": {
    "collapsed": false
   }
  },
  {
   "cell_type": "code",
   "execution_count": 78,
   "outputs": [],
   "source": [
    "def box(variable: DataFrame) -> None:\n",
    "    fig, ax = plt.subplots()\n",
    "    ax.set_title(f\"{variable.name}\")\n",
    "    ax.boxplot(variable)\n",
    "\n",
    "\n",
    "def hist(variable: DataFrame) -> None:\n",
    "    fig, ax = plt.subplots()\n",
    "    ax.set_title(f\"{variable.name}\")\n",
    "    ax.hist(variable)"
   ],
   "metadata": {
    "collapsed": false,
    "pycharm": {
     "name": "#%%\n"
    }
   }
  },
  {
   "cell_type": "code",
   "execution_count": 79,
   "outputs": [
    {
     "data": {
      "text/plain": "<Figure size 432x288 with 1 Axes>",
      "image/png": "[encoded data removed]"
     },
     "metadata": {},
     "output_type": "display_data"
    },
    {
     "data": {
      "text/plain": "<Figure size 432x288 with 1 Axes>",
      "image/png": "[encoded data removed]"
     },
     "metadata": {},
     "output_type": "display_data"
    }
   ],
   "source": [
    "box(sop1)\n",
    "hist(sop1);"
   ],
   "metadata": {
    "collapsed": false,
    "pycharm": {
     "name": "#%%\n"
    }
   }
  },
  {
   "cell_type": "code",
   "execution_count": 80,
   "outputs": [
    {
     "data": {
      "text/plain": "<Figure size 432x288 with 1 Axes>",
      "image/png": "[encoded data removed]"
     },
     "metadata": {},
     "output_type": "display_data"
    },
    {
     "data": {
      "text/plain": "<Figure size 432x288 with 1 Axes>",
      "image/png": "[encoded data removed]"
     },
     "metadata": {},
     "output_type": "display_data"
    }
   ],
   "source": [
    "box(sop2)\n",
    "hist(sop2);"
   ],
   "metadata": {
    "collapsed": false,
    "pycharm": {
     "name": "#%%\n"
    }
   }
  },
  {
   "cell_type": "code",
   "execution_count": 81,
   "outputs": [
    {
     "data": {
      "text/plain": "<Figure size 432x288 with 1 Axes>",
      "image/png": "[encoded data removed]"
     },
     "metadata": {},
     "output_type": "display_data"
    },
    {
     "data": {
      "text/plain": "<Figure size 432x288 with 1 Axes>",
      "image/png": "[encoded data removed]"
     },
     "metadata": {},
     "output_type": "display_data"
    }
   ],
   "source": [
    "box(sop3)\n",
    "hist(sop3);\n"
   ],
   "metadata": {
    "collapsed": false,
    "pycharm": {
     "name": "#%%\n"
    }
   }
  },
  {
   "cell_type": "markdown",
   "source": [
    "## Вектор с результатами наличия дефектов"
   ],
   "metadata": {
    "collapsed": false
   }
  },
  {
   "cell_type": "code",
   "execution_count": 82,
   "outputs": [],
   "source": [
    "array = [0] * sop1.count()[0]\n",
    "ser1: Series = Series(data=array)\n",
    "ser2: Series = Series(data=array)\n",
    "ser3: Series = Series(data=array)"
   ],
   "metadata": {
    "collapsed": false,
    "pycharm": {
     "name": "#%%\n"
    }
   }
  },
  {
   "cell_type": "code",
   "execution_count": 83,
   "outputs": [],
   "source": [
    "def defects(target, series):\n",
    "    for index, row in target.iterrows():\n",
    "        begin = row['Начало дефекта']\n",
    "        end = row['Начало дефекта'] + row['Длина дефекта']\n",
    "        if not isnan(end):\n",
    "            series.loc[begin:int(end)] = 1\n",
    "    return series"
   ],
   "metadata": {
    "collapsed": false,
    "pycharm": {
     "name": "#%%\n"
    }
   }
  },
  {
   "cell_type": "code",
   "execution_count": 84,
   "outputs": [],
   "source": [
    "ser1 = defects(target1, ser1)\n",
    "ser2 = defects(target2, ser2)\n",
    "ser3 = defects(target2, ser3)"
   ],
   "metadata": {
    "collapsed": false,
    "pycharm": {
     "name": "#%%\n"
    }
   }
  },
  {
   "cell_type": "markdown",
   "source": [
    "## Вектор, содержащий значения высоты дефектов в местах их наличия"
   ],
   "metadata": {
    "collapsed": false
   }
  },
  {
   "cell_type": "code",
   "execution_count": 85,
   "outputs": [],
   "source": [
    "def defects_height(target, series):\n",
    "    for index, row in target.iterrows():\n",
    "        begin = row['Начало дефекта']\n",
    "        end = row['Начало дефекта'] + row['Длина дефекта']\n",
    "        if not isnan(end):\n",
    "            series.loc[begin:int(end)] = row['Высота дефекта']\n",
    "    return series"
   ],
   "metadata": {
    "collapsed": false,
    "pycharm": {
     "name": "#%%\n"
    }
   }
  },
  {
   "cell_type": "code",
   "execution_count": 86,
   "outputs": [],
   "source": [
    "ser1 = defects_height(target1, ser1)\n",
    "ser2 = defects_height(target2, ser2)\n",
    "ser3 = defects_height(target3, ser3)"
   ],
   "metadata": {
    "collapsed": false,
    "pycharm": {
     "name": "#%%\n"
    }
   }
  },
  {
   "cell_type": "markdown",
   "source": [
    "## Разбиение данных на обучающую и проверочную выборки"
   ],
   "metadata": {
    "collapsed": false,
    "pycharm": {
     "name": "#%% md\n"
    }
   }
  },
  {
   "cell_type": "code",
   "source": [
    "var_train, var_test, target_train, target_test = train_test_split(var, target['data'], test_size=0.3, train_size=0.7)"
   ],
   "metadata": {
    "collapsed": false,
    "pycharm": {
     "name": "#%%\n"
    }
   },
   "execution_count": 87,
   "outputs": [
    {
     "ename": "NameError",
     "evalue": "name 'var' is not defined",
     "output_type": "error",
     "traceback": [
      "\u001B[0;31m---------------------------------------------------------------------------\u001B[0m",
      "\u001B[0;31mNameError\u001B[0m                                 Traceback (most recent call last)",
      "\u001B[0;32m<ipython-input-87-e11106ab7e95>\u001B[0m in \u001B[0;36m<module>\u001B[0;34m\u001B[0m\n\u001B[0;32m----> 1\u001B[0;31m \u001B[0mvar_train\u001B[0m\u001B[0;34m,\u001B[0m \u001B[0mvar_test\u001B[0m\u001B[0;34m,\u001B[0m \u001B[0mtarget_train\u001B[0m\u001B[0;34m,\u001B[0m \u001B[0mtarget_test\u001B[0m \u001B[0;34m=\u001B[0m \u001B[0mtrain_test_split\u001B[0m\u001B[0;34m(\u001B[0m\u001B[0mvar\u001B[0m\u001B[0;34m,\u001B[0m \u001B[0mtarget\u001B[0m\u001B[0;34m[\u001B[0m\u001B[0;34m'data'\u001B[0m\u001B[0;34m]\u001B[0m\u001B[0;34m,\u001B[0m \u001B[0mtest_size\u001B[0m\u001B[0;34m=\u001B[0m\u001B[0;36m0.3\u001B[0m\u001B[0;34m,\u001B[0m \u001B[0mtrain_size\u001B[0m\u001B[0;34m=\u001B[0m\u001B[0;36m0.7\u001B[0m\u001B[0;34m)\u001B[0m\u001B[0;34m\u001B[0m\u001B[0;34m\u001B[0m\u001B[0m\n\u001B[0m\u001B[1;32m      2\u001B[0m \u001B[0;34m\u001B[0m\u001B[0m\n",
      "\u001B[0;31mNameError\u001B[0m: name 'var' is not defined"
     ]
    }
   ]
  },
  {
   "cell_type": "markdown",
   "source": [
    "## Последовательное применение алгоритмов"
   ],
   "metadata": {
    "collapsed": false
   }
  },
  {
   "cell_type": "code",
   "source": [
    "print(\"LogisticRegression\")\n",
    "lr: LogisticRegression = LogisticRegression()\n",
    "lr.fit(var_train, target_train)"
   ],
   "metadata": {
    "collapsed": false,
    "pycharm": {
     "name": "#%%\n"
    }
   },
   "execution_count": null,
   "outputs": []
  },
  {
   "cell_type": "code",
   "source": [
    "print(\"SGDClassifier\")\n",
    "sgdc: SGDClassifier = SGDClassifier()\n",
    "sgdc.fit(var_train, target_train)"
   ],
   "metadata": {
    "collapsed": false,
    "pycharm": {
     "name": "#%%\n"
    }
   },
   "execution_count": null,
   "outputs": []
  },
  {
   "cell_type": "code",
   "execution_count": null,
   "outputs": [],
   "source": [
    "print(\"RidgeClassifier\")\n",
    "rc: RidgeClassifier = RidgeClassifier()\n",
    "rc.fit(var_train, target_train)"
   ],
   "metadata": {
    "collapsed": false,
    "pycharm": {
     "name": "#%%\n"
    }
   }
  },
  {
   "cell_type": "markdown",
   "source": [
    "## Оценка качества модели"
   ],
   "metadata": {
    "collapsed": false
   }
  },
  {
   "cell_type": "code",
   "execution_count": null,
   "outputs": [],
   "source": [
    "def estimate(classifier, ttest, vtest):\n",
    "    pred: object = classifier.predict(vtest)\n",
    "    print(f\"r2_score: {round(r2_score(ttest, pred), 3)}\")\n",
    "    print(f\"mean_absolute_error: {round(mean_absolute_error(ttest, pred), 3)}\")"
   ],
   "metadata": {
    "collapsed": false,
    "pycharm": {
     "name": "#%%\n"
    }
   }
  },
  {
   "cell_type": "code",
   "execution_count": null,
   "outputs": [],
   "source": [
    "print(\"LogisticRegression\")\n",
    "estimate(lr, target_test, var_test)"
   ],
   "metadata": {
    "collapsed": false,
    "pycharm": {
     "name": "#%%\n"
    }
   }
  },
  {
   "cell_type": "code",
   "execution_count": null,
   "outputs": [],
   "source": [
    "print(\"SGDClassifier\")\n",
    "estimate(sgdc, target_test, var_test)"
   ],
   "metadata": {
    "collapsed": false,
    "pycharm": {
     "name": "#%%\n"
    }
   }
  },
  {
   "cell_type": "code",
   "execution_count": null,
   "outputs": [],
   "source": [
    "print(\"RidgeClassifier\")\n",
    "estimate(rc, target_test, var_test)"
   ],
   "metadata": {
    "collapsed": false,
    "pycharm": {
     "name": "#%%\n"
    }
   }
  },
  {
   "cell_type": "markdown",
   "source": [
    "## Подбор гиперпараметров"
   ],
   "metadata": {
    "collapsed": false
   }
  },
  {
   "cell_type": "code",
   "execution_count": null,
   "outputs": [],
   "source": [
    "print(\"LogisticRegression\")\n",
    "parameters: dict[str, Union[list[str], list[Union[float, int]]]] = {\n",
    "    'penalty': ['l1', 'l2'],\n",
    "    'C': [0.001, 0.01, 0.1, 1, 10, 100, 1000]\n",
    "}\n",
    "grid: GridSearchCV = GridSearchCV(\n",
    "    LogisticRegression(),\n",
    "    parameters,\n",
    "    cv=5\n",
    ")\n",
    "lr_grid: Union[GridSearchCV, Any] = grid.fit(var_train, target_train)\n",
    "print(lr_grid)"
   ],
   "metadata": {
    "collapsed": false,
    "pycharm": {
     "name": "#%%\n"
    }
   }
  },
  {
   "cell_type": "code",
   "execution_count": null,
   "outputs": [],
   "source": [
    "print(\"SGDClassifier\")\n",
    "parameters: dict[str, Union[list[str], list[Union[float, int]]]] = {\n",
    "    'alpha': [10 ** x for x in range(-6, 1)],\n",
    "    'l1_ratio': [0, 0.05, 0.1, 0.2, 0.5, 0.8, 0.9, 0.95, 1],\n",
    "}\n",
    "grid: GridSearchCV = GridSearchCV(\n",
    "    SGDClassifier(),\n",
    "    parameters,\n",
    "    cv=5\n",
    ")\n",
    "sgdc_grid: Union[GridSearchCV, Any] = grid.fit(var_train, target_train)\n",
    "print(sgdc_grid)"
   ],
   "metadata": {
    "collapsed": false,
    "pycharm": {
     "name": "#%%\n"
    }
   }
  },
  {
   "cell_type": "code",
   "execution_count": null,
   "outputs": [],
   "source": [
    "print(\"RidgeClassifier\")\n",
    "parameters: dict[str, Union[list[str], list[Union[float, int]]]] = {\n",
    "    'alpha': [0.1, 0.2, 0.3, 0.4, 0.5, 0.6, 0.7, 0.8, 0.9, 1.0]\n",
    "}\n",
    "grid: GridSearchCV = GridSearchCV(\n",
    "    RidgeClassifier(),\n",
    "    parameters,\n",
    "    cv=5\n",
    ")\n",
    "rc_grid: Union[GridSearchCV, Any] = grid.fit(var_train, target_train)\n",
    "print(rc_grid)"
   ],
   "metadata": {
    "collapsed": false,
    "pycharm": {
     "name": "#%%\n"
    }
   }
  },
  {
   "cell_type": "markdown",
   "source": [
    "## Заново обучите модель с подобранными гиперпараметрам"
   ],
   "metadata": {
    "collapsed": false
   }
  },
  {
   "cell_type": "code",
   "execution_count": null,
   "outputs": [],
   "source": [
    "def relearn(classifier, ttest, vtest) -> None:\n",
    "    print(classifier.best_params_)\n",
    "    print(classifier.best_score_)\n",
    "    pred: object = classifier.predict(vtest)\n",
    "    print(f\"r2_score: {round(r2_score(ttest, pred), 3)}\")\n",
    "    print(f\"mean_absolute_error: {round(mean_absolute_error(ttest, pred), 3)}\")"
   ],
   "metadata": {
    "collapsed": false,
    "pycharm": {
     "name": "#%%\n"
    }
   }
  },
  {
   "cell_type": "code",
   "execution_count": null,
   "outputs": [],
   "source": [
    "print(\"LogisticRegression\")\n",
    "relearn(lr_grid, target_test, var_test)"
   ],
   "metadata": {
    "collapsed": false,
    "pycharm": {
     "name": "#%%\n"
    }
   }
  },
  {
   "cell_type": "code",
   "execution_count": null,
   "outputs": [],
   "source": [
    "print(\"SGDClassifier\")\n",
    "relearn(sgdc_grid, target_test, var_test)"
   ],
   "metadata": {
    "collapsed": false,
    "pycharm": {
     "name": "#%%\n"
    }
   }
  },
  {
   "cell_type": "code",
   "execution_count": null,
   "outputs": [],
   "source": [
    "print(\"RidgeClassifier\")\n",
    "relearn(rc_grid, target_test, var_test)"
   ],
   "metadata": {
    "collapsed": false,
    "pycharm": {
     "name": "#%%\n"
    }
   }
  },
  {
   "cell_type": "markdown",
   "source": [
    "# Ответы на контрольные вопросы"
   ],
   "metadata": {
    "collapsed": false
   }
  },
  {
   "cell_type": "markdown",
   "source": [
    "### 1. Что такое система ПУЗК? Какие основные методы УЗК реализуются в данной системе?"
   ],
   "metadata": {
    "collapsed": false
   }
  },
  {
   "cell_type": "markdown",
   "source": [],
   "metadata": {
    "collapsed": false
   }
  },
  {
   "cell_type": "markdown",
   "source": [
    "### 2. Чем отличается эхо-метод от теневого и эхо-контактного метода УЗК?"
   ],
   "metadata": {
    "collapsed": false
   }
  },
  {
   "cell_type": "markdown",
   "source": [],
   "metadata": {
    "collapsed": false
   }
  },
  {
   "cell_type": "markdown",
   "source": [
    "### 3. Какие типы дефектов можно найти с помощью системы ПУЗК?"
   ],
   "metadata": {
    "collapsed": false
   }
  },
  {
   "cell_type": "markdown",
   "source": [],
   "metadata": {
    "collapsed": false
   }
  }
 ],
 "metadata": {
  "kernelspec": {
   "display_name": "Python 3",
   "language": "python",
   "name": "python3"
  },
  "language_info": {
   "codemirror_mode": {
    "name": "ipython",
    "version": 2
   },
   "file_extension": ".py",
   "mimetype": "text/x-python",
   "name": "python",
   "nbconvert_exporter": "python",
   "pygments_lexer": "ipython2",
   "version": "2.7.6"
  }
 },
 "nbformat": 4,
 "nbformat_minor": 0
}