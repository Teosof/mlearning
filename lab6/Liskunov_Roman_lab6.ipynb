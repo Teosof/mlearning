{
 "cells": [
  {
   "cell_type": "markdown",
   "metadata": {
    "collapsed": true,
    "pycharm": {
     "name": "#%% md\n"
    }
   },
   "source": [
    "# Понижение размерности данных с помощью метода главных компонент и сингулярного разложения\n",
    "Группа: ИВТ-М20.<br/>\n",
    "Студент: Лискунов Роман Геннадьвич"
   ]
  },
  {
   "cell_type": "code",
   "execution_count": 171,
   "outputs": [],
   "source": [
    "from math import isnan\n",
    "import matplotlib as mpl\n",
    "from pprint import pprint\n",
    "import matplotlib.pyplot as plt\n",
    "from warnings import filterwarnings\n",
    "from typing import (\n",
    "    Any,\n",
    "    Union, List\n",
    ")\n",
    "from pandas import (\n",
    "    DataFrame,\n",
    "    read_csv,\n",
    "    Series,\n",
    "    read_table\n",
    ")\n",
    "from sklearn.linear_model import (\n",
    "    LogisticRegression,\n",
    "    SGDClassifier,\n",
    "    RidgeClassifier\n",
    ")\n",
    "from sklearn.metrics import (\n",
    "    r2_score,\n",
    "    mean_absolute_error,\n",
    "    classification_report\n",
    ")\n",
    "from sklearn.model_selection import (\n",
    "    train_test_split,\n",
    "    GridSearchCV\n",
    ")"
   ],
   "metadata": {
    "collapsed": false,
    "pycharm": {
     "name": "#%%\n"
    }
   }
  },
  {
   "cell_type": "code",
   "execution_count": 172,
   "outputs": [],
   "source": [
    "filterwarnings('ignore')\n",
    "mpl.style.use(['ggplot'])"
   ],
   "metadata": {
    "collapsed": false,
    "pycharm": {
     "name": "#%%\n"
    }
   }
  },
  {
   "cell_type": "markdown",
   "source": [
    "## Прочтите данные из файлов"
   ],
   "metadata": {
    "collapsed": false
   }
  },
  {
   "cell_type": "code",
   "execution_count": 173,
   "outputs": [],
   "source": [
    "sop1: DataFrame = DataFrame(\n",
    "    read_table(\n",
    "        \"data/train/SOP1.dat\",\n",
    "        sep=\"\\s\",\n",
    "        header=0\n",
    "    )\n",
    ")\n",
    "sop1.name = \"SOP1\""
   ],
   "metadata": {
    "collapsed": false,
    "pycharm": {
     "name": "#%%\n"
    }
   }
  },
  {
   "cell_type": "code",
   "execution_count": 174,
   "outputs": [],
   "source": [
    "sop2: DataFrame = DataFrame(\n",
    "    read_table(\n",
    "        \"data/train/SOP2.dat\",\n",
    "        sep=\"\\s\",\n",
    "        header=0\n",
    "    )\n",
    ")\n",
    "sop2.name = \"SOP2\""
   ],
   "metadata": {
    "collapsed": false,
    "pycharm": {
     "name": "#%%\n"
    }
   }
  },
  {
   "cell_type": "code",
   "execution_count": 175,
   "outputs": [],
   "source": [
    "sop3: DataFrame = DataFrame(\n",
    "    read_table(\n",
    "        \"data/train/SOP3.dat\",\n",
    "        sep=\"\\s\",\n",
    "        header=0\n",
    "    )\n",
    ")\n",
    "sop3.name = \"SOP3\""
   ],
   "metadata": {
    "collapsed": false,
    "pycharm": {
     "name": "#%%\n"
    }
   }
  },
  {
   "cell_type": "code",
   "execution_count": 176,
   "outputs": [],
   "source": [
    "target1: DataFrame = DataFrame(\n",
    "    read_csv(\n",
    "        \"data/train/target1.csv\",\n",
    "        sep=\",\",\n",
    "        header=0\n",
    "    )\n",
    ")\n",
    "target1.name = \"target1\""
   ],
   "metadata": {
    "collapsed": false,
    "pycharm": {
     "name": "#%%\n"
    }
   }
  },
  {
   "cell_type": "code",
   "execution_count": 177,
   "outputs": [],
   "source": [
    "target2: DataFrame = DataFrame(\n",
    "    read_csv(\n",
    "        \"data/train/target2.csv\",\n",
    "        sep=\",\",\n",
    "        header=0\n",
    "    )\n",
    ")\n",
    "target2.name = \"target2\""
   ],
   "metadata": {
    "collapsed": false,
    "pycharm": {
     "name": "#%%\n"
    }
   }
  },
  {
   "cell_type": "code",
   "execution_count": 178,
   "outputs": [],
   "source": [
    "target3: DataFrame = DataFrame(\n",
    "    read_csv(\n",
    "        \"data/train/target3.csv\",\n",
    "        sep=\",\",\n",
    "        header=0\n",
    "    )\n",
    ")\n",
    "target3.name = \"target3\""
   ],
   "metadata": {
    "collapsed": false,
    "pycharm": {
     "name": "#%%\n"
    }
   }
  },
  {
   "cell_type": "markdown",
   "source": [
    "##  Отобразите несколько первых и несколько последних записей."
   ],
   "metadata": {
    "collapsed": false
   }
  },
  {
   "cell_type": "code",
   "execution_count": 179,
   "outputs": [],
   "source": [
    "def printer(variable: DataFrame) -> None:\n",
    "    pprint(variable.name)\n",
    "    print(end=\"\\n\")\n",
    "    pprint(variable.head())\n",
    "    print(end=\"\\n\\n\")\n",
    "    pprint(variable.tail())\n",
    "    print(end=\"\\n\\n\\n\\n\")"
   ],
   "metadata": {
    "collapsed": false,
    "pycharm": {
     "name": "#%%\n"
    }
   }
  },
  {
   "cell_type": "code",
   "execution_count": 180,
   "outputs": [
    {
     "name": "stdout",
     "output_type": "stream",
     "text": [
      "'SOP1'\n",
      "\n",
      "   0000  29-08-03  12:34:21  +20C  Unnamed: 4  Unnamed: 5  257  Unnamed: 7  \\\n",
      "0     1         0        35   202          27          29   35           0   \n",
      "1     2         0        23   190          27          22   29           0   \n",
      "2     3         1         0   188          24          10   13           0   \n",
      "3     4         5         0   183          26           6    1           0   \n",
      "4     5         4         0   188          32           4    0           0   \n",
      "\n",
      "   Unnamed: 8  325  Unnamed: 10  Unnamed: 11   16  Unnamed: 13  Unnamed: 14  \\\n",
      "0           0  255          147           54  119          125          212   \n",
      "1           0  255          147           56   95          156          223   \n",
      "2           0  255          145           59   40          172          254   \n",
      "3           0  255          153           66   22          172          255   \n",
      "4           0  255          157           62   18          170          255   \n",
      "\n",
      "    5  СОП1  \n",
      "0  17    39  \n",
      "1  13    27  \n",
      "2  10     0  \n",
      "3   7     0  \n",
      "4  14    21  \n",
      "\n",
      "\n",
      "      0000  29-08-03  12:34:21  +20C  Unnamed: 4  Unnamed: 5  257  Unnamed: 7  \\\n",
      "1037  1038         0         0   159          36           0    0           0   \n",
      "1038  1039         0         0   189          56           0    0           0   \n",
      "1039  1040         0         0   188          64          16    0           0   \n",
      "1040  1041         0         0   177          43          25    0           0   \n",
      "1041  1042         0         0   177          22          21    0           0   \n",
      "\n",
      "      Unnamed: 8  325  Unnamed: 10  Unnamed: 11  16  Unnamed: 13  Unnamed: 14  \\\n",
      "1037           0  255          175            0   0          127           11   \n",
      "1038           0  255          221            0   0          129            6   \n",
      "1039           0  255          232            0   0          163            0   \n",
      "1040           0  255          181            0   0          198            1   \n",
      "1041           0  255          133            0   0          217            0   \n",
      "\n",
      "       5  СОП1  \n",
      "1037   0     1  \n",
      "1038   0     9  \n",
      "1039   0    15  \n",
      "1040  11    13  \n",
      "1041   0     9  \n",
      "\n",
      "\n",
      "\n",
      "\n"
     ]
    }
   ],
   "source": [
    "printer(sop1)"
   ],
   "metadata": {
    "collapsed": false,
    "pycharm": {
     "name": "#%%\n"
    }
   }
  },
  {
   "cell_type": "code",
   "execution_count": 181,
   "outputs": [
    {
     "name": "stdout",
     "output_type": "stream",
     "text": [
      "'SOP2'\n",
      "\n",
      "   0000  29-08-03  13:00:27  +23C  Unnamed: 4  Unnamed: 5  257  Unnamed: 7  \\\n",
      "0     1         0         0   175          12           0    0           0   \n",
      "1     2         0         0   159          10          10    0           0   \n",
      "2     3         0         0   139          25          48    0           0   \n",
      "3     4         0         0   130          54          61    0           0   \n",
      "4     5         0         0   110          54          57    0           0   \n",
      "\n",
      "   Unnamed: 8  325  Unnamed: 10  Unnamed: 11  16  Unnamed: 13  Unnamed: 14  \\\n",
      "0           0  255          112            0   0          233          173   \n",
      "1           0  255          108            0   0          222          173   \n",
      "2           0  255          145            0   0          230          175   \n",
      "3           0  255          216            0   1          237          185   \n",
      "4           0  236          207            3   4          239          205   \n",
      "\n",
      "    5  СОП2  \n",
      "0   2    23  \n",
      "1  10    34  \n",
      "2  18    18  \n",
      "3  52    22  \n",
      "4  43    20  \n",
      "\n",
      "\n",
      "      0000  29-08-03  13:00:27  +23C  Unnamed: 4  Unnamed: 5  257  Unnamed: 7  \\\n",
      "1034  1035         0         0     0           0           0    0           0   \n",
      "1035  1036         0         0     0          17           0    0           0   \n",
      "1036  1037         0         0     0          17           2    0           0   \n",
      "1037  1038         0         0     0          11          26    0          11   \n",
      "1038  1039         0         0     0           9          43    0           0   \n",
      "\n",
      "      Unnamed: 8  325  Unnamed: 10  Unnamed: 11  16  Unnamed: 13  Unnamed: 14  \\\n",
      "1034           0    0           79            0  28          166            4   \n",
      "1035           0    4          123            0  48          163           16   \n",
      "1036           0    9          122            0  34          125           31   \n",
      "1037           0    0          110            0  27          132           42   \n",
      "1038           0    0          104            0  14          147           40   \n",
      "\n",
      "       5  СОП2  \n",
      "1034   0    21  \n",
      "1035  14     2  \n",
      "1036   0    11  \n",
      "1037   0     2  \n",
      "1038   4    11  \n",
      "\n",
      "\n",
      "\n",
      "\n"
     ]
    }
   ],
   "source": [
    "printer(sop2)"
   ],
   "metadata": {
    "collapsed": false,
    "pycharm": {
     "name": "#%%\n"
    }
   }
  },
  {
   "cell_type": "code",
   "execution_count": 182,
   "outputs": [
    {
     "name": "stdout",
     "output_type": "stream",
     "text": [
      "'SOP3'\n",
      "\n",
      "   0000  29-08-03  13:49:13  +21C  Unnamed: 4  Unnamed: 5  257  Unnamed: 7  \\\n",
      "0     1         0         0     0          10         148   56           0   \n",
      "1     2         0         0     0          28         129   55           0   \n",
      "2     3         0         0     0          48          94   58          13   \n",
      "3     4         0         0     0          54          68   51           0   \n",
      "4     5         0         0     0          81          46   36           0   \n",
      "\n",
      "   Unnamed: 8  325  Unnamed: 10  Unnamed: 11  16  Unnamed: 13  Unnamed: 14  \\\n",
      "0           3   39          118            0   4           88          154   \n",
      "1           0   48          150            0   0           67          140   \n",
      "2           0   16          210            0   0           47           98   \n",
      "3           0   18          244            2   0           37           73   \n",
      "4           0   16          255           11   0           41           58   \n",
      "\n",
      "    5  СОП3  \n",
      "0  49    14  \n",
      "1  54     5  \n",
      "2  59    62  \n",
      "3  29    12  \n",
      "4  15     3  \n",
      "\n",
      "\n",
      "      0000  29-08-03  13:49:13  +21C  Unnamed: 4  Unnamed: 5  257  Unnamed: 7  \\\n",
      "1033  1034         0         0     0         138          76   30           0   \n",
      "1034  1035         0         0     0         134          71   45           0   \n",
      "1035  1036         0         0     0         133          63   50           0   \n",
      "1036  1037         0         0     0         132          41   47           0   \n",
      "1037  1038         0         0     0         130          28   44           0   \n",
      "\n",
      "      Unnamed: 8  325  Unnamed: 10  Unnamed: 11  16  Unnamed: 13  Unnamed: 14  \\\n",
      "1033           0    1          255            0  15            9            0   \n",
      "1034           0   26          255            0  24            2            0   \n",
      "1035           0   12          255            0  27            0            0   \n",
      "1036           0    5          255            0  27            0            0   \n",
      "1037           0    8          255            0  21            0            0   \n",
      "\n",
      "      5  СОП3  \n",
      "1033  0     0  \n",
      "1034  0     0  \n",
      "1035  1     0  \n",
      "1036  0     0  \n",
      "1037  2     0  \n",
      "\n",
      "\n",
      "\n",
      "\n"
     ]
    }
   ],
   "source": [
    "printer(sop3)"
   ],
   "metadata": {
    "collapsed": false,
    "pycharm": {
     "name": "#%%\n"
    }
   }
  },
  {
   "cell_type": "code",
   "execution_count": 183,
   "outputs": [
    {
     "name": "stdout",
     "output_type": "stream",
     "text": [
      "'target1'\n",
      "\n",
      "   Начало дефекта  Длина дефекта  Высота дефекта Тип дефекта Сторона\n",
      "0              51           42.0               7           L       A\n",
      "1             200           40.0               6           L       B\n",
      "2             278           39.0               4           L       A\n",
      "3             365           43.0               6           L       B\n",
      "4             460           27.0               5           L       A\n",
      "\n",
      "\n",
      "   Начало дефекта  Длина дефекта  Высота дефекта Тип дефекта Сторона\n",
      "3             365           43.0               6           L       B\n",
      "4             460           27.0               5           L       A\n",
      "5             845           36.0               4           L       B\n",
      "6             959           62.0               6           L       A\n",
      "7             141            NaN               4           T        \n",
      "\n",
      "\n",
      "\n",
      "\n"
     ]
    }
   ],
   "source": [
    "printer(target1)"
   ],
   "metadata": {
    "collapsed": false,
    "pycharm": {
     "name": "#%%\n"
    }
   }
  },
  {
   "cell_type": "code",
   "execution_count": 184,
   "outputs": [
    {
     "name": "stdout",
     "output_type": "stream",
     "text": [
      "'target2'\n",
      "\n",
      "   Начало дефекта  Длина дефекта  Высота дефекта Тип дефекта Сторона\n",
      "0             178           37.0               6           L       B\n",
      "1             258           38.0               4           L       A\n",
      "2             337           53.0               5           L       B\n",
      "3             822           37.0               5           L       B\n",
      "4             957           48.0               5           L       A\n",
      "\n",
      "\n",
      "   Начало дефекта  Длина дефекта  Высота дефекта Тип дефекта Сторона\n",
      "1             258           38.0               4           L       A\n",
      "2             337           53.0               5           L       B\n",
      "3             822           37.0               5           L       B\n",
      "4             957           48.0               5           L       A\n",
      "5             123            NaN               3           T        \n",
      "\n",
      "\n",
      "\n",
      "\n"
     ]
    }
   ],
   "source": [
    "printer(target2)"
   ],
   "metadata": {
    "collapsed": false,
    "pycharm": {
     "name": "#%%\n"
    }
   }
  },
  {
   "cell_type": "code",
   "execution_count": 185,
   "outputs": [
    {
     "name": "stdout",
     "output_type": "stream",
     "text": [
      "'target3'\n",
      "\n",
      "   Начало дефекта  Длина дефекта  Высота дефекта Тип дефекта Сторона\n",
      "0              26           42.0               5           L       A\n",
      "1             172           47.0               6           L       B\n",
      "2             276           55.0               8           L       B\n",
      "3             795           34.0               8           L       B\n",
      "4             877           49.0               4           L       A\n",
      "\n",
      "\n",
      "   Начало дефекта  Длина дефекта  Высота дефекта Тип дефекта Сторона\n",
      "2             276           55.0               8           L       B\n",
      "3             795           34.0               8           L       B\n",
      "4             877           49.0               4           L       A\n",
      "5             971           50.0               5           L       B\n",
      "6             112            NaN               4           T        \n",
      "\n",
      "\n",
      "\n",
      "\n"
     ]
    }
   ],
   "source": [
    "printer(target3)"
   ],
   "metadata": {
    "collapsed": false,
    "pycharm": {
     "name": "#%%\n"
    }
   }
  },
  {
   "cell_type": "markdown",
   "source": [
    "##  Ящик с усами и временные реализации."
   ],
   "metadata": {
    "collapsed": false
   }
  },
  {
   "cell_type": "code",
   "execution_count": 186,
   "outputs": [],
   "source": [
    "def box(variable: DataFrame) -> None:\n",
    "    fig, ax = plt.subplots()\n",
    "    ax.set_title(variable.name)\n",
    "    ax.boxplot(variable)\n",
    "\n",
    "\n",
    "def hist(variable: DataFrame) -> None:\n",
    "    fig, ax = plt.subplots()\n",
    "    ax.set_title(variable.name)\n",
    "    ax.hist(variable)"
   ],
   "metadata": {
    "collapsed": false,
    "pycharm": {
     "name": "#%%\n"
    }
   }
  },
  {
   "cell_type": "code",
   "execution_count": 187,
   "outputs": [
    {
     "data": {
      "text/plain": "<Figure size 432x288 with 1 Axes>",
      "image/png": "[encoded data removed]"
     },
     "metadata": {},
     "output_type": "display_data"
    },
    {
     "data": {
      "text/plain": "<Figure size 432x288 with 1 Axes>",
      "image/png": "[encoded data removed]"
     },
     "metadata": {},
     "output_type": "display_data"
    }
   ],
   "source": [
    "box(sop1)\n",
    "hist(sop1);"
   ],
   "metadata": {
    "collapsed": false,
    "pycharm": {
     "name": "#%%\n"
    }
   }
  },
  {
   "cell_type": "code",
   "execution_count": 188,
   "outputs": [
    {
     "data": {
      "text/plain": "<Figure size 432x288 with 1 Axes>",
      "image/png": "[encoded data removed]"
     },
     "metadata": {},
     "output_type": "display_data"
    },
    {
     "data": {
      "text/plain": "<Figure size 432x288 with 1 Axes>",
      "image/png": "[encoded data removed]"
     },
     "metadata": {},
     "output_type": "display_data"
    }
   ],
   "source": [
    "box(sop2)\n",
    "hist(sop2);"
   ],
   "metadata": {
    "collapsed": false,
    "pycharm": {
     "name": "#%%\n"
    }
   }
  },
  {
   "cell_type": "code",
   "execution_count": 189,
   "outputs": [
    {
     "data": {
      "text/plain": "<Figure size 432x288 with 1 Axes>",
      "image/png": "[encoded data removed]"
     },
     "metadata": {},
     "output_type": "display_data"
    },
    {
     "data": {
      "text/plain": "<Figure size 432x288 with 1 Axes>",
      "image/png": "[encoded data removed]"
     },
     "metadata": {},
     "output_type": "display_data"
    }
   ],
   "source": [
    "box(sop3)\n",
    "hist(sop3);"
   ],
   "metadata": {
    "collapsed": false,
    "pycharm": {
     "name": "#%%\n"
    }
   }
  },
  {
   "cell_type": "markdown",
   "source": [
    "## Вектор с результатами наличия дефектов"
   ],
   "metadata": {
    "collapsed": false
   }
  },
  {
   "cell_type": "code",
   "execution_count": 190,
   "outputs": [],
   "source": [
    "array1: Union[Union[list[int], None], Any] = [0] * sop1.count()[0]\n",
    "array2: Union[Union[list[int], None], Any] = [0] * sop2.count()[0]\n",
    "array3: Union[Union[list[int], None], Any] = [0] * sop3.count()[0]"
   ],
   "metadata": {
    "collapsed": false,
    "pycharm": {
     "name": "#%%\n"
    }
   }
  },
  {
   "cell_type": "code",
   "execution_count": 191,
   "outputs": [],
   "source": [
    "ser1: Series = Series(data=array1)\n",
    "ser2: Series = Series(data=array2)\n",
    "ser3: Series = Series(data=array3)"
   ],
   "metadata": {
    "collapsed": false,
    "pycharm": {
     "name": "#%%\n"
    }
   }
  },
  {
   "cell_type": "code",
   "execution_count": 192,
   "outputs": [],
   "source": [
    "def defects(target: DataFrame, series: Series) -> Series:\n",
    "    for index, row in target.iterrows():\n",
    "        begin = row['Начало дефекта']\n",
    "        end = row['Начало дефекта'] + row['Длина дефекта']\n",
    "        if not isnan(end):\n",
    "            series.loc[begin:int(end)] = 1\n",
    "    return series"
   ],
   "metadata": {
    "collapsed": false,
    "pycharm": {
     "name": "#%%\n"
    }
   }
  },
  {
   "cell_type": "code",
   "execution_count": 193,
   "outputs": [],
   "source": [
    "ser1 = defects(target1, ser1)\n",
    "ser2 = defects(target2, ser2)\n",
    "ser3 = defects(target2, ser3)"
   ],
   "metadata": {
    "collapsed": false,
    "pycharm": {
     "name": "#%%\n"
    }
   }
  },
  {
   "cell_type": "markdown",
   "source": [
    "## Вектор, содержащий значения высоты дефектов в местах их наличия"
   ],
   "metadata": {
    "collapsed": false
   }
  },
  {
   "cell_type": "code",
   "execution_count": 194,
   "outputs": [],
   "source": [
    "serH1: Series = Series(data=array1)\n",
    "serH2: Series = Series(data=array2)\n",
    "serH3: Series = Series(data=array3)"
   ],
   "metadata": {
    "collapsed": false,
    "pycharm": {
     "name": "#%%\n"
    }
   }
  },
  {
   "cell_type": "code",
   "execution_count": 195,
   "outputs": [],
   "source": [
    "def defects_height(target: DataFrame, series: Series) -> Series:\n",
    "    for index, row in target.iterrows():\n",
    "        begin = row['Начало дефекта']\n",
    "        end = row['Начало дефекта'] + row['Длина дефекта']\n",
    "        if not isnan(end):\n",
    "            series.loc[begin:int(end)] = row['Высота дефекта']\n",
    "    return series"
   ],
   "metadata": {
    "collapsed": false,
    "pycharm": {
     "name": "#%%\n"
    }
   }
  },
  {
   "cell_type": "code",
   "execution_count": 196,
   "outputs": [],
   "source": [
    "serH1: Series = defects_height(target1, ser1)\n",
    "serH2: Series = defects_height(target2, ser2)\n",
    "serH3: Series = defects_height(target3, ser3)"
   ],
   "metadata": {
    "collapsed": false,
    "pycharm": {
     "name": "#%%\n"
    }
   }
  },
  {
   "cell_type": "markdown",
   "source": [
    "## Разбиение данных на обучающую и проверочную выборки"
   ],
   "metadata": {
    "collapsed": false,
    "pycharm": {
     "name": "#%% md\n"
    }
   }
  },
  {
   "cell_type": "code",
   "source": [
    "sop_train1, sop_test1, target_train1, target_test1 = train_test_split(sop1, ser1, test_size=0.3, train_size=0.7)\n",
    "sop_train2, sop_test2, target_train2, target_test2 = train_test_split(sop2, ser2, test_size=0.3, train_size=0.7)\n",
    "sop_train3, sop_test3, target_train3, target_test3 = train_test_split(sop3, ser3, test_size=0.3, train_size=0.7)"
   ],
   "metadata": {
    "collapsed": false,
    "pycharm": {
     "name": "#%%\n"
    }
   },
   "execution_count": 197,
   "outputs": []
  },
  {
   "cell_type": "markdown",
   "source": [
    "## Последовательное применение алгоритмов"
   ],
   "metadata": {
    "collapsed": false
   }
  },
  {
   "cell_type": "code",
   "execution_count": 198,
   "outputs": [],
   "source": [
    "def algorithms(sop_train: object, target_train: object) -> object:\n",
    "    lr: LogisticRegression = LogisticRegression()\n",
    "    lr.fit(sop_train, target_train)\n",
    "\n",
    "    sgdc: SGDClassifier = SGDClassifier()\n",
    "    sgdc.fit(sop_train, target_train)\n",
    "\n",
    "    rc: RidgeClassifier = RidgeClassifier()\n",
    "    rc.fit(sop_train, target_train)\n",
    "\n",
    "    return lr, sgdc, rc"
   ],
   "metadata": {
    "collapsed": false,
    "pycharm": {
     "name": "#%%\n"
    }
   }
  },
  {
   "cell_type": "code",
   "execution_count": 199,
   "outputs": [],
   "source": [
    "lr1, sgdc1, rc1 = algorithms(sop_train1, target_train1)"
   ],
   "metadata": {
    "collapsed": false,
    "pycharm": {
     "name": "#%%\n"
    }
   }
  },
  {
   "cell_type": "code",
   "execution_count": 200,
   "outputs": [],
   "source": [
    "lr2, sgdc2, rc2 = algorithms(sop_train2, target_train2)"
   ],
   "metadata": {
    "collapsed": false,
    "pycharm": {
     "name": "#%%\n"
    }
   }
  },
  {
   "cell_type": "code",
   "execution_count": 201,
   "outputs": [],
   "source": [
    "lr3, sgdc3, rc3 = algorithms(sop_train3, target_train3)"
   ],
   "metadata": {
    "collapsed": false,
    "pycharm": {
     "name": "#%%\n"
    }
   }
  },
  {
   "cell_type": "markdown",
   "source": [
    "## Оценка качества модели"
   ],
   "metadata": {
    "collapsed": false
   }
  },
  {
   "cell_type": "code",
   "execution_count": 202,
   "outputs": [],
   "source": [
    "def estimate(classifier: object, target_test: object, sop_test: object) -> None:\n",
    "    pred: object = classifier.predict(sop_test)\n",
    "    print(f\"r2_score: {round(r2_score(target_test, pred), 3)}\")\n",
    "    print(f\"mean_absolute_error: {round(mean_absolute_error(target_test, pred), 3)}\")\n",
    "    print(f\"classification_report: {classification_report(target_test, pred)}\")"
   ],
   "metadata": {
    "collapsed": false,
    "pycharm": {
     "name": "#%%\n"
    }
   }
  },
  {
   "cell_type": "markdown",
   "source": [
    "### LogisticRegression"
   ],
   "metadata": {
    "collapsed": false,
    "pycharm": {
     "name": "#%% md\n"
    }
   }
  },
  {
   "cell_type": "code",
   "execution_count": 203,
   "outputs": [
    {
     "name": "stdout",
     "output_type": "stream",
     "text": [
      "r2_score: 0.053\n",
      "mean_absolute_error: 1.067\n",
      "classification_report:               precision    recall  f1-score   support\n",
      "\n",
      "           0       0.84      0.93      0.88       230\n",
      "           4       0.58      0.44      0.50        16\n",
      "           5       0.70      0.78      0.74         9\n",
      "           6       0.67      0.35      0.46        46\n",
      "           7       0.73      0.67      0.70        12\n",
      "\n",
      "    accuracy                           0.81       313\n",
      "   macro avg       0.70      0.63      0.65       313\n",
      "weighted avg       0.79      0.81      0.79       313\n",
      "\n"
     ]
    }
   ],
   "source": [
    "estimate(\n",
    "    classifier=lr1,\n",
    "    target_test=target_test1,\n",
    "    sop_test=sop_test1\n",
    ")"
   ],
   "metadata": {
    "collapsed": false,
    "pycharm": {
     "name": "#%%\n"
    }
   }
  },
  {
   "cell_type": "code",
   "execution_count": 204,
   "outputs": [
    {
     "name": "stdout",
     "output_type": "stream",
     "text": [
      "r2_score: 0.13\n",
      "mean_absolute_error: 0.628\n",
      "classification_report:               precision    recall  f1-score   support\n",
      "\n",
      "           0       0.90      0.96      0.93       257\n",
      "           4       0.82      0.75      0.78        12\n",
      "           5       0.63      0.39      0.48        31\n",
      "           6       0.67      0.50      0.57        12\n",
      "\n",
      "    accuracy                           0.88       312\n",
      "   macro avg       0.75      0.65      0.69       312\n",
      "weighted avg       0.86      0.88      0.86       312\n",
      "\n"
     ]
    }
   ],
   "source": [
    "estimate(\n",
    "    classifier=lr2,\n",
    "    target_test=target_test2,\n",
    "    sop_test=sop_test2\n",
    ")"
   ],
   "metadata": {
    "collapsed": false,
    "pycharm": {
     "name": "#%%\n"
    }
   }
  },
  {
   "cell_type": "code",
   "execution_count": 205,
   "outputs": [
    {
     "name": "stdout",
     "output_type": "stream",
     "text": [
      "r2_score: -0.005\n",
      "mean_absolute_error: 1.196\n",
      "classification_report:               precision    recall  f1-score   support\n",
      "\n",
      "           0       0.75      0.89      0.81       190\n",
      "           1       0.75      0.33      0.46        36\n",
      "           4       0.39      0.41      0.40        17\n",
      "           5       0.62      0.16      0.26        31\n",
      "           6       0.88      0.88      0.88        17\n",
      "           8       0.44      0.52      0.48        21\n",
      "\n",
      "    accuracy                           0.71       312\n",
      "   macro avg       0.64      0.53      0.55       312\n",
      "weighted avg       0.70      0.71      0.68       312\n",
      "\n"
     ]
    }
   ],
   "source": [
    "estimate(\n",
    "    classifier=lr3,\n",
    "    target_test=target_test3,\n",
    "    sop_test=sop_test3\n",
    ")"
   ],
   "metadata": {
    "collapsed": false,
    "pycharm": {
     "name": "#%%\n"
    }
   }
  },
  {
   "cell_type": "markdown",
   "source": [
    "### SGDClassifier"
   ],
   "metadata": {
    "collapsed": false
   }
  },
  {
   "cell_type": "code",
   "execution_count": 206,
   "outputs": [
    {
     "name": "stdout",
     "output_type": "stream",
     "text": [
      "r2_score: -0.204\n",
      "mean_absolute_error: 1.339\n",
      "classification_report:               precision    recall  f1-score   support\n",
      "\n",
      "           0       0.77      0.98      0.86       230\n",
      "           4       1.00      0.19      0.32        16\n",
      "           5       1.00      0.22      0.36         9\n",
      "           6       0.44      0.15      0.23        46\n",
      "           7       0.00      0.00      0.00        12\n",
      "\n",
      "    accuracy                           0.76       313\n",
      "   macro avg       0.64      0.31      0.35       313\n",
      "weighted avg       0.71      0.76      0.69       313\n",
      "\n"
     ]
    }
   ],
   "source": [
    "estimate(\n",
    "    classifier=sgdc1,\n",
    "    target_test=target_test1,\n",
    "    sop_test=sop_test1\n",
    ")"
   ],
   "metadata": {
    "collapsed": false,
    "pycharm": {
     "name": "#%%\n"
    }
   }
  },
  {
   "cell_type": "code",
   "execution_count": 207,
   "outputs": [
    {
     "name": "stdout",
     "output_type": "stream",
     "text": [
      "r2_score: 0.02\n",
      "mean_absolute_error: 0.686\n",
      "classification_report:               precision    recall  f1-score   support\n",
      "\n",
      "           0       0.88      0.97      0.92       257\n",
      "           4       1.00      0.58      0.74        12\n",
      "           5       0.76      0.42      0.54        31\n",
      "           6       0.25      0.08      0.12        12\n",
      "\n",
      "    accuracy                           0.87       312\n",
      "   macro avg       0.72      0.51      0.58       312\n",
      "weighted avg       0.85      0.87      0.85       312\n",
      "\n"
     ]
    }
   ],
   "source": [
    "estimate(\n",
    "    classifier=sgdc2,\n",
    "    target_test=target_test2,\n",
    "    sop_test=sop_test2\n",
    ")"
   ],
   "metadata": {
    "collapsed": false,
    "pycharm": {
     "name": "#%%\n"
    }
   }
  },
  {
   "cell_type": "code",
   "execution_count": 208,
   "outputs": [
    {
     "name": "stdout",
     "output_type": "stream",
     "text": [
      "r2_score: 0.049\n",
      "mean_absolute_error: 1.628\n",
      "classification_report:               precision    recall  f1-score   support\n",
      "\n",
      "           0       0.79      0.10      0.18       190\n",
      "           1       0.14      1.00      0.25        36\n",
      "           4       0.00      0.00      0.00        17\n",
      "           5       0.43      0.10      0.16        31\n",
      "           6       1.00      0.82      0.90        17\n",
      "           8       0.47      0.33      0.39        21\n",
      "\n",
      "    accuracy                           0.25       312\n",
      "   macro avg       0.47      0.39      0.31       312\n",
      "weighted avg       0.63      0.25      0.23       312\n",
      "\n"
     ]
    }
   ],
   "source": [
    "estimate(\n",
    "    classifier=sgdc3,\n",
    "    target_test=target_test3,\n",
    "    sop_test=sop_test3\n",
    ")"
   ],
   "metadata": {
    "collapsed": false,
    "pycharm": {
     "name": "#%%\n"
    }
   }
  },
  {
   "cell_type": "markdown",
   "source": [
    "### RidgeClassifier"
   ],
   "metadata": {
    "collapsed": false,
    "pycharm": {
     "name": "#%% md\n"
    }
   }
  },
  {
   "cell_type": "code",
   "execution_count": 209,
   "outputs": [
    {
     "name": "stdout",
     "output_type": "stream",
     "text": [
      "r2_score: -0.228\n",
      "mean_absolute_error: 1.361\n",
      "classification_report:               precision    recall  f1-score   support\n",
      "\n",
      "           0       0.76      0.98      0.86       230\n",
      "           4       0.80      0.25      0.38        16\n",
      "           5       0.00      0.00      0.00         9\n",
      "           6       0.75      0.13      0.22        46\n",
      "           7       0.67      0.17      0.27        12\n",
      "\n",
      "    accuracy                           0.76       313\n",
      "   macro avg       0.60      0.31      0.35       313\n",
      "weighted avg       0.74      0.76      0.69       313\n",
      "\n"
     ]
    }
   ],
   "source": [
    "estimate(\n",
    "    classifier=rc1,\n",
    "    target_test=target_test1,\n",
    "    sop_test=sop_test1\n",
    ")"
   ],
   "metadata": {
    "collapsed": false,
    "pycharm": {
     "name": "#%%\n"
    }
   }
  },
  {
   "cell_type": "code",
   "execution_count": 210,
   "outputs": [
    {
     "name": "stdout",
     "output_type": "stream",
     "text": [
      "r2_score: -0.097\n",
      "mean_absolute_error: 0.785\n",
      "classification_report:               precision    recall  f1-score   support\n",
      "\n",
      "           0       0.84      1.00      0.91       257\n",
      "           4       1.00      0.42      0.59        12\n",
      "           5       0.75      0.10      0.17        31\n",
      "           6       0.00      0.00      0.00        12\n",
      "\n",
      "    accuracy                           0.85       312\n",
      "   macro avg       0.65      0.38      0.42       312\n",
      "weighted avg       0.81      0.85      0.79       312\n",
      "\n"
     ]
    }
   ],
   "source": [
    "estimate(\n",
    "    classifier=rc2,\n",
    "    target_test=target_test2,\n",
    "    sop_test=sop_test2\n",
    ")"
   ],
   "metadata": {
    "collapsed": false,
    "pycharm": {
     "name": "#%%\n"
    }
   }
  },
  {
   "cell_type": "code",
   "execution_count": 211,
   "outputs": [
    {
     "name": "stdout",
     "output_type": "stream",
     "text": [
      "r2_score: -0.164\n",
      "mean_absolute_error: 1.375\n",
      "classification_report:               precision    recall  f1-score   support\n",
      "\n",
      "           0       0.66      0.99      0.79       190\n",
      "           1       1.00      0.11      0.20        36\n",
      "           4       1.00      0.12      0.21        17\n",
      "           5       0.62      0.16      0.26        31\n",
      "           6       0.92      0.65      0.76        17\n",
      "           8       0.00      0.00      0.00        21\n",
      "\n",
      "    accuracy                           0.67       312\n",
      "   macro avg       0.70      0.34      0.37       312\n",
      "weighted avg       0.68      0.67      0.58       312\n",
      "\n"
     ]
    }
   ],
   "source": [
    "estimate(\n",
    "    classifier=rc3,\n",
    "    target_test=target_test3,\n",
    "    sop_test=sop_test3\n",
    ")"
   ],
   "metadata": {
    "collapsed": false,
    "pycharm": {
     "name": "#%%\n"
    }
   }
  },
  {
   "cell_type": "markdown",
   "source": [
    "## Подбор гиперпараметров"
   ],
   "metadata": {
    "collapsed": false
   }
  },
  {
   "cell_type": "code",
   "execution_count": 212,
   "outputs": [],
   "source": [
    "def hyperparameters(sop_train: object, target_train: object) -> object:\n",
    "    print(\"LogisticRegression\")\n",
    "    parameters: dict[str, Union[list[str], list[Union[float, int]]]] = {\n",
    "        'penalty': ['l1', 'l2'],\n",
    "        'C': [0.001, 0.01, 0.1, 1, 10, 100, 1000]\n",
    "    }\n",
    "    grid: GridSearchCV = GridSearchCV(\n",
    "        LogisticRegression(),\n",
    "        parameters,\n",
    "        cv=5\n",
    "    )\n",
    "    lr_grid: Union[GridSearchCV, Any] = grid.fit(sop_train, target_train)\n",
    "    print(lr_grid, end=\"\\n\\n\\n\")\n",
    "\n",
    "    print(\"SGDClassifier\")\n",
    "    parameters: dict[str, Union[list[str], list[Union[float, int]]]] = {\n",
    "        'alpha': [10 ** x for x in range(-6, 1)],\n",
    "        'l1_ratio': [0, 0.05, 0.1, 0.2, 0.5, 0.8, 0.9, 0.95, 1],\n",
    "    }\n",
    "    grid: GridSearchCV = GridSearchCV(\n",
    "        SGDClassifier(),\n",
    "        parameters,\n",
    "        cv=5\n",
    "    )\n",
    "    sgdc_grid: Union[GridSearchCV, Any] = grid.fit(sop_train, target_train)\n",
    "    print(sgdc_grid, end=\"\\n\\n\\n\")\n",
    "\n",
    "    print(\"RidgeClassifier\")\n",
    "    parameters: dict[str, Union[list[str], list[Union[float, int]]]] = {\n",
    "        'alpha': [0.1, 0.2, 0.3, 0.4, 0.5, 0.6, 0.7, 0.8, 0.9, 1.0]\n",
    "    }\n",
    "    grid: GridSearchCV = GridSearchCV(\n",
    "        RidgeClassifier(),\n",
    "        parameters,\n",
    "        cv=5\n",
    "    )\n",
    "    rc_grid: Union[GridSearchCV, Any] = grid.fit(sop_train, target_train)\n",
    "    print(rc_grid, end=\"\\n\\n\\n\")\n",
    "\n",
    "    return lr_grid, sgdc_grid, rc_grid"
   ],
   "metadata": {
    "collapsed": false,
    "pycharm": {
     "name": "#%%\n"
    }
   }
  },
  {
   "cell_type": "code",
   "execution_count": 213,
   "outputs": [
    {
     "name": "stdout",
     "output_type": "stream",
     "text": [
      "LogisticRegression\n",
      "GridSearchCV(cv=5, estimator=LogisticRegression(),\n",
      "             param_grid={'C': [0.001, 0.01, 0.1, 1, 10, 100, 1000],\n",
      "                         'penalty': ['l1', 'l2']})\n",
      "\n",
      "\n",
      "SGDClassifier\n",
      "GridSearchCV(cv=5, estimator=SGDClassifier(),\n",
      "             param_grid={'alpha': [1e-06, 1e-05, 0.0001, 0.001, 0.01, 0.1, 1],\n",
      "                         'l1_ratio': [0, 0.05, 0.1, 0.2, 0.5, 0.8, 0.9, 0.95,\n",
      "                                      1]})\n",
      "\n",
      "\n",
      "RidgeClassifier\n",
      "GridSearchCV(cv=5, estimator=RidgeClassifier(),\n",
      "             param_grid={'alpha': [0.1, 0.2, 0.3, 0.4, 0.5, 0.6, 0.7, 0.8, 0.9,\n",
      "                                   1.0]})\n",
      "\n",
      "\n"
     ]
    }
   ],
   "source": [
    "lr_grid1, sgdc_grid1, rc_grid1 = hyperparameters(\n",
    "    sop_train=sop_train1,\n",
    "    target_train=target_train1\n",
    ")"
   ],
   "metadata": {
    "collapsed": false,
    "pycharm": {
     "name": "#%%\n"
    }
   }
  },
  {
   "cell_type": "code",
   "execution_count": 214,
   "outputs": [
    {
     "name": "stdout",
     "output_type": "stream",
     "text": [
      "LogisticRegression\n",
      "GridSearchCV(cv=5, estimator=LogisticRegression(),\n",
      "             param_grid={'C': [0.001, 0.01, 0.1, 1, 10, 100, 1000],\n",
      "                         'penalty': ['l1', 'l2']})\n",
      "\n",
      "\n",
      "SGDClassifier\n",
      "GridSearchCV(cv=5, estimator=SGDClassifier(),\n",
      "             param_grid={'alpha': [1e-06, 1e-05, 0.0001, 0.001, 0.01, 0.1, 1],\n",
      "                         'l1_ratio': [0, 0.05, 0.1, 0.2, 0.5, 0.8, 0.9, 0.95,\n",
      "                                      1]})\n",
      "\n",
      "\n",
      "RidgeClassifier\n",
      "GridSearchCV(cv=5, estimator=RidgeClassifier(),\n",
      "             param_grid={'alpha': [0.1, 0.2, 0.3, 0.4, 0.5, 0.6, 0.7, 0.8, 0.9,\n",
      "                                   1.0]})\n",
      "\n",
      "\n"
     ]
    }
   ],
   "source": [
    "lr_grid2, sgdc_grid2, rc_grid2 = hyperparameters(\n",
    "    sop_train=sop_train2,\n",
    "    target_train=target_train2\n",
    ")"
   ],
   "metadata": {
    "collapsed": false,
    "pycharm": {
     "name": "#%%\n"
    }
   }
  },
  {
   "cell_type": "code",
   "execution_count": 215,
   "outputs": [
    {
     "name": "stdout",
     "output_type": "stream",
     "text": [
      "LogisticRegression\n",
      "GridSearchCV(cv=5, estimator=LogisticRegression(),\n",
      "             param_grid={'C': [0.001, 0.01, 0.1, 1, 10, 100, 1000],\n",
      "                         'penalty': ['l1', 'l2']})\n",
      "\n",
      "\n",
      "SGDClassifier\n",
      "GridSearchCV(cv=5, estimator=SGDClassifier(),\n",
      "             param_grid={'alpha': [1e-06, 1e-05, 0.0001, 0.001, 0.01, 0.1, 1],\n",
      "                         'l1_ratio': [0, 0.05, 0.1, 0.2, 0.5, 0.8, 0.9, 0.95,\n",
      "                                      1]})\n",
      "\n",
      "\n",
      "RidgeClassifier\n",
      "GridSearchCV(cv=5, estimator=RidgeClassifier(),\n",
      "             param_grid={'alpha': [0.1, 0.2, 0.3, 0.4, 0.5, 0.6, 0.7, 0.8, 0.9,\n",
      "                                   1.0]})\n",
      "\n",
      "\n"
     ]
    }
   ],
   "source": [
    "lr_grid3, sgdc_grid3, rc_grid3 = hyperparameters(\n",
    "    sop_train=sop_train3,\n",
    "    target_train=target_train3\n",
    ")"
   ],
   "metadata": {
    "collapsed": false,
    "pycharm": {
     "name": "#%%\n"
    }
   }
  },
  {
   "cell_type": "markdown",
   "source": [
    "## Заново обучите модель с подобранными гиперпараметрам"
   ],
   "metadata": {
    "collapsed": false
   }
  },
  {
   "cell_type": "code",
   "execution_count": 216,
   "outputs": [],
   "source": [
    "def relearn(classifier: object, target_test: object, sop_test: object) -> None:\n",
    "    pred: object = classifier.predict(sop_test)\n",
    "    print(f\"r2_score: {round(r2_score(target_test, pred), 3)}\")\n",
    "    print(f\"mean_absolute_error: {round(mean_absolute_error(target_test, pred), 3)}\")\n",
    "    print(f\"classification_report: {classification_report(target_test, pred)}\")"
   ],
   "metadata": {
    "collapsed": false,
    "pycharm": {
     "name": "#%%\n"
    }
   }
  },
  {
   "cell_type": "markdown",
   "source": [
    "### LogisticRegression"
   ],
   "metadata": {
    "collapsed": false,
    "pycharm": {
     "name": "#%% md\n"
    }
   }
  },
  {
   "cell_type": "code",
   "execution_count": 217,
   "outputs": [
    {
     "name": "stdout",
     "output_type": "stream",
     "text": [
      "r2_score: -0.013\n",
      "mean_absolute_error: 1.131\n",
      "classification_report:               precision    recall  f1-score   support\n",
      "\n",
      "           0       0.83      0.92      0.87       230\n",
      "           4       0.58      0.44      0.50        16\n",
      "           5       0.78      0.78      0.78         9\n",
      "           6       0.59      0.35      0.44        46\n",
      "           7       0.70      0.58      0.64        12\n",
      "\n",
      "    accuracy                           0.80       313\n",
      "   macro avg       0.70      0.61      0.65       313\n",
      "weighted avg       0.78      0.80      0.78       313\n",
      "\n"
     ]
    }
   ],
   "source": [
    "relearn(\n",
    "    classifier=lr_grid1,\n",
    "    target_test=target_test1,\n",
    "    sop_test=sop_test1\n",
    ")"
   ],
   "metadata": {
    "collapsed": false,
    "pycharm": {
     "name": "#%%\n"
    }
   }
  },
  {
   "cell_type": "code",
   "execution_count": 218,
   "outputs": [
    {
     "name": "stdout",
     "output_type": "stream",
     "text": [
      "r2_score: 0.048\n",
      "mean_absolute_error: 0.676\n",
      "classification_report:               precision    recall  f1-score   support\n",
      "\n",
      "           0       0.89      0.96      0.92       257\n",
      "           4       0.82      0.75      0.78        12\n",
      "           5       0.67      0.39      0.49        31\n",
      "           6       0.57      0.33      0.42        12\n",
      "\n",
      "    accuracy                           0.87       312\n",
      "   macro avg       0.74      0.61      0.65       312\n",
      "weighted avg       0.85      0.87      0.86       312\n",
      "\n"
     ]
    }
   ],
   "source": [
    "relearn(\n",
    "    classifier=lr_grid2,\n",
    "    target_test=target_test2,\n",
    "    sop_test=sop_test2\n",
    ")"
   ],
   "metadata": {
    "collapsed": false,
    "pycharm": {
     "name": "#%%\n"
    }
   }
  },
  {
   "cell_type": "code",
   "execution_count": 219,
   "outputs": [
    {
     "name": "stdout",
     "output_type": "stream",
     "text": [
      "r2_score: -0.014\n",
      "mean_absolute_error: 1.208\n",
      "classification_report:               precision    recall  f1-score   support\n",
      "\n",
      "           0       0.74      0.89      0.81       190\n",
      "           1       0.71      0.33      0.45        36\n",
      "           4       0.39      0.41      0.40        17\n",
      "           5       0.57      0.13      0.21        31\n",
      "           6       0.83      0.88      0.86        17\n",
      "           8       0.44      0.52      0.48        21\n",
      "\n",
      "    accuracy                           0.70       312\n",
      "   macro avg       0.61      0.53      0.53       312\n",
      "weighted avg       0.69      0.70      0.67       312\n",
      "\n"
     ]
    }
   ],
   "source": [
    "relearn(\n",
    "    classifier=lr_grid3,\n",
    "    target_test=target_test3,\n",
    "    sop_test=sop_test3\n",
    ")"
   ],
   "metadata": {
    "collapsed": false,
    "pycharm": {
     "name": "#%%\n"
    }
   }
  },
  {
   "cell_type": "markdown",
   "source": [
    "### SGDClassifier"
   ],
   "metadata": {
    "collapsed": false
   }
  },
  {
   "cell_type": "code",
   "execution_count": 220,
   "outputs": [
    {
     "name": "stdout",
     "output_type": "stream",
     "text": [
      "r2_score: -2.135\n",
      "mean_absolute_error: 3.492\n",
      "classification_report:               precision    recall  f1-score   support\n",
      "\n",
      "           0       0.84      0.26      0.39       230\n",
      "           4       0.19      0.25      0.22        16\n",
      "           5       1.00      0.11      0.20         9\n",
      "           6       0.21      0.98      0.34        46\n",
      "           7       0.67      0.17      0.27        12\n",
      "\n",
      "    accuracy                           0.35       313\n",
      "   macro avg       0.58      0.35      0.28       313\n",
      "weighted avg       0.71      0.35      0.37       313\n",
      "\n"
     ]
    }
   ],
   "source": [
    "relearn(\n",
    "    classifier=sgdc_grid1,\n",
    "    target_test=target_test1,\n",
    "    sop_test=sop_test1\n",
    ")"
   ],
   "metadata": {
    "collapsed": false,
    "pycharm": {
     "name": "#%%\n"
    }
   }
  },
  {
   "cell_type": "code",
   "execution_count": 221,
   "outputs": [
    {
     "name": "stdout",
     "output_type": "stream",
     "text": [
      "r2_score: -0.147\n",
      "mean_absolute_error: 0.817\n",
      "classification_report:               precision    recall  f1-score   support\n",
      "\n",
      "           0       0.85      0.98      0.91       257\n",
      "           4       0.80      0.67      0.73        12\n",
      "           5       0.00      0.00      0.00        31\n",
      "           6       0.33      0.17      0.22        12\n",
      "\n",
      "    accuracy                           0.84       312\n",
      "   macro avg       0.50      0.45      0.47       312\n",
      "weighted avg       0.74      0.84      0.79       312\n",
      "\n"
     ]
    }
   ],
   "source": [
    "relearn(\n",
    "    classifier=sgdc_grid2,\n",
    "    target_test=target_test2,\n",
    "    sop_test=sop_test2\n",
    ")"
   ],
   "metadata": {
    "collapsed": false,
    "pycharm": {
     "name": "#%%\n"
    }
   }
  },
  {
   "cell_type": "code",
   "execution_count": 222,
   "outputs": [
    {
     "name": "stdout",
     "output_type": "stream",
     "text": [
      "r2_score: 0.079\n",
      "mean_absolute_error: 1.157\n",
      "classification_report:               precision    recall  f1-score   support\n",
      "\n",
      "           0       0.76      0.88      0.81       190\n",
      "           1       0.39      0.33      0.36        36\n",
      "           4       0.34      0.71      0.46        17\n",
      "           5       1.00      0.03      0.06        31\n",
      "           6       1.00      0.82      0.90        17\n",
      "           8       0.36      0.19      0.25        21\n",
      "\n",
      "    accuracy                           0.67       312\n",
      "   macro avg       0.64      0.49      0.48       312\n",
      "weighted avg       0.70      0.67      0.63       312\n",
      "\n"
     ]
    }
   ],
   "source": [
    "relearn(\n",
    "    classifier=sgdc_grid3,\n",
    "    target_test=target_test3,\n",
    "    sop_test=sop_test3\n",
    ")"
   ],
   "metadata": {
    "collapsed": false,
    "pycharm": {
     "name": "#%%\n"
    }
   }
  },
  {
   "cell_type": "markdown",
   "source": [
    "### RidgeClassifier"
   ],
   "metadata": {
    "collapsed": false
   }
  },
  {
   "cell_type": "code",
   "execution_count": 223,
   "outputs": [
    {
     "name": "stdout",
     "output_type": "stream",
     "text": [
      "r2_score: -0.228\n",
      "mean_absolute_error: 1.361\n",
      "classification_report:               precision    recall  f1-score   support\n",
      "\n",
      "           0       0.76      0.98      0.86       230\n",
      "           4       0.80      0.25      0.38        16\n",
      "           5       0.00      0.00      0.00         9\n",
      "           6       0.75      0.13      0.22        46\n",
      "           7       0.67      0.17      0.27        12\n",
      "\n",
      "    accuracy                           0.76       313\n",
      "   macro avg       0.60      0.31      0.35       313\n",
      "weighted avg       0.74      0.76      0.69       313\n",
      "\n"
     ]
    }
   ],
   "source": [
    "relearn(\n",
    "    classifier=rc_grid1,\n",
    "    target_test=target_test1,\n",
    "    sop_test=sop_test1\n",
    ")"
   ],
   "metadata": {
    "collapsed": false,
    "pycharm": {
     "name": "#%%\n"
    }
   }
  },
  {
   "cell_type": "code",
   "execution_count": 224,
   "outputs": [
    {
     "name": "stdout",
     "output_type": "stream",
     "text": [
      "r2_score: -0.097\n",
      "mean_absolute_error: 0.785\n",
      "classification_report:               precision    recall  f1-score   support\n",
      "\n",
      "           0       0.84      1.00      0.91       257\n",
      "           4       1.00      0.42      0.59        12\n",
      "           5       0.75      0.10      0.17        31\n",
      "           6       0.00      0.00      0.00        12\n",
      "\n",
      "    accuracy                           0.85       312\n",
      "   macro avg       0.65      0.38      0.42       312\n",
      "weighted avg       0.81      0.85      0.79       312\n",
      "\n"
     ]
    }
   ],
   "source": [
    "relearn(\n",
    "    classifier=rc_grid2,\n",
    "    target_test=target_test2,\n",
    "    sop_test=sop_test2\n",
    ")"
   ],
   "metadata": {
    "collapsed": false,
    "pycharm": {
     "name": "#%%\n"
    }
   }
  },
  {
   "cell_type": "code",
   "execution_count": 225,
   "outputs": [
    {
     "name": "stdout",
     "output_type": "stream",
     "text": [
      "r2_score: -0.164\n",
      "mean_absolute_error: 1.375\n",
      "classification_report:               precision    recall  f1-score   support\n",
      "\n",
      "           0       0.66      0.99      0.79       190\n",
      "           1       1.00      0.11      0.20        36\n",
      "           4       1.00      0.12      0.21        17\n",
      "           5       0.62      0.16      0.26        31\n",
      "           6       0.92      0.65      0.76        17\n",
      "           8       0.00      0.00      0.00        21\n",
      "\n",
      "    accuracy                           0.67       312\n",
      "   macro avg       0.70      0.34      0.37       312\n",
      "weighted avg       0.68      0.67      0.58       312\n",
      "\n"
     ]
    }
   ],
   "source": [
    "relearn(\n",
    "    classifier=rc_grid3,\n",
    "    target_test=target_test3,\n",
    "    sop_test=sop_test3\n",
    ")"
   ],
   "metadata": {
    "collapsed": false,
    "pycharm": {
     "name": "#%%\n"
    }
   }
  },
  {
   "cell_type": "markdown",
   "source": [
    "# Ответы на контрольные вопросы"
   ],
   "metadata": {
    "collapsed": false
   }
  },
  {
   "cell_type": "markdown",
   "source": [
    "### 1. Что такое система ПУЗК? Какие основные методы УЗК реализуются в данной системе?"
   ],
   "metadata": {
    "collapsed": false
   }
  },
  {
   "cell_type": "markdown",
   "source": [
    "Система ПУЗК - это система полуавтоматического ультразвукового контроля. Она предназначена для выявления продольных и поперечных дефектов, для определения координат и условных размеров дефекта и проведения эксплуатационного контроля.\n",
    "\n",
    "В состав системы входят 8 преобразователей, располагающихся по обе стороны сварного шва. Часть из них является генераторами, а часть приемниками (усилителями) акустического сигнала, два преобразователя совмещают упомянутые выше функции.\n",
    "\n",
    "В данной системе реализуются эхо-метод, теневой метод и эхо-контактный.\n",
    "\n",
    "При эхо-методе преобразователи располагаются с одной стороны сварного соединения. Метод основан на том, что генератор излучает ультразвуковую волну, которая отражается от дефекта и принимается усилителем. В отсутствие дефекта сигнал на приемнике отсутствует.\n",
    "\n",
    "При теневом методе генератор и приемник располагаются с разных сторон шва. Если дефекта нет, волна без потерь проходит от генератора к приемнику. При наличии дефекта сигнал на приемнике ослаблен из-за рассеивания ультразвуковой волны на дефекте.\n",
    "\n",
    "При эхо-контактном методе преобразователь генерирует колебания (то есть выступает в роли генератора) и он же принимает отражённые от дефектов эхо-сигналы (как приёмник)."
   ],
   "metadata": {
    "collapsed": false
   }
  },
  {
   "cell_type": "markdown",
   "source": [
    "### 2. Чем отличается эхо-метод от теневого и эхо-контактного метода УЗК?"
   ],
   "metadata": {
    "collapsed": false
   }
  },
  {
   "cell_type": "markdown",
   "source": [
    "При теневом методе генератор и приемник располагаются с разных сторон шва. Если дефекта нет, волна без потерь проходит от генератора к приемнику. При наличии дефекта сигнал на приемнике ослаблен из-за рассеивания ультразвуковой волны на дефекте.\n",
    "\n",
    "О наличии дефекта судят по уменьшению амплитуды УЗ-колебаний, прошедших от излучателя к приемнику. Чем больше размер дефекта, тем меньше амплитуда прошедшего сигнала. Можно применять только при двустороннем доступе к изделию."
   ],
   "metadata": {
    "collapsed": false
   }
  },
  {
   "cell_type": "markdown",
   "source": [
    "### 3. Какие типы дефектов можно найти с помощью системы ПУЗК?"
   ],
   "metadata": {
    "collapsed": false
   }
  },
  {
   "cell_type": "markdown",
   "source": [
    "С помощью ПУЗК можно выявлять продольные и поперечные дефекты.\n",
    "\n",
    "Продольные дефекты - дефекты (трещины), расположенные вдоль оси сварного шва.\n",
    "\n",
    "Поперечные дефекты - дефекты, расположенные перпендикулярно оси сварного шва.\n",
    "\n",
    "В идеале амплитуда эхо-сигнала при отсутствии дефекта должна равняться нулю, а амплитуда теневого сигнала – 255 усл.ед. При наличии дефекта должно наблюдаться обратное соотношение сигналов по эхо и теневым тактам.\n"
   ],
   "metadata": {
    "collapsed": false
   }
  }
 ],
 "metadata": {
  "kernelspec": {
   "display_name": "Python 3",
   "language": "python",
   "name": "python3"
  },
  "language_info": {
   "codemirror_mode": {
    "name": "ipython",
    "version": 2
   },
   "file_extension": ".py",
   "mimetype": "text/x-python",
   "name": "python",
   "nbconvert_exporter": "python",
   "pygments_lexer": "ipython2",
   "version": "2.7.6"
  }
 },
 "nbformat": 4,
 "nbformat_minor": 0
}