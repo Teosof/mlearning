{
 "cells": [
  {
   "cell_type": "markdown",
   "metadata": {
    "collapsed": true,
    "pycharm": {
     "name": "#%% md\n"
    }
   },
   "source": [
    "# Решающие деревья для задач классификации и регрессии\n",
    "Группа: ИВТ-М20.<br/>\n",
    "Студент: Архипов Дмитрий Алексеевич"
   ]
  },
  {
   "cell_type": "code",
   "execution_count": 23,
   "metadata": {
    "pycharm": {
     "name": "#%%\n"
    }
   },
   "outputs": [],
   "source": [
    "import warnings\n",
    "from sklearn.metrics import accuracy_score, classification_report\n",
    "from sklearn import tree\n",
    "import graphviz\n",
    "from typing import Union, Any\n",
    "from numpy import arange\n",
    "from pandas import (\n",
    "    DataFrame,\n",
    "    read_csv\n",
    ")\n",
    "from sklearn.tree import export_graphviz\n",
    "from sklearn.metrics import (\n",
    "    accuracy_score,\n",
    "    r2_score,\n",
    "    mean_absolute_error\n",
    ")\n",
    "from sklearn.model_selection import (\n",
    "    train_test_split,\n",
    "    cross_val_score\n",
    ")\n",
    "from sklearn.model_selection import GridSearchCV\n",
    "from sklearn.tree import (\n",
    "    DecisionTreeClassifier,\n",
    "    DecisionTreeRegressor\n",
    ")\n",
    "warnings.filterwarnings('ignore')\n"
   ]
  },
  {
   "cell_type": "markdown",
   "metadata": {},
   "source": [
    "## 1. Прочтите данные из файлов"
   ]
  },
  {
   "cell_type": "code",
   "execution_count": 13,
   "metadata": {
    "pycharm": {
     "name": "#%%\n"
    }
   },
   "outputs": [],
   "source": [
    "transformators: DataFrame = DataFrame(\n",
    "    read_csv(\n",
    "        'data/transformators.csv',\n",
    "        sep=',',\n",
    "        header=0\n",
    "    )\n",
    ")\n",
    "regression: DataFrame = DataFrame(\n",
    "    read_csv(\n",
    "        'data/transformators_regression.csv',\n",
    "        sep=',',\n",
    "        header=0\n",
    "    )\n",
    ")"
   ]
  },
  {
   "cell_type": "markdown",
   "metadata": {
    "pycharm": {
     "name": "#%% md\n"
    }
   },
   "source": [
    "## 2. Отобразите несколько первых и несколько последних записей."
   ]
  },
  {
   "cell_type": "code",
   "execution_count": 14,
   "metadata": {
    "pycharm": {
     "name": "#%%\n"
    }
   },
   "outputs": [
    {
     "name": "stdout",
     "output_type": "stream",
     "text": [
      "         H2        CO      C2H4      C2H2  label\n",
      "0  0.002590  0.016491  0.002876  0.000336      1\n",
      "1  0.002825  0.014728  0.001992  0.000339      1\n",
      "2  0.002764  0.017030  0.003394  0.000195      1\n",
      "3  0.000508  0.016334  0.004104  0.000380      1\n",
      "4  0.002654  0.021278  0.004068  0.000124      1\n",
      "            H2        CO      C2H4      C2H2  label\n",
      "2095  0.002549  0.009460  0.007465  0.000242      1\n",
      "2096  0.000915  0.005770  0.007230  0.000081      3\n",
      "2097  0.001565  0.002492  0.008529  0.000176      3\n",
      "2098  0.001688  0.020291  0.007305  0.000252      1\n",
      "2099  0.002935  0.028001  0.008048  0.000219      1\n",
      "         H2        CO      C2H4      C2H2  label\n",
      "0  0.002590  0.016491  0.002876  0.000336    541\n",
      "1  0.002825  0.014728  0.001992  0.000339    520\n",
      "2  0.002764  0.017030  0.003394  0.000195    583\n",
      "3  0.000508  0.016334  0.004104  0.000380    487\n",
      "4  0.002654  0.021278  0.004068  0.000124   1093\n",
      "            H2        CO      C2H4      C2H2  label\n",
      "2095  0.002549  0.009460  0.007465  0.000242   1093\n",
      "2096  0.000915  0.005770  0.007230  0.000081   1093\n",
      "2097  0.001565  0.002492  0.008529  0.000176    719\n",
      "2098  0.001688  0.020291  0.007305  0.000252    698\n",
      "2099  0.002935  0.028001  0.008048  0.000219    644\n"
     ]
    }
   ],
   "source": [
    "print(transformators.head())\n",
    "print(transformators.tail())\n",
    "print(regression.head())\n",
    "print(regression.tail())"
   ]
  },
  {
   "cell_type": "markdown",
   "metadata": {
    "pycharm": {
     "name": "#%% md\n"
    }
   },
   "source": [
    "## 3. Разбейте данные для классификации"
   ]
  },
  {
   "cell_type": "code",
   "execution_count": 15,
   "metadata": {
    "pycharm": {
     "name": "#%%\n"
    }
   },
   "outputs": [],
   "source": [
    "transformators_train, transformators_test = train_test_split(transformators, test_size=0.3, train_size=0.7)"
   ]
  },
  {
   "cell_type": "markdown",
   "metadata": {
    "pycharm": {
     "name": "#%% md\n"
    }
   },
   "source": [
    "## 4. Примените алгоритм дерева решений"
   ]
  },
  {
   "cell_type": "code",
   "execution_count": 26,
   "metadata": {
    "pycharm": {
     "name": "#%%\n"
    }
   },
   "outputs": [
    {
     "data": {
      "text/plain": "DecisionTreeClassifier()"
     },
     "execution_count": 26,
     "metadata": {},
     "output_type": "execute_result"
    }
   ],
   "source": [
    "clf: DecisionTreeClassifier = DecisionTreeClassifier()\n",
    "clf.fit(transformators_train, transformators_train.label)\n"
   ]
  },
  {
   "cell_type": "markdown",
   "metadata": {
    "pycharm": {
     "name": "#%% md\n"
    }
   },
   "source": [
    "## 5. Сделайте предсказание на тестовой выборке."
   ]
  },
  {
   "cell_type": "code",
   "execution_count": 17,
   "metadata": {
    "pycharm": {
     "name": "#%%\n"
    }
   },
   "outputs": [
    {
     "name": "stdout",
     "output_type": "stream",
     "text": [
      "Prediction: [1 1 1 3 4 3 1 1 1 1 1 3 1 1 1 1 1 1 1 1 1 1 1 1 1 1 1 1 1 4 1 3 1 1 1 1 1\n",
      " 1 1 1 4 4 1 1 1 1 1 1 1 4 1 1 1 1 1 1 1 4 1 1 1 1 1 1 4 1 1 1 1 1 1 1 1 1\n",
      " 1 1 1 1 1 1 4 1 1 1 1 1 3 1 1 1 1 1 1 1 1 1 3 1 1 1 1 1 1 3 4 1 1 1 1 4 1\n",
      " 1 4 1 1 4 1 4 3 1 1 1 1 1 1 4 1 1 3 1 1 1 1 1 1 1 1 3 1 1 1 1 1 1 1 1 1 1\n",
      " 1 1 3 1 3 4 1 1 1 1 1 1 1 1 4 1 3 1 3 1 1 1 1 3 1 1 1 1 4 1 1 3 1 1 4 1 1\n",
      " 1 1 1 1 1 1 1 1 1 1 1 1 1 1 1 1 1 1 1 1 1 1 1 3 1 1 3 1 1 3 1 1 1 1 1 4 1\n",
      " 1 1 3 1 1 1 1 1 3 1 1 3 1 3 1 3 1 1 1 1 1 1 1 1 1 1 1 1 1 1 1 1 1 4 1 1 1\n",
      " 1 1 1 4 4 4 1 1 1 1 1 1 4 1 1 1 1 1 1 1 1 4 3 4 1 1 1 1 1 3 1 1 1 3 1 4 1\n",
      " 1 4 1 1 4 1 1 4 1 1 1 1 1 1 3 4 1 1 1 1 4 3 1 1 1 1 1 1 1 1 1 1 1 3 1 1 1\n",
      " 1 1 1 1 1 1 1 1 1 1 1 1 1 1 3 3 3 4 1 1 3 1 3 1 1 3 1 1 1 1 1 4 1 1 3 1 1\n",
      " 4 1 1 1 3 1 1 1 1 1 1 1 1 1 1 3 1 1 1 1 1 1 1 1 1 1 1 4 1 3 1 1 1 1 1 1 1\n",
      " 1 1 1 1 1 4 1 1 1 1 1 1 1 1 1 1 1 1 4 1 1 1 1 1 1 1 1 1 1 1 1 1 1 3 1 1 1\n",
      " 1 1 1 1 1 1 4 3 1 3 1 1 1 1 1 1 1 1 1 1 1 1 1 1 1 1 1 1 1 1 1 4 1 1 1 1 1\n",
      " 1 4 1 4 1 1 1 1 1 1 1 4 1 4 4 3 3 1 1 1 1 1 1 1 3 4 1 1 1 1 1 1 1 1 1 1 1\n",
      " 1 1 1 1 1 4 1 1 1 1 1 1 4 4 4 4 1 1 1 1 3 1 4 1 1 1 1 1 1 1 1 1 1 1 1 1 3\n",
      " 1 1 1 1 1 1 1 1 1 3 4 1 1 1 1 4 1 1 1 4 1 1 1 1 1 1 1 4 1 1 1 1 4 1 1 1 3\n",
      " 1 1 1 1 1 1 1 1 1 3 1 1 4 1 4 1 1 1 1 1 3 1 1 1 1 1 1 1 1 1 1 1 4 1 1 1 1\n",
      " 3]\n"
     ]
    }
   ],
   "source": [
    "test: object = transformators_test.label\n",
    "pred: object = clf.predict(transformators_test\n",
    "                           )\n",
    "print(f\"Prediction: {pred}\")"
   ]
  },
  {
   "cell_type": "code",
   "execution_count": 18,
   "metadata": {},
   "outputs": [
    {
     "name": "stdout",
     "output_type": "stream",
     "text": [
      "0.9619047619047619\n",
      "              precision    recall  f1-score   support\n",
      "\n",
      "           1       1.00      1.00      1.00       517\n",
      "           2       0.00      0.00      0.00        24\n",
      "           3       0.55      1.00      0.71        29\n",
      "           4       1.00      1.00      1.00        60\n",
      "\n",
      "    accuracy                           0.96       630\n",
      "   macro avg       0.64      0.75      0.68       630\n",
      "weighted avg       0.94      0.96      0.95       630\n",
      "\n"
     ]
    }
   ],
   "source": [
    "y_true = transformators_test.label\n",
    "y_pred = clf.predict(transformators_test\n",
    "                     )\n",
    "\n",
    "print(accuracy_score(y_true, y_pred, normalize=True))\n",
    "print(classification_report(y_true, y_pred))"
   ]
  },
  {
   "cell_type": "markdown",
   "metadata": {
    "pycharm": {
     "name": "#%% md\n"
    }
   },
   "source": [
    "## 6. Выполните подбор гиперпараметров модели"
   ]
  },
  {
   "cell_type": "code",
   "execution_count": 19,
   "metadata": {
    "pycharm": {
     "name": "#%%\n"
    }
   },
   "outputs": [
    {
     "name": "stdout",
     "output_type": "stream",
     "text": [
      "GridSearchCV(cv=5, estimator=DecisionTreeClassifier(),\n",
      "             param_grid={'criterion': ['gini', 'entropy'],\n",
      "                         'max_depth': [0, 10, 20, 30, 40, 50, 60, 70, 80, 90,\n",
      "                                       100, 110, 120, 130, 140],\n",
      "                         'min_samples_leaf': [0, 3, 6, 9, 12],\n",
      "                         'min_samples_split': [0, 2, 4, 6, 8]})\n"
     ]
    }
   ],
   "source": [
    "parameters = {\n",
    "    'criterion':['gini','entropy'],\n",
    "    'max_depth':[x for x in range(0,150,10)],\n",
    "    'min_samples_split': [x for x in range(0,10,2)],\n",
    "    'min_samples_leaf': [x for x in range(0,15,3)]\n",
    "}\n",
    "grid: GridSearchCV = GridSearchCV(\n",
    "    DecisionTreeClassifier(),\n",
    "    parameters,\n",
    "    cv=5\n",
    ")\n",
    "gs_result: Union[GridSearchCV, Any] = grid.fit(transformators_train, transformators_train.label)\n",
    "print(gs_result)"
   ]
  },
  {
   "cell_type": "markdown",
   "metadata": {
    "pycharm": {
     "name": "#%% md\n"
    }
   },
   "source": [
    "## 7. Заново обучите модель с подобранными гиперпараметрами"
   ]
  },
  {
   "cell_type": "code",
   "execution_count": 20,
   "metadata": {
    "pycharm": {
     "name": "#%%\n"
    }
   },
   "outputs": [
    {
     "name": "stdout",
     "output_type": "stream",
     "text": [
      "{'criterion': 'gini', 'max_depth': 10, 'min_samples_leaf': 3, 'min_samples_split': 6}\n",
      "1.0\n",
      "[1 1 1 3 4 2 1 1 1 1 1 2 1 1 1 1 1 1 1 1 1 1 1 1 1 1 1 1 1 4 1 3 1 1 1 1 1\n",
      " 1 1 1 4 4 1 1 1 1 1 1 1 4 1 1 1 1 1 1 1 4 1 1 1 1 1 1 4 1 1 1 1 1 1 1 1 1\n",
      " 1 1 1 1 1 1 4 1 1 1 1 1 2 1 1 1 1 1 1 1 1 1 2 1 1 1 1 1 1 3 4 1 1 1 1 4 1\n",
      " 1 4 1 1 4 1 4 3 1 1 1 1 1 1 4 1 1 2 1 1 1 1 1 1 1 1 2 1 1 1 1 1 1 1 1 1 1\n",
      " 1 1 2 1 2 4 1 1 1 1 1 1 1 1 4 1 3 1 2 1 1 1 1 3 1 1 1 1 4 1 1 2 1 1 4 1 1\n",
      " 1 1 1 1 1 1 1 1 1 1 1 1 1 1 1 1 1 1 1 1 1 1 1 3 1 1 2 1 1 2 1 1 1 1 1 4 1\n",
      " 1 1 3 1 1 1 1 1 3 1 1 3 1 3 1 3 1 1 1 1 1 1 1 1 1 1 1 1 1 1 1 1 1 4 1 1 1\n",
      " 1 1 1 4 4 4 1 1 1 1 1 1 4 1 1 1 1 1 1 1 1 4 3 4 1 1 1 1 1 2 1 1 1 3 1 4 1\n",
      " 1 4 1 1 4 1 1 4 1 1 1 1 1 1 2 4 1 1 1 1 4 2 1 1 1 1 1 1 1 1 1 1 1 2 1 1 1\n",
      " 1 1 1 1 1 1 1 1 1 1 1 1 1 1 3 2 3 4 1 1 3 1 3 1 1 3 1 1 1 1 1 4 1 1 2 1 1\n",
      " 4 1 1 1 2 1 1 1 1 1 1 1 1 1 1 3 1 1 1 1 1 1 1 1 1 1 1 4 1 3 1 1 1 1 1 1 1\n",
      " 1 1 1 1 1 4 1 1 1 1 1 1 1 1 1 1 1 1 4 1 1 1 1 1 1 1 1 1 1 1 1 1 1 2 1 1 1\n",
      " 1 1 1 1 1 1 4 3 1 2 1 1 1 1 1 1 1 1 1 1 1 1 1 1 1 1 1 1 1 1 1 4 1 1 1 1 1\n",
      " 1 4 1 4 1 1 1 1 1 1 1 4 1 4 4 3 3 1 1 1 1 1 1 1 3 4 1 1 1 1 1 1 1 1 1 1 1\n",
      " 1 1 1 1 1 4 1 1 1 1 1 1 4 4 4 4 1 1 1 1 2 1 4 1 1 1 1 1 1 1 1 1 1 1 1 1 3\n",
      " 1 1 1 1 1 1 1 1 1 3 4 1 1 1 1 4 1 1 1 4 1 1 1 1 1 1 1 4 1 1 1 1 4 1 1 1 3\n",
      " 1 1 1 1 1 1 1 1 1 2 1 1 4 1 4 1 1 1 1 1 2 1 1 1 1 1 1 1 1 1 1 1 4 1 1 1 1\n",
      " 3]\n"
     ]
    }
   ],
   "source": [
    "print(gs_result.best_params_)\n",
    "print(gs_result.best_score_)\n",
    "print(gs_result.predict(transformators_test))"
   ]
  },
  {
   "cell_type": "code",
   "execution_count": 21,
   "metadata": {},
   "outputs": [
    {
     "name": "stdout",
     "output_type": "stream",
     "text": [
      "1.0\n",
      "              precision    recall  f1-score   support\n",
      "\n",
      "           1       1.00      1.00      1.00       517\n",
      "           2       1.00      1.00      1.00        24\n",
      "           3       1.00      1.00      1.00        29\n",
      "           4       1.00      1.00      1.00        60\n",
      "\n",
      "    accuracy                           1.00       630\n",
      "   macro avg       1.00      1.00      1.00       630\n",
      "weighted avg       1.00      1.00      1.00       630\n",
      "\n"
     ]
    }
   ],
   "source": [
    "y_true = transformators_test.labe\n",
    "l\n",
    "y_pred = gs_result.predict(transformators_test)\n",
    "\n",
    "print(accuracy_score(y_true, y_pred, normalize=True))\n",
    "print(classification_report(y_true, y_pred))"
   ]
  },
  {
   "cell_type": "markdown",
   "metadata": {},
   "source": [
    "## 8. Постройте итоговое дерево классификации"
   ]
  },
  {
   "cell_type": "code",
   "execution_count": 28,
   "metadata": {
    "pycharm": {
     "name": "#%%\n"
    }
   },
   "outputs": [
    {
     "data": {
      "text/plain": "[Text(133.92000000000002, 190.26, 'X[4] <= 1.5\\ngini = 0.333\\nsamples = 1470\\nvalue = [1188, 65, 84, 133]'),\n Text(66.96000000000001, 135.9, 'gini = 0.0\\nsamples = 1188\\nvalue = [1188, 0, 0, 0]'),\n Text(200.88000000000002, 135.9, 'X[4] <= 3.5\\ngini = 0.636\\nsamples = 282\\nvalue = [0, 65, 84, 133]'),\n Text(133.92000000000002, 81.53999999999999, 'X[2] <= 0.002\\ngini = 0.492\\nsamples = 149\\nvalue = [0, 65, 84, 0]'),\n Text(66.96000000000001, 27.180000000000007, 'gini = 0.0\\nsamples = 65\\nvalue = [0, 65, 0, 0]'),\n Text(200.88000000000002, 27.180000000000007, 'gini = 0.0\\nsamples = 84\\nvalue = [0, 0, 84, 0]'),\n Text(267.84000000000003, 81.53999999999999, 'gini = 0.0\\nsamples = 133\\nvalue = [0, 0, 0, 133]')]"
     },
     "execution_count": 28,
     "metadata": {},
     "output_type": "execute_result"
    },
    {
     "data": {
      "text/plain": "<Figure size 432x288 with 1 Axes>",
      "image/png": "[encoded data removed]"
     },
     "metadata": {
      "needs_background": "light"
     },
     "output_type": "display_data"
    }
   ],
   "source": [
    "tree.plot_tree(clf)"
   ]
  },
  {
   "cell_type": "markdown",
   "metadata": {},
   "source": [
    "## 9. Разбейте данные для регрессии"
   ]
  },
  {
   "cell_type": "code",
   "execution_count": 29,
   "metadata": {
    "pycharm": {
     "name": "#%%\n"
    }
   },
   "outputs": [],
   "source": [
    "regression_train, regression_test = train_test_split(regression, test_size=0.3, train_size=0.7)"
   ]
  },
  {
   "cell_type": "markdown",
   "metadata": {
    "pycharm": {
     "name": "#%% md\n"
    }
   },
   "source": [
    "## 10. Примените алгоритм дерева регрессии\n"
   ]
  },
  {
   "cell_type": "code",
   "execution_count": 30,
   "metadata": {
    "pycharm": {
     "name": "#%%\n"
    }
   },
   "outputs": [
    {
     "data": {
      "text/plain": "DecisionTreeRegressor()"
     },
     "execution_count": 30,
     "metadata": {},
     "output_type": "execute_result"
    }
   ],
   "source": [
    "clf: DecisionTreeRegressor = DecisionTreeRegressor()\n",
    "clf.fit(regression_train, regression_train.label)"
   ]
  },
  {
   "cell_type": "markdown",
   "metadata": {
    "pycharm": {
     "name": "#%% md\n"
    }
   },
   "source": [
    "## 11. Сделайте предсказание на тестовой выборке"
   ]
  },
  {
   "cell_type": "code",
   "execution_count": 31,
   "metadata": {
    "pycharm": {
     "name": "#%%\n"
    }
   },
   "outputs": [
    {
     "name": "stdout",
     "output_type": "stream",
     "text": [
      "Prediction: [ 643. 1093.  525. 1093.  573.  467. 1093.  752.  485.  573.  443. 1093.\n",
      " 1093.  655.  526.  892.  716. 1093.  496. 1093. 1093.  528.  929.  718.\n",
      " 1093. 1093.  934.  612.  600.  862. 1093. 1093. 1093.  578.  716.  652.\n",
      "  812.  774.  468.  503.  525. 1093.  607. 1093.  580. 1093.  512. 1093.\n",
      "  504.  773. 1093. 1093. 1093. 1093. 1093.  514. 1093. 1093.  529. 1093.\n",
      " 1093.  476.  632.  498.  857. 1093.  514.  729. 1093.  581.  547. 1093.\n",
      "  807.  421.  756. 1093.  589. 1093.  840.  530.  497.  475.  850. 1093.\n",
      "  870.  880.  549. 1093.  604. 1093.  785.  611.  567.  524. 1093.  759.\n",
      " 1093.  542. 1093. 1093. 1093.  598.  771.  643.  723. 1093.  571.  490.\n",
      " 1093.  749. 1093.  815.  551.  632. 1093.  488. 1093.  696.  536.  478.\n",
      "  662.  580. 1093. 1068.  501.  564.  565.  906. 1093.  539.  758.  483.\n",
      " 1093.  567.  529. 1093.  658.  645. 1093. 1093. 1093.  825.  878. 1093.\n",
      " 1093.  930.  697.  494.  867. 1093. 1093. 1093. 1093.  737.  761.  742.\n",
      "  477.  684. 1093.  505. 1093. 1093. 1093. 1093.  751. 1093. 1093.  499.\n",
      "  544.  483. 1093.  557.  501.  831.  487. 1093.  628. 1093.  632.  542.\n",
      " 1068.  619.  840. 1093. 1093.  445.  605.  550.  556.  535.  466.  728.\n",
      "  540. 1093. 1093.  534.  822. 1093. 1093.  666.  585.  705.  421. 1093.\n",
      "  478.  495.  802.  755. 1093. 1093. 1093. 1093.  833. 1093.  482. 1093.\n",
      " 1093. 1093.  652.  769. 1093. 1093.  808.  530.  559.  542.  542. 1093.\n",
      "  514. 1093.  510.  878. 1093. 1093.  566.  740.  683.  692.  811.  795.\n",
      "  785.  548. 1093. 1093.  790.  651. 1093.  492. 1093. 1093.  764.  639.\n",
      "  887.  680. 1093. 1093. 1093.  882.  510.  939. 1093. 1093.  525.  421.\n",
      "  498. 1093.  601.  575.  494.  769.  456.  906.  796.  778.  697.  388.\n",
      "  511.  758.  503.  801.  482.  854.  497.  807.  600. 1093. 1093.  641.\n",
      "  563.  846. 1093.  633.  567. 1093.  521.  764.  715.  453. 1093.  527.\n",
      " 1093.  450.  830.  487. 1093. 1093.  565.  490. 1093. 1093.  634.  598.\n",
      "  830. 1093.  483.  871.  522. 1093.  493.  799.  835. 1093.  745.  609.\n",
      "  507.  738.  772.  762. 1093. 1093.  621. 1093.  693.  515.  516.  440.\n",
      "  584.  751. 1093.  533.  810.  723.  509.  448.  656.  732. 1093. 1093.\n",
      "  565.  528.  421.  667. 1093.  572. 1093.  542. 1093.  591.  633.  884.\n",
      " 1093.  880.  558. 1093.  774.  563.  734.  451.  612.  508.  675.  534.\n",
      " 1074. 1093.  630.  515. 1093.  622.  577. 1093. 1093. 1093. 1093. 1030.\n",
      " 1093.  488.  612. 1093.  791. 1093.  633. 1093.  570.  771. 1093. 1093.\n",
      "  721.  661.  787. 1093.  524.  467.  625. 1093. 1093.  661.  475.  448.\n",
      "  519. 1093.  565. 1093.  467.  701.  670.  848.  639.  536.  764.  600.\n",
      "  673.  570.  443.  502.  845.  856. 1093. 1093. 1093.  547.  850. 1093.\n",
      " 1093. 1093.  710.  671. 1093.  507. 1093.  490. 1093.  536.  462.  366.\n",
      "  476.  581. 1093. 1093.  759.  589.  869. 1093.  547.  627.  646.  740.\n",
      " 1093. 1051.  523.  719.  763.  503.  764.  670. 1092. 1093.  750.  817.\n",
      " 1093.  866.  560.  490.  502. 1093.  625. 1093. 1093.  838.  494. 1093.\n",
      "  923.  589. 1093.  741.  507. 1093.  781.  770.  812.  734.  863.  592.\n",
      "  796.  553.  738. 1093. 1093. 1093. 1093.  790.  648. 1093.  885.  547.\n",
      " 1093.  563.  781. 1093.  592.  773.  426. 1093. 1093. 1093. 1093.  871.\n",
      " 1093.  485. 1093. 1093.  438.  544.  840. 1093.  692.  827.  716.  880.\n",
      "  683.  599. 1093.  815. 1093.  635. 1093. 1093. 1093.  840.  534. 1093.\n",
      "  502. 1093.  499.  738.  430.  618.  715. 1093.  565.  506.  520.  518.\n",
      "  720. 1093. 1093.  764. 1093.  421. 1093.  633.  465.  774.  567.  570.\n",
      "  791.  495. 1093.  470.  906.  456.  728.  862.  502.  533.  495. 1093.\n",
      "  544.  505.  608.  632.  421. 1093. 1093.  510.  612. 1093.  495. 1093.\n",
      " 1093.  661. 1093.  827.  495.  727.  859.  831.  694.  599.  537. 1093.\n",
      "  498.  666.  860. 1093.  808.  542.  773. 1093. 1093.  747.  683.  810.\n",
      "  821.  746.  636. 1093.  661.  510. 1093. 1093.  426.  481.  821.  956.\n",
      " 1093. 1093.  582.  549. 1093.  711.]\n",
      "r2_score: 1.0\n",
      "mean_absolute_error: 0.586\n"
     ]
    }
   ],
   "source": [
    "test: object = regression_test.label\n",
    "pred: object = clf.predict(regression_test)\n",
    "print(f\"Prediction: {pred}\")\n",
    "\n",
    "print(f\"r2_score: {round(r2_score(test, pred), 3)}\")\n",
    "print(f\"mean_absolute_error: {round(mean_absolute_error(test, pred), 3)}\")"
   ]
  },
  {
   "cell_type": "markdown",
   "metadata": {
    "pycharm": {
     "name": "#%% md\n"
    }
   },
   "source": [
    "## 12. Выполните подбор гиперпараметров модели"
   ]
  },
  {
   "cell_type": "code",
   "execution_count": 32,
   "metadata": {
    "pycharm": {
     "name": "#%%\n"
    }
   },
   "outputs": [
    {
     "name": "stdout",
     "output_type": "stream",
     "text": [
      "GridSearchCV(cv=5, estimator=DecisionTreeRegressor(),\n",
      "             param_grid={'max_depth': array([1, 2, 3, 4, 5, 6, 7, 8, 9]),\n",
      "                         'min_samples_leaf': array([1, 2, 3, 4]),\n",
      "                         'min_samples_split': array([2, 3, 4, 5, 6, 7, 8, 9]),\n",
      "                         'splitter': ('best', 'random')})\n"
     ]
    }
   ],
   "source": [
    "parameters = {\n",
    "    'splitter':('best','random'),\n",
    "    'max_depth': arange(1,10),\n",
    "    'min_samples_split': arange(2,10),\n",
    "    'min_samples_leaf': arange(1,5)\n",
    "}\n",
    "grid: GridSearchCV = GridSearchCV(\n",
    "    DecisionTreeRegressor(),\n",
    "    parameters,\n",
    "    cv=5\n",
    ")\n",
    "gs_result: Union[GridSearchCV, Any] = grid.fit(regression_train, regression_train.label)\n",
    "print(gs_result)"
   ]
  },
  {
   "cell_type": "markdown",
   "metadata": {
    "pycharm": {
     "name": "#%% md\n"
    }
   },
   "source": [
    "## 13. Заново обучите модель с подобранными гиперпараметрам"
   ]
  },
  {
   "cell_type": "code",
   "execution_count": 33,
   "metadata": {
    "pycharm": {
     "name": "#%%\n"
    }
   },
   "outputs": [
    {
     "name": "stdout",
     "output_type": "stream",
     "text": [
      "{'max_depth': 8, 'min_samples_leaf': 2, 'min_samples_split': 4, 'splitter': 'best'}\n",
      "0.9999313873560697\n",
      "[ 644.4        1093.          524.14285714 1093.          571.5\n",
      "  465.6        1093.          751.8         484.90909091  571.5\n",
      "  442.         1093.         1093.          653.66666667  527.3125\n",
      "  894.66666667  716.6        1093.          494.85714286 1093.\n",
      " 1093.          527.3125      924.          716.6        1093.\n",
      " 1093.          939.          611.25        598.07692308  862.\n",
      " 1093.         1093.         1093.          576.85714286  716.6\n",
      "  651.66666667  812.71428571  774.66666667  469.          504.\n",
      "  524.14285714 1093.          608.2        1093.          580.\n",
      " 1093.          511.57894737 1093.          504.          772.66666667\n",
      " 1093.         1093.         1093.         1093.         1093.\n",
      "  515.17647059 1093.         1093.          527.3125     1093.\n",
      " 1093.          477.55555556  629.25        497.8         857.66666667\n",
      " 1093.          515.17647059  728.         1093.          580.\n",
      "  547.6        1093.          807.5         419.          754.875\n",
      " 1093.          589.6        1093.          840.          531.5\n",
      "  497.8         473.5         851.5        1093.          869.5\n",
      "  879.33333333  549.5        1093.          605.         1093.\n",
      "  784.          611.25        567.33333333  524.14285714 1093.\n",
      "  758.33333333 1093.          541.71428571 1093.         1093.\n",
      " 1093.          598.07692308  770.          644.4         721.66666667\n",
      " 1093.          571.5         489.23076923 1093.          749.\n",
      " 1093.          816.25        551.8         629.25       1093.\n",
      "  489.23076923 1093.          696.33333333  535.          477.55555556\n",
      "  661.5         580.         1093.         1071.          501.375\n",
      "  563.          565.25        909.         1093.          539.42857143\n",
      "  758.33333333  481.86666667 1093.          567.33333333  527.3125\n",
      " 1093.          658.          644.4        1093.         1093.\n",
      " 1093.          825.25        877.75       1093.         1093.\n",
      "  929.          696.33333333  494.85714286  866.5        1093.\n",
      " 1093.         1093.         1093.          737.71428571  761.33333333\n",
      "  740.5         477.55555556  683.75       1093.          504.\n",
      " 1093.         1093.         1093.         1093.          751.8\n",
      " 1093.         1093.          497.8         545.36363636  481.86666667\n",
      " 1093.          557.88888889  501.375       829.          489.23076923\n",
      " 1093.          629.25       1093.          629.25        541.71428571\n",
      " 1071.          619.375       841.         1093.         1093.\n",
      "  447.16666667  605.          549.5         554.875       535.\n",
      "  465.6         728.          539.42857143 1093.         1093.\n",
      "  535.          821.28571429 1093.         1093.          667.\n",
      "  586.375       704.          419.         1093.          477.55555556\n",
      "  494.85714286  801.8         754.875      1093.         1093.\n",
      " 1093.         1093.          834.         1093.          481.86666667\n",
      " 1093.         1093.         1093.          651.66666667  770.\n",
      " 1093.         1093.          807.5         531.5         557.88888889\n",
      "  541.71428571  541.71428571 1093.          515.17647059 1093.\n",
      "  511.57894737  877.75       1093.         1093.          565.25\n",
      "  740.5         683.75        693.66666667  810.25        794.83333333\n",
      "  784.          547.6        1093.         1093.          790.\n",
      "  651.66666667 1093.          491.90909091 1093.         1093.\n",
      "  763.66666667  640.          887.5         680.33333333 1093.\n",
      " 1093.         1093.          884.5         511.57894737  939.\n",
      " 1093.         1093.          524.14285714  419.          497.8\n",
      " 1093.          602.11111111  575.          494.85714286  770.\n",
      "  457.75        909.          794.83333333  772.66666667  696.33333333\n",
      "  393.          511.57894737  758.33333333  504.          801.8\n",
      "  481.86666667  853.75        497.8         807.5         598.07692308\n",
      " 1093.         1093.          642.          563.          845.5\n",
      " 1093.          633.25        567.33333333 1093.          520.88888889\n",
      "  763.66666667  714.          451.875      1093.          527.3125\n",
      " 1093.          451.875       829.          489.23076923 1093.\n",
      " 1093.          565.25        489.23076923 1093.         1093.\n",
      "  633.25        598.07692308  829.         1093.          481.86666667\n",
      "  871.5         520.88888889 1093.          491.90909091  799.5\n",
      "  834.         1093.          744.25        608.2         507.66666667\n",
      "  737.71428571  772.66666667  761.33333333 1093.         1093.\n",
      "  619.375      1093.          693.66666667  515.17647059  515.17647059\n",
      "  442.          583.06666667  751.8        1093.          531.5\n",
      "  810.25        721.66666667  507.66666667  447.16666667  656.75\n",
      "  731.25       1093.         1093.          565.25        527.3125\n",
      "  419.          667.         1093.          571.5        1093.\n",
      "  541.71428571 1093.          591.14285714  633.25        884.5\n",
      " 1093.          879.33333333  557.88888889 1093.          774.66666667\n",
      "  563.          733.75        451.875       611.25        507.66666667\n",
      "  674.5         535.         1071.         1093.          629.25\n",
      "  515.17647059 1093.          623.83333333  576.85714286 1093.\n",
      " 1093.         1093.         1093.         1017.5        1093.\n",
      "  489.23076923  611.25       1093.          790.         1093.\n",
      "  633.25       1093.          571.5         770.         1093.\n",
      " 1093.          721.66666667  661.5         787.         1093.\n",
      "  524.14285714  465.6         623.83333333 1093.         1093.\n",
      "  661.5         473.5         447.16666667  518.15789474 1093.\n",
      "  565.25       1093.          465.6         700.          670.27272727\n",
      "  847.5         640.          535.          763.66666667  598.07692308\n",
      "  674.5         571.5         442.          501.375       845.5\n",
      "  855.66666667 1093.         1093.         1093.          547.6\n",
      "  851.5        1093.         1093.         1093.          710.71428571\n",
      "  670.27272727 1093.          507.66666667 1093.          489.23076923\n",
      " 1093.          535.          461.33333333  375.          477.55555556\n",
      "  580.         1093.         1093.          758.33333333  589.6\n",
      "  869.5        1093.          547.6         629.25        646.55555556\n",
      "  740.5        1093.         1060.          524.14285714  719.4\n",
      "  763.66666667  504.          763.66666667  670.27272727 1093.\n",
      " 1093.          749.          816.25       1093.          866.5\n",
      "  560.4         489.23076923  501.375      1093.          623.83333333\n",
      " 1093.         1093.          836.66666667  494.85714286 1093.\n",
      "  929.          589.6        1093.          740.5         507.66666667\n",
      " 1093.          780.63636364  770.          812.71428571  733.75\n",
      "  862.          591.14285714  794.83333333  551.8         737.71428571\n",
      " 1093.         1093.         1093.         1093.          790.\n",
      "  646.55555556 1093.          884.5         547.6        1093.\n",
      "  563.          780.63636364 1093.          591.14285714  772.66666667\n",
      "  429.3        1093.         1093.         1093.         1093.\n",
      "  871.5        1093.          484.90909091 1093.         1093.\n",
      "  436.33333333  545.36363636  841.         1093.          692.\n",
      "  829.          716.6         879.33333333  683.75        598.07692308\n",
      " 1093.          816.25       1093.          636.22222222 1093.\n",
      " 1093.         1093.          841.          535.         1093.\n",
      "  501.375      1093.          497.8         737.71428571  429.3\n",
      "  619.375       714.         1093.          565.25        507.66666667\n",
      "  520.88888889  518.15789474  719.4        1093.         1093.\n",
      "  763.66666667 1093.          419.         1093.          633.25\n",
      "  465.6         774.66666667  567.33333333  571.5         790.\n",
      "  494.85714286 1093.          469.          909.          457.75\n",
      "  728.          863.          501.375       531.5         494.85714286\n",
      " 1093.          545.36363636  504.          608.2         629.25\n",
      "  419.         1093.         1093.          511.57894737  611.25\n",
      " 1093.          494.85714286 1093.         1093.          661.5\n",
      " 1093.          829.          494.85714286  728.          859.5\n",
      "  829.          693.66666667  598.07692308  537.44444444 1093.\n",
      "  497.8         667.          859.5        1093.          807.5\n",
      "  541.71428571  772.66666667 1093.         1093.          744.25\n",
      "  683.75        810.25        821.28571429  744.25        636.22222222\n",
      " 1093.          661.5         511.57894737 1093.         1093.\n",
      "  429.3         481.86666667  821.28571429  962.33333333 1093.\n",
      " 1093.          583.06666667  549.5        1093.          710.71428571]\n",
      "r2_score: 1.0\n",
      "mean_absolute_error: 0.836\n"
     ]
    }
   ],
   "source": [
    "print(gs_result.best_params_)\n",
    "print(gs_result.best_score_)\n",
    "print(gs_result.predict(regression_test))\n",
    "pred: object = gs_result.predict(regression_test)\n",
    "\n",
    "print(f\"r2_score: {round(r2_score(test, pred), 3)}\")\n",
    "print(f\"mean_absolute_error: {round(mean_absolute_error(test, pred), 3)}\")"
   ]
  },
  {
   "cell_type": "markdown",
   "metadata": {
    "pycharm": {
     "name": "#%% md\n"
    }
   },
   "source": [
    "## 14. Постройте итоговое дерево регрессии"
   ]
  },
  {
   "cell_type": "code",
   "execution_count": 35,
   "metadata": {
    "pycharm": {
     "name": "#%%\n"
    }
   },
   "outputs": [
    {
     "data": {
      "text/plain": "[Text(232.49873641304347, 208.38, 'X[4] <= 835.5\\nmse = 59474.878\\nsamples = 1470\\nvalue = 793.958'),\n Text(144.7539945652174, 190.26, 'X[4] <= 632.5\\nmse = 12654.571\\nsamples = 869\\nvalue = 608.649'),\n Text(74.42021739130435, 172.14, 'X[4] <= 533.5\\nmse = 2649.614\\nsamples = 536\\nvalue = 530.869'),\n Text(35.69380434782609, 154.01999999999998, 'X[4] <= 479.5\\nmse = 919.752\\nsamples = 285\\nvalue = 490.688'),\n Text(14.101630434782608, 135.89999999999998, 'X[4] <= 444.0\\nmse = 517.991\\nsamples = 83\\nvalue = 451.904'),\n Text(4.306304347826087, 117.77999999999999, 'X[4] <= 405.5\\nmse = 379.76\\nsamples = 25\\nvalue = 424.2'),\n Text(0.9704347826086956, 99.66, 'X[1] <= 0.019\\nmse = 134.0\\nsamples = 4\\nvalue = 384.0'),\n Text(0.4852173913043478, 81.53999999999999, 'mse = 0.0\\nsamples = 1\\nvalue = 366.0'),\n Text(1.4556521739130435, 81.53999999999999, 'X[4] <= 393.0\\nmse = 34.667\\nsamples = 3\\nvalue = 390.0'),\n Text(0.9704347826086956, 63.41999999999999, 'X[4] <= 386.0\\nmse = 4.0\\nsamples = 2\\nvalue = 386.0'),\n Text(0.4852173913043478, 45.29999999999998, 'mse = 0.0\\nsamples = 1\\nvalue = 384.0'),\n Text(1.4556521739130435, 45.29999999999998, 'mse = 0.0\\nsamples = 1\\nvalue = 388.0'),\n Text(1.9408695652173913, 63.41999999999999, 'mse = 0.0\\nsamples = 1\\nvalue = 398.0'),\n Text(7.642173913043478, 99.66, 'X[4] <= 433.5\\nmse = 60.122\\nsamples = 21\\nvalue = 431.857'),\n Text(4.609565217391304, 81.53999999999999, 'X[4] <= 424.0\\nmse = 27.456\\nsamples = 13\\nvalue = 426.923'),\n Text(2.911304347826087, 63.41999999999999, 'X[2] <= 0.003\\nmse = 18.667\\nsamples = 3\\nvalue = 419.0'),\n Text(2.426086956521739, 45.29999999999998, 'mse = 0.0\\nsamples = 1\\nvalue = 413.0'),\n Text(3.396521739130435, 45.29999999999998, 'X[4] <= 422.0\\nmse = 1.0\\nsamples = 2\\nvalue = 422.0'),\n Text(2.911304347826087, 27.17999999999998, 'mse = 0.0\\nsamples = 1\\nvalue = 421.0'),\n Text(3.8817391304347826, 27.17999999999998, 'mse = 0.0\\nsamples = 1\\nvalue = 423.0'),\n Text(6.3078260869565215, 63.41999999999999, 'X[4] <= 428.5\\nmse = 5.61\\nsamples = 10\\nvalue = 429.3'),\n Text(5.337391304347826, 45.29999999999998, 'X[3] <= 0.0\\nmse = 0.667\\nsamples = 3\\nvalue = 426.0'),\n Text(4.852173913043478, 27.17999999999998, 'X[4] <= 426.5\\nmse = 0.25\\nsamples = 2\\nvalue = 426.5'),\n Text(4.36695652173913, 9.059999999999974, 'mse = 0.0\\nsamples = 1\\nvalue = 426.0'),\n Text(5.337391304347826, 9.059999999999974, 'mse = 0.0\\nsamples = 1\\nvalue = 427.0'),\n Text(5.822608695652174, 27.17999999999998, 'mse = 0.0\\nsamples = 1\\nvalue = 425.0'),\n Text(7.278260869565218, 45.29999999999998, 'X[0] <= 0.003\\nmse = 1.061\\nsamples = 7\\nvalue = 430.714'),\n Text(6.79304347826087, 27.17999999999998, 'X[4] <= 430.5\\nmse = 0.222\\nsamples = 6\\nvalue = 430.333'),\n Text(6.3078260869565215, 9.059999999999974, 'mse = 0.0\\nsamples = 4\\nvalue = 430.0'),\n Text(7.278260869565218, 9.059999999999974, 'mse = 0.0\\nsamples = 2\\nvalue = 431.0'),\n Text(7.763478260869565, 27.17999999999998, 'mse = 0.0\\nsamples = 1\\nvalue = 433.0'),\n Text(10.674782608695653, 81.53999999999999, 'X[4] <= 439.0\\nmse = 9.359\\nsamples = 8\\nvalue = 439.875'),\n Text(9.704347826086956, 63.41999999999999, 'X[0] <= 0.003\\nmse = 2.889\\nsamples = 3\\nvalue = 436.333'),\n Text(9.219130434782608, 45.29999999999998, 'X[3] <= 0.0\\nmse = 0.25\\nsamples = 2\\nvalue = 437.5'),\n Text(8.73391304347826, 27.17999999999998, 'mse = 0.0\\nsamples = 1\\nvalue = 437.0'),\n Text(9.704347826086956, 27.17999999999998, 'mse = 0.0\\nsamples = 1\\nvalue = 438.0'),\n Text(10.189565217391305, 45.29999999999998, 'mse = 0.0\\nsamples = 1\\nvalue = 434.0'),\n Text(11.645217391304348, 63.41999999999999, 'X[0] <= 0.001\\nmse = 1.2\\nsamples = 5\\nvalue = 442.0'),\n Text(11.16, 45.29999999999998, 'mse = 0.0\\nsamples = 1\\nvalue = 440.0'),\n Text(12.130434782608695, 45.29999999999998, 'X[1] <= 0.017\\nmse = 0.25\\nsamples = 4\\nvalue = 442.5'),\n Text(11.645217391304348, 27.17999999999998, 'mse = 0.0\\nsamples = 2\\nvalue = 442.0'),\n Text(12.615652173913043, 27.17999999999998, 'mse = 0.0\\nsamples = 2\\nvalue = 443.0'),\n Text(23.89695652173913, 117.77999999999999, 'X[4] <= 463.5\\nmse = 104.166\\nsamples = 58\\nvalue = 463.845'),\n Text(17.831739130434784, 99.66, 'X[4] <= 455.0\\nmse = 28.459\\nsamples = 28\\nvalue = 454.571'),\n Text(15.284347826086956, 81.53999999999999, 'X[4] <= 449.5\\nmse = 7.837\\nsamples = 14\\nvalue = 449.857'),\n Text(13.58608695652174, 63.41999999999999, 'X[4] <= 446.0\\nmse = 2.806\\nsamples = 6\\nvalue = 447.167'),\n Text(13.10086956521739, 45.29999999999998, 'mse = 0.0\\nsamples = 2\\nvalue = 445.0'),\n Text(14.071304347826088, 45.29999999999998, 'X[1] <= 0.019\\nmse = 0.688\\nsamples = 4\\nvalue = 448.25'),\n Text(13.58608695652174, 27.17999999999998, 'X[2] <= 0.007\\nmse = 0.25\\nsamples = 2\\nvalue = 447.5'),\n Text(13.10086956521739, 9.059999999999974, 'mse = 0.0\\nsamples = 1\\nvalue = 447.0'),\n Text(14.071304347826088, 9.059999999999974, 'mse = 0.0\\nsamples = 1\\nvalue = 448.0'),\n Text(14.556521739130435, 27.17999999999998, 'mse = 0.0\\nsamples = 2\\nvalue = 449.0'),\n Text(16.982608695652175, 63.41999999999999, 'X[4] <= 452.0\\nmse = 2.109\\nsamples = 8\\nvalue = 451.875'),\n Text(16.01217391304348, 45.29999999999998, 'X[4] <= 450.5\\nmse = 0.25\\nsamples = 4\\nvalue = 450.5'),\n Text(15.52695652173913, 27.17999999999998, 'mse = 0.0\\nsamples = 2\\nvalue = 450.0'),\n Text(16.497391304347826, 27.17999999999998, 'mse = 0.0\\nsamples = 2\\nvalue = 451.0'),\n Text(17.95304347826087, 45.29999999999998, 'X[2] <= 0.01\\nmse = 0.188\\nsamples = 4\\nvalue = 453.25'),\n Text(17.46782608695652, 27.17999999999998, 'mse = 0.0\\nsamples = 3\\nvalue = 453.0'),\n Text(18.438260869565216, 27.17999999999998, 'mse = 0.0\\nsamples = 1\\nvalue = 454.0'),\n Text(20.37913043478261, 81.53999999999999, 'X[4] <= 459.5\\nmse = 4.633\\nsamples = 14\\nvalue = 459.286'),\n Text(19.40869565217391, 63.41999999999999, 'X[4] <= 457.0\\nmse = 1.188\\nsamples = 8\\nvalue = 457.75'),\n Text(18.923478260869565, 45.29999999999998, 'mse = 0.0\\nsamples = 2\\nvalue = 456.0'),\n Text(19.89391304347826, 45.29999999999998, 'X[4] <= 458.5\\nmse = 0.222\\nsamples = 6\\nvalue = 458.333'),\n Text(19.40869565217391, 27.17999999999998, 'mse = 0.0\\nsamples = 4\\nvalue = 458.0'),\n Text(20.37913043478261, 27.17999999999998, 'mse = 0.0\\nsamples = 2\\nvalue = 459.0'),\n Text(21.349565217391305, 63.41999999999999, 'X[4] <= 461.0\\nmse = 1.889\\nsamples = 6\\nvalue = 461.333'),\n Text(20.864347826086956, 45.29999999999998, 'mse = 0.0\\nsamples = 3\\nvalue = 460.0'),\n Text(21.83478260869565, 45.29999999999998, 'X[4] <= 462.5\\nmse = 0.222\\nsamples = 3\\nvalue = 462.667'),\n Text(21.349565217391305, 27.17999999999998, 'mse = 0.0\\nsamples = 1\\nvalue = 462.0'),\n Text(22.32, 27.17999999999998, 'mse = 0.0\\nsamples = 2\\nvalue = 463.0'),\n Text(29.96217391304348, 99.66, 'X[4] <= 471.5\\nmse = 19.65\\nsamples = 30\\nvalue = 472.5'),\n Text(26.68695652173913, 81.53999999999999, 'X[4] <= 467.5\\nmse = 4.066\\nsamples = 11\\nvalue = 467.455'),\n Text(24.74608695652174, 63.41999999999999, 'X[4] <= 465.5\\nmse = 1.04\\nsamples = 5\\nvalue = 465.6'),\n Text(23.775652173913045, 45.29999999999998, 'X[3] <= 0.0\\nmse = 0.25\\nsamples = 2\\nvalue = 464.5'),\n Text(23.290434782608695, 27.17999999999998, 'mse = 0.0\\nsamples = 1\\nvalue = 465.0'),\n Text(24.26086956521739, 27.17999999999998, 'mse = 0.0\\nsamples = 1\\nvalue = 464.0'),\n Text(25.716521739130435, 45.29999999999998, 'X[2] <= 0.008\\nmse = 0.222\\nsamples = 3\\nvalue = 466.333'),\n Text(25.231304347826086, 27.17999999999998, 'mse = 0.0\\nsamples = 1\\nvalue = 467.0'),\n Text(26.20173913043478, 27.17999999999998, 'mse = 0.0\\nsamples = 2\\nvalue = 466.0'),\n Text(28.62782608695652, 63.41999999999999, 'X[4] <= 469.5\\nmse = 1.333\\nsamples = 6\\nvalue = 469.0'),\n Text(27.657391304347826, 45.29999999999998, 'X[4] <= 468.5\\nmse = 0.188\\nsamples = 4\\nvalue = 468.25'),\n Text(27.17217391304348, 27.17999999999998, 'mse = 0.0\\nsamples = 3\\nvalue = 468.0'),\n Text(28.142608695652175, 27.17999999999998, 'mse = 0.0\\nsamples = 1\\nvalue = 469.0'),\n Text(29.598260869565216, 45.29999999999998, 'X[0] <= 0.002\\nmse = 0.25\\nsamples = 2\\nvalue = 470.5'),\n Text(29.11304347826087, 27.17999999999998, 'mse = 0.0\\nsamples = 1\\nvalue = 471.0'),\n Text(30.083478260869565, 27.17999999999998, 'mse = 0.0\\nsamples = 1\\nvalue = 470.0'),\n Text(33.237391304347824, 81.53999999999999, 'X[4] <= 475.5\\nmse = 5.402\\nsamples = 19\\nvalue = 475.421'),\n Text(32.02434782608696, 63.41999999999999, 'X[4] <= 474.0\\nmse = 1.65\\nsamples = 10\\nvalue = 473.5'),\n Text(31.53913043478261, 45.29999999999998, 'X[4] <= 472.5\\nmse = 0.25\\nsamples = 6\\nvalue = 472.5'),\n Text(31.05391304347826, 27.17999999999998, 'mse = 0.0\\nsamples = 3\\nvalue = 472.0'),\n Text(32.02434782608696, 27.17999999999998, 'mse = 0.0\\nsamples = 3\\nvalue = 473.0'),\n Text(32.509565217391305, 45.29999999999998, 'mse = 0.0\\nsamples = 4\\nvalue = 475.0'),\n Text(34.450434782608696, 63.41999999999999, 'X[2] <= 0.005\\nmse = 0.914\\nsamples = 9\\nvalue = 477.556'),\n Text(33.48, 45.29999999999998, 'X[1] <= 0.02\\nmse = 0.16\\nsamples = 5\\nvalue = 476.8'),\n Text(32.99478260869565, 27.17999999999998, 'mse = 0.0\\nsamples = 4\\nvalue = 477.0'),\n Text(33.96521739130435, 27.17999999999998, 'mse = 0.0\\nsamples = 1\\nvalue = 476.0'),\n Text(35.420869565217394, 45.29999999999998, 'X[3] <= 0.0\\nmse = 0.25\\nsamples = 4\\nvalue = 478.5'),\n Text(34.93565217391304, 27.17999999999998, 'mse = 0.0\\nsamples = 2\\nvalue = 478.0'),\n Text(35.90608695652174, 27.17999999999998, 'mse = 0.0\\nsamples = 2\\nvalue = 479.0'),\n Text(57.28597826086956, 135.89999999999998, 'X[4] <= 505.5\\nmse = 212.809\\nsamples = 202\\nvalue = 506.624'),\n Text(46.52021739130435, 117.77999999999999, 'X[4] <= 493.5\\nmse = 62.173\\nsamples = 92\\nvalue = 492.978'),\n Text(42.092608695652174, 99.66, 'X[4] <= 486.5\\nmse = 16.264\\nsamples = 50\\nvalue = 486.66'),\n Text(39.54521739130435, 81.53999999999999, 'X[4] <= 483.5\\nmse = 2.976\\nsamples = 26\\nvalue = 483.154'),\n Text(38.332173913043476, 63.41999999999999, 'X[4] <= 481.5\\nmse = 0.649\\nsamples = 15\\nvalue = 481.867'),\n Text(37.361739130434785, 45.29999999999998, 'X[2] <= 0.007\\nmse = 0.188\\nsamples = 4\\nvalue = 480.75'),\n Text(36.87652173913043, 27.17999999999998, 'mse = 0.0\\nsamples = 1\\nvalue = 480.0'),\n Text(37.84695652173913, 27.17999999999998, 'mse = 0.0\\nsamples = 3\\nvalue = 481.0'),\n Text(39.302608695652175, 45.29999999999998, 'X[4] <= 482.5\\nmse = 0.198\\nsamples = 11\\nvalue = 482.273'),\n Text(38.81739130434782, 27.17999999999998, 'mse = 0.0\\nsamples = 8\\nvalue = 482.0'),\n Text(39.78782608695652, 27.17999999999998, 'mse = 0.0\\nsamples = 3\\nvalue = 483.0'),\n Text(40.75826086956522, 63.41999999999999, 'X[4] <= 484.5\\nmse = 0.81\\nsamples = 11\\nvalue = 484.909'),\n Text(40.27304347826087, 45.29999999999998, 'mse = 0.0\\nsamples = 5\\nvalue = 484.0'),\n Text(41.243478260869566, 45.29999999999998, 'X[4] <= 485.5\\nmse = 0.222\\nsamples = 6\\nvalue = 485.667'),\n Text(40.75826086956522, 27.17999999999998, 'mse = 0.0\\nsamples = 2\\nvalue = 485.0'),\n Text(41.72869565217391, 27.17999999999998, 'mse = 0.0\\nsamples = 4\\nvalue = 486.0'),\n Text(44.64, 81.53999999999999, 'X[4] <= 490.5\\nmse = 2.915\\nsamples = 24\\nvalue = 490.458'),\n Text(43.6695652173913, 63.41999999999999, 'X[4] <= 489.0\\nmse = 1.408\\nsamples = 13\\nvalue = 489.231'),\n Text(43.184347826086956, 45.29999999999998, 'X[0] <= 0.002\\nmse = 0.25\\nsamples = 4\\nvalue = 487.5'),\n Text(42.69913043478261, 27.17999999999998, 'mse = 0.0\\nsamples = 2\\nvalue = 487.0'),\n Text(43.6695652173913, 27.17999999999998, 'mse = 0.0\\nsamples = 2\\nvalue = 488.0'),\n Text(44.154782608695655, 45.29999999999998, 'mse = 0.0\\nsamples = 9\\nvalue = 490.0'),\n Text(45.61043478260869, 63.41999999999999, 'X[4] <= 491.5\\nmse = 0.81\\nsamples = 11\\nvalue = 491.909'),\n Text(45.125217391304346, 45.29999999999998, 'mse = 0.0\\nsamples = 5\\nvalue = 491.0'),\n Text(46.095652173913045, 45.29999999999998, 'X[4] <= 492.5\\nmse = 0.222\\nsamples = 6\\nvalue = 492.667'),\n Text(45.61043478260869, 27.17999999999998, 'mse = 0.0\\nsamples = 2\\nvalue = 492.0'),\n Text(46.58086956521739, 27.17999999999998, 'mse = 0.0\\nsamples = 4\\nvalue = 493.0'),\n Text(50.947826086956525, 99.66, 'X[4] <= 499.5\\nmse = 12.726\\nsamples = 42\\nvalue = 500.5'),\n Text(48.52173913043478, 81.53999999999999, 'X[4] <= 496.5\\nmse = 2.713\\nsamples = 17\\nvalue = 496.588'),\n Text(47.55130434782609, 63.41999999999999, 'X[1] <= 0.013\\nmse = 0.694\\nsamples = 7\\nvalue = 494.857'),\n Text(47.06608695652174, 45.29999999999998, 'mse = 0.0\\nsamples = 3\\nvalue = 494.0'),\n Text(48.036521739130436, 45.29999999999998, 'X[4] <= 495.5\\nmse = 0.25\\nsamples = 4\\nvalue = 495.5'),\n Text(47.55130434782609, 27.17999999999998, 'mse = 0.0\\nsamples = 2\\nvalue = 495.0'),\n Text(48.52173913043478, 27.17999999999998, 'mse = 0.0\\nsamples = 2\\nvalue = 496.0'),\n Text(49.49217391304348, 63.41999999999999, 'X[4] <= 497.5\\nmse = 0.56\\nsamples = 10\\nvalue = 497.8'),\n Text(49.00695652173913, 45.29999999999998, 'mse = 0.0\\nsamples = 4\\nvalue = 497.0'),\n Text(49.977391304347826, 45.29999999999998, 'X[3] <= 0.0\\nmse = 0.222\\nsamples = 6\\nvalue = 498.333'),\n Text(49.49217391304348, 27.17999999999998, 'mse = 0.0\\nsamples = 2\\nvalue = 499.0'),\n Text(50.46260869565217, 27.17999999999998, 'mse = 0.0\\nsamples = 4\\nvalue = 498.0'),\n Text(53.37391304347826, 81.53999999999999, 'X[4] <= 502.5\\nmse = 2.054\\nsamples = 25\\nvalue = 503.16'),\n Text(52.40347826086956, 63.41999999999999, 'X[3] <= 0.0\\nmse = 0.484\\nsamples = 8\\nvalue = 501.375'),\n Text(51.918260869565216, 45.29999999999998, 'X[4] <= 500.5\\nmse = 0.188\\nsamples = 4\\nvalue = 500.75'),\n Text(51.43304347826087, 27.17999999999998, 'mse = 0.0\\nsamples = 1\\nvalue = 500.0'),\n Text(52.40347826086956, 27.17999999999998, 'mse = 0.0\\nsamples = 3\\nvalue = 501.0'),\n Text(52.888695652173915, 45.29999999999998, 'mse = 0.0\\nsamples = 4\\nvalue = 502.0'),\n Text(54.34434782608696, 63.41999999999999, 'X[4] <= 503.5\\nmse = 0.588\\nsamples = 17\\nvalue = 504.0'),\n Text(53.85913043478261, 45.29999999999998, 'mse = 0.0\\nsamples = 5\\nvalue = 503.0'),\n Text(54.829565217391306, 45.29999999999998, 'X[4] <= 504.5\\nmse = 0.243\\nsamples = 12\\nvalue = 504.417'),\n Text(54.34434782608696, 27.17999999999998, 'mse = 0.0\\nsamples = 7\\nvalue = 504.0'),\n Text(55.31478260869565, 27.17999999999998, 'mse = 0.0\\nsamples = 5\\nvalue = 505.0'),\n Text(68.05173913043478, 117.77999999999999, 'X[4] <= 519.5\\nmse = 52.817\\nsamples = 110\\nvalue = 518.036'),\n Text(62.83565217391304, 99.66, 'X[4] <= 513.5\\nmse = 15.754\\nsamples = 70\\nvalue = 513.4'),\n Text(59.681739130434785, 81.53999999999999, 'X[4] <= 509.5\\nmse = 5.067\\nsamples = 34\\nvalue = 509.853'),\n Text(57.74086956521739, 63.41999999999999, 'X[4] <= 507.5\\nmse = 1.422\\nsamples = 15\\nvalue = 507.667'),\n Text(56.770434782608696, 45.29999999999998, 'X[4] <= 506.5\\nmse = 0.222\\nsamples = 6\\nvalue = 506.333'),\n Text(56.28521739130435, 27.17999999999998, 'mse = 0.0\\nsamples = 4\\nvalue = 506.0'),\n Text(57.25565217391304, 27.17999999999998, 'mse = 0.0\\nsamples = 2\\nvalue = 507.0'),\n Text(58.711304347826086, 45.29999999999998, 'X[4] <= 508.5\\nmse = 0.247\\nsamples = 9\\nvalue = 508.556'),\n Text(58.22608695652174, 27.17999999999998, 'mse = 0.0\\nsamples = 4\\nvalue = 508.0'),\n Text(59.19652173913043, 27.17999999999998, 'mse = 0.0\\nsamples = 5\\nvalue = 509.0'),\n Text(61.622608695652175, 63.41999999999999, 'X[4] <= 511.5\\nmse = 1.191\\nsamples = 19\\nvalue = 511.579'),\n Text(60.65217391304348, 45.29999999999998, 'X[4] <= 510.5\\nmse = 0.247\\nsamples = 9\\nvalue = 510.556'),\n Text(60.16695652173913, 27.17999999999998, 'mse = 0.0\\nsamples = 4\\nvalue = 510.0'),\n Text(61.13739130434782, 27.17999999999998, 'mse = 0.0\\nsamples = 5\\nvalue = 511.0'),\n Text(62.59304347826087, 45.29999999999998, 'X[4] <= 512.5\\nmse = 0.25\\nsamples = 10\\nvalue = 512.5'),\n Text(62.10782608695652, 27.17999999999998, 'mse = 0.0\\nsamples = 5\\nvalue = 512.0'),\n Text(63.07826086956522, 27.17999999999998, 'mse = 0.0\\nsamples = 5\\nvalue = 513.0'),\n Text(65.9895652173913, 81.53999999999999, 'X[4] <= 516.5\\nmse = 2.743\\nsamples = 36\\nvalue = 516.75'),\n Text(65.01913043478261, 63.41999999999999, 'X[4] <= 515.5\\nmse = 0.498\\nsamples = 17\\nvalue = 515.176'),\n Text(64.53391304347826, 45.29999999999998, 'X[4] <= 514.5\\nmse = 0.198\\nsamples = 11\\nvalue = 514.727'),\n Text(64.04869565217392, 27.17999999999998, 'mse = 0.0\\nsamples = 3\\nvalue = 514.0'),\n Text(65.01913043478261, 27.17999999999998, 'mse = 0.0\\nsamples = 8\\nvalue = 515.0'),\n Text(65.50434782608696, 45.29999999999998, 'mse = 0.0\\nsamples = 6\\nvalue = 516.0'),\n Text(66.96, 63.41999999999999, 'X[4] <= 518.5\\nmse = 0.554\\nsamples = 19\\nvalue = 518.158'),\n Text(66.47478260869565, 45.29999999999998, 'X[4] <= 517.5\\nmse = 0.222\\nsamples = 12\\nvalue = 517.667'),\n Text(65.9895652173913, 27.17999999999998, 'mse = 0.0\\nsamples = 4\\nvalue = 517.0'),\n Text(66.96, 27.17999999999998, 'mse = 0.0\\nsamples = 8\\nvalue = 518.0'),\n Text(67.44521739130435, 45.29999999999998, 'mse = 0.0\\nsamples = 7\\nvalue = 519.0'),\n Text(73.26782608695652, 99.66, 'X[4] <= 525.5\\nmse = 14.228\\nsamples = 40\\nvalue = 526.15'),\n Text(70.35652173913043, 81.53999999999999, 'X[4] <= 522.5\\nmse = 3.215\\nsamples = 16\\nvalue = 522.312'),\n Text(68.90086956521739, 63.41999999999999, 'X[4] <= 520.5\\nmse = 0.543\\nsamples = 9\\nvalue = 520.889'),\n Text(68.41565217391305, 45.29999999999998, 'mse = 0.0\\nsamples = 3\\nvalue = 520.0'),\n Text(69.38608695652174, 45.29999999999998, 'X[2] <= 0.003\\nmse = 0.222\\nsamples = 6\\nvalue = 521.333'),\n Text(68.90086956521739, 27.17999999999998, 'mse = 0.0\\nsamples = 2\\nvalue = 522.0'),\n Text(69.87130434782608, 27.17999999999998, 'mse = 0.0\\nsamples = 4\\nvalue = 521.0'),\n Text(71.81217391304348, 63.41999999999999, 'X[4] <= 524.5\\nmse = 0.694\\nsamples = 7\\nvalue = 524.143'),\n Text(71.32695652173913, 45.29999999999998, 'X[4] <= 523.5\\nmse = 0.25\\nsamples = 4\\nvalue = 523.5'),\n Text(70.84173913043479, 27.17999999999998, 'mse = 0.0\\nsamples = 2\\nvalue = 523.0'),\n Text(71.81217391304348, 27.17999999999998, 'mse = 0.0\\nsamples = 2\\nvalue = 524.0'),\n Text(72.29739130434783, 45.29999999999998, 'mse = 0.0\\nsamples = 3\\nvalue = 525.0'),\n Text(76.1791304347826, 81.53999999999999, 'X[4] <= 529.5\\nmse = 5.207\\nsamples = 24\\nvalue = 528.708'),\n Text(74.23826086956522, 63.41999999999999, 'X[4] <= 527.5\\nmse = 1.09\\nsamples = 16\\nvalue = 527.312'),\n Text(73.26782608695652, 45.29999999999998, 'X[4] <= 526.5\\nmse = 0.234\\nsamples = 8\\nvalue = 526.375'),\n Text(72.78260869565217, 27.17999999999998, 'mse = 0.0\\nsamples = 5\\nvalue = 526.0'),\n Text(73.75304347826086, 27.17999999999998, 'mse = 0.0\\nsamples = 3\\nvalue = 527.0'),\n Text(75.20869565217392, 45.29999999999998, 'X[4] <= 528.5\\nmse = 0.188\\nsamples = 8\\nvalue = 528.25'),\n Text(74.72347826086957, 27.17999999999998, 'mse = 0.0\\nsamples = 6\\nvalue = 528.0'),\n Text(75.69391304347826, 27.17999999999998, 'mse = 0.0\\nsamples = 2\\nvalue = 529.0'),\n Text(78.12, 63.41999999999999, 'X[4] <= 531.5\\nmse = 1.75\\nsamples = 8\\nvalue = 531.5'),\n Text(77.1495652173913, 45.29999999999998, 'X[0] <= 0.002\\nmse = 0.188\\nsamples = 4\\nvalue = 530.25'),\n Text(76.66434782608695, 27.17999999999998, 'mse = 0.0\\nsamples = 1\\nvalue = 531.0'),\n Text(77.63478260869564, 27.17999999999998, 'mse = 0.0\\nsamples = 3\\nvalue = 530.0'),\n Text(79.0904347826087, 45.29999999999998, 'X[3] <= 0.0\\nmse = 0.188\\nsamples = 4\\nvalue = 532.75'),\n Text(78.60521739130435, 27.17999999999998, 'mse = 0.0\\nsamples = 1\\nvalue = 532.0'),\n Text(79.57565217391304, 27.17999999999998, 'mse = 0.0\\nsamples = 3\\nvalue = 533.0'),\n Text(113.14663043478261, 154.01999999999998, 'X[4] <= 575.5\\nmse = 698.919\\nsamples = 251\\nvalue = 576.494'),\n Text(95.83043478260869, 135.89999999999998, 'X[4] <= 553.5\\nmse = 132.938\\nsamples = 119\\nvalue = 552.462'),\n Text(87.82434782608695, 117.77999999999999, 'X[4] <= 543.5\\nmse = 33.41\\nsamples = 67\\nvalue = 543.806'),\n Text(83.45739130434782, 99.66, 'X[4] <= 538.5\\nmse = 6.304\\nsamples = 31\\nvalue = 538.226'),\n Text(81.51652173913044, 81.53999999999999, 'X[4] <= 536.5\\nmse = 1.855\\nsamples = 17\\nvalue = 536.294'),\n Text(80.54608695652173, 63.41999999999999, 'X[4] <= 534.5\\nmse = 0.5\\nsamples = 8\\nvalue = 535.0'),\n Text(80.06086956521739, 45.29999999999998, 'mse = 0.0\\nsamples = 2\\nvalue = 534.0'),\n Text(81.03130434782608, 45.29999999999998, 'X[4] <= 535.5\\nmse = 0.222\\nsamples = 6\\nvalue = 535.333'),\n Text(80.54608695652173, 27.17999999999998, 'mse = 0.0\\nsamples = 4\\nvalue = 535.0'),\n Text(81.51652173913044, 27.17999999999998, 'mse = 0.0\\nsamples = 2\\nvalue = 536.0'),\n Text(82.48695652173913, 63.41999999999999, 'X[4] <= 537.5\\nmse = 0.247\\nsamples = 9\\nvalue = 537.444'),\n Text(82.00173913043479, 45.29999999999998, 'mse = 0.0\\nsamples = 5\\nvalue = 537.0'),\n Text(82.97217391304348, 45.29999999999998, 'mse = 0.0\\nsamples = 4\\nvalue = 538.0'),\n Text(85.39826086956522, 81.53999999999999, 'X[4] <= 540.5\\nmse = 1.673\\nsamples = 14\\nvalue = 540.571'),\n Text(84.42782608695651, 63.41999999999999, 'X[3] <= 0.0\\nmse = 0.245\\nsamples = 7\\nvalue = 539.429'),\n Text(83.94260869565217, 45.29999999999998, 'mse = 0.0\\nsamples = 3\\nvalue = 540.0'),\n Text(84.91304347826087, 45.29999999999998, 'mse = 0.0\\nsamples = 4\\nvalue = 539.0'),\n Text(86.36869565217391, 63.41999999999999, 'X[4] <= 541.5\\nmse = 0.49\\nsamples = 7\\nvalue = 541.714'),\n Text(85.88347826086957, 45.29999999999998, 'mse = 0.0\\nsamples = 3\\nvalue = 541.0'),\n Text(86.85391304347826, 45.29999999999998, 'X[1] <= 0.006\\nmse = 0.188\\nsamples = 4\\nvalue = 542.25'),\n Text(86.36869565217391, 27.17999999999998, 'mse = 0.0\\nsamples = 1\\nvalue = 543.0'),\n Text(87.3391304347826, 27.17999999999998, 'mse = 0.0\\nsamples = 3\\nvalue = 542.0'),\n Text(92.19130434782609, 99.66, 'X[4] <= 548.5\\nmse = 6.849\\nsamples = 36\\nvalue = 548.611'),\n Text(90.25043478260869, 81.53999999999999, 'X[4] <= 546.5\\nmse = 1.559\\nsamples = 16\\nvalue = 546.062'),\n Text(89.28, 63.41999999999999, 'X[4] <= 545.5\\nmse = 0.595\\nsamples = 11\\nvalue = 545.364'),\n Text(88.79478260869566, 45.29999999999998, 'X[0] <= 0.003\\nmse = 0.24\\nsamples = 5\\nvalue = 544.6'),\n Text(88.30956521739131, 27.17999999999998, 'mse = 0.0\\nsamples = 2\\nvalue = 544.0'),\n Text(89.28, 27.17999999999998, 'mse = 0.0\\nsamples = 3\\nvalue = 545.0'),\n Text(89.76521739130435, 45.29999999999998, 'mse = 0.0\\nsamples = 6\\nvalue = 546.0'),\n Text(91.22086956521738, 63.41999999999999, 'X[1] <= 0.023\\nmse = 0.24\\nsamples = 5\\nvalue = 547.6'),\n Text(90.73565217391304, 45.29999999999998, 'mse = 0.0\\nsamples = 2\\nvalue = 547.0'),\n Text(91.70608695652174, 45.29999999999998, 'mse = 0.0\\nsamples = 3\\nvalue = 548.0'),\n Text(94.13217391304347, 81.53999999999999, 'X[4] <= 550.5\\nmse = 1.728\\nsamples = 20\\nvalue = 550.65'),\n Text(93.16173913043478, 63.41999999999999, 'X[4] <= 549.5\\nmse = 0.25\\nsamples = 10\\nvalue = 549.5'),\n Text(92.67652173913044, 45.29999999999998, 'mse = 0.0\\nsamples = 5\\nvalue = 549.0'),\n Text(93.64695652173913, 45.29999999999998, 'mse = 0.0\\nsamples = 5\\nvalue = 550.0'),\n Text(95.10260869565218, 63.41999999999999, 'X[4] <= 551.5\\nmse = 0.56\\nsamples = 10\\nvalue = 551.8'),\n Text(94.61739130434782, 45.29999999999998, 'mse = 0.0\\nsamples = 4\\nvalue = 551.0'),\n Text(95.58782608695653, 45.29999999999998, 'X[4] <= 552.5\\nmse = 0.222\\nsamples = 6\\nvalue = 552.333'),\n Text(95.10260869565218, 27.17999999999998, 'mse = 0.0\\nsamples = 4\\nvalue = 552.0'),\n Text(96.07304347826087, 27.17999999999998, 'mse = 0.0\\nsamples = 2\\nvalue = 553.0'),\n Text(103.83652173913043, 117.77999999999999, 'X[4] <= 564.5\\nmse = 40.237\\nsamples = 52\\nvalue = 563.615'),\n Text(99.95478260869565, 99.66, 'X[4] <= 559.5\\nmse = 9.717\\nsamples = 29\\nvalue = 558.724'),\n Text(98.01391304347825, 81.53999999999999, 'X[4] <= 556.5\\nmse = 2.837\\nsamples = 17\\nvalue = 556.471'),\n Text(97.04347826086956, 63.41999999999999, 'X[4] <= 554.5\\nmse = 0.609\\nsamples = 8\\nvalue = 554.875'),\n Text(96.55826086956522, 45.29999999999998, 'mse = 0.0\\nsamples = 3\\nvalue = 554.0'),\n Text(97.52869565217391, 45.29999999999998, 'X[1] <= 0.019\\nmse = 0.24\\nsamples = 5\\nvalue = 555.4'),\n Text(97.04347826086956, 27.17999999999998, 'mse = 0.0\\nsamples = 3\\nvalue = 555.0'),\n Text(98.01391304347825, 27.17999999999998, 'mse = 0.0\\nsamples = 2\\nvalue = 556.0'),\n Text(98.98434782608696, 63.41999999999999, 'X[4] <= 557.5\\nmse = 0.543\\nsamples = 9\\nvalue = 557.889'),\n Text(98.49913043478261, 45.29999999999998, 'mse = 0.0\\nsamples = 3\\nvalue = 557.0'),\n Text(99.4695652173913, 45.29999999999998, 'X[4] <= 558.5\\nmse = 0.222\\nsamples = 6\\nvalue = 558.333'),\n Text(98.98434782608696, 27.17999999999998, 'mse = 0.0\\nsamples = 4\\nvalue = 558.0'),\n Text(99.95478260869565, 27.17999999999998, 'mse = 0.0\\nsamples = 2\\nvalue = 559.0'),\n Text(101.89565217391305, 81.53999999999999, 'X[4] <= 561.5\\nmse = 2.076\\nsamples = 12\\nvalue = 561.917'),\n Text(100.92521739130434, 63.41999999999999, 'X[4] <= 560.5\\nmse = 0.24\\nsamples = 5\\nvalue = 560.4'),\n Text(100.44, 45.29999999999998, 'mse = 0.0\\nsamples = 3\\nvalue = 560.0'),\n Text(101.41043478260869, 45.29999999999998, 'mse = 0.0\\nsamples = 2\\nvalue = 561.0'),\n Text(102.86608695652174, 63.41999999999999, 'X[4] <= 562.5\\nmse = 0.571\\nsamples = 7\\nvalue = 563.0'),\n Text(102.3808695652174, 45.29999999999998, 'mse = 0.0\\nsamples = 2\\nvalue = 562.0'),\n Text(103.35130434782609, 45.29999999999998, 'X[3] <= 0.0\\nmse = 0.24\\nsamples = 5\\nvalue = 563.4'),\n Text(102.86608695652174, 27.17999999999998, 'mse = 0.0\\nsamples = 2\\nvalue = 564.0'),\n Text(103.83652173913043, 27.17999999999998, 'mse = 0.0\\nsamples = 3\\nvalue = 563.0'),\n Text(107.71826086956521, 99.66, 'X[4] <= 569.5\\nmse = 10.518\\nsamples = 23\\nvalue = 569.783'),\n Text(105.77739130434783, 81.53999999999999, 'X[4] <= 566.5\\nmse = 1.45\\nsamples = 10\\nvalue = 566.5'),\n Text(104.80695652173912, 63.41999999999999, 'X[2] <= 0.007\\nmse = 0.188\\nsamples = 4\\nvalue = 565.25'),\n Text(104.32173913043478, 45.29999999999998, 'mse = 0.0\\nsamples = 1\\nvalue = 566.0'),\n Text(105.29217391304348, 45.29999999999998, 'mse = 0.0\\nsamples = 3\\nvalue = 565.0'),\n Text(106.74782608695652, 63.41999999999999, 'X[2] <= 0.009\\nmse = 0.556\\nsamples = 6\\nvalue = 567.333'),\n Text(106.26260869565218, 45.29999999999998, 'mse = 0.0\\nsamples = 5\\nvalue = 567.0'),\n Text(107.23304347826087, 45.29999999999998, 'mse = 0.0\\nsamples = 1\\nvalue = 569.0'),\n Text(109.65913043478261, 81.53999999999999, 'X[4] <= 574.0\\nmse = 2.828\\nsamples = 13\\nvalue = 572.308'),\n Text(109.17391304347827, 63.41999999999999, 'X[4] <= 571.5\\nmse = 0.85\\nsamples = 10\\nvalue = 571.5'),\n Text(108.20347826086956, 45.29999999999998, 'X[4] <= 570.5\\nmse = 0.25\\nsamples = 4\\nvalue = 570.5'),\n Text(107.71826086956521, 27.17999999999998, 'mse = 0.0\\nsamples = 2\\nvalue = 570.0'),\n Text(108.68869565217392, 27.17999999999998, 'mse = 0.0\\nsamples = 2\\nvalue = 571.0'),\n Text(110.14434782608696, 45.29999999999998, 'X[4] <= 572.5\\nmse = 0.139\\nsamples = 6\\nvalue = 572.167'),\n Text(109.65913043478261, 27.17999999999998, 'mse = 0.0\\nsamples = 5\\nvalue = 572.0'),\n Text(110.6295652173913, 27.17999999999998, 'mse = 0.0\\nsamples = 1\\nvalue = 573.0'),\n Text(110.14434782608696, 63.41999999999999, 'mse = 0.0\\nsamples = 3\\nvalue = 575.0'),\n Text(130.4628260869565, 135.89999999999998, 'X[4] <= 600.5\\nmse = 219.134\\nsamples = 132\\nvalue = 598.159'),\n Text(119.84869565217392, 117.77999999999999, 'X[4] <= 588.5\\nmse = 50.816\\nsamples = 79\\nvalue = 587.759'),\n Text(115.11782608695653, 99.66, 'X[4] <= 581.5\\nmse = 10.121\\nsamples = 42\\nvalue = 581.786'),\n Text(112.5704347826087, 81.53999999999999, 'X[4] <= 578.5\\nmse = 2.765\\nsamples = 19\\nvalue = 578.842'),\n Text(111.6, 63.41999999999999, 'X[4] <= 576.5\\nmse = 0.408\\nsamples = 7\\nvalue = 576.857'),\n Text(111.11478260869565, 45.29999999999998, 'mse = 0.0\\nsamples = 2\\nvalue = 576.0'),\n Text(112.08521739130434, 45.29999999999998, 'X[4] <= 577.5\\nmse = 0.16\\nsamples = 5\\nvalue = 577.2'),\n Text(111.6, 27.17999999999998, 'mse = 0.0\\nsamples = 4\\nvalue = 577.0'),\n Text(112.5704347826087, 27.17999999999998, 'mse = 0.0\\nsamples = 1\\nvalue = 578.0'),\n Text(113.54086956521739, 63.41999999999999, 'X[4] <= 579.5\\nmse = 0.5\\nsamples = 12\\nvalue = 580.0'),\n Text(113.05565217391305, 45.29999999999998, 'mse = 0.0\\nsamples = 3\\nvalue = 579.0'),\n Text(114.02608695652174, 45.29999999999998, 'X[4] <= 580.5\\nmse = 0.222\\nsamples = 9\\nvalue = 580.333'),\n Text(113.54086956521739, 27.17999999999998, 'mse = 0.0\\nsamples = 6\\nvalue = 580.0'),\n Text(114.51130434782608, 27.17999999999998, 'mse = 0.0\\nsamples = 3\\nvalue = 581.0'),\n Text(117.66521739130435, 81.53999999999999, 'X[4] <= 584.5\\nmse = 3.127\\nsamples = 23\\nvalue = 584.217'),\n Text(116.45217391304348, 63.41999999999999, 'X[4] <= 583.5\\nmse = 0.596\\nsamples = 15\\nvalue = 583.067'),\n Text(115.96695652173914, 45.29999999999998, 'X[4] <= 582.5\\nmse = 0.24\\nsamples = 10\\nvalue = 582.6'),\n Text(115.48173913043478, 27.17999999999998, 'mse = 0.0\\nsamples = 4\\nvalue = 582.0'),\n Text(116.45217391304348, 27.17999999999998, 'mse = 0.0\\nsamples = 6\\nvalue = 583.0'),\n Text(116.93739130434783, 45.29999999999998, 'mse = 0.0\\nsamples = 5\\nvalue = 584.0'),\n Text(118.87826086956521, 63.41999999999999, 'X[4] <= 586.5\\nmse = 0.734\\nsamples = 8\\nvalue = 586.375'),\n Text(117.90782608695652, 45.29999999999998, 'X[4] <= 585.5\\nmse = 0.16\\nsamples = 5\\nvalue = 585.8'),\n Text(117.42260869565217, 27.17999999999998, 'mse = 0.0\\nsamples = 1\\nvalue = 585.0'),\n Text(118.39304347826086, 27.17999999999998, 'mse = 0.0\\nsamples = 4\\nvalue = 586.0'),\n Text(119.84869565217392, 45.29999999999998, 'X[1] <= 0.007\\nmse = 0.222\\nsamples = 3\\nvalue = 587.333'),\n Text(119.36347826086957, 27.17999999999998, 'mse = 0.0\\nsamples = 1\\nvalue = 588.0'),\n Text(120.33391304347826, 27.17999999999998, 'mse = 0.0\\nsamples = 2\\nvalue = 587.0'),\n Text(124.5795652173913, 99.66, 'X[4] <= 593.0\\nmse = 10.519\\nsamples = 37\\nvalue = 594.541'),\n Text(122.27478260869565, 81.53999999999999, 'X[4] <= 590.5\\nmse = 0.75\\nsamples = 12\\nvalue = 590.5'),\n Text(121.30434782608695, 63.41999999999999, 'X[4] <= 589.5\\nmse = 0.24\\nsamples = 5\\nvalue = 589.6'),\n Text(120.81913043478261, 45.29999999999998, 'mse = 0.0\\nsamples = 2\\nvalue = 589.0'),\n Text(121.7895652173913, 45.29999999999998, 'mse = 0.0\\nsamples = 3\\nvalue = 590.0'),\n Text(123.24521739130435, 63.41999999999999, 'X[4] <= 591.5\\nmse = 0.122\\nsamples = 7\\nvalue = 591.143'),\n Text(122.76, 45.29999999999998, 'mse = 0.0\\nsamples = 6\\nvalue = 591.0'),\n Text(123.7304347826087, 45.29999999999998, 'mse = 0.0\\nsamples = 1\\nvalue = 592.0'),\n Text(126.88434782608695, 81.53999999999999, 'X[4] <= 596.5\\nmse = 3.61\\nsamples = 25\\nvalue = 596.48'),\n Text(125.18608695652173, 63.41999999999999, 'X[4] <= 594.5\\nmse = 0.688\\nsamples = 12\\nvalue = 594.75'),\n Text(124.70086956521739, 45.29999999999998, 'mse = 0.0\\nsamples = 6\\nvalue = 594.0'),\n Text(125.67130434782608, 45.29999999999998, 'X[4] <= 595.5\\nmse = 0.25\\nsamples = 6\\nvalue = 595.5'),\n Text(125.18608695652173, 27.17999999999998, 'mse = 0.0\\nsamples = 3\\nvalue = 595.0'),\n Text(126.15652173913044, 27.17999999999998, 'mse = 0.0\\nsamples = 3\\nvalue = 596.0'),\n Text(128.58260869565217, 63.41999999999999, 'X[4] <= 598.5\\nmse = 0.994\\nsamples = 13\\nvalue = 598.077'),\n Text(127.61217391304348, 45.29999999999998, 'X[4] <= 597.5\\nmse = 0.234\\nsamples = 8\\nvalue = 597.375'),\n Text(127.12695652173913, 27.17999999999998, 'mse = 0.0\\nsamples = 5\\nvalue = 597.0'),\n Text(128.09739130434784, 27.17999999999998, 'mse = 0.0\\nsamples = 3\\nvalue = 598.0'),\n Text(129.55304347826086, 45.29999999999998, 'X[4] <= 599.5\\nmse = 0.16\\nsamples = 5\\nvalue = 599.2'),\n Text(129.06782608695653, 27.17999999999998, 'mse = 0.0\\nsamples = 4\\nvalue = 599.0'),\n Text(130.03826086956522, 27.17999999999998, 'mse = 0.0\\nsamples = 1\\nvalue = 600.0'),\n Text(141.07695652173913, 117.77999999999999, 'X[4] <= 613.0\\nmse = 68.526\\nsamples = 53\\nvalue = 613.66'),\n Text(135.13304347826087, 99.66, 'X[4] <= 606.5\\nmse = 15.018\\nsamples = 26\\nvalue = 606.538'),\n Text(132.9495652173913, 81.53999999999999, 'X[4] <= 603.5\\nmse = 2.308\\nsamples = 13\\nvalue = 603.0'),\n Text(131.9791304347826, 63.41999999999999, 'X[4] <= 602.5\\nmse = 0.543\\nsamples = 9\\nvalue = 602.111'),\n Text(131.49391304347827, 45.29999999999998, 'X[4] <= 601.5\\nmse = 0.222\\nsamples = 6\\nvalue = 601.667'),\n Text(131.0086956521739, 27.17999999999998, 'mse = 0.0\\nsamples = 2\\nvalue = 601.0'),\n Text(131.9791304347826, 27.17999999999998, 'mse = 0.0\\nsamples = 4\\nvalue = 602.0'),\n Text(132.46434782608696, 45.29999999999998, 'mse = 0.0\\nsamples = 3\\nvalue = 603.0'),\n Text(133.92, 63.41999999999999, 'X[2] <= 0.006\\nmse = 0.5\\nsamples = 4\\nvalue = 605.0'),\n Text(133.43478260869566, 45.29999999999998, 'X[2] <= 0.005\\nmse = 0.222\\nsamples = 3\\nvalue = 604.667'),\n Text(132.9495652173913, 27.17999999999998, 'mse = 0.0\\nsamples = 2\\nvalue = 605.0'),\n Text(133.92, 27.17999999999998, 'mse = 0.0\\nsamples = 1\\nvalue = 604.0'),\n Text(134.40521739130435, 45.29999999999998, 'mse = 0.0\\nsamples = 1\\nvalue = 606.0'),\n Text(137.31652173913042, 81.53999999999999, 'X[4] <= 609.5\\nmse = 2.686\\nsamples = 13\\nvalue = 610.077'),\n Text(135.8608695652174, 63.41999999999999, 'X[2] <= 0.007\\nmse = 0.56\\nsamples = 5\\nvalue = 608.2'),\n Text(135.37565217391304, 45.29999999999998, 'mse = 0.0\\nsamples = 2\\nvalue = 609.0'),\n Text(136.34608695652173, 45.29999999999998, 'X[3] <= 0.0\\nmse = 0.222\\nsamples = 3\\nvalue = 607.667'),\n Text(135.8608695652174, 27.17999999999998, 'mse = 0.0\\nsamples = 1\\nvalue = 607.0'),\n Text(136.8313043478261, 27.17999999999998, 'mse = 0.0\\nsamples = 2\\nvalue = 608.0'),\n Text(138.77217391304347, 63.41999999999999, 'X[4] <= 611.5\\nmse = 0.438\\nsamples = 8\\nvalue = 611.25'),\n Text(138.28695652173914, 45.29999999999998, 'X[1] <= 0.029\\nmse = 0.16\\nsamples = 5\\nvalue = 610.8'),\n Text(137.80173913043478, 27.17999999999998, 'mse = 0.0\\nsamples = 4\\nvalue = 611.0'),\n Text(138.77217391304347, 27.17999999999998, 'mse = 0.0\\nsamples = 1\\nvalue = 610.0'),\n Text(139.25739130434783, 45.29999999999998, 'mse = 0.0\\nsamples = 3\\nvalue = 612.0'),\n Text(147.0208695652174, 99.66, 'X[4] <= 621.5\\nmse = 24.176\\nsamples = 27\\nvalue = 620.519'),\n Text(143.1391304347826, 81.53999999999999, 'X[4] <= 617.5\\nmse = 4.913\\nsamples = 17\\nvalue = 617.294'),\n Text(141.19826086956522, 63.41999999999999, 'X[1] <= 0.014\\nmse = 1.136\\nsamples = 9\\nvalue = 615.444'),\n Text(140.22782608695653, 45.29999999999998, 'X[0] <= 0.002\\nmse = 0.25\\nsamples = 4\\nvalue = 616.5'),\n Text(139.74260869565217, 27.17999999999998, 'mse = 0.0\\nsamples = 2\\nvalue = 617.0'),\n Text(140.71304347826086, 27.17999999999998, 'mse = 0.0\\nsamples = 2\\nvalue = 616.0'),\n Text(142.1686956521739, 45.29999999999998, 'X[4] <= 614.5\\nmse = 0.24\\nsamples = 5\\nvalue = 614.6'),\n Text(141.68347826086958, 27.17999999999998, 'mse = 0.0\\nsamples = 2\\nvalue = 614.0'),\n Text(142.65391304347827, 27.17999999999998, 'mse = 0.0\\nsamples = 3\\nvalue = 615.0'),\n Text(145.08, 63.41999999999999, 'X[4] <= 619.5\\nmse = 0.984\\nsamples = 8\\nvalue = 619.375'),\n Text(144.1095652173913, 45.29999999999998, 'X[3] <= 0.0\\nmse = 0.25\\nsamples = 4\\nvalue = 618.5'),\n Text(143.62434782608696, 27.17999999999998, 'mse = 0.0\\nsamples = 2\\nvalue = 619.0'),\n Text(144.59478260869565, 27.17999999999998, 'mse = 0.0\\nsamples = 2\\nvalue = 618.0'),\n Text(146.0504347826087, 45.29999999999998, 'X[0] <= 0.003\\nmse = 0.188\\nsamples = 4\\nvalue = 620.25'),\n Text(145.56521739130434, 27.17999999999998, 'mse = 0.0\\nsamples = 3\\nvalue = 620.0'),\n Text(146.53565217391304, 27.17999999999998, 'mse = 0.0\\nsamples = 1\\nvalue = 621.0'),\n Text(150.90260869565216, 81.53999999999999, 'X[4] <= 626.0\\nmse = 9.2\\nsamples = 10\\nvalue = 626.0'),\n Text(148.96173913043478, 63.41999999999999, 'X[1] <= 0.013\\nmse = 1.139\\nsamples = 6\\nvalue = 623.833'),\n Text(147.9913043478261, 45.29999999999998, 'X[3] <= 0.0\\nmse = 0.25\\nsamples = 2\\nvalue = 622.5'),\n Text(147.50608695652173, 27.17999999999998, 'mse = 0.0\\nsamples = 1\\nvalue = 623.0'),\n Text(148.47652173913045, 27.17999999999998, 'mse = 0.0\\nsamples = 1\\nvalue = 622.0'),\n Text(149.93217391304347, 45.29999999999998, 'X[1] <= 0.02\\nmse = 0.25\\nsamples = 4\\nvalue = 624.5'),\n Text(149.44695652173914, 27.17999999999998, 'mse = 0.0\\nsamples = 2\\nvalue = 625.0'),\n Text(150.41739130434783, 27.17999999999998, 'mse = 0.0\\nsamples = 2\\nvalue = 624.0'),\n Text(152.84347826086957, 63.41999999999999, 'X[4] <= 629.0\\nmse = 3.688\\nsamples = 4\\nvalue = 629.25'),\n Text(151.87304347826088, 45.29999999999998, 'X[1] <= 0.016\\nmse = 0.25\\nsamples = 2\\nvalue = 627.5'),\n Text(151.38782608695652, 27.17999999999998, 'mse = 0.0\\nsamples = 1\\nvalue = 627.0'),\n Text(152.3582608695652, 27.17999999999998, 'mse = 0.0\\nsamples = 1\\nvalue = 628.0'),\n Text(153.81391304347827, 45.29999999999998, 'X[1] <= 0.011\\nmse = 1.0\\nsamples = 2\\nvalue = 631.0'),\n Text(153.3286956521739, 27.17999999999998, 'mse = 0.0\\nsamples = 1\\nvalue = 630.0'),\n Text(154.2991304347826, 27.17999999999998, 'mse = 0.0\\nsamples = 1\\nvalue = 632.0'),\n Text(215.08777173913043, 172.14, 'X[4] <= 729.5\\nmse = 3347.297\\nsamples = 333\\nvalue = 733.844'),\n Text(184.27646739130435, 154.01999999999998, 'X[4] <= 682.5\\nmse = 867.378\\nsamples = 152\\nvalue = 679.151'),\n Text(169.00728260869565, 135.89999999999998, 'X[4] <= 655.5\\nmse = 190.236\\nsamples = 85\\nvalue = 655.894'),\n Text(161.75934782608695, 117.77999999999999, 'X[4] <= 642.5\\nmse = 45.274\\nsamples = 41\\nvalue = 643.488'),\n Text(158.54478260869564, 99.66, 'X[4] <= 638.5\\nmse = 9.052\\nsamples = 18\\nvalue = 636.944'),\n Text(156.48260869565217, 81.53999999999999, 'X[4] <= 634.5\\nmse = 2.367\\nsamples = 13\\nvalue = 635.308'),\n Text(155.2695652173913, 63.41999999999999, 'X[4] <= 633.5\\nmse = 0.188\\nsamples = 4\\nvalue = 633.25'),\n Text(154.78434782608696, 45.29999999999998, 'mse = 0.0\\nsamples = 3\\nvalue = 633.0'),\n Text(155.75478260869565, 45.29999999999998, 'mse = 0.0\\nsamples = 1\\nvalue = 634.0'),\n Text(157.69565217391303, 63.41999999999999, 'X[4] <= 636.5\\nmse = 0.617\\nsamples = 9\\nvalue = 636.222'),\n Text(156.72521739130434, 45.29999999999998, 'X[4] <= 635.5\\nmse = 0.122\\nsamples = 7\\nvalue = 635.857'),\n Text(156.24, 27.17999999999998, 'mse = 0.0\\nsamples = 1\\nvalue = 635.0'),\n Text(157.2104347826087, 27.17999999999998, 'mse = 0.0\\nsamples = 6\\nvalue = 636.0'),\n Text(158.66608695652172, 45.29999999999998, 'X[0] <= 0.002\\nmse = 0.25\\nsamples = 2\\nvalue = 637.5'),\n Text(158.1808695652174, 27.17999999999998, 'mse = 0.0\\nsamples = 1\\nvalue = 637.0'),\n Text(159.15130434782608, 27.17999999999998, 'mse = 0.0\\nsamples = 1\\nvalue = 638.0'),\n Text(160.60695652173914, 81.53999999999999, 'X[3] <= 0.0\\nmse = 1.36\\nsamples = 5\\nvalue = 641.2'),\n Text(160.12173913043478, 63.41999999999999, 'X[3] <= 0.0\\nmse = 0.188\\nsamples = 4\\nvalue = 641.75'),\n Text(159.63652173913044, 45.29999999999998, 'mse = 0.0\\nsamples = 3\\nvalue = 642.0'),\n Text(160.60695652173914, 45.29999999999998, 'mse = 0.0\\nsamples = 1\\nvalue = 641.0'),\n Text(161.09217391304347, 63.41999999999999, 'mse = 0.0\\nsamples = 1\\nvalue = 639.0'),\n Text(164.97391304347826, 99.66, 'X[4] <= 649.5\\nmse = 13.89\\nsamples = 23\\nvalue = 648.609'),\n Text(163.03304347826088, 81.53999999999999, 'X[4] <= 645.5\\nmse = 1.597\\nsamples = 14\\nvalue = 645.786'),\n Text(162.06260869565216, 63.41999999999999, 'X[4] <= 644.5\\nmse = 0.64\\nsamples = 5\\nvalue = 644.4'),\n Text(161.57739130434783, 45.29999999999998, 'X[0] <= 0.003\\nmse = 0.25\\nsamples = 2\\nvalue = 643.5'),\n Text(161.09217391304347, 27.17999999999998, 'mse = 0.0\\nsamples = 1\\nvalue = 643.0'),\n Text(162.06260869565216, 27.17999999999998, 'mse = 0.0\\nsamples = 1\\nvalue = 644.0'),\n Text(162.54782608695652, 45.29999999999998, 'mse = 0.0\\nsamples = 3\\nvalue = 645.0'),\n Text(164.00347826086957, 63.41999999999999, 'X[4] <= 646.5\\nmse = 0.469\\nsamples = 9\\nvalue = 646.556'),\n Text(163.5182608695652, 45.29999999999998, 'mse = 0.0\\nsamples = 5\\nvalue = 646.0'),\n Text(164.4886956521739, 45.29999999999998, 'X[4] <= 647.5\\nmse = 0.188\\nsamples = 4\\nvalue = 647.25'),\n Text(164.00347826086957, 27.17999999999998, 'mse = 0.0\\nsamples = 3\\nvalue = 647.0'),\n Text(164.97391304347826, 27.17999999999998, 'mse = 0.0\\nsamples = 1\\nvalue = 648.0'),\n Text(166.91478260869565, 81.53999999999999, 'X[4] <= 652.5\\nmse = 1.333\\nsamples = 9\\nvalue = 653.0'),\n Text(165.94434782608695, 63.41999999999999, 'X[1] <= 0.022\\nmse = 0.222\\nsamples = 3\\nvalue = 651.667'),\n Text(165.4591304347826, 45.29999999999998, 'mse = 0.0\\nsamples = 2\\nvalue = 652.0'),\n Text(166.4295652173913, 45.29999999999998, 'mse = 0.0\\nsamples = 1\\nvalue = 651.0'),\n Text(167.88521739130434, 63.41999999999999, 'X[4] <= 653.5\\nmse = 0.556\\nsamples = 6\\nvalue = 653.667'),\n Text(167.4, 45.29999999999998, 'mse = 0.0\\nsamples = 3\\nvalue = 653.0'),\n Text(168.3704347826087, 45.29999999999998, 'X[2] <= 0.004\\nmse = 0.222\\nsamples = 3\\nvalue = 654.333'),\n Text(167.88521739130434, 27.17999999999998, 'mse = 0.0\\nsamples = 2\\nvalue = 654.0'),\n Text(168.85565217391303, 27.17999999999998, 'mse = 0.0\\nsamples = 1\\nvalue = 655.0'),\n Text(176.25521739130434, 117.77999999999999, 'X[4] <= 664.0\\nmse = 48.248\\nsamples = 44\\nvalue = 667.455'),\n Text(171.52434782608697, 99.66, 'X[4] <= 658.5\\nmse = 2.633\\nsamples = 14\\nvalue = 658.714'),\n Text(170.31130434782608, 81.53999999999999, 'X[4] <= 657.5\\nmse = 0.472\\nsamples = 6\\nvalue = 657.167'),\n Text(169.82608695652175, 63.41999999999999, 'X[4] <= 656.5\\nmse = 0.188\\nsamples = 4\\nvalue = 656.75'),\n Text(169.3408695652174, 45.29999999999998, 'mse = 0.0\\nsamples = 1\\nvalue = 656.0'),\n Text(170.31130434782608, 45.29999999999998, 'mse = 0.0\\nsamples = 3\\nvalue = 657.0'),\n Text(170.79652173913044, 63.41999999999999, 'mse = 0.0\\nsamples = 2\\nvalue = 658.0'),\n Text(172.73739130434782, 81.53999999999999, 'X[4] <= 660.5\\nmse = 1.109\\nsamples = 8\\nvalue = 659.875'),\n Text(171.76695652173913, 63.41999999999999, 'X[4] <= 659.5\\nmse = 0.222\\nsamples = 6\\nvalue = 659.333'),\n Text(171.28173913043477, 45.29999999999998, 'mse = 0.0\\nsamples = 4\\nvalue = 659.0'),\n Text(172.25217391304346, 45.29999999999998, 'mse = 0.0\\nsamples = 2\\nvalue = 660.0'),\n Text(173.70782608695652, 63.41999999999999, 'X[3] <= 0.0\\nmse = 0.25\\nsamples = 2\\nvalue = 661.5'),\n Text(173.22260869565218, 45.29999999999998, 'mse = 0.0\\nsamples = 1\\nvalue = 662.0'),\n Text(174.19304347826088, 45.29999999999998, 'mse = 0.0\\nsamples = 1\\nvalue = 661.0'),\n Text(180.98608695652175, 99.66, 'X[4] <= 672.5\\nmse = 17.249\\nsamples = 30\\nvalue = 671.533'),\n Text(177.34695652173912, 81.53999999999999, 'X[4] <= 668.5\\nmse = 3.568\\nsamples = 19\\nvalue = 668.895'),\n Text(175.6486956521739, 63.41999999999999, 'X[4] <= 666.5\\nmse = 0.75\\nsamples = 8\\nvalue = 667.0'),\n Text(175.16347826086957, 45.29999999999998, 'mse = 0.0\\nsamples = 3\\nvalue = 666.0'),\n Text(176.13391304347826, 45.29999999999998, 'X[4] <= 667.5\\nmse = 0.24\\nsamples = 5\\nvalue = 667.6'),\n Text(175.6486956521739, 27.17999999999998, 'mse = 0.0\\nsamples = 2\\nvalue = 667.0'),\n Text(176.61913043478262, 27.17999999999998, 'mse = 0.0\\nsamples = 3\\nvalue = 668.0'),\n Text(179.04521739130433, 63.41999999999999, 'X[4] <= 670.5\\nmse = 1.107\\nsamples = 11\\nvalue = 670.273'),\n Text(178.07478260869564, 45.29999999999998, 'X[4] <= 669.5\\nmse = 0.245\\nsamples = 7\\nvalue = 669.571'),\n Text(177.5895652173913, 27.17999999999998, 'mse = 0.0\\nsamples = 3\\nvalue = 669.0'),\n Text(178.56, 27.17999999999998, 'mse = 0.0\\nsamples = 4\\nvalue = 670.0'),\n Text(180.01565217391305, 45.29999999999998, 'X[4] <= 671.5\\nmse = 0.25\\nsamples = 4\\nvalue = 671.5'),\n Text(179.5304347826087, 27.17999999999998, 'mse = 0.0\\nsamples = 2\\nvalue = 671.0'),\n Text(180.50086956521739, 27.17999999999998, 'mse = 0.0\\nsamples = 2\\nvalue = 672.0'),\n Text(184.62521739130435, 81.53999999999999, 'X[4] <= 677.5\\nmse = 8.083\\nsamples = 11\\nvalue = 676.091'),\n Text(182.92695652173913, 63.41999999999999, 'X[4] <= 674.5\\nmse = 1.25\\nsamples = 8\\nvalue = 674.5'),\n Text(181.95652173913044, 45.29999999999998, 'X[2] <= 0.005\\nmse = 0.25\\nsamples = 4\\nvalue = 673.5'),\n Text(181.47130434782608, 27.17999999999998, 'mse = 0.0\\nsamples = 2\\nvalue = 674.0'),\n Text(182.44173913043477, 27.17999999999998, 'mse = 0.0\\nsamples = 2\\nvalue = 673.0'),\n Text(183.89739130434782, 45.29999999999998, 'X[4] <= 675.5\\nmse = 0.25\\nsamples = 4\\nvalue = 675.5'),\n Text(183.4121739130435, 27.17999999999998, 'mse = 0.0\\nsamples = 2\\nvalue = 675.0'),\n Text(184.38260869565218, 27.17999999999998, 'mse = 0.0\\nsamples = 2\\nvalue = 676.0'),\n Text(186.32347826086956, 63.41999999999999, 'X[4] <= 681.0\\nmse = 1.556\\nsamples = 3\\nvalue = 680.333'),\n Text(185.8382608695652, 45.29999999999998, 'X[1] <= 0.012\\nmse = 0.25\\nsamples = 2\\nvalue = 679.5'),\n Text(185.35304347826087, 27.17999999999998, 'mse = 0.0\\nsamples = 1\\nvalue = 679.0'),\n Text(186.32347826086956, 27.17999999999998, 'mse = 0.0\\nsamples = 1\\nvalue = 680.0'),\n Text(186.80869565217392, 45.29999999999998, 'mse = 0.0\\nsamples = 1\\nvalue = 682.0'),\n Text(199.54565217391306, 135.89999999999998, 'X[4] <= 706.0\\nmse = 169.658\\nsamples = 67\\nvalue = 708.657'),\n Text(193.3591304347826, 117.77999999999999, 'X[4] <= 695.0\\nmse = 53.001\\nsamples = 26\\nvalue = 694.808'),\n Text(190.44782608695652, 99.66, 'X[4] <= 689.5\\nmse = 17.172\\nsamples = 13\\nvalue = 688.538'),\n Text(189.23478260869564, 81.53999999999999, 'X[4] <= 685.0\\nmse = 1.837\\nsamples = 7\\nvalue = 684.857'),\n Text(188.26434782608695, 63.41999999999999, 'X[4] <= 683.5\\nmse = 0.188\\nsamples = 4\\nvalue = 683.75'),\n Text(187.77913043478262, 45.29999999999998, 'mse = 0.0\\nsamples = 1\\nvalue = 683.0'),\n Text(188.7495652173913, 45.29999999999998, 'mse = 0.0\\nsamples = 3\\nvalue = 684.0'),\n Text(190.20521739130436, 63.41999999999999, 'X[0] <= 0.001\\nmse = 0.222\\nsamples = 3\\nvalue = 686.333'),\n Text(189.72, 45.29999999999998, 'mse = 0.0\\nsamples = 1\\nvalue = 687.0'),\n Text(190.6904347826087, 45.29999999999998, 'mse = 0.0\\nsamples = 2\\nvalue = 686.0'),\n Text(191.66086956521738, 81.53999999999999, 'X[2] <= 0.006\\nmse = 0.806\\nsamples = 6\\nvalue = 692.833'),\n Text(191.17565217391305, 63.41999999999999, 'mse = 0.0\\nsamples = 3\\nvalue = 692.0'),\n Text(192.14608695652174, 63.41999999999999, 'X[4] <= 693.5\\nmse = 0.222\\nsamples = 3\\nvalue = 693.667'),\n Text(191.66086956521738, 45.29999999999998, 'mse = 0.0\\nsamples = 1\\nvalue = 693.0'),\n Text(192.63130434782607, 45.29999999999998, 'mse = 0.0\\nsamples = 2\\nvalue = 694.0'),\n Text(196.2704347826087, 99.66, 'X[4] <= 702.5\\nmse = 10.225\\nsamples = 13\\nvalue = 701.077'),\n Text(195.05739130434782, 81.53999999999999, 'X[4] <= 698.0\\nmse = 3.673\\nsamples = 7\\nvalue = 698.429'),\n Text(194.08695652173913, 63.41999999999999, 'X[1] <= 0.02\\nmse = 0.222\\nsamples = 3\\nvalue = 696.333'),\n Text(193.6017391304348, 45.29999999999998, 'mse = 0.0\\nsamples = 2\\nvalue = 696.0'),\n Text(194.57217391304349, 45.29999999999998, 'mse = 0.0\\nsamples = 1\\nvalue = 697.0'),\n Text(196.0278260869565, 63.41999999999999, 'X[3] <= 0.0\\nmse = 0.5\\nsamples = 4\\nvalue = 700.0'),\n Text(195.54260869565218, 45.29999999999998, 'mse = 0.0\\nsamples = 1\\nvalue = 701.0'),\n Text(196.51304347826087, 45.29999999999998, 'X[3] <= 0.0\\nmse = 0.222\\nsamples = 3\\nvalue = 699.667'),\n Text(196.0278260869565, 27.17999999999998, 'mse = 0.0\\nsamples = 1\\nvalue = 699.0'),\n Text(196.99826086956523, 27.17999999999998, 'mse = 0.0\\nsamples = 2\\nvalue = 700.0'),\n Text(197.48347826086956, 81.53999999999999, 'X[4] <= 704.5\\nmse = 0.139\\nsamples = 6\\nvalue = 704.167'),\n Text(196.99826086956523, 63.41999999999999, 'mse = 0.0\\nsamples = 5\\nvalue = 704.0'),\n Text(197.96869565217392, 63.41999999999999, 'mse = 0.0\\nsamples = 1\\nvalue = 705.0'),\n Text(205.73217391304348, 117.77999999999999, 'X[4] <= 718.5\\nmse = 44.88\\nsamples = 41\\nvalue = 717.439'),\n Text(201.8504347826087, 99.66, 'X[4] <= 712.0\\nmse = 9.69\\nsamples = 23\\nvalue = 712.304'),\n Text(199.9095652173913, 81.53999999999999, 'X[4] <= 709.5\\nmse = 2.056\\nsamples = 12\\nvalue = 709.667'),\n Text(198.9391304347826, 63.41999999999999, 'X[4] <= 708.0\\nmse = 0.96\\nsamples = 5\\nvalue = 708.2'),\n Text(198.45391304347825, 45.29999999999998, 'mse = 0.0\\nsamples = 2\\nvalue = 707.0'),\n Text(199.42434782608694, 45.29999999999998, 'mse = 0.0\\nsamples = 3\\nvalue = 709.0'),\n Text(200.88, 63.41999999999999, 'X[4] <= 710.5\\nmse = 0.204\\nsamples = 7\\nvalue = 710.714'),\n Text(200.39478260869566, 45.29999999999998, 'mse = 0.0\\nsamples = 2\\nvalue = 710.0'),\n Text(201.36521739130436, 45.29999999999998, 'mse = 0.0\\nsamples = 5\\nvalue = 711.0'),\n Text(203.7913043478261, 81.53999999999999, 'X[4] <= 715.5\\nmse = 2.149\\nsamples = 11\\nvalue = 715.182'),\n Text(202.82086956521738, 63.41999999999999, 'X[1] <= 0.026\\nmse = 0.333\\nsamples = 6\\nvalue = 714.0'),\n Text(202.33565217391305, 45.29999999999998, 'X[4] <= 713.5\\nmse = 0.16\\nsamples = 5\\nvalue = 713.8'),\n Text(201.8504347826087, 27.17999999999998, 'mse = 0.0\\nsamples = 1\\nvalue = 713.0'),\n Text(202.82086956521738, 27.17999999999998, 'mse = 0.0\\nsamples = 4\\nvalue = 714.0'),\n Text(203.30608695652174, 45.29999999999998, 'mse = 0.0\\nsamples = 1\\nvalue = 715.0'),\n Text(204.7617391304348, 63.41999999999999, 'X[3] <= 0.0\\nmse = 0.64\\nsamples = 5\\nvalue = 716.6'),\n Text(204.27652173913043, 45.29999999999998, 'mse = 0.0\\nsamples = 3\\nvalue = 716.0'),\n Text(205.24695652173912, 45.29999999999998, 'X[2] <= 0.006\\nmse = 0.25\\nsamples = 2\\nvalue = 717.5'),\n Text(204.7617391304348, 27.17999999999998, 'mse = 0.0\\nsamples = 1\\nvalue = 717.0'),\n Text(205.73217391304348, 27.17999999999998, 'mse = 0.0\\nsamples = 1\\nvalue = 718.0'),\n Text(209.61391304347825, 99.66, 'X[4] <= 724.0\\nmse = 13.111\\nsamples = 18\\nvalue = 724.0'),\n Text(207.67304347826087, 81.53999999999999, 'X[4] <= 720.5\\nmse = 1.688\\nsamples = 8\\nvalue = 720.25'),\n Text(206.70260869565217, 63.41999999999999, 'X[4] <= 719.5\\nmse = 0.24\\nsamples = 5\\nvalue = 719.4'),\n Text(206.2173913043478, 45.29999999999998, 'mse = 0.0\\nsamples = 3\\nvalue = 719.0'),\n Text(207.18782608695653, 45.29999999999998, 'mse = 0.0\\nsamples = 2\\nvalue = 720.0'),\n Text(208.64347826086956, 63.41999999999999, 'X[4] <= 722.0\\nmse = 0.889\\nsamples = 3\\nvalue = 721.667'),\n Text(208.15826086956523, 45.29999999999998, 'mse = 0.0\\nsamples = 2\\nvalue = 721.0'),\n Text(209.12869565217392, 45.29999999999998, 'mse = 0.0\\nsamples = 1\\nvalue = 723.0'),\n Text(211.55478260869566, 81.53999999999999, 'X[4] <= 726.5\\nmse = 2.0\\nsamples = 10\\nvalue = 727.0'),\n Text(210.58434782608697, 63.41999999999999, 'X[2] <= 0.005\\nmse = 0.25\\nsamples = 4\\nvalue = 725.5'),\n Text(210.0991304347826, 45.29999999999998, 'mse = 0.0\\nsamples = 2\\nvalue = 725.0'),\n Text(211.0695652173913, 45.29999999999998, 'mse = 0.0\\nsamples = 2\\nvalue = 726.0'),\n Text(212.52521739130435, 63.41999999999999, 'X[4] <= 727.5\\nmse = 0.667\\nsamples = 6\\nvalue = 728.0'),\n Text(212.04, 45.29999999999998, 'mse = 0.0\\nsamples = 2\\nvalue = 727.0'),\n Text(213.01043478260868, 45.29999999999998, 'X[0] <= 0.002\\nmse = 0.25\\nsamples = 4\\nvalue = 728.5'),\n Text(212.52521739130435, 27.17999999999998, 'mse = 0.0\\nsamples = 2\\nvalue = 728.0'),\n Text(213.49565217391304, 27.17999999999998, 'mse = 0.0\\nsamples = 2\\nvalue = 729.0'),\n Text(245.8990760869565, 154.01999999999998, 'X[4] <= 778.5\\nmse = 808.341\\nsamples = 181\\nvalue = 779.773'),\n Text(230.0536956521739, 135.89999999999998, 'X[4] <= 753.0\\nmse = 163.538\\nsamples = 85\\nvalue = 753.941'),\n Text(222.2295652173913, 117.77999999999999, 'X[4] <= 743.0\\nmse = 45.396\\nsamples = 38\\nvalue = 741.842'),\n Text(218.34782608695653, 99.66, 'X[4] <= 735.5\\nmse = 12.154\\nsamples = 21\\nvalue = 736.524'),\n Text(216.40695652173912, 81.53999999999999, 'X[4] <= 732.5\\nmse = 2.0\\nsamples = 8\\nvalue = 732.5'),\n Text(215.43652173913043, 63.41999999999999, 'X[4] <= 731.5\\nmse = 0.688\\nsamples = 4\\nvalue = 731.25'),\n Text(214.9513043478261, 45.29999999999998, 'X[0] <= 0.002\\nmse = 0.25\\nsamples = 2\\nvalue = 730.5'),\n Text(214.46608695652174, 27.17999999999998, 'mse = 0.0\\nsamples = 1\\nvalue = 731.0'),\n Text(215.43652173913043, 27.17999999999998, 'mse = 0.0\\nsamples = 1\\nvalue = 730.0'),\n Text(215.9217391304348, 45.29999999999998, 'mse = 0.0\\nsamples = 2\\nvalue = 732.0'),\n Text(217.37739130434784, 63.41999999999999, 'X[2] <= 0.009\\nmse = 0.188\\nsamples = 4\\nvalue = 733.75'),\n Text(216.89217391304348, 45.29999999999998, 'mse = 0.0\\nsamples = 3\\nvalue = 734.0'),\n Text(217.86260869565217, 45.29999999999998, 'mse = 0.0\\nsamples = 1\\nvalue = 733.0'),\n Text(220.2886956521739, 81.53999999999999, 'X[4] <= 739.0\\nmse = 2.308\\nsamples = 13\\nvalue = 739.0'),\n Text(219.31826086956522, 63.41999999999999, 'X[4] <= 737.5\\nmse = 0.204\\nsamples = 7\\nvalue = 737.714'),\n Text(218.83304347826086, 45.29999999999998, 'mse = 0.0\\nsamples = 2\\nvalue = 737.0'),\n Text(219.80347826086955, 45.29999999999998, 'mse = 0.0\\nsamples = 5\\nvalue = 738.0'),\n Text(221.2591304347826, 63.41999999999999, 'X[0] <= 0.003\\nmse = 0.583\\nsamples = 6\\nvalue = 740.5'),\n Text(220.77391304347825, 45.29999999999998, 'mse = 0.0\\nsamples = 4\\nvalue = 740.0'),\n Text(221.74434782608697, 45.29999999999998, 'X[1] <= 0.01\\nmse = 0.25\\nsamples = 2\\nvalue = 741.5'),\n Text(221.2591304347826, 27.17999999999998, 'mse = 0.0\\nsamples = 1\\nvalue = 741.0'),\n Text(222.2295652173913, 27.17999999999998, 'mse = 0.0\\nsamples = 1\\nvalue = 742.0'),\n Text(226.1113043478261, 99.66, 'X[4] <= 747.5\\nmse = 8.36\\nsamples = 17\\nvalue = 748.412'),\n Text(224.17043478260868, 81.53999999999999, 'X[4] <= 745.5\\nmse = 1.333\\nsamples = 6\\nvalue = 745.0'),\n Text(223.2, 63.41999999999999, 'X[1] <= 0.012\\nmse = 0.188\\nsamples = 4\\nvalue = 744.25'),\n Text(222.71478260869566, 45.29999999999998, 'mse = 0.0\\nsamples = 1\\nvalue = 745.0'),\n Text(223.68521739130435, 45.29999999999998, 'mse = 0.0\\nsamples = 3\\nvalue = 744.0'),\n Text(225.1408695652174, 63.41999999999999, 'X[1] <= 0.023\\nmse = 0.25\\nsamples = 2\\nvalue = 746.5'),\n Text(224.65565217391304, 45.29999999999998, 'mse = 0.0\\nsamples = 1\\nvalue = 746.0'),\n Text(225.62608695652173, 45.29999999999998, 'mse = 0.0\\nsamples = 1\\nvalue = 747.0'),\n Text(228.05217391304348, 81.53999999999999, 'X[4] <= 750.5\\nmse = 2.38\\nsamples = 11\\nvalue = 750.273'),\n Text(227.08173913043478, 63.41999999999999, 'X[4] <= 748.5\\nmse = 0.667\\nsamples = 6\\nvalue = 749.0'),\n Text(226.59652173913042, 45.29999999999998, 'mse = 0.0\\nsamples = 2\\nvalue = 748.0'),\n Text(227.56695652173912, 45.29999999999998, 'X[4] <= 749.5\\nmse = 0.25\\nsamples = 4\\nvalue = 749.5'),\n Text(227.08173913043478, 27.17999999999998, 'mse = 0.0\\nsamples = 2\\nvalue = 749.0'),\n Text(228.05217391304348, 27.17999999999998, 'mse = 0.0\\nsamples = 2\\nvalue = 750.0'),\n Text(229.02260869565217, 63.41999999999999, 'X[1] <= 0.018\\nmse = 0.16\\nsamples = 5\\nvalue = 751.8'),\n Text(228.53739130434784, 45.29999999999998, 'mse = 0.0\\nsamples = 4\\nvalue = 752.0'),\n Text(229.50782608695653, 45.29999999999998, 'mse = 0.0\\nsamples = 1\\nvalue = 751.0'),\n Text(237.87782608695653, 117.77999999999999, 'X[4] <= 765.5\\nmse = 45.009\\nsamples = 47\\nvalue = 763.723'),\n Text(233.87478260869565, 99.66, 'X[4] <= 760.0\\nmse = 10.92\\nsamples = 29\\nvalue = 759.103'),\n Text(231.93391304347827, 81.53999999999999, 'X[4] <= 756.5\\nmse = 3.619\\nsamples = 17\\nvalue = 756.706'),\n Text(230.96347826086955, 63.41999999999999, 'X[1] <= 0.023\\nmse = 0.609\\nsamples = 8\\nvalue = 754.875'),\n Text(230.47826086956522, 45.29999999999998, 'X[4] <= 755.5\\nmse = 0.24\\nsamples = 5\\nvalue = 755.4'),\n Text(229.99304347826086, 27.17999999999998, 'mse = 0.0\\nsamples = 3\\nvalue = 755.0'),\n Text(230.96347826086955, 27.17999999999998, 'mse = 0.0\\nsamples = 2\\nvalue = 756.0'),\n Text(231.4486956521739, 45.29999999999998, 'mse = 0.0\\nsamples = 3\\nvalue = 754.0'),\n Text(232.90434782608696, 63.41999999999999, 'X[4] <= 758.5\\nmse = 0.667\\nsamples = 9\\nvalue = 758.333'),\n Text(232.4191304347826, 45.29999999999998, 'X[4] <= 757.5\\nmse = 0.25\\nsamples = 4\\nvalue = 757.5'),\n Text(231.93391304347827, 27.17999999999998, 'mse = 0.0\\nsamples = 2\\nvalue = 757.0'),\n Text(232.90434782608696, 27.17999999999998, 'mse = 0.0\\nsamples = 2\\nvalue = 758.0'),\n Text(233.3895652173913, 45.29999999999998, 'mse = 0.0\\nsamples = 5\\nvalue = 759.0'),\n Text(235.81565217391304, 81.53999999999999, 'X[4] <= 762.5\\nmse = 1.583\\nsamples = 12\\nvalue = 762.5'),\n Text(234.84521739130435, 63.41999999999999, 'X[4] <= 761.5\\nmse = 0.222\\nsamples = 6\\nvalue = 761.333'),\n Text(234.35999999999999, 45.29999999999998, 'mse = 0.0\\nsamples = 4\\nvalue = 761.0'),\n Text(235.3304347826087, 45.29999999999998, 'mse = 0.0\\nsamples = 2\\nvalue = 762.0'),\n Text(236.78608695652173, 63.41999999999999, 'X[1] <= 0.023\\nmse = 0.222\\nsamples = 6\\nvalue = 763.667'),\n Text(236.3008695652174, 45.29999999999998, 'mse = 0.0\\nsamples = 4\\nvalue = 764.0'),\n Text(237.2713043478261, 45.29999999999998, 'mse = 0.0\\nsamples = 2\\nvalue = 763.0'),\n Text(241.88086956521738, 99.66, 'X[4] <= 771.5\\nmse = 10.139\\nsamples = 18\\nvalue = 771.167'),\n Text(239.69739130434783, 81.53999999999999, 'X[4] <= 768.5\\nmse = 1.778\\nsamples = 9\\nvalue = 768.333'),\n Text(238.72695652173914, 63.41999999999999, 'X[4] <= 767.5\\nmse = 0.25\\nsamples = 6\\nvalue = 767.5'),\n Text(238.24173913043478, 45.29999999999998, 'mse = 0.0\\nsamples = 3\\nvalue = 767.0'),\n Text(239.21217391304347, 45.29999999999998, 'mse = 0.0\\nsamples = 3\\nvalue = 768.0'),\n Text(240.66782608695652, 63.41999999999999, 'X[2] <= 0.004\\nmse = 0.667\\nsamples = 3\\nvalue = 770.0'),\n Text(240.18260869565216, 45.29999999999998, 'mse = 0.0\\nsamples = 1\\nvalue = 771.0'),\n Text(241.15304347826086, 45.29999999999998, 'X[4] <= 769.5\\nmse = 0.25\\nsamples = 2\\nvalue = 769.5'),\n Text(240.66782608695652, 27.17999999999998, 'mse = 0.0\\nsamples = 1\\nvalue = 769.0'),\n Text(241.63826086956522, 27.17999999999998, 'mse = 0.0\\nsamples = 1\\nvalue = 770.0'),\n Text(244.06434782608696, 81.53999999999999, 'X[4] <= 776.0\\nmse = 2.444\\nsamples = 9\\nvalue = 774.0'),\n Text(243.5791304347826, 63.41999999999999, 'X[0] <= 0.002\\nmse = 0.5\\nsamples = 8\\nvalue = 773.5'),\n Text(243.09391304347827, 45.29999999999998, 'X[2] <= 0.003\\nmse = 0.222\\nsamples = 3\\nvalue = 772.667'),\n Text(242.6086956521739, 27.17999999999998, 'mse = 0.0\\nsamples = 1\\nvalue = 772.0'),\n Text(243.5791304347826, 27.17999999999998, 'mse = 0.0\\nsamples = 2\\nvalue = 773.0'),\n Text(244.06434782608696, 45.29999999999998, 'mse = 0.0\\nsamples = 5\\nvalue = 774.0'),\n Text(244.5495652173913, 63.41999999999999, 'mse = 0.0\\nsamples = 1\\nvalue = 778.0'),\n Text(261.74445652173915, 135.89999999999998, 'X[4] <= 804.5\\nmse = 265.27\\nsamples = 96\\nvalue = 802.646'),\n Text(253.22282608695653, 117.77999999999999, 'X[4] <= 791.5\\nmse = 49.166\\nsamples = 54\\nvalue = 789.981'),\n Text(249.2804347826087, 99.66, 'X[4] <= 785.5\\nmse = 16.249\\nsamples = 34\\nvalue = 785.471'),\n Text(247.21826086956523, 81.53999999999999, 'X[4] <= 782.5\\nmse = 3.322\\nsamples = 17\\nvalue = 781.824'),\n Text(246.00521739130434, 63.41999999999999, 'X[4] <= 780.5\\nmse = 0.777\\nsamples = 11\\nvalue = 780.636'),\n Text(245.03478260869565, 45.29999999999998, 'X[1] <= 0.029\\nmse = 0.16\\nsamples = 5\\nvalue = 779.8'),\n Text(244.5495652173913, 27.17999999999998, 'mse = 0.0\\nsamples = 4\\nvalue = 780.0'),\n Text(245.52, 27.17999999999998, 'mse = 0.0\\nsamples = 1\\nvalue = 779.0'),\n Text(246.97565217391303, 45.29999999999998, 'X[4] <= 781.5\\nmse = 0.222\\nsamples = 6\\nvalue = 781.333'),\n Text(246.4904347826087, 27.17999999999998, 'mse = 0.0\\nsamples = 4\\nvalue = 781.0'),\n Text(247.4608695652174, 27.17999999999998, 'mse = 0.0\\nsamples = 2\\nvalue = 782.0'),\n Text(248.43130434782609, 63.41999999999999, 'X[4] <= 783.5\\nmse = 0.667\\nsamples = 6\\nvalue = 784.0'),\n Text(247.94608695652173, 45.29999999999998, 'mse = 0.0\\nsamples = 2\\nvalue = 783.0'),\n Text(248.91652173913045, 45.29999999999998, 'X[4] <= 784.5\\nmse = 0.25\\nsamples = 4\\nvalue = 784.5'),\n Text(248.43130434782609, 27.17999999999998, 'mse = 0.0\\nsamples = 2\\nvalue = 784.0'),\n Text(249.40173913043478, 27.17999999999998, 'mse = 0.0\\nsamples = 2\\nvalue = 785.0'),\n Text(251.34260869565216, 81.53999999999999, 'X[4] <= 788.5\\nmse = 2.574\\nsamples = 17\\nvalue = 789.118'),\n Text(250.37217391304347, 63.41999999999999, 'X[2] <= 0.004\\nmse = 0.8\\nsamples = 5\\nvalue = 787.0'),\n Text(249.88695652173914, 45.29999999999998, 'mse = 0.0\\nsamples = 2\\nvalue = 786.0'),\n Text(250.85739130434783, 45.29999999999998, 'X[4] <= 787.5\\nmse = 0.222\\nsamples = 3\\nvalue = 787.667'),\n Text(250.37217391304347, 27.17999999999998, 'mse = 0.0\\nsamples = 1\\nvalue = 787.0'),\n Text(251.34260869565216, 27.17999999999998, 'mse = 0.0\\nsamples = 2\\nvalue = 788.0'),\n Text(252.31304347826088, 63.41999999999999, 'X[4] <= 789.5\\nmse = 0.667\\nsamples = 12\\nvalue = 790.0'),\n Text(251.82782608695652, 45.29999999999998, 'mse = 0.0\\nsamples = 4\\nvalue = 789.0'),\n Text(252.7982608695652, 45.29999999999998, 'X[1] <= 0.015\\nmse = 0.25\\nsamples = 8\\nvalue = 790.5'),\n Text(252.31304347826088, 27.17999999999998, 'mse = 0.0\\nsamples = 4\\nvalue = 790.0'),\n Text(253.28347826086957, 27.17999999999998, 'mse = 0.0\\nsamples = 4\\nvalue = 791.0'),\n Text(257.16521739130434, 99.66, 'X[4] <= 797.5\\nmse = 11.728\\nsamples = 20\\nvalue = 797.65'),\n Text(255.22434782608696, 81.53999999999999, 'X[4] <= 793.5\\nmse = 1.432\\nsamples = 9\\nvalue = 794.111'),\n Text(254.25391304347826, 63.41999999999999, 'X[4] <= 792.5\\nmse = 0.222\\nsamples = 3\\nvalue = 792.667'),\n Text(253.7686956521739, 45.29999999999998, 'mse = 0.0\\nsamples = 1\\nvalue = 792.0'),\n Text(254.7391304347826, 45.29999999999998, 'mse = 0.0\\nsamples = 2\\nvalue = 793.0'),\n Text(256.1947826086957, 63.41999999999999, 'X[4] <= 794.5\\nmse = 0.472\\nsamples = 6\\nvalue = 794.833'),\n Text(255.70956521739132, 45.29999999999998, 'mse = 0.0\\nsamples = 2\\nvalue = 794.0'),\n Text(256.68, 45.29999999999998, 'X[4] <= 795.5\\nmse = 0.188\\nsamples = 4\\nvalue = 795.25'),\n Text(256.1947826086957, 27.17999999999998, 'mse = 0.0\\nsamples = 3\\nvalue = 795.0'),\n Text(257.16521739130434, 27.17999999999998, 'mse = 0.0\\nsamples = 1\\nvalue = 796.0'),\n Text(259.1060869565217, 81.53999999999999, 'X[4] <= 800.5\\nmse = 1.521\\nsamples = 11\\nvalue = 800.545'),\n Text(258.13565217391306, 63.41999999999999, 'X[3] <= 0.0\\nmse = 0.25\\nsamples = 6\\nvalue = 799.5'),\n Text(257.65043478260867, 45.29999999999998, 'mse = 0.0\\nsamples = 3\\nvalue = 800.0'),\n Text(258.6208695652174, 45.29999999999998, 'mse = 0.0\\nsamples = 3\\nvalue = 799.0'),\n Text(260.07652173913044, 63.41999999999999, 'X[2] <= 0.005\\nmse = 0.16\\nsamples = 5\\nvalue = 801.8'),\n Text(259.5913043478261, 45.29999999999998, 'mse = 0.0\\nsamples = 1\\nvalue = 801.0'),\n Text(260.5617391304348, 45.29999999999998, 'mse = 0.0\\nsamples = 4\\nvalue = 802.0'),\n Text(270.26608695652175, 117.77999999999999, 'X[4] <= 819.0\\nmse = 71.781\\nsamples = 42\\nvalue = 818.929'),\n Text(264.92869565217393, 99.66, 'X[4] <= 811.5\\nmse = 10.245\\nsamples = 21\\nvalue = 811.429'),\n Text(262.98782608695655, 81.53999999999999, 'X[4] <= 809.0\\nmse = 2.04\\nsamples = 10\\nvalue = 808.6'),\n Text(262.0173913043478, 63.41999999999999, 'X[4] <= 807.5\\nmse = 0.25\\nsamples = 6\\nvalue = 807.5'),\n Text(261.5321739130435, 45.29999999999998, 'mse = 0.0\\nsamples = 3\\nvalue = 807.0'),\n Text(262.50260869565216, 45.29999999999998, 'mse = 0.0\\nsamples = 3\\nvalue = 808.0'),\n Text(263.9582608695652, 63.41999999999999, 'X[1] <= 0.011\\nmse = 0.188\\nsamples = 4\\nvalue = 810.25'),\n Text(263.4730434782609, 45.29999999999998, 'mse = 0.0\\nsamples = 1\\nvalue = 811.0'),\n Text(264.44347826086954, 45.29999999999998, 'mse = 0.0\\nsamples = 3\\nvalue = 810.0'),\n Text(266.8695652173913, 81.53999999999999, 'X[4] <= 814.5\\nmse = 3.818\\nsamples = 11\\nvalue = 814.0'),\n Text(265.8991304347826, 63.41999999999999, 'X[4] <= 812.5\\nmse = 0.49\\nsamples = 7\\nvalue = 812.714'),\n Text(265.41391304347826, 45.29999999999998, 'mse = 0.0\\nsamples = 3\\nvalue = 812.0'),\n Text(266.384347826087, 45.29999999999998, 'X[3] <= 0.0\\nmse = 0.188\\nsamples = 4\\nvalue = 813.25'),\n Text(265.8991304347826, 27.17999999999998, 'mse = 0.0\\nsamples = 1\\nvalue = 814.0'),\n Text(266.8695652173913, 27.17999999999998, 'mse = 0.0\\nsamples = 3\\nvalue = 813.0'),\n Text(267.84, 63.41999999999999, 'X[3] <= 0.0\\nmse = 1.688\\nsamples = 4\\nvalue = 816.25'),\n Text(267.35478260869564, 45.29999999999998, 'mse = 0.0\\nsamples = 2\\nvalue = 815.0'),\n Text(268.32521739130436, 45.29999999999998, 'X[4] <= 817.5\\nmse = 0.25\\nsamples = 2\\nvalue = 817.5'),\n Text(267.84, 27.17999999999998, 'mse = 0.0\\nsamples = 1\\nvalue = 817.0'),\n Text(268.8104347826087, 27.17999999999998, 'mse = 0.0\\nsamples = 1\\nvalue = 818.0'),\n Text(275.60347826086957, 99.66, 'X[4] <= 826.5\\nmse = 20.816\\nsamples = 21\\nvalue = 826.429'),\n Text(272.9347826086956, 81.53999999999999, 'X[4] <= 823.5\\nmse = 4.562\\nsamples = 11\\nvalue = 822.727'),\n Text(271.2365217391304, 63.41999999999999, 'X[1] <= 0.022\\nmse = 1.061\\nsamples = 7\\nvalue = 821.286'),\n Text(270.26608695652175, 45.29999999999998, 'X[4] <= 820.5\\nmse = 0.25\\nsamples = 4\\nvalue = 820.5'),\n Text(269.7808695652174, 27.17999999999998, 'mse = 0.0\\nsamples = 2\\nvalue = 820.0'),\n Text(270.7513043478261, 27.17999999999998, 'mse = 0.0\\nsamples = 2\\nvalue = 821.0'),\n Text(272.20695652173913, 45.29999999999998, 'X[0] <= 0.002\\nmse = 0.222\\nsamples = 3\\nvalue = 822.333'),\n Text(271.7217391304348, 27.17999999999998, 'mse = 0.0\\nsamples = 2\\nvalue = 822.0'),\n Text(272.69217391304346, 27.17999999999998, 'mse = 0.0\\nsamples = 1\\nvalue = 823.0'),\n Text(274.63304347826084, 63.41999999999999, 'X[4] <= 825.5\\nmse = 0.688\\nsamples = 4\\nvalue = 825.25'),\n Text(274.1478260869565, 45.29999999999998, 'X[3] <= 0.0\\nmse = 0.25\\nsamples = 2\\nvalue = 824.5'),\n Text(273.6626086956522, 27.17999999999998, 'mse = 0.0\\nsamples = 1\\nvalue = 825.0'),\n Text(274.63304347826084, 27.17999999999998, 'mse = 0.0\\nsamples = 1\\nvalue = 824.0'),\n Text(275.11826086956523, 45.29999999999998, 'mse = 0.0\\nsamples = 2\\nvalue = 826.0'),\n Text(278.2721739130435, 81.53999999999999, 'X[4] <= 832.0\\nmse = 7.05\\nsamples = 10\\nvalue = 830.5'),\n Text(277.0591304347826, 63.41999999999999, 'X[4] <= 829.0\\nmse = 2.286\\nsamples = 7\\nvalue = 829.0'),\n Text(276.0886956521739, 45.29999999999998, 'X[4] <= 827.5\\nmse = 0.222\\nsamples = 3\\nvalue = 827.333'),\n Text(275.60347826086957, 27.17999999999998, 'mse = 0.0\\nsamples = 2\\nvalue = 827.0'),\n Text(276.5739130434783, 27.17999999999998, 'mse = 0.0\\nsamples = 1\\nvalue = 828.0'),\n Text(278.0295652173913, 45.29999999999998, 'X[4] <= 830.5\\nmse = 0.188\\nsamples = 4\\nvalue = 830.25'),\n Text(277.54434782608695, 27.17999999999998, 'mse = 0.0\\nsamples = 3\\nvalue = 830.0'),\n Text(278.51478260869567, 27.17999999999998, 'mse = 0.0\\nsamples = 1\\nvalue = 831.0'),\n Text(279.48521739130433, 63.41999999999999, 'X[4] <= 833.5\\nmse = 0.667\\nsamples = 3\\nvalue = 834.0'),\n Text(279.0, 45.29999999999998, 'mse = 0.0\\nsamples = 1\\nvalue = 833.0'),\n Text(279.9704347826087, 45.29999999999998, 'X[4] <= 834.5\\nmse = 0.25\\nsamples = 2\\nvalue = 834.5'),\n Text(279.48521739130433, 27.17999999999998, 'mse = 0.0\\nsamples = 1\\nvalue = 834.0'),\n Text(280.45565217391305, 27.17999999999998, 'mse = 0.0\\nsamples = 1\\nvalue = 835.0'),\n Text(320.24347826086955, 190.26, 'X[4] <= 993.0\\nmse = 5728.286\\nsamples = 601\\nvalue = 1061.9'),\n Text(310.05391304347825, 172.14, 'X[4] <= 897.0\\nmse = 1215.985\\nsamples = 86\\nvalue = 880.058'),\n Text(298.46934782608696, 154.01999999999998, 'X[4] <= 864.0\\nmse = 272.249\\nsamples = 65\\nvalue = 863.462'),\n Text(288.82565217391306, 135.89999999999998, 'X[4] <= 849.0\\nmse = 73.793\\nsamples = 34\\nvalue = 850.029'),\n Text(283.8521739130435, 117.77999999999999, 'X[4] <= 843.5\\nmse = 15.209\\nsamples = 14\\nvalue = 840.929'),\n Text(281.9113043478261, 99.66, 'X[4] <= 839.0\\nmse = 3.41\\nsamples = 10\\nvalue = 838.7'),\n Text(280.9408695652174, 81.53999999999999, 'X[3] <= 0.0\\nmse = 0.4\\nsamples = 5\\nvalue = 837.0'),\n Text(280.45565217391305, 63.41999999999999, 'mse = 0.0\\nsamples = 1\\nvalue = 838.0'),\n Text(281.4260869565217, 63.41999999999999, 'X[2] <= 0.004\\nmse = 0.188\\nsamples = 4\\nvalue = 836.75'),\n Text(280.9408695652174, 45.29999999999998, 'mse = 0.0\\nsamples = 1\\nvalue = 836.0'),\n Text(281.9113043478261, 45.29999999999998, 'mse = 0.0\\nsamples = 3\\nvalue = 837.0'),\n Text(282.88173913043477, 81.53999999999999, 'X[2] <= 0.002\\nmse = 0.64\\nsamples = 5\\nvalue = 840.4'),\n Text(282.39652173913043, 63.41999999999999, 'mse = 0.0\\nsamples = 1\\nvalue = 842.0'),\n Text(283.36695652173916, 63.41999999999999, 'mse = 0.0\\nsamples = 4\\nvalue = 840.0'),\n Text(285.79304347826087, 99.66, 'X[4] <= 846.5\\nmse = 1.25\\nsamples = 4\\nvalue = 846.5'),\n Text(284.82260869565215, 81.53999999999999, 'X[4] <= 845.5\\nmse = 0.25\\nsamples = 2\\nvalue = 845.5'),\n Text(284.3373913043478, 63.41999999999999, 'mse = 0.0\\nsamples = 1\\nvalue = 845.0'),\n Text(285.30782608695654, 63.41999999999999, 'mse = 0.0\\nsamples = 1\\nvalue = 846.0'),\n Text(286.7634782608696, 81.53999999999999, 'X[3] <= 0.0\\nmse = 0.25\\nsamples = 2\\nvalue = 847.5'),\n Text(286.2782608695652, 63.41999999999999, 'mse = 0.0\\nsamples = 1\\nvalue = 847.0'),\n Text(287.2486956521739, 63.41999999999999, 'mse = 0.0\\nsamples = 1\\nvalue = 848.0'),\n Text(293.7991304347826, 117.77999999999999, 'X[4] <= 856.5\\nmse = 16.24\\nsamples = 20\\nvalue = 856.4'),\n Text(290.4026086956522, 99.66, 'X[4] <= 852.5\\nmse = 3.835\\nsamples = 11\\nvalue = 853.273'),\n Text(288.704347826087, 81.53999999999999, 'X[3] <= 0.0\\nmse = 0.5\\nsamples = 4\\nvalue = 851.0'),\n Text(288.2191304347826, 63.41999999999999, 'mse = 0.0\\nsamples = 1\\nvalue = 850.0'),\n Text(289.1895652173913, 63.41999999999999, 'X[1] <= 0.015\\nmse = 0.222\\nsamples = 3\\nvalue = 851.333'),\n Text(288.704347826087, 45.29999999999998, 'mse = 0.0\\nsamples = 2\\nvalue = 851.0'),\n Text(289.67478260869564, 45.29999999999998, 'mse = 0.0\\nsamples = 1\\nvalue = 852.0'),\n Text(292.1008695652174, 81.53999999999999, 'X[4] <= 854.5\\nmse = 1.102\\nsamples = 7\\nvalue = 854.571'),\n Text(291.1304347826087, 63.41999999999999, 'X[2] <= 0.008\\nmse = 0.188\\nsamples = 4\\nvalue = 853.75'),\n Text(290.64521739130436, 45.29999999999998, 'mse = 0.0\\nsamples = 3\\nvalue = 854.0'),\n Text(291.615652173913, 45.29999999999998, 'mse = 0.0\\nsamples = 1\\nvalue = 853.0'),\n Text(293.07130434782607, 63.41999999999999, 'X[2] <= 0.004\\nmse = 0.222\\nsamples = 3\\nvalue = 855.667'),\n Text(292.58608695652174, 45.29999999999998, 'mse = 0.0\\nsamples = 1\\nvalue = 855.0'),\n Text(293.55652173913046, 45.29999999999998, 'mse = 0.0\\nsamples = 2\\nvalue = 856.0'),\n Text(297.19565217391306, 99.66, 'X[4] <= 861.0\\nmse = 4.84\\nsamples = 9\\nvalue = 860.222'),\n Text(295.9826086956522, 81.53999999999999, 'X[4] <= 858.5\\nmse = 1.04\\nsamples = 5\\nvalue = 858.4'),\n Text(295.01217391304345, 63.41999999999999, 'X[0] <= 0.002\\nmse = 0.222\\nsamples = 3\\nvalue = 857.667'),\n Text(294.5269565217391, 45.29999999999998, 'mse = 0.0\\nsamples = 2\\nvalue = 858.0'),\n Text(295.49739130434784, 45.29999999999998, 'mse = 0.0\\nsamples = 1\\nvalue = 857.0'),\n Text(296.9530434782609, 63.41999999999999, 'X[0] <= 0.002\\nmse = 0.25\\nsamples = 2\\nvalue = 859.5'),\n Text(296.4678260869565, 45.29999999999998, 'mse = 0.0\\nsamples = 1\\nvalue = 859.0'),\n Text(297.4382608695652, 45.29999999999998, 'mse = 0.0\\nsamples = 1\\nvalue = 860.0'),\n Text(298.4086956521739, 81.53999999999999, 'X[0] <= 0.001\\nmse = 0.25\\nsamples = 4\\nvalue = 862.5'),\n Text(297.92347826086956, 63.41999999999999, 'mse = 0.0\\nsamples = 2\\nvalue = 862.0'),\n Text(298.8939130434783, 63.41999999999999, 'mse = 0.0\\nsamples = 2\\nvalue = 863.0'),\n Text(308.11304347826086, 135.89999999999998, 'X[4] <= 881.0\\nmse = 74.995\\nsamples = 31\\nvalue = 878.194'),\n Text(303.98869565217393, 117.77999999999999, 'X[4] <= 873.0\\nmse = 24.427\\nsamples = 20\\nvalue = 872.85'),\n Text(301.56260869565216, 99.66, 'X[4] <= 868.0\\nmse = 5.64\\nsamples = 10\\nvalue = 868.4'),\n Text(300.34956521739133, 81.53999999999999, 'X[3] <= 0.0\\nmse = 0.688\\nsamples = 4\\nvalue = 865.75'),\n Text(299.86434782608694, 63.41999999999999, 'X[0] <= 0.001\\nmse = 0.25\\nsamples = 2\\nvalue = 866.5'),\n Text(299.3791304347826, 45.29999999999998, 'mse = 0.0\\nsamples = 1\\nvalue = 867.0'),\n Text(300.34956521739133, 45.29999999999998, 'mse = 0.0\\nsamples = 1\\nvalue = 866.0'),\n Text(300.83478260869566, 63.41999999999999, 'mse = 0.0\\nsamples = 2\\nvalue = 865.0'),\n Text(302.77565217391304, 81.53999999999999, 'X[4] <= 870.5\\nmse = 1.139\\nsamples = 6\\nvalue = 870.167'),\n Text(301.8052173913043, 63.41999999999999, 'X[3] <= 0.0\\nmse = 0.25\\nsamples = 4\\nvalue = 869.5'),\n Text(301.32, 45.29999999999998, 'mse = 0.0\\nsamples = 2\\nvalue = 869.0'),\n Text(302.2904347826087, 45.29999999999998, 'mse = 0.0\\nsamples = 2\\nvalue = 870.0'),\n Text(303.74608695652176, 63.41999999999999, 'X[0] <= 0.002\\nmse = 0.25\\nsamples = 2\\nvalue = 871.5'),\n Text(303.2608695652174, 45.29999999999998, 'mse = 0.0\\nsamples = 1\\nvalue = 871.0'),\n Text(304.2313043478261, 45.29999999999998, 'mse = 0.0\\nsamples = 1\\nvalue = 872.0'),\n Text(306.41478260869565, 99.66, 'X[4] <= 876.0\\nmse = 3.61\\nsamples = 10\\nvalue = 877.3'),\n Text(305.20173913043476, 81.53999999999999, 'X[4] <= 874.5\\nmse = 0.222\\nsamples = 3\\nvalue = 874.667'),\n Text(304.7165217391304, 63.41999999999999, 'mse = 0.0\\nsamples = 1\\nvalue = 874.0'),\n Text(305.68695652173915, 63.41999999999999, 'mse = 0.0\\nsamples = 2\\nvalue = 875.0'),\n Text(307.62782608695653, 81.53999999999999, 'X[4] <= 878.5\\nmse = 0.816\\nsamples = 7\\nvalue = 878.429'),\n Text(306.6573913043478, 63.41999999999999, 'X[3] <= 0.0\\nmse = 0.188\\nsamples = 4\\nvalue = 877.75'),\n Text(306.1721739130435, 45.29999999999998, 'mse = 0.0\\nsamples = 3\\nvalue = 878.0'),\n Text(307.1426086956522, 45.29999999999998, 'mse = 0.0\\nsamples = 1\\nvalue = 877.0'),\n Text(308.5982608695652, 63.41999999999999, 'X[3] <= 0.0\\nmse = 0.222\\nsamples = 3\\nvalue = 879.333'),\n Text(308.11304347826086, 45.29999999999998, 'mse = 0.0\\nsamples = 2\\nvalue = 879.0'),\n Text(309.0834782608696, 45.29999999999998, 'mse = 0.0\\nsamples = 1\\nvalue = 880.0'),\n Text(312.2373913043478, 117.77999999999999, 'X[4] <= 890.0\\nmse = 20.628\\nsamples = 11\\nvalue = 887.909'),\n Text(311.02434782608697, 99.66, 'X[4] <= 885.5\\nmse = 3.484\\nsamples = 8\\nvalue = 885.375'),\n Text(310.05391304347825, 81.53999999999999, 'X[2] <= 0.002\\nmse = 1.188\\nsamples = 4\\nvalue = 883.75'),\n Text(309.5686956521739, 63.41999999999999, 'mse = 0.0\\nsamples = 1\\nvalue = 882.0'),\n Text(310.5391304347826, 63.41999999999999, 'X[2] <= 0.007\\nmse = 0.222\\nsamples = 3\\nvalue = 884.333'),\n Text(310.05391304347825, 45.29999999999998, 'mse = 0.0\\nsamples = 2\\nvalue = 884.0'),\n Text(311.02434782608697, 45.29999999999998, 'mse = 0.0\\nsamples = 1\\nvalue = 885.0'),\n Text(311.99478260869563, 81.53999999999999, 'X[0] <= 0.001\\nmse = 0.5\\nsamples = 4\\nvalue = 887.0'),\n Text(311.5095652173913, 63.41999999999999, 'mse = 0.0\\nsamples = 1\\nvalue = 888.0'),\n Text(312.48, 63.41999999999999, 'X[1] <= 0.008\\nmse = 0.222\\nsamples = 3\\nvalue = 886.667'),\n Text(311.99478260869563, 45.29999999999998, 'mse = 0.0\\nsamples = 1\\nvalue = 886.0'),\n Text(312.96521739130435, 45.29999999999998, 'mse = 0.0\\nsamples = 2\\nvalue = 887.0'),\n Text(313.4504347826087, 99.66, 'X[2] <= 0.006\\nmse = 3.556\\nsamples = 3\\nvalue = 894.667'),\n Text(312.96521739130435, 81.53999999999999, 'mse = 0.0\\nsamples = 1\\nvalue = 892.0'),\n Text(313.935652173913, 81.53999999999999, 'mse = 0.0\\nsamples = 2\\nvalue = 896.0'),\n Text(321.6384782608696, 154.01999999999998, 'X[4] <= 947.5\\nmse = 645.578\\nsamples = 21\\nvalue = 931.429'),\n Text(318.6665217391304, 135.89999999999998, 'X[4] <= 918.0\\nmse = 219.625\\nsamples = 16\\nvalue = 919.5'),\n Text(316.3617391304348, 117.77999999999999, 'X[4] <= 904.0\\nmse = 24.694\\nsamples = 7\\nvalue = 903.857'),\n Text(315.39130434782606, 99.66, 'X[1] <= 0.023\\nmse = 2.0\\nsamples = 4\\nvalue = 900.0'),\n Text(314.90608695652173, 81.53999999999999, 'X[4] <= 899.0\\nmse = 0.889\\nsamples = 3\\nvalue = 899.333'),\n Text(314.4208695652174, 63.41999999999999, 'mse = 0.0\\nsamples = 1\\nvalue = 898.0'),\n Text(315.39130434782606, 63.41999999999999, 'mse = 0.0\\nsamples = 2\\nvalue = 900.0'),\n Text(315.87652173913045, 81.53999999999999, 'mse = 0.0\\nsamples = 1\\nvalue = 902.0'),\n Text(317.33217391304345, 99.66, 'X[2] <= 0.006\\nmse = 8.667\\nsamples = 3\\nvalue = 909.0'),\n Text(316.8469565217391, 81.53999999999999, 'X[3] <= 0.0\\nmse = 1.0\\nsamples = 2\\nvalue = 907.0'),\n Text(316.3617391304348, 63.41999999999999, 'mse = 0.0\\nsamples = 1\\nvalue = 906.0'),\n Text(317.33217391304345, 63.41999999999999, 'mse = 0.0\\nsamples = 1\\nvalue = 908.0'),\n Text(317.81739130434784, 81.53999999999999, 'mse = 0.0\\nsamples = 1\\nvalue = 913.0'),\n Text(320.9713043478261, 117.77999999999999, 'X[4] <= 932.0\\nmse = 32.889\\nsamples = 9\\nvalue = 931.667'),\n Text(319.7582608695652, 99.66, 'X[2] <= 0.003\\nmse = 6.8\\nsamples = 5\\nvalue = 927.0'),\n Text(318.7878260869565, 81.53999999999999, 'X[1] <= 0.008\\nmse = 0.667\\nsamples = 3\\nvalue = 929.0'),\n Text(318.30260869565217, 63.41999999999999, 'mse = 0.0\\nsamples = 1\\nvalue = 930.0'),\n Text(319.2730434782609, 63.41999999999999, 'X[1] <= 0.014\\nmse = 0.25\\nsamples = 2\\nvalue = 928.5'),\n Text(318.7878260869565, 45.29999999999998, 'mse = 0.0\\nsamples = 1\\nvalue = 928.0'),\n Text(319.7582608695652, 45.29999999999998, 'mse = 0.0\\nsamples = 1\\nvalue = 929.0'),\n Text(320.7286956521739, 81.53999999999999, 'X[1] <= 0.015\\nmse = 1.0\\nsamples = 2\\nvalue = 924.0'),\n Text(320.24347826086955, 63.41999999999999, 'mse = 0.0\\nsamples = 1\\nvalue = 923.0'),\n Text(321.21391304347827, 63.41999999999999, 'mse = 0.0\\nsamples = 1\\nvalue = 925.0'),\n Text(322.18434782608693, 99.66, 'X[2] <= 0.001\\nmse = 4.25\\nsamples = 4\\nvalue = 937.5'),\n Text(321.6991304347826, 81.53999999999999, 'mse = 0.0\\nsamples = 1\\nvalue = 934.0'),\n Text(322.6695652173913, 81.53999999999999, 'X[3] <= 0.0\\nmse = 0.222\\nsamples = 3\\nvalue = 938.667'),\n Text(322.18434782608693, 63.41999999999999, 'mse = 0.0\\nsamples = 1\\nvalue = 938.0'),\n Text(323.15478260869565, 63.41999999999999, 'mse = 0.0\\nsamples = 2\\nvalue = 939.0'),\n Text(324.6104347826087, 135.89999999999998, 'X[2] <= 0.006\\nmse = 96.24\\nsamples = 5\\nvalue = 969.6'),\n Text(323.64, 117.77999999999999, 'X[1] <= 0.015\\nmse = 28.222\\nsamples = 3\\nvalue = 962.333'),\n Text(323.15478260869565, 99.66, 'mse = 0.0\\nsamples = 1\\nvalue = 969.0'),\n Text(324.1252173913043, 99.66, 'X[3] <= 0.0\\nmse = 9.0\\nsamples = 2\\nvalue = 959.0'),\n Text(323.64, 81.53999999999999, 'mse = 0.0\\nsamples = 1\\nvalue = 962.0'),\n Text(324.6104347826087, 81.53999999999999, 'mse = 0.0\\nsamples = 1\\nvalue = 956.0'),\n Text(325.58086956521737, 117.77999999999999, 'X[2] <= 0.007\\nmse = 0.25\\nsamples = 2\\nvalue = 980.5'),\n Text(325.09565217391304, 99.66, 'mse = 0.0\\nsamples = 1\\nvalue = 980.0'),\n Text(326.06608695652176, 99.66, 'mse = 0.0\\nsamples = 1\\nvalue = 981.0'),\n Text(330.43304347826086, 172.14, 'X[4] <= 1066.5\\nmse = 37.923\\nsamples = 515\\nvalue = 1092.266'),\n Text(328.00695652173914, 154.01999999999998, 'X[4] <= 1034.5\\nmse = 382.139\\nsamples = 6\\nvalue = 1040.833'),\n Text(327.0365217391304, 135.89999999999998, 'X[1] <= 0.011\\nmse = 156.25\\nsamples = 2\\nvalue = 1017.5'),\n Text(326.5513043478261, 117.77999999999999, 'mse = 0.0\\nsamples = 1\\nvalue = 1005.0'),\n Text(327.52173913043475, 117.77999999999999, 'mse = 0.0\\nsamples = 1\\nvalue = 1030.0'),\n Text(328.9773913043478, 135.89999999999998, 'X[4] <= 1045.0\\nmse = 86.75\\nsamples = 4\\nvalue = 1052.5'),\n Text(328.4921739130435, 117.77999999999999, 'mse = 0.0\\nsamples = 1\\nvalue = 1039.0'),\n Text(329.4626086956522, 117.77999999999999, 'X[4] <= 1060.0\\nmse = 34.667\\nsamples = 3\\nvalue = 1057.0'),\n Text(328.9773913043478, 99.66, 'X[2] <= 0.006\\nmse = 4.0\\nsamples = 2\\nvalue = 1053.0'),\n Text(328.4921739130435, 81.53999999999999, 'mse = 0.0\\nsamples = 1\\nvalue = 1051.0'),\n Text(329.4626086956522, 81.53999999999999, 'mse = 0.0\\nsamples = 1\\nvalue = 1055.0'),\n Text(329.9478260869565, 99.66, 'mse = 0.0\\nsamples = 1\\nvalue = 1065.0'),\n Text(332.8591304347826, 154.01999999999998, 'X[4] <= 1087.5\\nmse = 2.316\\nsamples = 509\\nvalue = 1092.872'),\n Text(331.8886956521739, 135.89999999999998, 'X[3] <= 0.0\\nmse = 40.5\\nsamples = 4\\nvalue = 1077.0'),\n Text(331.4034782608696, 117.77999999999999, 'X[1] <= 0.016\\nmse = 9.0\\nsamples = 2\\nvalue = 1071.0'),\n Text(330.9182608695652, 99.66, 'mse = 0.0\\nsamples = 1\\nvalue = 1068.0'),\n Text(331.8886956521739, 99.66, 'mse = 0.0\\nsamples = 1\\nvalue = 1074.0'),\n Text(332.37391304347824, 117.77999999999999, 'mse = 0.0\\nsamples = 2\\nvalue = 1083.0'),\n Text(333.8295652173913, 135.89999999999998, 'X[4] <= 1092.5\\nmse = 0.002\\nsamples = 505\\nvalue = 1092.998'),\n Text(333.34434782608696, 117.77999999999999, 'mse = 0.0\\nsamples = 1\\nvalue = 1092.0'),\n Text(334.3147826086956, 117.77999999999999, 'mse = 0.0\\nsamples = 504\\nvalue = 1093.0')]"
     },
     "execution_count": 35,
     "metadata": {},
     "output_type": "execute_result"
    },
    {
     "data": {
      "text/plain": "<Figure size 432x288 with 1 Axes>",
      "image/png": "[encoded data removed]"
     },
     "metadata": {
      "needs_background": "light"
     },
     "output_type": "display_data"
    }
   ],
   "source": [
    "tree.plot_tree(clf)"
   ]
  },
  {
   "cell_type": "markdown",
   "metadata": {},
   "source": [
    "# Ответы на контрольные вопросы"
   ]
  },
  {
   "cell_type": "markdown",
   "metadata": {
    "pycharm": {
     "name": "#%% md\n"
    }
   },
   "source": [
    "## 1. Опишите этапы построения алгоритма дерева решений для задачи классификации и регрессии. Чем они отличаются и чем схожи?\n"
   ]
  },
  {
   "cell_type": "markdown",
   "metadata": {},
   "source": [
    "## 2. Какие метрики используются для оценки качества работы алгоритмов при решении задачи регрессии? Опишите данные метрики с математической точки зрения и скажите, чем они отличаются друг от друга.\n"
   ]
  },
  {
   "cell_type": "markdown",
   "metadata": {},
   "source": [
    "## 3. Каким способом можно повысить качество работы алгоритмов регрессии?"
   ]
  }
 ],
 "metadata": {
  "kernelspec": {
   "display_name": "Python 3",
   "language": "python",
   "name": "python3"
  },
  "language_info": {
   "codemirror_mode": {
    "name": "ipython",
    "version": 3
   },
   "file_extension": ".py",
   "mimetype": "text/x-python",
   "name": "python",
   "nbconvert_exporter": "python",
   "pygments_lexer": "ipython3",
   "version": "3.7.4"
  }
 },
 "nbformat": 4,
 "nbformat_minor": 1
}