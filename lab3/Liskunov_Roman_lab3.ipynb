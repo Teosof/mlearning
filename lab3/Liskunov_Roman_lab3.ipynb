{
 "cells": [
  {
   "cell_type": "markdown",
   "source": [
    "# Решающие деревья для задач классификации и регрессии\n",
    "Группа: ИВТ-М20.<br/>\n",
    "Студент: Лискунов Роман Геннадьвич"
   ],
   "metadata": {
    "collapsed": false
   }
  },
  {
   "cell_type": "code",
   "execution_count": 173,
   "outputs": [],
   "source": [
    "import warnings\n",
    "from typing import Union, Any\n",
    "from numpy import arange\n",
    "from pandas import (\n",
    "    DataFrame,\n",
    "    read_csv\n",
    ")\n",
    "from sklearn.metrics import (\n",
    "    accuracy_score,\n",
    "    r2_score,\n",
    "    mean_absolute_error,\n",
    "    classification_report\n",
    ")\n",
    "from sklearn.model_selection import (\n",
    "    train_test_split,\n",
    "    cross_val_score,\n",
    "    GridSearchCV\n",
    ")\n",
    "from sklearn.tree import (\n",
    "    DecisionTreeClassifier,\n",
    "    DecisionTreeRegressor,\n",
    "    export_graphviz,\n",
    "    plot_tree\n",
    ")\n",
    "warnings.filterwarnings('ignore')\n"
   ],
   "metadata": {
    "collapsed": false,
    "pycharm": {
     "name": "#%%\n"
    }
   }
  },
  {
   "cell_type": "markdown",
   "source": [
    "## 1. Прочтите данные из файлов"
   ],
   "metadata": {
    "collapsed": false
   }
  },
  {
   "cell_type": "code",
   "execution_count": 174,
   "outputs": [],
   "source": [
    "transformators: DataFrame = DataFrame(\n",
    "    read_csv(\n",
    "        'data/transformators.csv',\n",
    "        sep=',',\n",
    "        header=0\n",
    "    )\n",
    ")\n",
    "regression: DataFrame = DataFrame(\n",
    "    read_csv(\n",
    "        'data/transformators_regression.csv',\n",
    "        sep=',',\n",
    "        header=0\n",
    "    )\n",
    ")"
   ],
   "metadata": {
    "collapsed": false,
    "pycharm": {
     "name": "#%%\n"
    }
   }
  },
  {
   "cell_type": "code",
   "execution_count": 175,
   "outputs": [],
   "source": [
    "x = transformators.drop('label', axis=1)\n",
    "y = transformators.label"
   ],
   "metadata": {
    "collapsed": false,
    "pycharm": {
     "name": "#%%\n"
    }
   }
  },
  {
   "cell_type": "markdown",
   "source": [
    "## 2. Отобразите несколько первых и несколько последних записей."
   ],
   "metadata": {
    "collapsed": false
   }
  },
  {
   "cell_type": "code",
   "execution_count": 176,
   "outputs": [
    {
     "name": "stdout",
     "output_type": "stream",
     "text": [
      "         H2        CO      C2H4      C2H2  label\n",
      "0  0.002590  0.016491  0.002876  0.000336      1\n",
      "1  0.002825  0.014728  0.001992  0.000339      1\n",
      "2  0.002764  0.017030  0.003394  0.000195      1\n",
      "3  0.000508  0.016334  0.004104  0.000380      1\n",
      "4  0.002654  0.021278  0.004068  0.000124      1\n",
      "            H2        CO      C2H4      C2H2  label\n",
      "2095  0.002549  0.009460  0.007465  0.000242      1\n",
      "2096  0.000915  0.005770  0.007230  0.000081      3\n",
      "2097  0.001565  0.002492  0.008529  0.000176      3\n",
      "2098  0.001688  0.020291  0.007305  0.000252      1\n",
      "2099  0.002935  0.028001  0.008048  0.000219      1\n",
      "         H2        CO      C2H4      C2H2  label\n",
      "0  0.002590  0.016491  0.002876  0.000336    541\n",
      "1  0.002825  0.014728  0.001992  0.000339    520\n",
      "2  0.002764  0.017030  0.003394  0.000195    583\n",
      "3  0.000508  0.016334  0.004104  0.000380    487\n",
      "4  0.002654  0.021278  0.004068  0.000124   1093\n",
      "            H2        CO      C2H4      C2H2  label\n",
      "2095  0.002549  0.009460  0.007465  0.000242   1093\n",
      "2096  0.000915  0.005770  0.007230  0.000081   1093\n",
      "2097  0.001565  0.002492  0.008529  0.000176    719\n",
      "2098  0.001688  0.020291  0.007305  0.000252    698\n",
      "2099  0.002935  0.028001  0.008048  0.000219    644\n"
     ]
    }
   ],
   "source": [
    "print(transformators.head())\n",
    "print(transformators.tail())\n",
    "print(regression.head())\n",
    "print(regression.tail())"
   ],
   "metadata": {
    "collapsed": false,
    "pycharm": {
     "name": "#%%\n"
    }
   }
  },
  {
   "cell_type": "markdown",
   "source": [
    "## 3. Разбейте данные для классификации"
   ],
   "metadata": {
    "collapsed": false
   }
  },
  {
   "cell_type": "code",
   "execution_count": 177,
   "outputs": [],
   "source": [
    "x_train, x_test, y_train, y_test = train_test_split(x, y, test_size=0.3, train_size=0.7)"
   ],
   "metadata": {
    "collapsed": false,
    "pycharm": {
     "name": "#%%\n"
    }
   }
  },
  {
   "cell_type": "markdown",
   "source": [
    "## 4. Примените алгоритм дерева решений"
   ],
   "metadata": {
    "collapsed": false
   }
  },
  {
   "cell_type": "code",
   "execution_count": 178,
   "outputs": [
    {
     "data": {
      "text/plain": "DecisionTreeClassifier()"
     },
     "execution_count": 178,
     "metadata": {},
     "output_type": "execute_result"
    }
   ],
   "source": [
    "clf: DecisionTreeClassifier = DecisionTreeClassifier()\n",
    "clf.fit(x_train, y_train)"
   ],
   "metadata": {
    "collapsed": false,
    "pycharm": {
     "name": "#%%\n"
    }
   }
  },
  {
   "cell_type": "markdown",
   "source": [
    "## 5. Сделайте предсказание на тестовой выборке."
   ],
   "metadata": {
    "collapsed": false
   }
  },
  {
   "cell_type": "code",
   "execution_count": 179,
   "outputs": [
    {
     "name": "stdout",
     "output_type": "stream",
     "text": [
      "Prediction: [1 1 1 4 1 4 1 1 1 1 1 1 1 1 3 1 1 1 3 1 1 1 1 1 1 1 1 1 4 1 1 1 4 1 2 1 1\n",
      " 1 3 2 1 1 1 1 1 1 4 1 1 1 1 1 1 1 1 4 1 1 4 1 1 2 1 1 1 1 3 1 1 1 1 4 1 1\n",
      " 1 1 1 1 1 3 1 1 1 1 4 4 1 1 1 1 1 2 1 1 1 1 4 1 1 1 1 1 1 1 1 1 1 1 1 1 1\n",
      " 1 3 1 1 4 1 1 3 1 1 1 1 1 4 1 3 4 4 1 3 1 1 1 1 1 1 3 1 1 1 1 1 2 1 1 1 3\n",
      " 1 1 1 4 1 1 4 2 1 4 1 1 1 1 1 1 1 1 2 1 1 1 3 1 1 1 1 4 1 1 1 1 1 1 1 1 1\n",
      " 1 1 1 1 3 3 1 1 1 1 2 1 2 3 1 1 1 1 1 2 1 1 1 1 1 1 1 2 1 1 1 2 1 1 1 1 1\n",
      " 3 1 1 4 3 1 1 1 1 3 1 1 1 1 1 1 1 1 1 1 1 1 1 4 4 4 1 1 1 1 1 1 1 1 2 4 1\n",
      " 1 1 1 1 3 1 1 4 1 1 1 1 4 1 1 1 1 3 1 1 1 4 1 3 1 1 1 1 1 1 1 1 1 1 1 1 1\n",
      " 1 1 1 3 1 4 1 1 1 1 1 1 1 1 1 1 1 1 1 4 1 4 1 1 4 1 4 4 1 1 1 1 1 1 3 1 1\n",
      " 1 1 1 4 1 1 1 1 1 1 3 2 1 1 1 1 1 4 1 1 1 1 1 1 1 1 1 3 1 1 1 1 1 1 1 1 1\n",
      " 1 1 1 1 3 1 1 1 1 1 1 1 4 4 1 1 1 1 1 1 1 1 1 1 1 4 1 1 1 1 1 4 1 4 4 1 1\n",
      " 1 1 1 3 2 1 1 2 1 1 1 1 1 1 1 1 1 1 1 1 1 1 1 3 3 1 4 1 1 1 1 1 4 2 1 1 1\n",
      " 1 3 1 1 1 1 1 2 1 1 1 1 1 1 1 1 3 1 1 1 1 1 3 1 1 2 1 2 4 4 4 1 4 4 1 1 1\n",
      " 1 1 3 1 1 1 3 1 4 1 1 4 4 1 1 2 1 1 2 1 1 1 1 1 1 2 1 1 1 3 1 1 1 1 1 1 1\n",
      " 1 4 1 1 1 1 1 1 4 1 3 1 1 1 1 1 1 3 1 4 1 1 1 3 1 3 3 1 1 1 1 1 1 1 1 4 3\n",
      " 1 1 1 1 1 1 1 1 1 1 1 2 1 1 1 3 1 1 3 1 1 1 1 3 1 4 1 1 1 1 4 1 1 1 1 1 1\n",
      " 1 1 1 1 4 2 4 1 1 2 4 4 3 1 1 3 4 1 2 1 1 1 3 3 1 1 1 1 4 1 1 1 1 3 1 1 1\n",
      " 1]\n",
      "0.8841269841269841\n",
      "              precision    recall  f1-score   support\n",
      "\n",
      "           1       0.96      0.93      0.94       507\n",
      "           2       0.81      0.76      0.79        29\n",
      "           3       0.45      0.63      0.52        35\n",
      "           4       0.67      0.71      0.69        59\n",
      "\n",
      "    accuracy                           0.88       630\n",
      "   macro avg       0.72      0.76      0.74       630\n",
      "weighted avg       0.90      0.88      0.89       630\n",
      "\n"
     ]
    }
   ],
   "source": [
    "pred: object = clf.predict(x_test)\n",
    "print(f\"Prediction: {pred}\")\n",
    "print(accuracy_score(y_test, pred, normalize=True))\n",
    "print(classification_report(y_test, pred))\n"
   ],
   "metadata": {
    "collapsed": false,
    "pycharm": {
     "name": "#%%\n"
    }
   }
  },
  {
   "cell_type": "markdown",
   "source": [
    "## 6. Выполните подбор гиперпараметров модели"
   ],
   "metadata": {
    "collapsed": false
   }
  },
  {
   "cell_type": "code",
   "execution_count": 180,
   "outputs": [
    {
     "name": "stdout",
     "output_type": "stream",
     "text": [
      "GridSearchCV(cv=5, estimator=DecisionTreeClassifier(),\n",
      "             param_grid={'criterion': ['gini', 'entropy'],\n",
      "                         'max_depth': [0, 10, 20, 30, 40, 50, 60, 70, 80, 90,\n",
      "                                       100, 110, 120, 130, 140],\n",
      "                         'min_samples_leaf': [0, 3, 6, 9, 12],\n",
      "                         'min_samples_split': [0, 2, 4, 6, 8]})\n"
     ]
    }
   ],
   "source": [
    "parameters: dict[str, Union[list[str], list[int]]] = {\n",
    "    'criterion':['gini','entropy'],\n",
    "    'max_depth':[x for x in range(0,150,10)],\n",
    "    'min_samples_split': [x for x in range(0,10,2)],\n",
    "    'min_samples_leaf': [x for x in range(0,15,3)]\n",
    "}\n",
    "grid: GridSearchCV = GridSearchCV(\n",
    "    DecisionTreeClassifier(),\n",
    "    parameters,\n",
    "    cv=5\n",
    ")\n",
    "gs_result: Union[GridSearchCV, Any] = grid.fit(x_train, y_train)\n",
    "print(gs_result)"
   ],
   "metadata": {
    "collapsed": false,
    "pycharm": {
     "name": "#%%\n"
    }
   }
  },
  {
   "cell_type": "markdown",
   "source": [
    "## 7. Заново обучите модель с подобранными гиперпараметрами"
   ],
   "metadata": {
    "collapsed": false
   }
  },
  {
   "cell_type": "code",
   "execution_count": 181,
   "outputs": [
    {
     "name": "stdout",
     "output_type": "stream",
     "text": [
      "{'criterion': 'gini', 'max_depth': 10, 'min_samples_leaf': 9, 'min_samples_split': 2}\n",
      "0.9108843537414966\n",
      "[1 1 1 2 1 1 1 1 1 1 1 1 1 1 3 1 1 1 3 1 1 4 1 1 1 1 1 1 4 1 1 1 4 1 2 1 1\n",
      " 1 1 2 1 1 1 1 1 1 2 1 1 1 1 3 1 1 1 2 1 1 4 1 1 2 1 1 1 1 1 1 1 1 3 4 1 1\n",
      " 1 1 1 1 1 1 1 1 1 1 4 1 1 1 1 1 1 2 1 1 1 1 4 1 1 1 1 1 1 1 1 1 1 1 1 1 1\n",
      " 1 1 4 1 4 1 1 4 1 1 1 1 3 4 1 3 4 4 1 1 1 4 1 1 1 1 4 1 1 1 1 1 2 1 1 1 3\n",
      " 1 1 1 4 1 1 4 2 1 4 1 1 1 4 1 1 1 1 2 1 1 1 3 1 1 1 1 4 1 1 1 1 1 1 1 1 1\n",
      " 1 1 1 1 3 3 1 1 1 1 2 4 2 1 1 1 1 1 1 2 1 1 1 1 1 1 1 2 1 1 1 2 1 1 1 1 1\n",
      " 1 1 1 4 4 1 1 1 1 3 1 1 1 1 1 1 1 1 1 1 1 1 1 4 4 4 1 1 1 1 1 1 1 1 2 4 1\n",
      " 1 1 1 1 1 1 1 1 1 1 1 1 4 1 1 1 1 3 1 1 1 4 1 3 1 1 1 1 1 1 1 1 1 1 1 1 1\n",
      " 1 1 4 3 1 1 1 1 1 1 4 1 1 1 1 1 1 1 4 4 1 4 1 1 2 1 4 2 1 1 1 1 1 1 1 1 1\n",
      " 1 1 1 4 1 1 1 4 1 1 1 2 1 1 1 1 1 4 1 1 1 1 1 1 1 1 1 1 1 1 1 1 1 1 1 1 1\n",
      " 1 1 1 1 3 1 1 1 1 1 1 1 4 4 1 1 1 1 1 1 1 1 1 1 1 1 1 1 1 1 1 1 1 2 2 1 1\n",
      " 1 1 1 1 2 1 1 2 1 1 1 1 1 1 1 1 1 1 1 1 1 1 1 3 3 1 4 1 1 1 1 1 4 2 1 1 1\n",
      " 1 1 1 1 1 1 1 2 1 1 1 1 1 1 1 1 1 1 4 1 1 1 1 1 1 2 1 2 1 4 4 1 4 4 1 1 1\n",
      " 1 1 3 1 1 1 3 1 2 1 1 4 4 1 1 2 1 1 2 4 1 1 1 1 1 2 1 1 1 3 1 1 1 1 1 1 1\n",
      " 1 2 1 1 1 1 1 1 4 1 1 1 1 1 1 1 1 1 1 4 1 1 1 4 1 3 3 4 1 1 1 1 1 1 1 4 3\n",
      " 1 1 1 1 1 1 1 1 1 1 1 2 1 1 1 1 1 1 3 1 1 1 1 1 1 4 1 1 1 1 4 4 1 1 1 1 1\n",
      " 1 1 1 1 4 2 4 1 1 2 4 2 1 1 1 3 4 1 2 1 1 1 3 1 1 1 1 1 1 1 1 1 1 3 1 1 1\n",
      " 1]\n",
      "0.8888888888888888\n"
     ]
    }
   ],
   "source": [
    "print(gs_result.best_params_)\n",
    "print(gs_result.best_score_)\n",
    "print(gs_result.predict(x_test))\n",
    "\n",
    "test = y_test\n",
    "pred = gs_result.predict(x_test)\n",
    "print(accuracy_score(y_test, pred, normalize=True))"
   ],
   "metadata": {
    "collapsed": false,
    "pycharm": {
     "name": "#%%\n"
    }
   }
  },
  {
   "cell_type": "markdown",
   "source": [
    "## 8. Постройте итоговое дерево классификации"
   ],
   "metadata": {
    "collapsed": false
   }
  },
  {
   "cell_type": "code",
   "execution_count": 182,
   "outputs": [
    {
     "data": {
      "text/plain": "[Text(181.8310344827586, 195.696, 'X[1] <= 0.006\\ngini = 0.323\\nsamples = 1470\\nvalue = [1198, 60, 78, 134]'),\n Text(92.35862068965517, 152.208, 'X[2] <= 0.003\\ngini = 0.731\\nsamples = 253\\nvalue = [43, 60, 59, 91]'),\n Text(46.179310344827584, 108.72, 'X[1] <= 0.002\\ngini = 0.601\\nsamples = 158\\nvalue = [16, 60, 4, 78]'),\n Text(23.089655172413792, 65.232, 'X[3] <= 0.0\\ngini = 0.271\\nsamples = 62\\nvalue = [0, 52, 0, 10]'),\n Text(11.544827586206896, 21.744, '\\n  (...)  \\n'),\n Text(34.63448275862069, 21.744, '\\n  (...)  \\n'),\n Text(69.26896551724138, 65.232, 'X[0] <= 0.001\\ngini = 0.462\\nsamples = 96\\nvalue = [16, 8, 4, 68]'),\n Text(57.72413793103448, 21.744, '\\n  (...)  \\n'),\n Text(80.81379310344828, 21.744, '\\n  (...)  \\n'),\n Text(138.53793103448277, 108.72, 'X[1] <= 0.004\\ngini = 0.565\\nsamples = 95\\nvalue = [27, 0, 55, 13]'),\n Text(115.44827586206895, 65.232, 'X[2] <= 0.004\\ngini = 0.156\\nsamples = 36\\nvalue = [2, 0, 33, 1]'),\n Text(103.90344827586206, 21.744, '\\n  (...)  \\n'),\n Text(126.99310344827586, 21.744, '\\n  (...)  \\n'),\n Text(161.62758620689655, 65.232, 'X[2] <= 0.005\\ngini = 0.64\\nsamples = 59\\nvalue = [25, 0, 22, 12]'),\n Text(150.08275862068965, 21.744, '\\n  (...)  \\n'),\n Text(173.17241379310343, 21.744, '\\n  (...)  \\n'),\n Text(271.3034482758621, 152.208, 'X[1] <= 0.012\\ngini = 0.098\\nsamples = 1217\\nvalue = [1155, 0, 19, 43]'),\n Text(230.8965517241379, 108.72, 'X[0] <= 0.003\\ngini = 0.354\\nsamples = 250\\nvalue = [197, 0, 18, 35]'),\n Text(207.80689655172412, 65.232, 'X[2] <= 0.003\\ngini = 0.252\\nsamples = 213\\nvalue = [183, 0, 16, 14]'),\n Text(196.26206896551724, 21.744, '\\n  (...)  \\n'),\n Text(219.35172413793103, 21.744, '\\n  (...)  \\n'),\n Text(253.98620689655172, 65.232, 'X[2] <= 0.005\\ngini = 0.532\\nsamples = 37\\nvalue = [14, 0, 2, 21]'),\n Text(242.44137931034481, 21.744, '\\n  (...)  \\n'),\n Text(265.5310344827586, 21.744, '\\n  (...)  \\n'),\n Text(311.7103448275862, 108.72, 'X[2] <= 0.01\\ngini = 0.018\\nsamples = 967\\nvalue = [958, 0, 1, 8]'),\n Text(300.1655172413793, 65.232, 'X[1] <= 0.014\\ngini = 0.016\\nsamples = 966\\nvalue = [958, 0, 0, 8]'),\n Text(288.6206896551724, 21.744, '\\n  (...)  \\n'),\n Text(311.7103448275862, 21.744, '\\n  (...)  \\n'),\n Text(323.2551724137931, 65.232, 'gini = 0.0\\nsamples = 1\\nvalue = [0, 0, 1, 0]')]"
     },
     "execution_count": 182,
     "metadata": {},
     "output_type": "execute_result"
    },
    {
     "data": {
      "text/plain": "<Figure size 432x288 with 1 Axes>",
      "image/png": "[encoded data removed]"
     },
     "metadata": {
      "needs_background": "light"
     },
     "output_type": "display_data"
    }
   ],
   "source": [
    "graph = export_graphviz(\n",
    "    clf,\n",
    "    out_file =  \"data/transformators.dot\",\n",
    "    filled = True,\n",
    "    rounded = True\n",
    ")\n",
    "plot_tree(clf, max_depth=3)"
   ],
   "metadata": {
    "collapsed": false,
    "pycharm": {
     "name": "#%%\n"
    }
   }
  },
  {
   "cell_type": "markdown",
   "source": [
    "## 9. Разбейте данные для регрессии"
   ],
   "metadata": {
    "collapsed": false
   }
  },
  {
   "cell_type": "code",
   "execution_count": 183,
   "outputs": [],
   "source": [
    "r = regression.drop('label', axis=1)\n",
    "ry = regression.label"
   ],
   "metadata": {
    "collapsed": false,
    "pycharm": {
     "name": "#%%\n"
    }
   }
  },
  {
   "cell_type": "code",
   "execution_count": 184,
   "outputs": [],
   "source": [
    "r_train, r_test, ry_train, ry_test = train_test_split(r, ry, test_size=0.3, train_size=0.7)"
   ],
   "metadata": {
    "collapsed": false,
    "pycharm": {
     "name": "#%%\n"
    }
   }
  },
  {
   "cell_type": "markdown",
   "source": [
    "## 10. Примените алгоритм дерева регрессии\n"
   ],
   "metadata": {
    "collapsed": false
   }
  },
  {
   "cell_type": "code",
   "execution_count": 185,
   "outputs": [
    {
     "data": {
      "text/plain": "DecisionTreeRegressor()"
     },
     "execution_count": 185,
     "metadata": {},
     "output_type": "execute_result"
    }
   ],
   "source": [
    "clf: DecisionTreeRegressor = DecisionTreeRegressor()\n",
    "clf.fit(r_train, ry_train)"
   ],
   "metadata": {
    "collapsed": false,
    "pycharm": {
     "name": "#%%\n"
    }
   }
  },
  {
   "cell_type": "markdown",
   "source": [
    "## 11. Сделайте предсказание на тестовой выборке"
   ],
   "metadata": {
    "collapsed": false
   }
  },
  {
   "cell_type": "code",
   "execution_count": 186,
   "outputs": [
    {
     "name": "stdout",
     "output_type": "stream",
     "text": [
      "Prediction: [ 581.  513. 1093. 1093.  514. 1093.  519.  714. 1093.  879. 1093.  728.\n",
      "  537. 1093.  572.  642.  929. 1093. 1093.  604. 1093. 1093. 1093.  669.\n",
      "  621. 1093.  599.  583.  802. 1093.  493.  656. 1093.  513. 1093.  727.\n",
      "  636. 1093.  470.  802.  752.  517.  518.  716.  714.  577.  746.  536.\n",
      "  542.  869.  812. 1093.  597. 1093.  554. 1093. 1093.  490.  596. 1093.\n",
      " 1093. 1093.  748.  443. 1093. 1093. 1093.  646.  494.  534.  742.  545.\n",
      " 1093. 1093. 1093.  642. 1093.  654. 1085.  519.  934. 1093.  594.  520.\n",
      " 1093.  477. 1093. 1093.  542.  784.  488.  584. 1093.  453. 1093. 1093.\n",
      " 1093. 1093.  586.  442.  478.  795. 1074. 1093.  453.  810. 1093.  515.\n",
      "  808.  700.  715. 1000. 1051.  762. 1093. 1093.  811. 1093.  711. 1093.\n",
      "  510. 1093.  526.  545.  443.  728.  495. 1093. 1093.  764. 1093.  660.\n",
      "  612. 1093.  603.  430.  421.  773.  527.  418.  802. 1093.  696.  482.\n",
      "  501.  644. 1093.  477.  413.  580.  616. 1093.  683.  734.  572.  589.\n",
      "  542. 1093.  644.  485.  537.  847. 1093.  490.  602.  636. 1093.  475.\n",
      " 1093.  584.  692.  625. 1093. 1093. 1093.  498. 1093. 1093.  687.  549.\n",
      " 1000.  519.  624.  969. 1093.  874. 1093. 1093.  510.  498.  480.  566.\n",
      " 1093.  633.  827.  617.  558.  529.  509.  519.  577.  503.  647. 1093.\n",
      " 1093.  738. 1093.  774.  646. 1093.  512.  521.  478.  494. 1093.  523.\n",
      "  725.  628.  534. 1093. 1093. 1093.  456. 1093.  580.  475. 1093.  596.\n",
      "  596. 1093.  433.  545.  482.  570. 1093.  726.  523.  595.  462.  723.\n",
      "  536.  539.  757.  490.  811.  437.  536.  512. 1093.  518.  542.  482.\n",
      "  597. 1093. 1093.  599.  842.  795.  499.  450. 1065.  788.  538.  923.\n",
      " 1093.  581.  523.  789.  719.  570. 1093.  560.  603.  477.  822. 1093.\n",
      "  550.  503. 1093.  561. 1093. 1093.  477.  670. 1093. 1093. 1093.  670.\n",
      "  498. 1093.  483.  589.  835.  520. 1093. 1093. 1093.  628.  537. 1093.\n",
      "  528.  726. 1093. 1093.  791.  518. 1005.  866.  748.  579.  614. 1093.\n",
      "  504.  499.  526.  540.  791.  413.  577. 1093.  515.  819.  642. 1093.\n",
      "  477.  764.  528. 1093.  774.  520.  590. 1093.  758. 1093.  482. 1093.\n",
      "  683.  761. 1093.  709.  477. 1093.  504.  611.  592. 1055. 1093.  581.\n",
      " 1093. 1093.  738.  813. 1093.  539.  612. 1093.  709.  543.  570. 1093.\n",
      "  675. 1093. 1093. 1093. 1093. 1093. 1093.  752.  562. 1093.  697.  543.\n",
      "  528.  815. 1093.  614.  526.  514. 1093.  856.  570.  934.  501.  826.\n",
      " 1093.  467.  570.  759. 1093.  907. 1093.  490.  503. 1093. 1093. 1093.\n",
      " 1093.  477.  811.  490.  612.  580. 1093.  443. 1093.  754.  519.  562.\n",
      "  577. 1093.  515.  543.  636. 1093.  934. 1093.  546. 1093.  683.  477.\n",
      "  636.  697. 1093.  806.  518. 1093.  878.  596. 1093.  755.  450.  620.\n",
      " 1093. 1093.  477.  858. 1093.  611.  888. 1093. 1093.  752. 1093.  732.\n",
      " 1093. 1093.  717.  475.  812.  696.  779. 1093. 1093.  782. 1093.  773.\n",
      "  482. 1093.  460. 1093. 1093.  827.  938.  462.  623. 1093.  508.  719.\n",
      "  534.  656.  583.  555. 1093. 1093.  549. 1093.  870.  583.  546. 1000.\n",
      " 1093.  855.  559. 1093.  869.  566. 1093.  481.  539.  633. 1093. 1093.\n",
      "  907.  866.  504.  583. 1092.  453.  623. 1093.  536. 1093. 1093.  498.\n",
      "  546. 1093.  659.  619.  683.  539. 1093.  739. 1093.  484.  451. 1093.\n",
      "  511.  759. 1093. 1093.  819. 1093. 1093. 1093. 1093.  764. 1093. 1000.\n",
      "  540.  496.  774.  477.  752.  590. 1093.  478.  807.  589.  565. 1093.\n",
      "  717. 1093.  752.  709.  492. 1093.  683.  430. 1093. 1093. 1093. 1093.\n",
      "  807.  842.  542.  572.  581.  773. 1093. 1093.  572.  927.  545.  440.\n",
      " 1093. 1093. 1093.  551.  644.  563.  486. 1093.  490.  666. 1093.  425.\n",
      "  773.  656.  815.  770. 1093. 1093.  584. 1093. 1093.  895. 1093.  789.\n",
      "  616.  519.  598.  589.  644. 1093.  475.  580.  519. 1093.  764.  514.\n",
      "  793.  844.  518.  542.  539.  683.  516.  773. 1093.  566. 1093. 1093.\n",
      " 1093.  421.  980.  808. 1093.  570.  746.  584.  866.  545.  654. 1093.\n",
      " 1093.  877. 1093.  910.  467.  711.]\n",
      "r2_score: -0.272\n",
      "mean_absolute_error: 200.016\n"
     ]
    }
   ],
   "source": [
    "test: object = ry_test\n",
    "pred: object = clf.predict(r_test)\n",
    "print(f\"Prediction: {pred}\")\n",
    "print(f\"r2_score: {round(r2_score(test, pred), 3)}\")\n",
    "print(f\"mean_absolute_error: {round(mean_absolute_error(test, pred), 3)}\")"
   ],
   "metadata": {
    "collapsed": false,
    "pycharm": {
     "name": "#%%\n"
    }
   }
  },
  {
   "cell_type": "markdown",
   "source": [
    "## 12. Выполните подбор гиперпараметров модели"
   ],
   "metadata": {
    "collapsed": false
   }
  },
  {
   "cell_type": "code",
   "execution_count": 187,
   "outputs": [
    {
     "name": "stdout",
     "output_type": "stream",
     "text": [
      "GridSearchCV(cv=5, estimator=DecisionTreeRegressor(),\n",
      "             param_grid={'max_depth': array([1, 2, 3, 4, 5, 6, 7, 8, 9]),\n",
      "                         'min_samples_leaf': array([1, 2, 3, 4]),\n",
      "                         'min_samples_split': array([2, 3, 4, 5, 6, 7, 8, 9]),\n",
      "                         'splitter': ('best', 'random')})\n"
     ]
    }
   ],
   "source": [
    "parameters = {\n",
    "    'splitter':('best','random'),\n",
    "    'max_depth': arange(1,10),\n",
    "    'min_samples_split': arange(2,10),\n",
    "    'min_samples_leaf': arange(1,5)\n",
    "}\n",
    "grid: GridSearchCV = GridSearchCV(\n",
    "    DecisionTreeRegressor(),\n",
    "    parameters,\n",
    "    cv=5\n",
    ")\n",
    "gs_result: Union[GridSearchCV, Any] = grid.fit(r_train, ry_train)\n",
    "print(gs_result)"
   ],
   "metadata": {
    "collapsed": false,
    "pycharm": {
     "name": "#%%\n"
    }
   }
  },
  {
   "cell_type": "markdown",
   "source": [
    "## 13. Заново обучите модель с подобранными гиперпараметрам"
   ],
   "metadata": {
    "collapsed": false
   }
  },
  {
   "cell_type": "code",
   "execution_count": 188,
   "outputs": [
    {
     "name": "stdout",
     "output_type": "stream",
     "text": [
      "{'max_depth': 7, 'min_samples_leaf': 3, 'min_samples_split': 2, 'splitter': 'random'}\n",
      "0.2526286702170534\n",
      "[ 777.70833333  588.5862069   967.          910.04464286  706.08333333\n",
      " 1054.71875     595.61764706  806.7047619   861.57692308 1030.66666667\n",
      " 1030.66666667  585.48387097  673.4137931   712.81395349  585.48387097\n",
      "  768.68421053  995.79452055  938.09090909 1054.71875     517.57142857\n",
      "  910.04464286  995.79452055  745.5         605.4         827.\n",
      " 1054.71875     924.03773585 1054.71875     605.4         924.03773585\n",
      "  595.88888889  804.27272727  910.04464286  733.6         924.03773585\n",
      "  742.48076923  742.48076923  924.03773585  563.17647059  967.\n",
      "  806.7047619   712.81395349  524.8         709.57142857  806.7047619\n",
      "  742.48076923  888.88135593  827.          777.70833333  967.\n",
      "  595.61764706  725.25        595.88888889  861.57692308  692.\n",
      " 1030.66666667  910.04464286  585.48387097  806.7047619  1054.71875\n",
      "  995.79452055  922.46666667  712.81395349  540.66666667  924.03773585\n",
      "  995.79452055 1054.71875     595.61764706  910.04464286  540.66666667\n",
      "  605.4         563.17647059 1030.66666667  777.70833333  888.88135593\n",
      "  924.03773585 1093.          830.825       967.         1023.6\n",
      "  809.22222222  924.03773585  673.4137931   830.825       910.04464286\n",
      "  692.         1054.71875     922.46666667  652.53846154  861.57692308\n",
      "  954.5         585.48387097 1054.71875     585.48387097  839.13043478\n",
      "  806.7047619  1030.66666667  910.04464286  675.58333333  585.48387097\n",
      "  806.7047619   777.70833333  995.79452055  924.03773585  517.2\n",
      "  806.7047619   995.79452055  692.          692.          725.25\n",
      "  806.7047619   888.88135593  517.57142857  806.7047619   864.375\n",
      " 1054.71875    1030.66666667  830.825       864.375       888.88135593\n",
      "  725.25        673.4137931   742.48076923  625.5         463.66666667\n",
      "  967.          585.48387097  922.46666667  995.79452055  803.\n",
      "  910.04464286  645.5         864.375       534.4        1030.66666667\n",
      "  534.4         534.4        1023.6         921.          435.66666667\n",
      "  554.375      1030.66666667  673.4137931   673.4137931   712.81395349\n",
      "  742.48076923  888.88135593  495.8         595.61764706  709.57142857\n",
      "  605.4         922.46666667  724.5         803.          595.61764706\n",
      "  809.22222222  777.70833333  534.4         725.25        524.8\n",
      "  687.125       745.5        1054.71875     588.5862069   995.79452055\n",
      "  830.825       742.48076923  858.63636364 1054.71875     652.53846154\n",
      "  806.7047619   809.22222222  830.825       910.04464286  995.79452055\n",
      "  675.58333333  921.          910.04464286  724.5         809.22222222\n",
      "  924.03773585  806.7047619   709.57142857  806.7047619   995.79452055\n",
      "  888.88135593  815.66666667  888.88135593  888.88135593  524.8\n",
      "  595.88888889  888.88135593  839.13043478  864.375       910.04464286\n",
      "  995.79452055  910.04464286  510.16666667  692.          806.7047619\n",
      "  585.48387097  815.66666667  742.48076923  806.7047619   675.58333333\n",
      "  861.57692308  924.03773585  724.5         595.61764706  861.57692308\n",
      "  666.          652.53846154  830.825       623.33333333  910.04464286\n",
      "  605.4         861.57692308  924.03773585  712.81395349  806.7047619\n",
      "  995.79452055  910.04464286  954.5         806.7047619   786.64285714\n",
      "  603.14285714  910.04464286  706.08333333  888.88135593  806.7047619\n",
      "  517.2         563.17647059  512.33333333  585.48387097 1054.71875\n",
      "  692.          600.25        709.57142857  910.04464286  610.\n",
      "  827.          786.64285714  517.57142857  861.57692308  692.\n",
      "  595.61764706  827.          610.          995.79452055  563.17647059\n",
      "  806.7047619   652.53846154  806.7047619   910.04464286  806.7047619\n",
      "  554.375       888.88135593  777.70833333  603.14285714  595.61764706\n",
      "  652.53846154  806.7047619   803.          725.25        995.79452055\n",
      "  479.25        600.25        910.04464286  888.88135593  830.825\n",
      "  924.03773585  764.          967.          692.          804.27272727\n",
      "  712.81395349  588.5862069   706.08333333  888.88135593  698.2\n",
      "  888.88135593  910.04464286  724.5         712.81395349  995.79452055\n",
      "  806.7047619   995.79452055  588.5862069   725.25       1054.71875\n",
      "  742.48076923  610.          652.53846154  768.68421053 1054.71875\n",
      " 1030.66666667  806.7047619   924.03773585  687.125       742.48076923\n",
      "  720.          754.          610.          806.7047619   910.04464286\n",
      "  563.17647059  995.79452055 1054.71875     712.81395349  910.04464286\n",
      "  777.70833333  803.          540.66666667  861.57692308  692.\n",
      "  712.81395349  815.66666667  595.61764706  719.5         666.\n",
      "  692.          706.08333333  706.08333333  861.57692308  493.\n",
      "  803.          585.48387097  995.79452055  754.          768.68421053\n",
      "  830.825       922.46666667  864.375       806.7047619   786.64285714\n",
      "  806.7047619   803.          595.61764706  803.          888.88135593\n",
      "  479.25        830.825       804.27272727  806.7047619   804.27272727\n",
      "  809.22222222  806.7047619   652.53846154  910.04464286 1054.71875\n",
      "  722.81818182  806.7047619  1054.71875     910.04464286  673.4137931\n",
      "  995.79452055  888.88135593  588.5862069   830.825       910.04464286\n",
      "  709.57142857  924.03773585  603.14285714 1054.71875     603.14285714\n",
      "  995.79452055  924.03773585  910.04464286  806.7047619   924.03773585\n",
      "  888.88135593  861.57692308  839.13043478  554.375       815.66666667\n",
      "  830.825       698.2         712.81395349  924.03773585  935.33333333\n",
      "  921.          809.22222222  588.5862069   910.04464286  652.53846154\n",
      "  554.375       652.53846154  652.53846154 1054.71875     888.88135593\n",
      "  675.58333333  698.2         689.33333333  922.46666667  995.79452055\n",
      "  995.79452055  910.04464286  689.33333333  995.79452055  595.61764706\n",
      "  864.375       995.79452055  712.81395349  512.33333333  652.53846154\n",
      "  888.88135593  595.61764706  768.68421053  588.5862069   652.53846154\n",
      "  692.          645.5         742.48076923  938.09090909  861.57692308\n",
      "  888.88135593  712.81395349  806.7047619  1030.66666667  921.\n",
      "  995.79452055  806.7047619   742.48076923  910.04464286  595.88888889\n",
      "  698.2         804.27272727  554.375       786.64285714  806.7047619\n",
      "  595.61764706  666.          804.27272727  709.57142857  692.\n",
      "  722.81818182  924.03773585  888.88135593  924.03773585  806.7047619\n",
      " 1054.71875     888.88135593  995.79452055  797.66666667  995.79452055\n",
      "  673.4137931   720.          603.14285714 1023.6         709.57142857\n",
      "  929.75        742.48076923  524.8         754.          910.04464286\n",
      "  967.          517.2         995.79452055  652.53846154  995.79452055\n",
      "  861.57692308  712.81395349  724.5         806.7047619   806.7047619\n",
      "  709.57142857  562.5         888.88135593  603.14285714  658.66666667\n",
      " 1054.71875     709.57142857  804.27272727 1054.71875     888.88135593\n",
      "  924.03773585  698.2         712.81395349  712.81395349  995.79452055\n",
      "  995.79452055  995.79452055  806.7047619   806.7047619  1023.6\n",
      "  888.88135593  712.81395349  563.17647059  588.5862069   924.03773585\n",
      "  910.04464286  888.88135593  595.61764706 1054.71875     830.825\n",
      " 1054.71875     754.          517.2         910.04464286 1054.71875\n",
      "  827.          922.46666667 1054.71875     652.53846154  517.57142857\n",
      "  827.          995.79452055  712.81395349  910.04464286  673.4137931\n",
      " 1054.71875     493.          830.825       610.          815.66666667\n",
      "  712.81395349  712.81395349  830.825       806.7047619   858.63636364\n",
      "  722.81818182 1030.66666667  888.88135593  806.7047619   675.58333333\n",
      "  830.825       777.70833333  967.          517.57142857  623.33333333\n",
      "  712.81395349  692.          910.04464286  806.7047619  1054.71875\n",
      "  830.825       789.33333333  706.08333333  626.16666667  910.04464286\n",
      "  861.57692308  585.48387097  910.04464286  864.375       742.48076923\n",
      "  595.61764706  910.04464286  610.          789.33333333  888.88135593\n",
      " 1054.71875     803.          797.66666667  888.88135593  803.\n",
      "  803.          806.7047619   995.79452055  910.04464286  806.7047619\n",
      "  595.61764706  929.75        809.22222222  929.75        777.70833333\n",
      "  995.79452055  709.57142857  605.4         554.375       709.57142857\n",
      "  562.5         673.4137931   595.61764706  652.53846154  532.\n",
      "  585.48387097  967.          479.25        554.375       864.375\n",
      " 1030.66666667  830.825       938.09090909  995.79452055  888.88135593\n",
      "  967.         1054.71875     806.7047619   830.825       652.53846154\n",
      "  745.5         986.66666667  725.25        910.04464286  692.\n",
      "  806.7047619   588.5862069   712.81395349  692.          673.4137931\n",
      "  924.03773585  742.48076923  809.22222222  742.48076923  652.53846154\n",
      "  803.          595.61764706 1023.6        1054.71875     709.57142857\n",
      " 1093.         1054.71875     742.48076923  534.4         864.375\n",
      "  692.          806.7047619   692.          888.88135593  861.57692308\n",
      " 1054.71875     806.7047619   995.79452055  719.5         922.46666667\n",
      "  954.5         888.88135593 1023.6         595.88888889  739.66666667]\n",
      "r2_score: 0.297\n",
      "mean_absolute_error: 170.05\n"
     ]
    }
   ],
   "source": [
    "print(gs_result.best_params_)\n",
    "print(gs_result.best_score_)\n",
    "print(gs_result.predict(r_test))\n",
    "pred: object = gs_result.predict(r_test)\n",
    "print(f\"r2_score: {round(r2_score(test, pred), 3)}\")\n",
    "print(f\"mean_absolute_error: {round(mean_absolute_error(test, pred), 3)}\")"
   ],
   "metadata": {
    "collapsed": false,
    "pycharm": {
     "name": "#%%\n"
    }
   }
  },
  {
   "cell_type": "markdown",
   "source": [
    "## 14. Постройте итоговое дерево регрессии"
   ],
   "metadata": {
    "collapsed": false
   }
  },
  {
   "cell_type": "code",
   "execution_count": 189,
   "outputs": [
    {
     "data": {
      "text/plain": "[Text(167.4, 195.696, 'X[2] <= 0.007\\nmse = 58865.071\\nsamples = 1470\\nvalue = 789.218'),\n Text(83.7, 152.208, 'X[0] <= 0.002\\nmse = 57482.235\\nsamples = 987\\nvalue = 835.243'),\n Text(41.85, 108.72, 'X[3] <= 0.0\\nmse = 51869.504\\nsamples = 739\\nvalue = 876.248'),\n Text(20.925, 65.232, 'X[1] <= 0.017\\nmse = 44443.632\\nsamples = 619\\nvalue = 911.081'),\n Text(10.4625, 21.744, '\\n  (...)  \\n'),\n Text(31.387500000000003, 21.744, '\\n  (...)  \\n'),\n Text(62.775000000000006, 65.232, 'X[3] <= 0.0\\nmse = 51630.529\\nsamples = 120\\nvalue = 696.567'),\n Text(52.3125, 21.744, '\\n  (...)  \\n'),\n Text(73.2375, 21.744, '\\n  (...)  \\n'),\n Text(125.55000000000001, 108.72, 'X[0] <= 0.003\\nmse = 54267.473\\nsamples = 248\\nvalue = 713.056'),\n Text(104.625, 65.232, 'X[1] <= 0.015\\nmse = 54129.355\\nsamples = 190\\nvalue = 755.474'),\n Text(94.16250000000001, 21.744, '\\n  (...)  \\n'),\n Text(115.0875, 21.744, '\\n  (...)  \\n'),\n Text(146.475, 65.232, 'X[0] <= 0.003\\nmse = 29517.989\\nsamples = 58\\nvalue = 574.103'),\n Text(136.01250000000002, 21.744, '\\n  (...)  \\n'),\n Text(156.9375, 21.744, '\\n  (...)  \\n'),\n Text(251.10000000000002, 152.208, 'X[2] <= 0.009\\nmse = 48516.287\\nsamples = 483\\nvalue = 695.166'),\n Text(209.25, 108.72, 'X[0] <= 0.002\\nmse = 49992.667\\nsamples = 409\\nvalue = 717.56'),\n Text(188.32500000000002, 65.232, 'X[3] <= 0.0\\nmse = 53862.774\\nsamples = 244\\nvalue = 766.02'),\n Text(177.8625, 21.744, '\\n  (...)  \\n'),\n Text(198.7875, 21.744, '\\n  (...)  \\n'),\n Text(230.175, 65.232, 'X[0] <= 0.003\\nmse = 35661.195\\nsamples = 165\\nvalue = 645.897'),\n Text(219.7125, 21.744, '\\n  (...)  \\n'),\n Text(240.63750000000002, 21.744, '\\n  (...)  \\n'),\n Text(292.95, 108.72, 'X[2] <= 0.01\\nmse = 22264.536\\nsamples = 74\\nvalue = 571.392'),\n Text(272.02500000000003, 65.232, 'X[0] <= 0.002\\nmse = 23241.145\\nsamples = 65\\nvalue = 586.8'),\n Text(261.5625, 21.744, '\\n  (...)  \\n'),\n Text(282.4875, 21.744, '\\n  (...)  \\n'),\n Text(313.875, 65.232, 'X[2] <= 0.01\\nmse = 1113.21\\nsamples = 9\\nvalue = 460.111'),\n Text(303.4125, 21.744, '\\n  (...)  \\n'),\n Text(324.33750000000003, 21.744, '\\n  (...)  \\n')]"
     },
     "execution_count": 189,
     "metadata": {},
     "output_type": "execute_result"
    },
    {
     "data": {
      "text/plain": "<Figure size 432x288 with 1 Axes>",
      "image/png": "[encoded data removed]"
     },
     "metadata": {
      "needs_background": "light"
     },
     "output_type": "display_data"
    }
   ],
   "source": [
    "graph = export_graphviz(\n",
    "    clf,\n",
    "    out_file =  \"data/regression.dot\",\n",
    "    filled = True,\n",
    "    rounded = True\n",
    ")\n",
    "plot_tree(clf, max_depth=3)"
   ],
   "metadata": {
    "collapsed": false,
    "pycharm": {
     "name": "#%%\n"
    }
   }
  },
  {
   "cell_type": "markdown",
   "source": [
    "# Ответы на контрольные вопросы"
   ],
   "metadata": {
    "collapsed": false
   }
  },
  {
   "cell_type": "markdown",
   "source": [
    "## 1. Опишите этапы построения алгоритма дерева решений для задачи классификации и регрессии. Чем они отличаются и чем схожи?\n",
    "\n",
    "Деревья решений как аналитические модели более вербализуемы и интерпретируемы, чем, скажем, нейронные сети. В обучающем множестве для примеров должно быть задано целевое значение, т.к. деревья решений являются моделями, строящимися на основе обучения с учителем. При этом, если целевая переменная дискретная (метка класса), то модель называют деревом классификации, а если непрерывная, то деревом регрессии.\n",
    "\n",
    "Собственно, само дерево решений — это метод представления решающих правил в иерархической структуре, состоящей из элементов двух типов — узлов (node) и листьев (leaf). В узлах находятся решающие правила и производится проверка соответствия примеров этому правилу по какому-либо атрибуту обучающего множества.\n",
    "\n",
    "В простейшем случае, в результате проверки, множество примеров, попавших в узел, разбивается на два подмножества, в одно из которых попадают примеры, удовлетворяющие правилу, а в другое — не удовлетворяющие.\n",
    "\n",
    "Затем к каждому подмножеству вновь применяется правило и процедура рекурсивно повторяется пока не будет достигнуто некоторое условие остановки алгоритма. В результате в последнем узле проверка и разбиение не производится и он объявляется листом. Лист определяет решение для каждого попавшего в него примера. Для дерева классификации — это класс, ассоциируемый с узлом, а для дерева регрессии — соответствующий листу модальный интервал целевой переменной.\n",
    "\n",
    "Таким образом, в отличие от узла, в листе содержится не правило, а подмножество объектов, удовлетворяющих всем правилам ветви, которая заканчивается данным листом.\n",
    "\n",
    "Очевидно, чтобы попасть в лист, пример должен удовлетворять всем правилам, лежащим на пути к этому листу. Поскольку путь в дереве к каждому листу единственный, то и каждый пример может попасть только в один лист, что обеспечивает единственность решения.\n",
    "\n",
    "В ходе построения дерева решений нужно решить несколько основных проблем, с каждой из которых связан соответствующий шаг процесса обучения:\n",
    "\n",
    "Выбор атрибута, по которому будет производиться разбиение в данном узле (атрибута разбиения).\n",
    "Выбор критерия остановки обучения.\n",
    "Выбор метода отсечения ветвей (упрощения).\n",
    "Оценка точности построенного дерева."
   ],
   "metadata": {
    "collapsed": false
   }
  },
  {
   "cell_type": "markdown",
   "source": [
    "## 2. Какие метрики используются для оценки качества работы алгоритмов при решении задачи регрессии? Опишите данные метрики с математической точки зрения и скажите, чем они отличаются друг от друга.\n",
    "\n",
    "1.\tCредняя абсолютная ошибка (англ. Mean Absolute Error, MAE)\n",
    "Среднеквадратичный функционал сильнее штрафует за большие отклонения по сравнению со среднеабсолютным, и поэтому более чувствителен к выбросам. При использовании любого из этих двух функционалов может быть полезно проанализировать, какие объекты вносят наибольший вклад в общую ошибку — не исключено, что на этих объектах была допущена ошибка при вычислении признаков или целевой величины.\n",
    "Среднеквадратичная ошибка подходит для сравнения двух моделей или для контроля качества во время обучения, но не позволяет сделать выводов о том, на сколько хорошо данная модель решает задачу. Например, MSE = 10 является очень плохим показателем, если целевая переменная принимает значения от 0 до 1, и очень хорошим, если целевая переменная лежит в интервале (10000, 100000). В таких ситуациях вместо среднеквадратичной ошибки полезно использовать коэффициент детерминации — R^2\n",
    "\n",
    "2.\tСредняя квадратичная ошибка (англ. Mean Squared Error, MSE)\n",
    "MSE применяется в ситуациях, когда нам надо подчеркнуть большие ошибки и выбрать модель, которая дает меньше больших ошибок прогноза. Грубые ошибки становятся заметнее за счет того, что ошибку прогноза мы возводим в квадрат. И модель, которая дает нам меньшее значение среднеквадратической ошибки, можно сказать, что что у этой модели меньше грубых ошибок.\n",
    "\n",
    "3.\tКорень из средней квадратичной ошибки (англ. Root Mean Squared Error, RMSE)\n",
    "Примерно такая же проблема, как и в MAPE: так как каждое отклонение возводится в квадрат, любое небольшое отклонение может значительно повлиять на показатель ошибки. Стоит отметить, что существует также ошибка MSE, из которой RMSE как раз и получается путем извлечения корня.\n",
    "\n",
    "4.\tСредняя абсолютная процентная ошибка (англ. Mean Absolute Percentage Error, MAPE)\n",
    "Это коэффициент, не имеющий размерности, с очень простой интерпретацией. Его можно измерять в долях или процентах. Если у вас получилось, например, что MAPE=11.4%, то это говорит о том, что ошибка составила 11,4% от фактических значений. Основная проблема данной ошибки — нестабильность.\n",
    "\n",
    "5.\tКоэффициент детерминации\n",
    "Коэффициент детерминации измеряет долю дисперсии, объясненную моделью, в общей дисперсии целевой переменной. Фактически, данная мера качества — это нормированная среднеквадратичная ошибка. Если она близка к единице, то модель хорошо объясняет данные, если же она близка к нулю, то прогнозы сопоставимы по качеству с константным предсказанием."
   ],
   "metadata": {
    "collapsed": false
   }
  },
  {
   "cell_type": "markdown",
   "source": [
    "## 3. Каким способом можно повысить качество работы алгоритмов регрессии?\n",
    "\n",
    "Чтобы повысить качество кластеризации у нас есть два варианта. 1) Применить метрики, посмотреть результат и попробовать другой метод(алгоритм) кластеризации. 2) Применить метрики, посмотреть результат и изменить или добавить информативные признаки.(Это исходя из пункта 21 самой работы)\n",
    "\n",
    "На повышение качества работы алгоритма оказывают влияние правильно подобранные гиперпараметры. Есть три подхода в оптимизации гиперпараметров: Байесовская оптимизация, поиск по решетке и случайный поиск. Как правило, самым эффективным подходом оказывается Байесовская оптимизация.\n",
    "1) Байесовская оптимизация - значения гиперпараметров в текущей итерации выбираются с учётом результатов на предыдущем шаге. Основная идея алгоритма заключается в следующем – на каждой итерации подбора находится компромисс между исследованием регионов с самыми удачными из найденных комбинаций гиперпараметров и исследованием регионов с большой неопределённостью (где могут находиться ещё более удачные комбинации).\n",
    "2) Поиск по решётке - в этом способе значения гиперпараметров задаются вручную, затем выполняется их полный перебор. Популярной реализацией этого метода является Grid Search из sklearn."
   ],
   "metadata": {
    "collapsed": false
   }
  }
 ],
 "metadata": {
  "kernelspec": {
   "display_name": "Python 3",
   "language": "python",
   "name": "python3"
  },
  "language_info": {
   "codemirror_mode": {
    "name": "ipython",
    "version": 2
   },
   "file_extension": ".py",
   "mimetype": "text/x-python",
   "name": "python",
   "nbconvert_exporter": "python",
   "pygments_lexer": "ipython2",
   "version": "2.7.6"
  }
 },
 "nbformat": 4,
 "nbformat_minor": 0
}