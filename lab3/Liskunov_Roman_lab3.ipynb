{
 "cells": [
  {
   "cell_type": "markdown",
   "source": [
    "# Решающие деревья для задач классификации и регрессии\n",
    "Группа: ИВТ-М20.<br/>\n",
    "Студент: Лискунов Роман Геннадьвич"
   ],
   "metadata": {
    "collapsed": false
   }
  },
  {
   "cell_type": "code",
   "execution_count": 1,
   "outputs": [],
   "source": [
    "import warnings\n",
    "from typing import Union, Any\n",
    "\n",
    "from numpy import arange\n",
    "from pandas import (\n",
    "    DataFrame,\n",
    "    read_csv\n",
    ")\n",
    "from sklearn.metrics import (\n",
    "    accuracy_score,\n",
    "    r2_score,\n",
    "    mean_absolute_error,\n",
    "    classification_report\n",
    ")\n",
    "from sklearn.model_selection import (\n",
    "    train_test_split,\n",
    "    GridSearchCV\n",
    ")\n",
    "from sklearn.tree import (\n",
    "    DecisionTreeClassifier,\n",
    "    DecisionTreeRegressor,\n",
    "    export_graphviz,\n",
    "    plot_tree\n",
    ")\n",
    "\n",
    "warnings.filterwarnings('ignore')\n"
   ],
   "metadata": {
    "collapsed": false,
    "pycharm": {
     "name": "#%%\n"
    }
   }
  },
  {
   "cell_type": "markdown",
   "source": [
    "## 1. Прочтите данные из файлов"
   ],
   "metadata": {
    "collapsed": false
   }
  },
  {
   "cell_type": "code",
   "execution_count": 2,
   "outputs": [],
   "source": [
    "transformators: DataFrame = DataFrame(\n",
    "    read_csv(\n",
    "        'data/transformators.csv',\n",
    "        sep=',',\n",
    "        header=0\n",
    "    )\n",
    ")\n",
    "regression: DataFrame = DataFrame(\n",
    "    read_csv(\n",
    "        'data/transformators_regression.csv',\n",
    "        sep=',',\n",
    "        header=0\n",
    "    )\n",
    ")"
   ],
   "metadata": {
    "collapsed": false,
    "pycharm": {
     "name": "#%%\n"
    }
   }
  },
  {
   "cell_type": "code",
   "execution_count": 3,
   "outputs": [],
   "source": [
    "x = transformators.drop('label', axis=1)\n",
    "y = transformators.label"
   ],
   "metadata": {
    "collapsed": false,
    "pycharm": {
     "name": "#%%\n"
    }
   }
  },
  {
   "cell_type": "markdown",
   "source": [
    "## 2. Отобразите несколько первых и несколько последних записей."
   ],
   "metadata": {
    "collapsed": false
   }
  },
  {
   "cell_type": "code",
   "execution_count": 4,
   "outputs": [
    {
     "name": "stdout",
     "output_type": "stream",
     "text": [
      "         H2        CO      C2H4      C2H2  label\n",
      "0  0.002590  0.016491  0.002876  0.000336      1\n",
      "1  0.002825  0.014728  0.001992  0.000339      1\n",
      "2  0.002764  0.017030  0.003394  0.000195      1\n",
      "3  0.000508  0.016334  0.004104  0.000380      1\n",
      "4  0.002654  0.021278  0.004068  0.000124      1\n",
      "            H2        CO      C2H4      C2H2  label\n",
      "2095  0.002549  0.009460  0.007465  0.000242      1\n",
      "2096  0.000915  0.005770  0.007230  0.000081      3\n",
      "2097  0.001565  0.002492  0.008529  0.000176      3\n",
      "2098  0.001688  0.020291  0.007305  0.000252      1\n",
      "2099  0.002935  0.028001  0.008048  0.000219      1\n",
      "         H2        CO      C2H4      C2H2  label\n",
      "0  0.002590  0.016491  0.002876  0.000336    541\n",
      "1  0.002825  0.014728  0.001992  0.000339    520\n",
      "2  0.002764  0.017030  0.003394  0.000195    583\n",
      "3  0.000508  0.016334  0.004104  0.000380    487\n",
      "4  0.002654  0.021278  0.004068  0.000124   1093\n",
      "            H2        CO      C2H4      C2H2  label\n",
      "2095  0.002549  0.009460  0.007465  0.000242   1093\n",
      "2096  0.000915  0.005770  0.007230  0.000081   1093\n",
      "2097  0.001565  0.002492  0.008529  0.000176    719\n",
      "2098  0.001688  0.020291  0.007305  0.000252    698\n",
      "2099  0.002935  0.028001  0.008048  0.000219    644\n"
     ]
    }
   ],
   "source": [
    "print(transformators.head())\n",
    "print(transformators.tail())\n",
    "print(regression.head())\n",
    "print(regression.tail())"
   ],
   "metadata": {
    "collapsed": false,
    "pycharm": {
     "name": "#%%\n"
    }
   }
  },
  {
   "cell_type": "markdown",
   "source": [
    "## 3. Разбейте данные для классификации"
   ],
   "metadata": {
    "collapsed": false
   }
  },
  {
   "cell_type": "code",
   "execution_count": 5,
   "outputs": [],
   "source": [
    "x_train, x_test, y_train, y_test = train_test_split(x, y, test_size=0.3, train_size=0.7)"
   ],
   "metadata": {
    "collapsed": false,
    "pycharm": {
     "name": "#%%\n"
    }
   }
  },
  {
   "cell_type": "markdown",
   "source": [
    "## 4. Примените алгоритм дерева решений"
   ],
   "metadata": {
    "collapsed": false
   }
  },
  {
   "cell_type": "code",
   "execution_count": 6,
   "outputs": [
    {
     "data": {
      "text/plain": "DecisionTreeClassifier()"
     },
     "execution_count": 6,
     "metadata": {},
     "output_type": "execute_result"
    }
   ],
   "source": [
    "clf: DecisionTreeClassifier = DecisionTreeClassifier()\n",
    "clf.fit(x_train, y_train)"
   ],
   "metadata": {
    "collapsed": false,
    "pycharm": {
     "name": "#%%\n"
    }
   }
  },
  {
   "cell_type": "markdown",
   "source": [
    "## 5. Сделайте предсказание на тестовой выборке."
   ],
   "metadata": {
    "collapsed": false
   }
  },
  {
   "cell_type": "code",
   "execution_count": 7,
   "outputs": [
    {
     "name": "stdout",
     "output_type": "stream",
     "text": [
      "Prediction: [1 1 1 1 1 1 1 1 1 1 4 1 1 1 1 1 1 1 1 1 1 1 1 1 1 1 4 1 1 4 3 1 1 4 1 1 1\n",
      " 1 1 4 1 1 1 1 1 1 1 4 1 1 1 1 1 1 1 1 4 1 1 1 1 1 2 1 1 1 1 1 3 1 1 1 2 1\n",
      " 1 1 1 1 1 1 4 1 1 2 1 1 4 1 1 1 1 1 1 1 1 1 1 1 1 1 3 1 1 1 3 1 1 1 3 1 1\n",
      " 1 1 1 1 1 1 1 3 1 1 1 1 1 4 1 3 1 1 3 1 1 1 3 1 2 1 1 1 1 1 1 1 1 1 1 1 1\n",
      " 1 1 1 1 1 2 1 4 1 1 2 1 1 4 1 2 1 1 1 2 1 3 1 1 1 1 1 1 1 1 3 1 1 4 1 1 4\n",
      " 1 1 1 1 4 1 1 1 1 1 1 1 1 1 1 1 1 1 1 1 1 1 1 3 1 1 1 4 1 1 1 1 1 1 4 1 1\n",
      " 1 1 1 1 1 1 1 1 1 1 1 4 1 1 1 1 1 1 4 4 1 1 4 1 1 1 1 1 1 3 1 1 1 1 1 1 1\n",
      " 1 1 1 1 4 1 1 1 1 1 1 4 1 1 1 1 1 1 4 4 4 2 1 1 1 1 1 1 1 1 4 1 1 1 1 4 1\n",
      " 4 1 1 2 4 1 4 1 1 1 1 1 1 1 4 1 1 1 1 1 1 1 4 3 1 1 1 1 1 1 1 1 4 1 1 1 4\n",
      " 1 1 1 1 1 4 1 2 1 1 1 1 1 1 1 1 1 1 1 1 1 1 1 4 1 1 1 1 1 1 1 1 1 1 4 1 1\n",
      " 2 1 2 1 1 1 1 1 2 4 1 3 1 4 1 1 1 2 1 1 1 1 1 1 1 2 1 1 4 1 1 4 1 1 1 4 1\n",
      " 3 1 1 1 1 1 1 1 1 1 1 1 1 1 3 1 1 1 1 1 1 1 3 1 1 1 1 3 1 1 1 1 1 3 1 4 1\n",
      " 3 1 1 1 1 1 1 1 1 4 1 1 3 2 1 4 1 1 1 1 2 1 1 1 1 1 1 2 1 1 1 1 1 1 1 1 1\n",
      " 1 1 1 1 1 1 4 4 1 1 1 2 1 1 1 2 1 1 2 1 1 4 1 1 1 1 1 3 4 1 1 1 1 1 1 1 1\n",
      " 1 1 1 2 1 3 1 1 1 1 1 1 3 1 1 1 1 1 4 1 1 1 1 1 1 1 1 1 1 1 1 1 4 1 1 1 4\n",
      " 1 2 1 1 1 1 1 4 3 1 1 1 4 4 1 4 2 2 4 1 2 1 3 1 1 1 1 1 1 1 1 1 1 1 1 4 1\n",
      " 1 1 1 1 1 1 1 1 1 1 1 1 1 1 1 1 2 1 1 1 1 1 4 1 3 4 1 1 4 4 1 1 4 1 3 1 1\n",
      " 4]\n",
      "0.8952380952380953\n",
      "              precision    recall  f1-score   support\n",
      "\n",
      "           1       0.95      0.95      0.95       511\n",
      "           2       0.64      0.86      0.73        21\n",
      "           3       0.62      0.53      0.57        34\n",
      "           4       0.66      0.67      0.67        64\n",
      "\n",
      "    accuracy                           0.90       630\n",
      "   macro avg       0.72      0.75      0.73       630\n",
      "weighted avg       0.90      0.90      0.90       630\n",
      "\n"
     ]
    }
   ],
   "source": [
    "pred: object = clf.predict(x_test)\n",
    "print(f\"Prediction: {pred}\")\n",
    "print(accuracy_score(y_test, pred, normalize=True))\n",
    "print(classification_report(y_test, pred))\n"
   ],
   "metadata": {
    "collapsed": false,
    "pycharm": {
     "name": "#%%\n"
    }
   }
  },
  {
   "cell_type": "markdown",
   "source": [
    "## 6. Выполните подбор гиперпараметров модели"
   ],
   "metadata": {
    "collapsed": false
   }
  },
  {
   "cell_type": "code",
   "execution_count": 8,
   "outputs": [
    {
     "name": "stdout",
     "output_type": "stream",
     "text": [
      "GridSearchCV(cv=5, estimator=DecisionTreeClassifier(),\n",
      "             param_grid={'criterion': ['gini', 'entropy'],\n",
      "                         'max_depth': [0, 10, 20, 30, 40, 50, 60, 70, 80, 90,\n",
      "                                       100, 110, 120, 130, 140],\n",
      "                         'min_samples_leaf': [0, 3, 6, 9, 12],\n",
      "                         'min_samples_split': [0, 2, 4, 6, 8]})\n"
     ]
    }
   ],
   "source": [
    "parameters: dict[str, Union[list[str], list[int]]] = {\n",
    "    'criterion': ['gini', 'entropy'],\n",
    "    'max_depth': [x for x in range(0, 150, 10)],\n",
    "    'min_samples_split': [x for x in range(0, 10, 2)],\n",
    "    'min_samples_leaf': [x for x in range(0, 15, 3)]\n",
    "}\n",
    "grid: GridSearchCV = GridSearchCV(\n",
    "    DecisionTreeClassifier(),\n",
    "    parameters,\n",
    "    cv=5\n",
    ")\n",
    "gs_result: Union[GridSearchCV, Any] = grid.fit(x_train, y_train)\n",
    "print(gs_result)"
   ],
   "metadata": {
    "collapsed": false,
    "pycharm": {
     "name": "#%%\n"
    }
   }
  },
  {
   "cell_type": "markdown",
   "source": [
    "## 7. Заново обучите модель с подобранными гиперпараметрами"
   ],
   "metadata": {
    "collapsed": false
   }
  },
  {
   "cell_type": "code",
   "execution_count": 9,
   "outputs": [
    {
     "name": "stdout",
     "output_type": "stream",
     "text": [
      "{'criterion': 'gini', 'max_depth': 10, 'min_samples_leaf': 9, 'min_samples_split': 2}\n",
      "0.9108843537414966\n",
      "[1 1 1 1 1 1 1 1 1 1 4 1 1 1 1 1 1 1 1 1 1 1 1 1 1 1 4 1 1 4 3 1 1 4 1 1 1\n",
      " 1 1 4 1 1 1 1 1 1 1 1 1 1 1 1 4 1 1 1 1 1 1 1 1 1 2 1 1 1 1 1 1 1 1 1 2 1\n",
      " 1 1 1 1 1 1 4 1 1 2 1 1 4 1 1 1 1 1 1 1 1 1 1 3 1 1 4 1 1 1 1 1 1 1 1 1 1\n",
      " 1 1 1 1 1 1 1 1 1 1 1 1 1 4 1 3 1 1 3 1 1 1 1 1 2 1 1 1 1 1 1 1 1 1 1 1 1\n",
      " 1 1 1 1 1 2 1 1 1 1 2 1 1 1 1 2 1 1 1 2 1 3 1 1 1 1 1 1 1 1 3 1 1 4 1 1 4\n",
      " 1 1 1 1 4 1 1 1 1 1 1 1 1 1 1 1 1 1 1 1 1 1 1 4 1 1 1 4 1 1 1 1 1 1 1 1 1\n",
      " 1 1 1 1 1 1 1 1 1 1 1 1 1 1 3 1 1 1 4 4 1 1 1 1 1 1 1 1 1 1 1 1 1 1 1 1 1\n",
      " 1 1 1 1 4 4 1 1 1 1 1 4 1 1 1 1 1 1 3 4 4 4 1 1 1 1 1 1 1 1 4 1 1 1 1 4 1\n",
      " 1 1 1 2 4 1 1 1 1 1 1 1 1 1 4 1 1 1 1 1 1 1 4 1 1 1 1 1 4 1 1 1 3 1 1 1 3\n",
      " 1 1 1 1 1 4 1 2 1 1 1 1 1 1 1 1 1 1 1 1 1 1 1 4 1 1 1 1 4 1 1 1 1 1 1 1 1\n",
      " 2 1 2 1 1 1 1 1 2 4 1 3 1 4 1 1 1 2 1 1 3 1 1 1 1 2 1 1 3 1 1 1 1 3 1 4 1\n",
      " 3 1 1 1 1 1 1 1 1 1 1 1 1 1 1 1 1 1 1 1 1 1 3 1 1 1 1 3 1 1 1 1 1 3 1 1 1\n",
      " 1 1 1 1 1 1 1 1 1 4 1 1 3 2 1 4 1 1 1 1 2 1 1 1 1 1 1 2 1 1 1 1 1 1 1 1 1\n",
      " 1 1 1 1 1 1 4 4 1 1 1 2 1 1 1 2 1 1 2 1 1 4 1 1 1 1 1 1 4 1 1 4 1 1 1 1 1\n",
      " 1 1 1 2 1 3 1 1 1 1 1 1 3 1 1 1 1 1 4 1 1 1 1 1 1 1 1 1 1 1 1 1 4 1 1 1 4\n",
      " 1 2 1 1 1 1 1 1 3 1 1 1 4 4 1 4 2 2 4 1 2 1 3 1 1 1 1 1 1 1 1 1 1 1 1 4 1\n",
      " 1 1 1 1 1 1 1 1 1 1 1 1 1 1 1 1 2 1 1 1 1 1 1 1 3 4 1 1 4 4 1 1 4 1 3 1 1\n",
      " 4]\n",
      "0.9158730158730158\n"
     ]
    }
   ],
   "source": [
    "print(gs_result.best_params_)\n",
    "print(gs_result.best_score_)\n",
    "print(gs_result.predict(x_test))\n",
    "\n",
    "test = y_test\n",
    "pred = gs_result.predict(x_test)\n",
    "print(accuracy_score(y_test, pred, normalize=True))"
   ],
   "metadata": {
    "collapsed": false,
    "pycharm": {
     "name": "#%%\n"
    }
   }
  },
  {
   "cell_type": "markdown",
   "source": [
    "## 8. Постройте итоговое дерево классификации"
   ],
   "metadata": {
    "collapsed": false
   }
  },
  {
   "cell_type": "code",
   "execution_count": 10,
   "outputs": [
    {
     "data": {
      "text/plain": "[Text(167.4, 195.696, 'X[1] <= 0.006\\ngini = 0.328\\nsamples = 1470\\nvalue = [1194, 68, 79, 129]'),\n Text(73.656, 152.208, 'X[1] <= 0.002\\ngini = 0.741\\nsamples = 269\\nvalue = [53, 68, 61, 87]'),\n Text(40.176, 108.72, 'X[2] <= 0.002\\ngini = 0.394\\nsamples = 79\\nvalue = [0, 60, 11, 8]'),\n Text(26.784000000000002, 65.232, 'X[0] <= 0.001\\ngini = 0.208\\nsamples = 68\\nvalue = [0, 60, 0, 8]'),\n Text(13.392000000000001, 21.744, '\\n  (...)  \\n'),\n Text(40.176, 21.744, '\\n  (...)  \\n'),\n Text(53.568000000000005, 65.232, 'gini = 0.0\\nsamples = 11\\nvalue = [0, 0, 11, 0]'),\n Text(107.13600000000001, 108.72, 'X[2] <= 0.004\\ngini = 0.678\\nsamples = 190\\nvalue = [53, 8, 50, 79]'),\n Text(80.352, 65.232, 'X[0] <= 0.001\\ngini = 0.519\\nsamples = 115\\nvalue = [25, 8, 7, 75]'),\n Text(66.96000000000001, 21.744, '\\n  (...)  \\n'),\n Text(93.74400000000001, 21.744, '\\n  (...)  \\n'),\n Text(133.92000000000002, 65.232, 'X[1] <= 0.004\\ngini = 0.529\\nsamples = 75\\nvalue = [28, 0, 43, 4]'),\n Text(120.528, 21.744, '\\n  (...)  \\n'),\n Text(147.312, 21.744, '\\n  (...)  \\n'),\n Text(261.144, 152.208, 'X[1] <= 0.009\\ngini = 0.096\\nsamples = 1201\\nvalue = [1141, 0, 18, 42]'),\n Text(214.27200000000002, 108.72, 'X[0] <= 0.003\\ngini = 0.455\\nsamples = 123\\nvalue = [87, 0, 14, 22]'),\n Text(187.48800000000003, 65.232, 'X[2] <= 0.001\\ngini = 0.361\\nsamples = 107\\nvalue = [84, 0, 12, 11]'),\n Text(174.096, 21.744, '\\n  (...)  \\n'),\n Text(200.88000000000002, 21.744, '\\n  (...)  \\n'),\n Text(241.056, 65.232, 'X[2] <= 0.006\\ngini = 0.477\\nsamples = 16\\nvalue = [3, 0, 2, 11]'),\n Text(227.66400000000002, 21.744, '\\n  (...)  \\n'),\n Text(254.44800000000004, 21.744, '\\n  (...)  \\n'),\n Text(308.016, 108.72, 'X[2] <= 0.01\\ngini = 0.044\\nsamples = 1078\\nvalue = [1054, 0, 4, 20]'),\n Text(294.624, 65.232, 'X[2] <= 0.001\\ngini = 0.042\\nsamples = 1077\\nvalue = [1054, 0, 3, 20]'),\n Text(281.232, 21.744, '\\n  (...)  \\n'),\n Text(308.016, 21.744, '\\n  (...)  \\n'),\n Text(321.408, 65.232, 'gini = 0.0\\nsamples = 1\\nvalue = [0, 0, 1, 0]')]"
     },
     "execution_count": 10,
     "metadata": {},
     "output_type": "execute_result"
    },
    {
     "data": {
      "text/plain": "<Figure size 432x288 with 1 Axes>",
      "image/png": "[encoded data removed]"
     },
     "metadata": {
      "needs_background": "light"
     },
     "output_type": "display_data"
    }
   ],
   "source": [
    "graph = export_graphviz(\n",
    "    clf,\n",
    "    out_file=\"data/transformators.dot\",\n",
    "    filled=True,\n",
    "    rounded=True\n",
    ")\n",
    "plot_tree(clf, max_depth=3)"
   ],
   "metadata": {
    "collapsed": false,
    "pycharm": {
     "name": "#%%\n"
    }
   }
  },
  {
   "cell_type": "markdown",
   "source": [
    "## 9. Разбейте данные для регрессии"
   ],
   "metadata": {
    "collapsed": false
   }
  },
  {
   "cell_type": "code",
   "execution_count": 11,
   "outputs": [],
   "source": [
    "r = regression.drop('label', axis=1)\n",
    "ry = regression.label"
   ],
   "metadata": {
    "collapsed": false,
    "pycharm": {
     "name": "#%%\n"
    }
   }
  },
  {
   "cell_type": "code",
   "execution_count": 12,
   "outputs": [],
   "source": [
    "var_train, var_test, target_train, target_test = train_test_split(r, ry, test_size=0.3, train_size=0.7)"
   ],
   "metadata": {
    "collapsed": false,
    "pycharm": {
     "name": "#%%\n"
    }
   }
  },
  {
   "cell_type": "markdown",
   "source": [
    "## 10. Примените алгоритм дерева регрессии\n"
   ],
   "metadata": {
    "collapsed": false
   }
  },
  {
   "cell_type": "code",
   "execution_count": 13,
   "outputs": [
    {
     "data": {
      "text/plain": "DecisionTreeRegressor()"
     },
     "execution_count": 13,
     "metadata": {},
     "output_type": "execute_result"
    }
   ],
   "source": [
    "clf: DecisionTreeRegressor = DecisionTreeRegressor()\n",
    "clf.fit(var_train, target_train)"
   ],
   "metadata": {
    "collapsed": false,
    "pycharm": {
     "name": "#%%\n"
    }
   }
  },
  {
   "cell_type": "markdown",
   "source": [
    "## 11. Сделайте предсказание на тестовой выборке"
   ],
   "metadata": {
    "collapsed": false
   }
  },
  {
   "cell_type": "code",
   "execution_count": 14,
   "outputs": [
    {
     "name": "stdout",
     "output_type": "stream",
     "text": [
      "Prediction: [ 874.  426. 1093. 1093. 1093. 1093.  528. 1093. 1093. 1093.  812.  773.\n",
      "  785.  636.  519. 1093. 1093.  566. 1093.  777.  739.  628. 1093.  738.\n",
      " 1093. 1093.  586. 1093. 1093.  618. 1093.  661.  779.  789.  586.  491.\n",
      "  590.  676.  494. 1093.  939.  657. 1093.  540.  802.  636.  472.  762.\n",
      "  764.  514.  714.  555.  475.  526.  831.  851.  502. 1093. 1093. 1093.\n",
      "  980. 1093. 1093.  675.  518. 1093.  537.  764. 1093.  499.  843.  710.\n",
      "  481.  786.  671.  888.  518.  612.  728.  717.  615.  518. 1093. 1093.\n",
      "  528.  704.  451.  489.  537.  759. 1093. 1093. 1093. 1093.  928.  705.\n",
      " 1093. 1093.  714.  823.  765. 1093.  835.  704.  496.  582. 1093.  596.\n",
      "  482. 1093. 1093.  460.  815.  526.  464.  546.  616.  586. 1093.  520.\n",
      "  842. 1093.  785.  591.  625.  721.  627. 1093.  443. 1093.  572. 1092.\n",
      "  490.  472.  658.  586. 1093.  851.  542.  549.  581.  651. 1093.  473.\n",
      "  639.  738.  732.  398. 1093.  799.  636. 1093. 1093. 1093.  738. 1093.\n",
      " 1093.  577.  520.  493.  907.  740. 1093.  767.  453.  605.  716. 1093.\n",
      "  783.  693. 1093.  520.  624.  532. 1093.  590.  744.  492.  579.  852.\n",
      "  777.  490. 1093.  548. 1093.  473. 1093.  815.  639.  579.  462.  612.\n",
      "  483.  878.  595. 1093.  799.  621.  652.  762.  492. 1093.  851. 1093.\n",
      "  525.  609. 1093. 1093.  639.  980.  492.  736.  472.  846. 1093.  863.\n",
      " 1093.  514. 1093.  584.  969. 1093.  874.  580.  612.  483. 1093. 1093.\n",
      "  528.  666.  526.  506.  549. 1093. 1093.  773.  575.  761.  595. 1093.\n",
      "  697. 1093.  863.  768. 1093.  581. 1093.  743.  390.  581. 1093. 1093.\n",
      " 1093.  704.  527.  507. 1093.  526. 1093. 1093. 1093.  660.  583.  503.\n",
      "  493.  738. 1093.  930. 1093.  549.  870. 1093.  464.  740.  580. 1093.\n",
      "  878.  487.  671.  652.  673. 1093. 1093. 1093.  545. 1093.  734.  534.\n",
      "  519. 1093.  764.  634.  490.  774. 1093. 1093. 1093. 1093. 1093.  570.\n",
      "  599. 1093.  520. 1093. 1093.  520.  761.  907.  651.  585. 1030.  732.\n",
      " 1093.  490.  583.  710. 1093.  767.  759.  517.  659. 1093.  618.  639.\n",
      " 1093.  586.  929.  884. 1093.  545. 1093.  764.  656. 1093. 1093. 1093.\n",
      "  884.  595.  771.  655.  598.  658.  486.  642.  492. 1093.  692.  754.\n",
      "  878.  657. 1093. 1093.  757.  490. 1093. 1093. 1093.  543.  714.  647.\n",
      " 1093. 1093.  751. 1093.  882.  639.  453.  525. 1093.  762. 1093.  596.\n",
      " 1093.  515.  796.  623.  759.  639.  815.  767. 1093.  537. 1093.  548.\n",
      "  438. 1093.  560.  555.  572. 1093.  498. 1093.  669.  510.  506.  518.\n",
      "  515. 1093.  598.  581.  602.  723.  611. 1093.  467.  584. 1065. 1093.\n",
      "  751. 1093. 1093.  558. 1093.  572. 1093.  683.  451.  545.  930. 1093.\n",
      " 1093.  603.  548.  714.  871.  582. 1093.  695.  456. 1093. 1093. 1093.\n",
      "  815.  512. 1093. 1093. 1093.  619.  887.  582.  815.  464.  813.  656.\n",
      " 1093.  854. 1093. 1093.  666. 1093. 1093.  494.  686.  645. 1093. 1093.\n",
      "  546.  504.  785. 1093.  413. 1093.  740. 1093. 1093.  828. 1093.  747.\n",
      "  492. 1093.  567. 1093.  505.  623. 1093.  821.  758. 1093.  795.  863.\n",
      "  475.  646. 1093.  751.  505.  717.  518.  732. 1093. 1093.  853.  492.\n",
      " 1093.  499.  858. 1093.  549. 1093.  458.  602. 1093. 1093.  781.  524.\n",
      " 1093.  602.  652. 1093.  513. 1093. 1093.  605.  538. 1093.  566.  710.\n",
      " 1093. 1093.  555.  537. 1093.  538.  695. 1093.  466. 1093.  490.  534.\n",
      "  580.  519.  496.  620.  615.  869. 1093. 1093.  478.  761.  642.  882.\n",
      "  490.  590.  751. 1093.  506.  835.  575.  685.  555.  669.  520.  526.\n",
      " 1093.  448. 1093.  711. 1093.  866. 1093.  647.  858. 1093.  695. 1093.\n",
      "  696.  505. 1093.  492.  769. 1093. 1093.  738.  507.  656.  701. 1093.\n",
      "  542. 1093. 1093. 1093. 1093.  538.  734. 1093.  835.  858. 1093.  761.\n",
      "  807. 1093.  743.  579.  512.  496. 1093.  528.  591.  597.  594. 1093.\n",
      "  623.  484. 1093. 1093.  670.  615.  880.  765. 1093.  425.  494. 1093.\n",
      "  707.  599.  743. 1093.  596. 1093. 1093. 1093.  882.  696.  870. 1093.\n",
      " 1093. 1093.  453.  670.  715. 1093.]\n",
      "r2_score: -0.236\n",
      "mean_absolute_error: 192.516\n"
     ]
    }
   ],
   "source": [
    "test: object = target_test\n",
    "pred: object = clf.predict(var_test)\n",
    "print(f\"Prediction: {pred}\")\n",
    "print(f\"r2_score: {round(r2_score(test, pred), 3)}\")\n",
    "print(f\"mean_absolute_error: {round(mean_absolute_error(test, pred), 3)}\")"
   ],
   "metadata": {
    "collapsed": false,
    "pycharm": {
     "name": "#%%\n"
    }
   }
  },
  {
   "cell_type": "markdown",
   "source": [
    "## 12. Выполните подбор гиперпараметров модели"
   ],
   "metadata": {
    "collapsed": false
   }
  },
  {
   "cell_type": "code",
   "execution_count": 15,
   "outputs": [
    {
     "name": "stdout",
     "output_type": "stream",
     "text": [
      "GridSearchCV(cv=5, estimator=DecisionTreeRegressor(),\n",
      "             param_grid={'max_depth': array([1, 2, 3, 4, 5, 6, 7, 8, 9]),\n",
      "                         'min_samples_leaf': array([1, 2, 3, 4]),\n",
      "                         'min_samples_split': array([2, 3, 4, 5, 6, 7, 8, 9]),\n",
      "                         'splitter': ('best', 'random')})\n"
     ]
    }
   ],
   "source": [
    "parameters: dict[str, Union[list[str], list[int]]] = {\n",
    "    'splitter': ('best', 'random'),\n",
    "    'max_depth': arange(1, 10),\n",
    "    'min_samples_split': arange(2, 10),\n",
    "    'min_samples_leaf': arange(1, 5)\n",
    "}\n",
    "grid: GridSearchCV = GridSearchCV(\n",
    "    DecisionTreeRegressor(),\n",
    "    parameters,\n",
    "    cv=5\n",
    ")\n",
    "gs_result: Union[GridSearchCV, Any] = grid.fit(var_train, target_train)\n",
    "print(gs_result)"
   ],
   "metadata": {
    "collapsed": false,
    "pycharm": {
     "name": "#%%\n"
    }
   }
  },
  {
   "cell_type": "markdown",
   "source": [
    "## 13. Заново обучите модель с подобранными гиперпараметрам"
   ],
   "metadata": {
    "collapsed": false
   }
  },
  {
   "cell_type": "code",
   "execution_count": 16,
   "outputs": [
    {
     "name": "stdout",
     "output_type": "stream",
     "text": [
      "{'max_depth': 5, 'min_samples_leaf': 4, 'min_samples_split': 5, 'splitter': 'best'}\n",
      "0.2764661202191444\n",
      "[ 835.23636364  445.2         944.92657343  835.23636364  690.51879699\n",
      "  944.92657343  575.59090909  835.23636364 1038.01709402  944.92657343\n",
      "  531.75        944.92657343  731.47126437  690.51879699  690.51879699\n",
      " 1038.01709402  944.92657343  575.59090909  690.51879699  944.92657343\n",
      "  835.23636364  835.23636364 1038.01709402  783.52307692  944.92657343\n",
      "  778.02189781  835.23636364 1038.01709402  944.92657343  778.02189781\n",
      "  778.02189781  835.23636364  835.23636364  944.92657343  902.86486486\n",
      "  690.51879699  778.02189781  835.23636364  731.47126437  783.52307692\n",
      "  835.23636364  690.51879699  944.92657343  835.23636364  731.47126437\n",
      "  783.52307692  603.38461538  835.23636364  835.23636364  731.47126437\n",
      "  778.02189781  944.92657343  510.16666667  944.92657343 1038.01709402\n",
      "  944.92657343  603.38461538  944.92657343  778.02189781  944.92657343\n",
      "  835.23636364  783.52307692  778.02189781  778.02189781  690.51879699\n",
      " 1038.01709402  529.16666667  835.23636364  944.92657343  512.\n",
      "  783.52307692  783.52307692  529.16666667  778.02189781  944.92657343\n",
      "  835.23636364  690.51879699  778.02189781  835.23636364 1038.01709402\n",
      "  778.02189781  690.51879699  835.23636364  835.23636364  575.59090909\n",
      "  944.92657343  510.16666667  473.          778.02189781  783.52307692\n",
      "  835.23636364  944.92657343  783.52307692  944.92657343  944.92657343\n",
      "  835.23636364  835.23636364  835.23636364  531.75        835.23636364\n",
      "  778.02189781  778.02189781  835.23636364  944.92657343  528.93333333\n",
      "  575.59090909  944.92657343  835.23636364  603.38461538  778.02189781\n",
      "  944.92657343  445.2         944.92657343  944.92657343  492.2\n",
      "  603.38461538  731.47126437  902.86486486  835.23636364  531.75\n",
      "  835.23636364  944.92657343  731.47126437  595.42105263  690.51879699\n",
      "  835.23636364  731.47126437 1038.01709402  473.          835.23636364\n",
      "  731.47126437  944.92657343  510.16666667  603.38461538  778.02189781\n",
      "  902.86486486 1038.01709402  835.23636364  835.23636364  528.93333333\n",
      "  778.02189781  835.23636364  944.92657343  702.28571429  944.92657343\n",
      "  783.52307692  944.92657343  431.          944.92657343  944.92657343\n",
      "  690.51879699  835.23636364 1038.01709402 1038.01709402  778.02189781\n",
      "  944.92657343  778.02189781  835.23636364  835.23636364  778.02189781\n",
      "  835.23636364  944.92657343  783.52307692  510.16666667  731.47126437\n",
      "  778.02189781  690.51879699  835.23636364  902.86486486  778.02189781\n",
      "  835.23636364  835.23636364  690.51879699  529.16666667 1038.01709402\n",
      "  778.02189781  731.47126437  944.92657343  944.92657343  944.92657343\n",
      "  944.92657343  510.16666667 1038.01709402  595.42105263  778.02189781\n",
      "  537.75        944.92657343  944.92657343  575.59090909  944.92657343\n",
      "  778.02189781  778.02189781  595.42105263  731.47126437  690.51879699\n",
      "  944.92657343  731.47126437  690.51879699  702.28571429  835.23636364\n",
      "  731.47126437 1038.01709402  783.52307692  944.92657343  595.42105263\n",
      "  835.23636364  690.51879699  944.92657343  575.59090909  835.23636364\n",
      "  944.92657343  944.92657343  603.38461538  731.47126437  655.33333333\n",
      "  690.51879699  778.02189781  731.47126437  944.92657343  835.23636364\n",
      "  944.92657343 1038.01709402  835.23636364  778.02189781  778.02189781\n",
      "  731.47126437  702.28571429  783.52307692  575.59090909  731.47126437\n",
      "  778.02189781  778.02189781  783.52307692  783.52307692  944.92657343\n",
      "  944.92657343  690.51879699  835.23636364  690.51879699  690.51879699\n",
      "  835.23636364 1038.01709402  835.23636364  944.92657343  944.92657343\n",
      "  531.75        690.51879699  603.38461538  690.51879699  531.75\n",
      "  690.51879699  944.92657343  944.92657343  944.92657343  575.59090909\n",
      "  603.38461538  944.92657343  466.16666667  603.38461538  835.23636364\n",
      "  778.02189781  778.02189781  778.02189781  690.51879699  778.02189781\n",
      "  778.02189781  778.02189781 1038.01709402  783.52307692  783.52307692\n",
      "  944.92657343  835.23636364  492.2         835.23636364  529.16666667\n",
      " 1038.01709402  731.47126437  528.93333333  575.59090909  778.02189781\n",
      "  835.23636364  944.92657343  944.92657343  783.52307692  783.52307692\n",
      "  731.47126437  835.23636364  510.16666667  731.47126437  944.92657343\n",
      "  835.23636364  603.38461538  510.16666667  944.92657343  944.92657343\n",
      " 1038.01709402  778.02189781  690.51879699  778.02189781  778.02189781\n",
      "  599.          778.02189781  531.75        783.52307692  835.23636364\n",
      "  835.23636364  944.92657343  944.92657343  835.23636364  690.51879699\n",
      "  944.92657343  944.92657343 1038.01709402  531.75        783.52307692\n",
      "  783.52307692  944.92657343  510.16666667  783.52307692  706.3125\n",
      "  835.23636364  835.23636364  835.23636364  944.92657343  778.02189781\n",
      "  902.86486486 1038.01709402  835.23636364 1038.01709402  783.52307692\n",
      "  902.86486486  944.92657343  835.23636364  944.92657343  944.92657343\n",
      "  690.51879699  835.23636364  690.51879699  835.23636364  835.23636364\n",
      "  783.52307692  902.86486486  690.51879699  944.92657343  731.47126437\n",
      "  944.92657343  835.23636364  835.23636364  690.51879699  690.51879699\n",
      "  731.47126437  902.86486486  783.52307692  510.16666667 1038.01709402\n",
      " 1038.01709402  690.51879699 1038.01709402  778.02189781  778.02189781\n",
      "  944.92657343  944.92657343  835.23636364  783.52307692  835.23636364\n",
      "  944.92657343  445.2         603.38461538 1038.01709402  835.23636364\n",
      "  835.23636364  835.23636364  778.02189781  835.23636364 1038.01709402\n",
      "  528.93333333  731.47126437  575.59090909  731.47126437  510.16666667\n",
      "  783.52307692  529.16666667  944.92657343  531.75        531.75\n",
      "  944.92657343  731.47126437  944.92657343  690.51879699  835.23636364\n",
      "  731.47126437  944.92657343  778.02189781  690.51879699  445.2\n",
      "  778.02189781  835.23636364 1038.01709402  783.52307692  778.02189781\n",
      "  778.02189781  690.51879699  778.02189781  944.92657343  507.5\n",
      "  835.23636364  835.23636364  944.92657343  835.23636364  783.52307692\n",
      " 1038.01709402  783.52307692  944.92657343  690.51879699  731.47126437\n",
      "  944.92657343  510.16666667  778.02189781 1038.01709402  783.52307692\n",
      "  690.51879699  835.23636364  690.51879699  531.75        944.92657343\n",
      "  902.86486486  944.92657343  690.51879699  702.28571429 1038.01709402\n",
      "  944.92657343  835.23636364  944.92657343  655.33333333  944.92657343\n",
      "  690.51879699 1038.01709402  690.51879699  835.23636364  944.92657343\n",
      "  731.47126437  492.2         835.23636364  655.33333333 1038.01709402\n",
      "  690.51879699  835.23636364  944.92657343  731.47126437  944.92657343\n",
      "  783.52307692  778.02189781  944.92657343  783.52307692  944.92657343\n",
      " 1038.01709402  603.38461538  599.          835.23636364  835.23636364\n",
      "  473.         1038.01709402  944.92657343  690.51879699  835.23636364\n",
      "  783.52307692  731.47126437  944.92657343  731.47126437  944.92657343\n",
      "  835.23636364  944.92657343  778.02189781  944.92657343 1038.01709402\n",
      " 1038.01709402  595.42105263  944.92657343  690.51879699  835.23636364\n",
      "  595.42105263  531.75        944.92657343  835.23636364  835.23636364\n",
      " 1038.01709402  599.          944.92657343 1038.01709402  778.02189781\n",
      "  731.47126437  731.47126437 1038.01709402  512.          944.92657343\n",
      " 1038.01709402  783.52307692  835.23636364  473.          778.02189781\n",
      "  783.52307692  690.51879699  835.23636364  510.16666667  835.23636364\n",
      "  835.23636364  702.28571429  944.92657343  512.          944.92657343\n",
      "  835.23636364  690.51879699  603.38461538  835.23636364  731.47126437\n",
      "  783.52307692  944.92657343  902.86486486  537.75        537.75\n",
      "  944.92657343  603.38461538  690.51879699 1038.01709402  690.51879699\n",
      "  778.02189781  510.16666667  690.51879699  529.16666667  690.51879699\n",
      "  690.51879699  690.51879699  778.02189781  944.92657343  778.02189781\n",
      "  835.23636364  528.93333333  835.23636364  835.23636364  731.47126437\n",
      "  510.16666667  778.02189781  835.23636364  835.23636364  778.02189781\n",
      "  835.23636364  690.51879699  902.86486486  944.92657343  778.02189781\n",
      "  835.23636364  944.92657343  835.23636364  537.75       1038.01709402\n",
      "  778.02189781 1038.01709402  835.23636364  835.23636364  778.02189781\n",
      "  944.92657343  835.23636364  690.51879699 1038.01709402  731.47126437\n",
      "  835.23636364  690.51879699  690.51879699  944.92657343  778.02189781\n",
      "  783.52307692  944.92657343  706.3125      835.23636364  783.52307692\n",
      "  944.92657343  537.75        835.23636364  778.02189781  944.92657343\n",
      "  835.23636364  603.38461538  835.23636364  902.86486486  835.23636364\n",
      "  944.92657343 1038.01709402  835.23636364  835.23636364 1038.01709402\n",
      "  778.02189781  944.92657343  783.52307692  690.51879699  944.92657343\n",
      "  531.75        778.02189781  835.23636364  690.51879699  944.92657343\n",
      "  528.93333333  510.16666667  944.92657343  778.02189781  690.51879699\n",
      "  778.02189781  835.23636364  778.02189781 1038.01709402  445.2\n",
      "  528.93333333  944.92657343  944.92657343  835.23636364  778.02189781\n",
      " 1038.01709402  835.23636364  778.02189781 1038.01709402  944.92657343\n",
      "  835.23636364  731.47126437  944.92657343  944.92657343  835.23636364\n",
      "  835.23636364  731.47126437  835.23636364  690.51879699 1038.01709402]\n",
      "r2_score: 0.298\n",
      "mean_absolute_error: 170.861\n"
     ]
    }
   ],
   "source": [
    "print(gs_result.best_params_)\n",
    "print(gs_result.best_score_)\n",
    "print(gs_result.predict(var_test))\n",
    "pred: object = gs_result.predict(var_test)\n",
    "print(f\"r2_score: {round(r2_score(test, pred), 3)}\")\n",
    "print(f\"mean_absolute_error: {round(mean_absolute_error(test, pred), 3)}\")"
   ],
   "metadata": {
    "collapsed": false,
    "pycharm": {
     "name": "#%%\n"
    }
   }
  },
  {
   "cell_type": "markdown",
   "source": [
    "## 14. Постройте итоговое дерево регрессии"
   ],
   "metadata": {
    "collapsed": false
   }
  },
  {
   "cell_type": "code",
   "execution_count": 17,
   "outputs": [
    {
     "data": {
      "text/plain": "[Text(167.4, 195.696, 'X[0] <= 0.002\\nmse = 59291.543\\nsamples = 1470\\nvalue = 794.387'),\n Text(83.7, 152.208, 'X[2] <= 0.008\\nmse = 57271.235\\nsamples = 1089\\nvalue = 835.01'),\n Text(41.85, 108.72, 'X[3] <= 0.0\\nmse = 52371.744\\nsamples = 932\\nvalue = 866.08'),\n Text(20.925, 65.232, 'X[1] <= 0.018\\nmse = 45594.786\\nsamples = 753\\nvalue = 900.345'),\n Text(10.4625, 21.744, '\\n  (...)  \\n'),\n Text(31.387500000000003, 21.744, '\\n  (...)  \\n'),\n Text(62.775000000000006, 65.232, 'X[3] <= 0.0\\nmse = 55164.505\\nsamples = 179\\nvalue = 721.939'),\n Text(52.3125, 21.744, '\\n  (...)  \\n'),\n Text(73.2375, 21.744, '\\n  (...)  \\n'),\n Text(125.55000000000001, 108.72, 'X[2] <= 0.009\\nmse = 46606.093\\nsamples = 157\\nvalue = 650.567'),\n Text(104.625, 65.232, 'X[3] <= 0.0\\nmse = 49342.148\\nsamples = 133\\nvalue = 674.955'),\n Text(94.16250000000001, 21.744, '\\n  (...)  \\n'),\n Text(115.0875, 21.744, '\\n  (...)  \\n'),\n Text(146.475, 65.232, 'X[2] <= 0.01\\nmse = 9882.16\\nsamples = 24\\nvalue = 515.417'),\n Text(136.01250000000002, 21.744, '\\n  (...)  \\n'),\n Text(156.9375, 21.744, '\\n  (...)  \\n'),\n Text(251.10000000000002, 152.208, 'X[0] <= 0.003\\nmse = 46867.449\\nsamples = 381\\nvalue = 678.276'),\n Text(209.25, 108.72, 'X[1] <= 0.015\\nmse = 49649.401\\nsamples = 278\\nvalue = 717.486'),\n Text(188.32500000000002, 65.232, 'X[3] <= 0.0\\nmse = 52307.437\\nsamples = 117\\nvalue = 799.598'),\n Text(177.8625, 21.744, '\\n  (...)  \\n'),\n Text(198.7875, 21.744, '\\n  (...)  \\n'),\n Text(230.175, 65.232, 'X[2] <= 0.009\\nmse = 39257.22\\nsamples = 161\\nvalue = 657.814'),\n Text(219.7125, 21.744, '\\n  (...)  \\n'),\n Text(240.63750000000002, 21.744, '\\n  (...)  \\n'),\n Text(292.95, 108.72, 'X[0] <= 0.003\\nmse = 24009.548\\nsamples = 103\\nvalue = 572.447'),\n Text(272.02500000000003, 65.232, 'X[0] <= 0.003\\nmse = 30418.685\\nsamples = 65\\nvalue = 611.738'),\n Text(261.5625, 21.744, '\\n  (...)  \\n'),\n Text(282.4875, 21.744, '\\n  (...)  \\n'),\n Text(313.875, 65.232, 'X[3] <= 0.0\\nmse = 5888.602\\nsamples = 38\\nvalue = 505.237'),\n Text(303.4125, 21.744, '\\n  (...)  \\n'),\n Text(324.33750000000003, 21.744, '\\n  (...)  \\n')]"
     },
     "execution_count": 17,
     "metadata": {},
     "output_type": "execute_result"
    },
    {
     "data": {
      "text/plain": "<Figure size 432x288 with 1 Axes>",
      "image/png": "[encoded data removed]"
     },
     "metadata": {
      "needs_background": "light"
     },
     "output_type": "display_data"
    }
   ],
   "source": [
    "graph = export_graphviz(\n",
    "    clf,\n",
    "    out_file=\"data/regression.dot\",\n",
    "    filled=True,\n",
    "    rounded=True\n",
    ")\n",
    "plot_tree(clf, max_depth=3)"
   ],
   "metadata": {
    "collapsed": false,
    "pycharm": {
     "name": "#%%\n"
    }
   }
  },
  {
   "cell_type": "markdown",
   "source": [
    "# Ответы на контрольные вопросы"
   ],
   "metadata": {
    "collapsed": false
   }
  },
  {
   "cell_type": "markdown",
   "source": [
    "## 1. Опишите этапы построения алгоритма дерева решений для задачи классификации и регрессии. Чем они отличаются и чем схожи?\n",
    "\n",
    "Деревья решений как аналитические модели более вербализуемы и интерпретируемы, чем, скажем, нейронные сети. В обучающем множестве для примеров должно быть задано целевое значение, т.к. деревья решений являются моделями, строящимися на основе обучения с учителем. При этом, если целевая переменная дискретная (метка класса), то модель называют деревом классификации, а если непрерывная, то деревом регрессии.\n",
    "\n",
    "Собственно, само дерево решений — это метод представления решающих правил в иерархической структуре, состоящей из элементов двух типов — узлов (node) и листьев (leaf). В узлах находятся решающие правила и производится проверка соответствия примеров этому правилу по какому-либо атрибуту обучающего множества.\n",
    "\n",
    "В простейшем случае, в результате проверки, множество примеров, попавших в узел, разбивается на два подмножества, в одно из которых попадают примеры, удовлетворяющие правилу, а в другое — не удовлетворяющие.\n",
    "\n",
    "Затем к каждому подмножеству вновь применяется правило и процедура рекурсивно повторяется пока не будет достигнуто некоторое условие остановки алгоритма. В результате в последнем узле проверка и разбиение не производится и он объявляется листом. Лист определяет решение для каждого попавшего в него примера. Для дерева классификации — это класс, ассоциируемый с узлом, а для дерева регрессии — соответствующий листу модальный интервал целевой переменной.\n",
    "\n",
    "Таким образом, в отличие от узла, в листе содержится не правило, а подмножество объектов, удовлетворяющих всем правилам ветви, которая заканчивается данным листом.\n",
    "\n",
    "Очевидно, чтобы попасть в лист, пример должен удовлетворять всем правилам, лежащим на пути к этому листу. Поскольку путь в дереве к каждому листу единственный, то и каждый пример может попасть только в один лист, что обеспечивает единственность решения.\n",
    "\n",
    "В ходе построения дерева решений нужно решить несколько основных проблем, с каждой из которых связан соответствующий шаг процесса обучения:\n",
    "\n",
    "Выбор атрибута, по которому будет производиться разбиение в данном узле (атрибута разбиения).\n",
    "Выбор критерия остановки обучения.\n",
    "Выбор метода отсечения ветвей (упрощения).\n",
    "Оценка точности построенного дерева."
   ],
   "metadata": {
    "collapsed": false
   }
  },
  {
   "cell_type": "markdown",
   "source": [
    "## 2. Какие метрики используются для оценки качества работы алгоритмов при решении задачи регрессии? Опишите данные метрики с математической точки зрения и скажите, чем они отличаются друг от друга.\n",
    "\n",
    "1.\tCредняя абсолютная ошибка (англ. Mean Absolute Error, MAE)\n",
    "Среднеквадратичный функционал сильнее штрафует за большие отклонения по сравнению со среднеабсолютным, и поэтому более чувствителен к выбросам. При использовании любого из этих двух функционалов может быть полезно проанализировать, какие объекты вносят наибольший вклад в общую ошибку — не исключено, что на этих объектах была допущена ошибка при вычислении признаков или целевой величины.\n",
    "Среднеквадратичная ошибка подходит для сравнения двух моделей или для контроля качества во время обучения, но не позволяет сделать выводов о том, на сколько хорошо данная модель решает задачу. Например, MSE = 10 является очень плохим показателем, если целевая переменная принимает значения от 0 до 1, и очень хорошим, если целевая переменная лежит в интервале (10000, 100000). В таких ситуациях вместо среднеквадратичной ошибки полезно использовать коэффициент детерминации — R^2\n",
    "\n",
    "2.\tСредняя квадратичная ошибка (англ. Mean Squared Error, MSE)\n",
    "MSE применяется в ситуациях, когда нам надо подчеркнуть большие ошибки и выбрать модель, которая дает меньше больших ошибок прогноза. Грубые ошибки становятся заметнее за счет того, что ошибку прогноза мы возводим в квадрат. И модель, которая дает нам меньшее значение среднеквадратической ошибки, можно сказать, что что у этой модели меньше грубых ошибок.\n",
    "\n",
    "3.\tКорень из средней квадратичной ошибки (англ. Root Mean Squared Error, RMSE)\n",
    "Примерно такая же проблема, как и в MAPE: так как каждое отклонение возводится в квадрат, любое небольшое отклонение может значительно повлиять на показатель ошибки. Стоит отметить, что существует также ошибка MSE, из которой RMSE как раз и получается путем извлечения корня.\n",
    "\n",
    "4.\tСредняя абсолютная процентная ошибка (англ. Mean Absolute Percentage Error, MAPE)\n",
    "Это коэффициент, не имеющий размерности, с очень простой интерпретацией. Его можно измерять в долях или процентах. Если у вас получилось, например, что MAPE=11.4%, то это говорит о том, что ошибка составила 11,4% от фактических значений. Основная проблема данной ошибки — нестабильность.\n",
    "\n",
    "5.\tКоэффициент детерминации\n",
    "Коэффициент детерминации измеряет долю дисперсии, объясненную моделью, в общей дисперсии целевой переменной. Фактически, данная мера качества — это нормированная среднеквадратичная ошибка. Если она близка к единице, то модель хорошо объясняет данные, если же она близка к нулю, то прогнозы сопоставимы по качеству с константным предсказанием."
   ],
   "metadata": {
    "collapsed": false
   }
  },
  {
   "cell_type": "markdown",
   "source": [
    "## 3. Каким способом можно повысить качество работы алгоритмов регрессии?\n",
    "\n",
    "Чтобы повысить качество кластеризации у нас есть два варианта. 1) Применить метрики, посмотреть результат и попробовать другой метод(алгоритм) кластеризации. 2) Применить метрики, посмотреть результат и изменить или добавить информативные признаки.(Это исходя из пункта 21 самой работы)\n",
    "\n",
    "На повышение качества работы алгоритма оказывают влияние правильно подобранные гиперпараметры. Есть три подхода в оптимизации гиперпараметров: Байесовская оптимизация, поиск по решетке и случайный поиск. Как правило, самым эффективным подходом оказывается Байесовская оптимизация.\n",
    "1) Байесовская оптимизация - значения гиперпараметров в текущей итерации выбираются с учётом результатов на предыдущем шаге. Основная идея алгоритма заключается в следующем – на каждой итерации подбора находится компромисс между исследованием регионов с самыми удачными из найденных комбинаций гиперпараметров и исследованием регионов с большой неопределённостью (где могут находиться ещё более удачные комбинации).\n",
    "2) Поиск по решётке - в этом способе значения гиперпараметров задаются вручную, затем выполняется их полный перебор. Популярной реализацией этого метода является Grid Search из sklearn."
   ],
   "metadata": {
    "collapsed": false
   }
  }
 ],
 "metadata": {
  "kernelspec": {
   "display_name": "Python 3",
   "language": "python",
   "name": "python3"
  },
  "language_info": {
   "codemirror_mode": {
    "name": "ipython",
    "version": 2
   },
   "file_extension": ".py",
   "mimetype": "text/x-python",
   "name": "python",
   "nbconvert_exporter": "python",
   "pygments_lexer": "ipython2",
   "version": "2.7.6"
  }
 },
 "nbformat": 4,
 "nbformat_minor": 0
}