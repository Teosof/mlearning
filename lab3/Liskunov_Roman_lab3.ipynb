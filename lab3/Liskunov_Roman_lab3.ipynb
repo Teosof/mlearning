{
 "cells": [
  {
   "cell_type": "markdown",
   "metadata": {
    "collapsed": true,
    "pycharm": {
     "name": "#%% md\n"
    }
   },
   "source": [
    "# Решающие деревья для задач классификации и регрессии\n",
    "Группа: ИВТ-М20.<br/>\n",
    "Студент: Лискунов Роман Геннадьвич"
   ]
  },
  {
   "cell_type": "code",
   "execution_count": 26,
   "outputs": [],
   "source": [
    "import warnings\n",
    "from typing import Union, Any\n",
    "\n",
    "from numpy import arange\n",
    "from pandas import (\n",
    "    DataFrame,\n",
    "    read_csv\n",
    ")\n",
    "from sklearn.metrics import (\n",
    "    accuracy_score,\n",
    "    r2_score,\n",
    "    mean_absolute_error, classification_report\n",
    ")\n",
    "from sklearn.model_selection import GridSearchCV\n",
    "from sklearn.model_selection import (\n",
    "    train_test_split,\n",
    "    cross_val_score\n",
    ")\n",
    "from sklearn.tree import (\n",
    "    DecisionTreeClassifier,\n",
    "    DecisionTreeRegressor\n",
    ")\n",
    "from sklearn.tree import (\n",
    "    export_graphviz,\n",
    "    plot_tree\n",
    ")\n",
    "warnings.filterwarnings('ignore')\n"
   ],
   "metadata": {
    "collapsed": false,
    "pycharm": {
     "name": "#%%\n"
    }
   }
  },
  {
   "cell_type": "markdown",
   "source": [
    "## 1. Прочтите данные из файлов"
   ],
   "metadata": {
    "collapsed": false
   }
  },
  {
   "cell_type": "code",
   "execution_count": 27,
   "outputs": [],
   "source": [
    "transformators: DataFrame = DataFrame(\n",
    "    read_csv(\n",
    "        'data/transformators.csv',\n",
    "        sep=',',\n",
    "        header=0\n",
    "    )\n",
    ")\n",
    "regression: DataFrame = DataFrame(\n",
    "    read_csv(\n",
    "        'data/transformators_regression.csv',\n",
    "        sep=',',\n",
    "        header=0\n",
    "    )\n",
    ")"
   ],
   "metadata": {
    "collapsed": false,
    "pycharm": {
     "name": "#%%\n"
    }
   }
  },
  {
   "cell_type": "markdown",
   "source": [
    "## 2. Отобразите несколько первых и несколько последних записей."
   ],
   "metadata": {
    "collapsed": false,
    "pycharm": {
     "name": "#%% md\n"
    }
   }
  },
  {
   "cell_type": "code",
   "execution_count": 28,
   "outputs": [
    {
     "name": "stdout",
     "output_type": "stream",
     "text": [
      "         H2        CO      C2H4      C2H2  label\n",
      "0  0.002590  0.016491  0.002876  0.000336      1\n",
      "1  0.002825  0.014728  0.001992  0.000339      1\n",
      "2  0.002764  0.017030  0.003394  0.000195      1\n",
      "3  0.000508  0.016334  0.004104  0.000380      1\n",
      "4  0.002654  0.021278  0.004068  0.000124      1\n",
      "            H2        CO      C2H4      C2H2  label\n",
      "2095  0.002549  0.009460  0.007465  0.000242      1\n",
      "2096  0.000915  0.005770  0.007230  0.000081      3\n",
      "2097  0.001565  0.002492  0.008529  0.000176      3\n",
      "2098  0.001688  0.020291  0.007305  0.000252      1\n",
      "2099  0.002935  0.028001  0.008048  0.000219      1\n",
      "         H2        CO      C2H4      C2H2  label\n",
      "0  0.002590  0.016491  0.002876  0.000336    541\n",
      "1  0.002825  0.014728  0.001992  0.000339    520\n",
      "2  0.002764  0.017030  0.003394  0.000195    583\n",
      "3  0.000508  0.016334  0.004104  0.000380    487\n",
      "4  0.002654  0.021278  0.004068  0.000124   1093\n",
      "            H2        CO      C2H4      C2H2  label\n",
      "2095  0.002549  0.009460  0.007465  0.000242   1093\n",
      "2096  0.000915  0.005770  0.007230  0.000081   1093\n",
      "2097  0.001565  0.002492  0.008529  0.000176    719\n",
      "2098  0.001688  0.020291  0.007305  0.000252    698\n",
      "2099  0.002935  0.028001  0.008048  0.000219    644\n"
     ]
    }
   ],
   "source": [
    "print(transformators.head())\n",
    "print(transformators.tail())\n",
    "print(regression.head())\n",
    "print(regression.tail())"
   ],
   "metadata": {
    "collapsed": false,
    "pycharm": {
     "name": "#%%\n"
    }
   }
  },
  {
   "cell_type": "markdown",
   "source": [
    "## 3. Разбейте данные для классификации"
   ],
   "metadata": {
    "collapsed": false,
    "pycharm": {
     "name": "#%% md\n"
    }
   }
  },
  {
   "cell_type": "code",
   "execution_count": 29,
   "outputs": [],
   "source": [
    "transformators_train, transformators_test = train_test_split(transformators, test_size=0.3, train_size=0.7)"
   ],
   "metadata": {
    "collapsed": false,
    "pycharm": {
     "name": "#%%\n"
    }
   }
  },
  {
   "cell_type": "markdown",
   "source": [
    "## 4. Примените алгоритм дерева решений"
   ],
   "metadata": {
    "collapsed": false,
    "pycharm": {
     "name": "#%% md\n"
    }
   }
  },
  {
   "cell_type": "code",
   "execution_count": 30,
   "outputs": [
    {
     "data": {
      "text/plain": "DecisionTreeClassifier()"
     },
     "execution_count": 30,
     "metadata": {},
     "output_type": "execute_result"
    }
   ],
   "source": [
    "clf: DecisionTreeClassifier = DecisionTreeClassifier()\n",
    "clf.fit(transformators_train, transformators_train.label)\n"
   ],
   "metadata": {
    "collapsed": false,
    "pycharm": {
     "name": "#%%\n"
    }
   }
  },
  {
   "cell_type": "markdown",
   "source": [
    "## 5. Сделайте предсказание на тестовой выборке."
   ],
   "metadata": {
    "collapsed": false,
    "pycharm": {
     "name": "#%% md\n"
    }
   }
  },
  {
   "cell_type": "code",
   "execution_count": 31,
   "outputs": [
    {
     "name": "stdout",
     "output_type": "stream",
     "text": [
      "Prediction: [1 4 1 1 1 4 1 3 1 1 1 1 1 1 2 1 1 1 1 1 1 1 3 1 1 1 4 1 1 2 1 4 1 1 4 1 4\n",
      " 3 1 1 4 1 3 1 1 2 1 1 1 4 1 1 1 1 1 1 1 1 2 1 1 4 1 1 1 3 1 1 1 2 1 1 1 1\n",
      " 1 1 1 1 1 1 4 1 1 1 1 1 1 1 1 1 1 4 1 1 1 1 1 1 1 1 1 1 1 1 1 1 1 1 2 1 1\n",
      " 1 1 1 1 3 1 1 4 1 1 1 1 1 1 1 1 1 1 1 1 1 4 1 2 1 1 3 1 1 1 2 4 1 1 1 1 1\n",
      " 1 3 1 1 1 2 1 1 1 1 1 4 1 1 1 1 1 1 1 1 1 4 1 1 1 3 1 1 1 1 1 1 1 1 1 4 1\n",
      " 4 1 1 3 1 1 1 1 1 1 1 4 1 1 1 1 1 1 1 1 1 1 1 1 1 2 4 1 1 1 1 1 1 1 3 2 4\n",
      " 4 1 1 1 1 1 1 1 1 4 1 1 1 1 1 1 1 4 1 3 1 1 1 3 1 1 1 4 4 4 1 1 1 1 3 1 1\n",
      " 1 1 1 1 1 1 1 1 4 1 1 1 1 1 1 1 1 1 3 1 1 1 3 1 4 1 4 1 3 1 1 1 4 1 1 1 1\n",
      " 1 1 1 3 1 1 1 1 1 1 1 1 1 1 1 1 1 4 1 1 4 1 4 1 1 1 1 1 1 1 1 1 1 1 1 1 2\n",
      " 3 1 1 4 4 1 2 1 1 1 1 1 1 1 1 1 2 3 1 1 1 1 1 1 1 1 1 1 1 4 1 1 1 1 1 1 1\n",
      " 1 1 1 1 2 1 1 1 1 4 1 1 4 1 1 1 1 1 1 1 1 4 1 4 1 4 1 4 1 1 1 1 1 2 1 4 1\n",
      " 2 4 1 1 1 1 3 1 1 1 1 1 1 1 1 1 1 1 4 4 1 1 1 1 3 1 1 1 1 4 1 1 1 1 1 1 1\n",
      " 1 1 2 1 1 1 1 1 1 4 1 1 2 1 1 1 1 1 1 1 1 1 1 1 1 1 1 3 4 1 2 1 1 3 1 3 1\n",
      " 4 1 1 1 1 1 1 1 1 1 3 1 1 1 1 1 1 1 1 1 1 1 1 1 4 1 1 1 1 4 1 4 1 1 1 1 1\n",
      " 1 1 1 3 1 1 3 2 4 1 1 1 1 1 1 4 1 1 1 1 1 1 1 1 1 1 1 1 1 1 1 1 1 4 1 1 1\n",
      " 1 1 3 1 1 1 1 1 1 2 1 1 1 1 1 1 1 1 1 1 1 1 1 1 3 1 1 1 4 1 1 1 1 4 1 1 1\n",
      " 1 1 1 1 1 1 1 4 1 1 4 2 4 1 4 1 4 1 1 1 1 3 1 3 1 1 1 1 1 1 1 1 1 2 1 1 1\n",
      " 1]\n"
     ]
    }
   ],
   "source": [
    "test: object = transformators_test.label\n",
    "pred: object = clf.predict(transformators_test)\n",
    "print(f\"Prediction: {pred}\")"
   ],
   "metadata": {
    "collapsed": false,
    "pycharm": {
     "name": "#%%\n"
    }
   }
  },
  {
   "cell_type": "code",
   "execution_count": 32,
   "outputs": [
    {
     "name": "stdout",
     "output_type": "stream",
     "text": [
      "1.0\n",
      "              precision    recall  f1-score   support\n",
      "\n",
      "           1       1.00      1.00      1.00       510\n",
      "           2       1.00      1.00      1.00        24\n",
      "           3       1.00      1.00      1.00        32\n",
      "           4       1.00      1.00      1.00        64\n",
      "\n",
      "    accuracy                           1.00       630\n",
      "   macro avg       1.00      1.00      1.00       630\n",
      "weighted avg       1.00      1.00      1.00       630\n",
      "\n"
     ]
    }
   ],
   "source": [
    "y_true = transformators_test.label\n",
    "y_pred = clf.predict(transformators_test)\n",
    "\n",
    "print(accuracy_score(y_true, y_pred, normalize=True))\n",
    "print(classification_report(y_true, y_pred))"
   ],
   "metadata": {
    "collapsed": false,
    "pycharm": {
     "name": "#%%\n"
    }
   }
  },
  {
   "cell_type": "markdown",
   "source": [
    "## 6. Выполните подбор гиперпараметров модели"
   ],
   "metadata": {
    "collapsed": false,
    "pycharm": {
     "name": "#%% md\n"
    }
   }
  },
  {
   "cell_type": "code",
   "execution_count": 33,
   "outputs": [
    {
     "name": "stdout",
     "output_type": "stream",
     "text": [
      "GridSearchCV(cv=5, estimator=DecisionTreeClassifier(),\n",
      "             param_grid={'criterion': ['gini', 'entropy'],\n",
      "                         'max_depth': [0, 10, 20, 30, 40, 50, 60, 70, 80, 90,\n",
      "                                       100, 110, 120, 130, 140],\n",
      "                         'min_samples_leaf': [0, 3, 6, 9, 12],\n",
      "                         'min_samples_split': [0, 2, 4, 6, 8]})\n"
     ]
    }
   ],
   "source": [
    "parameters: dict[str, Union[list[str], list[int]]] = {\n",
    "    'criterion':['gini','entropy'],\n",
    "    'max_depth':[x for x in range(0,150,10)],\n",
    "    'min_samples_split': [x for x in range(0,10,2)],\n",
    "    'min_samples_leaf': [x for x in range(0,15,3)]\n",
    "}\n",
    "grid: GridSearchCV = GridSearchCV(\n",
    "    DecisionTreeClassifier(),\n",
    "    parameters,\n",
    "    cv=5\n",
    ")\n",
    "gs_result: Union[GridSearchCV, Any] = grid.fit(transformators_train, transformators_train.label)\n",
    "print(gs_result)"
   ],
   "metadata": {
    "collapsed": false,
    "pycharm": {
     "name": "#%%\n"
    }
   }
  },
  {
   "cell_type": "markdown",
   "source": [
    "## 7. Заново обучите модель с подобранными гиперпараметрами"
   ],
   "metadata": {
    "collapsed": false,
    "pycharm": {
     "name": "#%% md\n"
    }
   }
  },
  {
   "cell_type": "code",
   "execution_count": 34,
   "outputs": [
    {
     "name": "stdout",
     "output_type": "stream",
     "text": [
      "{'criterion': 'gini', 'max_depth': 10, 'min_samples_leaf': 3, 'min_samples_split': 2}\n",
      "1.0\n",
      "[1 4 1 1 1 4 1 3 1 1 1 1 1 1 2 1 1 1 1 1 1 1 3 1 1 1 4 1 1 2 1 4 1 1 4 1 4\n",
      " 3 1 1 4 1 3 1 1 2 1 1 1 4 1 1 1 1 1 1 1 1 2 1 1 4 1 1 1 3 1 1 1 2 1 1 1 1\n",
      " 1 1 1 1 1 1 4 1 1 1 1 1 1 1 1 1 1 4 1 1 1 1 1 1 1 1 1 1 1 1 1 1 1 1 2 1 1\n",
      " 1 1 1 1 3 1 1 4 1 1 1 1 1 1 1 1 1 1 1 1 1 4 1 2 1 1 3 1 1 1 2 4 1 1 1 1 1\n",
      " 1 3 1 1 1 2 1 1 1 1 1 4 1 1 1 1 1 1 1 1 1 4 1 1 1 3 1 1 1 1 1 1 1 1 1 4 1\n",
      " 4 1 1 3 1 1 1 1 1 1 1 4 1 1 1 1 1 1 1 1 1 1 1 1 1 2 4 1 1 1 1 1 1 1 3 2 4\n",
      " 4 1 1 1 1 1 1 1 1 4 1 1 1 1 1 1 1 4 1 3 1 1 1 3 1 1 1 4 4 4 1 1 1 1 3 1 1\n",
      " 1 1 1 1 1 1 1 1 4 1 1 1 1 1 1 1 1 1 3 1 1 1 3 1 4 1 4 1 3 1 1 1 4 1 1 1 1\n",
      " 1 1 1 3 1 1 1 1 1 1 1 1 1 1 1 1 1 4 1 1 4 1 4 1 1 1 1 1 1 1 1 1 1 1 1 1 2\n",
      " 3 1 1 4 4 1 2 1 1 1 1 1 1 1 1 1 2 3 1 1 1 1 1 1 1 1 1 1 1 4 1 1 1 1 1 1 1\n",
      " 1 1 1 1 2 1 1 1 1 4 1 1 4 1 1 1 1 1 1 1 1 4 1 4 1 4 1 4 1 1 1 1 1 2 1 4 1\n",
      " 2 4 1 1 1 1 3 1 1 1 1 1 1 1 1 1 1 1 4 4 1 1 1 1 3 1 1 1 1 4 1 1 1 1 1 1 1\n",
      " 1 1 2 1 1 1 1 1 1 4 1 1 2 1 1 1 1 1 1 1 1 1 1 1 1 1 1 3 4 1 2 1 1 3 1 3 1\n",
      " 4 1 1 1 1 1 1 1 1 1 3 1 1 1 1 1 1 1 1 1 1 1 1 1 4 1 1 1 1 4 1 4 1 1 1 1 1\n",
      " 1 1 1 3 1 1 3 2 4 1 1 1 1 1 1 4 1 1 1 1 1 1 1 1 1 1 1 1 1 1 1 1 1 4 1 1 1\n",
      " 1 1 3 1 1 1 1 1 1 2 1 1 1 1 1 1 1 1 1 1 1 1 1 1 3 1 1 1 4 1 1 1 1 4 1 1 1\n",
      " 1 1 1 1 1 1 1 4 1 1 4 2 4 1 4 1 4 1 1 1 1 3 1 3 1 1 1 1 1 1 1 1 1 2 1 1 1\n",
      " 1]\n",
      "1.0\n"
     ]
    }
   ],
   "source": [
    "print(gs_result.best_params_)\n",
    "print(gs_result.best_score_)\n",
    "print(gs_result.predict(transformators_test))\n",
    "\n",
    "y_true = transformators_test.label\n",
    "y_pred = gs_result.predict(transformators_test)\n",
    "print(accuracy_score(test, pred, normalize=True))"
   ],
   "metadata": {
    "collapsed": false,
    "pycharm": {
     "name": "#%%\n"
    }
   }
  },
  {
   "cell_type": "markdown",
   "source": [
    "## 8. Постройте итоговое дерево классификации"
   ],
   "metadata": {
    "collapsed": false
   }
  },
  {
   "cell_type": "code",
   "execution_count": 35,
   "outputs": [
    {
     "name": "stdout",
     "output_type": "stream",
     "text": [
      "None\n"
     ]
    },
    {
     "data": {
      "text/plain": "[Text(133.92000000000002, 190.26, 'X[4] <= 1.5\\ngini = 0.326\\nsamples = 1470\\nvalue = [1195, 65, 81, 129]'),\n Text(66.96000000000001, 135.9, 'gini = 0.0\\nsamples = 1195\\nvalue = [1195, 0, 0, 0]'),\n Text(200.88000000000002, 135.9, 'X[4] <= 3.5\\ngini = 0.637\\nsamples = 275\\nvalue = [0, 65, 81, 129]'),\n Text(133.92000000000002, 81.53999999999999, 'X[4] <= 2.5\\ngini = 0.494\\nsamples = 146\\nvalue = [0, 65, 81, 0]'),\n Text(66.96000000000001, 27.180000000000007, 'gini = 0.0\\nsamples = 65\\nvalue = [0, 65, 0, 0]'),\n Text(200.88000000000002, 27.180000000000007, 'gini = 0.0\\nsamples = 81\\nvalue = [0, 0, 81, 0]'),\n Text(267.84000000000003, 81.53999999999999, 'gini = 0.0\\nsamples = 129\\nvalue = [0, 0, 0, 129]')]"
     },
     "execution_count": 35,
     "metadata": {},
     "output_type": "execute_result"
    },
    {
     "data": {
      "text/plain": "<Figure size 432x288 with 1 Axes>",
      "image/png": "[encoded data removed]"
     },
     "metadata": {
      "needs_background": "light"
     },
     "output_type": "display_data"
    }
   ],
   "source": [
    "graph = export_graphviz(\n",
    "    clf,\n",
    "    out_file =  \"data/transformators.dot\",\n",
    "    filled = True,\n",
    "    rounded = True\n",
    ")\n",
    "print(graph)\n",
    "tree.plot_tree(clf)"
   ],
   "metadata": {
    "collapsed": false,
    "pycharm": {
     "name": "#%%\n"
    }
   }
  },
  {
   "cell_type": "markdown",
   "source": [
    "## 9. Разбейте данные для регрессии"
   ],
   "metadata": {
    "collapsed": false
   }
  },
  {
   "cell_type": "code",
   "execution_count": 36,
   "outputs": [],
   "source": [
    "regression_train, regression_test = train_test_split(regression, test_size=0.3, train_size=0.7)"
   ],
   "metadata": {
    "collapsed": false,
    "pycharm": {
     "name": "#%%\n"
    }
   }
  },
  {
   "cell_type": "markdown",
   "source": [
    "## 10. Примените алгоритм дерева регрессии\n"
   ],
   "metadata": {
    "collapsed": false,
    "pycharm": {
     "name": "#%% md\n"
    }
   }
  },
  {
   "cell_type": "code",
   "execution_count": 37,
   "outputs": [
    {
     "data": {
      "text/plain": "DecisionTreeRegressor()"
     },
     "execution_count": 37,
     "metadata": {},
     "output_type": "execute_result"
    }
   ],
   "source": [
    "clf: DecisionTreeRegressor = DecisionTreeRegressor()\n",
    "clf.fit(regression_train, regression_train.label)"
   ],
   "metadata": {
    "collapsed": false,
    "pycharm": {
     "name": "#%%\n"
    }
   }
  },
  {
   "cell_type": "markdown",
   "source": [
    "## 11. Сделайте предсказание на тестовой выборке"
   ],
   "metadata": {
    "collapsed": false,
    "pycharm": {
     "name": "#%% md\n"
    }
   }
  },
  {
   "cell_type": "code",
   "execution_count": 38,
   "outputs": [
    {
     "name": "stdout",
     "output_type": "stream",
     "text": [
      "Prediction: [1093. 1093.  761.  771. 1093. 1093.  408.  497. 1093. 1093. 1051.  551.\n",
      " 1093.  866. 1093. 1093.  473.  553.  752. 1093.  468.  519.  672.  574.\n",
      " 1093.  509. 1093.  765.  526. 1093. 1093.  570.  761.  484.  515.  670.\n",
      "  895. 1093. 1093.  507. 1093.  795. 1093.  511. 1093.  454. 1093. 1093.\n",
      "  505.  751.  704.  504. 1093.  685.  608. 1093.  770.  870. 1093. 1093.\n",
      "  642.  827.  571. 1093.  456.  756. 1093.  487.  552.  895.  591.  670.\n",
      " 1093.  707. 1093.  632. 1093.  503.  692.  583.  867.  486. 1093.  711.\n",
      "  672.  648.  550.  670. 1093. 1093.  907.  430.  884.  672. 1093.  791.\n",
      "  430.  715. 1093. 1093. 1093.  507.  572.  844.  725. 1093.  700. 1093.\n",
      "  826. 1093.  388.  727. 1093.  768. 1093. 1093.  673.  808.  642.  600.\n",
      "  462.  595.  882. 1093.  443.  880. 1093.  908.  723.  529. 1093.  482.\n",
      "  543. 1093.  662. 1093. 1093. 1093.  438. 1051.  812.  542. 1082.  794.\n",
      " 1093.  501.  731.  605.  408. 1093. 1093.  462.  522. 1093. 1093. 1093.\n",
      " 1093. 1093. 1093.  682.  780. 1093.  810.  595.  840. 1093.  727.  594.\n",
      "  563. 1093.  524. 1093. 1093.  516. 1093.  584.  537.  624.  653.  434.\n",
      "  562.  562.  790.  577. 1093.  704.  546. 1093. 1093.  581.  870. 1093.\n",
      "  784.  545.  479.  732.  711.  554.  826.  862. 1093.  742.  807.  742.\n",
      "  550. 1093. 1093. 1093. 1093. 1051. 1093.  505. 1093. 1093.  567.  727.\n",
      "  886. 1093.  503.  464.  752. 1093.  603.  498.  856.  742.  541. 1093.\n",
      " 1093.  759. 1093.  856.  362. 1093. 1093.  477.  475. 1093.  504. 1093.\n",
      " 1093. 1093. 1093.  550. 1093.  756.  642. 1093. 1093.  801.  482. 1093.\n",
      "  800. 1093.  606.  746.  856. 1093.  430. 1093.  562.  508.  666.  586.\n",
      "  540.  639.  878.  780.  633. 1093.  537.  495. 1093.  697. 1093.  525.\n",
      "  847. 1093. 1093.  653.  450. 1093.  539.  756.  491.  820. 1058.  738.\n",
      "  456.  598. 1093.  494.  477.  612. 1093.  744.  528.  501. 1093. 1093.\n",
      "  539.  510.  473. 1093.  738.  796.  519. 1093.  812.  498.  850. 1093.\n",
      " 1093. 1093. 1093. 1093.  580.  445. 1093. 1093.  717. 1093.  508.  522.\n",
      "  484.  597.  709.  495.  895.  661.  818.  605. 1093.  789.  594.  530.\n",
      "  842.  821. 1093.  488.  832.  785.  491.  566.  547.  764.  714.  810.\n",
      "  895. 1093.  824. 1093. 1093. 1093. 1093. 1093. 1093.  600. 1093. 1093.\n",
      "  485.  520. 1093. 1093.  516.  467. 1093.  477.  871.  491.  534. 1093.\n",
      "  516.  750.  714.  450.  540. 1093. 1093.  827.  485.  768. 1093.  821.\n",
      "  727.  962.  515. 1093. 1093. 1093. 1093.  824. 1093. 1093.  840.  509.\n",
      "  517.  614. 1093.  477.  562.  533. 1093. 1093. 1093.  725.  513.  506.\n",
      "  812.  584. 1093.  549. 1093.  684.  495.  520.  782.  507.  612.  781.\n",
      " 1093.  761.  507. 1093.  652. 1093. 1093. 1093.  907.  687.  758.  666.\n",
      "  669.  826.  609.  426. 1093. 1093.  620.  579.  625.  565.  495.  754.\n",
      "  647. 1093. 1093.  440.  589.  637. 1093.  808.  600. 1093.  969.  616.\n",
      " 1093.  716.  559. 1093. 1093. 1093.  552.  533. 1093. 1093.  457. 1093.\n",
      "  512.  781. 1093.  526. 1093.  570.  498.  927. 1093.  421. 1093. 1093.\n",
      " 1068.  752. 1093.  438. 1093. 1093.  510.  596.  499.  815.  477. 1093.\n",
      "  495. 1093.  618. 1093. 1093.  637.  646. 1093.  450.  633.  669. 1093.\n",
      "  734.  486.  786.  759. 1093.  790. 1093. 1093.  673. 1093.  550.  548.\n",
      "  459.  511.  802. 1093.  521.  502. 1093.  834. 1093.  802. 1093.  789.\n",
      "  514.  880.  546.  567. 1093.  482. 1093. 1093.  482.  642.  830. 1093.\n",
      "  717.  794.  477.  580. 1093. 1093.  591.  514.  789.  388.  531.  477.\n",
      "  717. 1093. 1093.  619.  565.  560. 1093. 1093.  602. 1093.  503.  515.\n",
      "  759.  734. 1093.  554. 1093. 1093.  535.  633.  522.  858. 1093.  721.\n",
      " 1093.  567.  523.  682. 1093.  780.  494.  683. 1093. 1093.  577.  820.\n",
      "  773.  762.  491. 1093.  498.  567. 1093.  512. 1093.  832.  515.  514.\n",
      "  882.  878.  756.  450.  458. 1093.  810. 1093.  538. 1093. 1093.  611.\n",
      "  600.  670.  764. 1093.  633. 1093. 1093.  558.  464. 1093.  498.  759.\n",
      "  808.  454. 1093.  526.  847.  565.]\n",
      "r2_score: 1.0\n",
      "mean_absolute_error: 0.563\n"
     ]
    }
   ],
   "source": [
    "test: object = regression_test.label\n",
    "pred: object = clf.predict(regression_test)\n",
    "print(f\"Prediction: {pred}\")\n",
    "print(f\"r2_score: {round(r2_score(test, pred), 3)}\")\n",
    "print(f\"mean_absolute_error: {round(mean_absolute_error(test, pred), 3)}\")"
   ],
   "metadata": {
    "collapsed": false,
    "pycharm": {
     "name": "#%%\n"
    }
   }
  },
  {
   "cell_type": "markdown",
   "source": [
    "## 12. Выполните подбор гиперпараметров модели"
   ],
   "metadata": {
    "collapsed": false,
    "pycharm": {
     "name": "#%% md\n"
    }
   }
  },
  {
   "cell_type": "code",
   "execution_count": 39,
   "outputs": [
    {
     "name": "stdout",
     "output_type": "stream",
     "text": [
      "GridSearchCV(cv=5, estimator=DecisionTreeRegressor(),\n",
      "             param_grid={'max_depth': array([1, 2, 3, 4, 5, 6, 7, 8, 9]),\n",
      "                         'min_samples_leaf': array([1, 2, 3, 4]),\n",
      "                         'min_samples_split': array([2, 3, 4, 5, 6, 7, 8, 9]),\n",
      "                         'splitter': ('best', 'random')})\n"
     ]
    }
   ],
   "source": [
    "parameters = {\n",
    "    'splitter':('best','random'),\n",
    "    'max_depth': arange(1,10),\n",
    "    'min_samples_split': arange(2,10),\n",
    "    'min_samples_leaf': arange(1,5)\n",
    "}\n",
    "grid: GridSearchCV = GridSearchCV(\n",
    "    DecisionTreeRegressor(),\n",
    "    parameters,\n",
    "    cv=5\n",
    ")\n",
    "gs_result: Union[GridSearchCV, Any] = grid.fit(regression_train, regression_train.label)\n",
    "print(gs_result)"
   ],
   "metadata": {
    "collapsed": false,
    "pycharm": {
     "name": "#%%\n"
    }
   }
  },
  {
   "cell_type": "markdown",
   "source": [
    "## 13. Заново обучите модель с подобранными гиперпараметрам"
   ],
   "metadata": {
    "collapsed": false,
    "pycharm": {
     "name": "#%% md\n"
    }
   }
  },
  {
   "cell_type": "code",
   "execution_count": 40,
   "outputs": [
    {
     "name": "stdout",
     "output_type": "stream",
     "text": [
      "{'max_depth': 9, 'min_samples_leaf': 1, 'min_samples_split': 3, 'splitter': 'best'}\n",
      "0.9999370840598303\n",
      "[1093.         1093.          761.          770.5        1093.\n",
      " 1093.          408.          497.         1093.         1093.\n",
      " 1005.          551.         1093.          866.5        1093.\n",
      " 1093.          473.          552.25        750.5        1093.\n",
      "  467.2         519.25        671.5         573.5        1093.\n",
      "  509.6        1093.          764.28571429  525.375      1093.\n",
      " 1093.          570.2         761.          483.33333333  514.66666667\n",
      "  669.66666667  895.         1093.         1093.          507.75\n",
      " 1093.          795.         1093.          511.         1093.\n",
      "  453.5        1093.         1093.          505.44444444  750.5\n",
      "  704.          504.         1093.          686.          608.6\n",
      " 1093.          770.5         871.         1093.         1093.\n",
      "  642.          826.5         570.2        1093.          456.\n",
      "  755.25       1093.          487.6         552.25        895.\n",
      "  591.          669.66666667 1093.          707.         1093.\n",
      "  632.         1093.          502.45454545  692.          583.44444444\n",
      "  866.5         485.25       1093.          711.          671.5\n",
      "  647.5         549.25        669.66666667 1093.         1093.\n",
      "  911.5         430.          884.          671.5        1093.\n",
      "  791.          430.          715.         1093.         1093.\n",
      " 1093.          507.75        572.          843.33333333  725.\n",
      " 1093.          699.66666667 1093.          826.5        1093.\n",
      "  386.          727.83333333 1093.          767.         1093.\n",
      " 1093.          673.          807.5         642.          600.33333333\n",
      "  464.          595.66666667  882.         1093.          443.8\n",
      "  882.         1093.          907.5         723.5         529.5\n",
      " 1093.          481.6         543.         1093.          663.\n",
      " 1093.         1093.         1093.          436.         1054.5\n",
      "  813.25        542.         1082.          793.5        1093.\n",
      "  500.8         732.          606.5         408.         1093.\n",
      " 1093.          462.          521.         1093.         1093.\n",
      " 1093.         1093.         1093.         1093.          681.5\n",
      "  781.         1093.          810.          595.66666667  839.\n",
      " 1093.          727.83333333  592.5         563.         1093.\n",
      "  525.375      1093.         1093.          516.         1093.\n",
      "  583.44444444  537.          623.          652.5         436.\n",
      "  562.          562.          790.          576.8        1093.\n",
      "  704.          546.42857143 1093.         1093.          581.\n",
      "  870.         1093.          783.66666667  545.          479.\n",
      "  732.          711.          554.75        826.5         861.5\n",
      " 1093.          742.          807.5         742.          549.25\n",
      " 1093.         1093.         1093.         1093.         1005.\n",
      " 1093.          505.44444444 1093.         1093.          567.\n",
      "  727.83333333  886.66666667 1093.          502.45454545  462.\n",
      "  752.         1093.          603.          498.6         855.\n",
      "  742.          541.         1093.         1093.          759.\n",
      " 1093.          855.          386.         1093.         1093.\n",
      "  477.          475.         1093.          504.         1093.\n",
      " 1093.         1093.         1093.          549.25       1093.\n",
      "  755.25        642.         1093.         1093.          801.\n",
      "  481.6        1093.          800.         1093.          605.\n",
      "  745.5         855.         1093.          430.         1093.\n",
      "  562.          507.75        665.66666667  585.6         539.2\n",
      "  636.125       878.          781.          633.         1093.\n",
      "  537.          495.25       1093.          697.         1093.\n",
      "  524.          847.         1093.         1093.          652.5\n",
      "  449.5        1093.          539.2         755.25        491.25\n",
      "  820.         1054.5         738.33333333  456.          598.6\n",
      " 1093.          494.          477.          612.         1093.\n",
      "  743.6         527.63636364  500.8        1093.         1093.\n",
      "  539.2         509.6         471.66666667 1093.          738.33333333\n",
      "  796.5         519.25       1093.          813.25        498.6\n",
      "  850.         1093.         1093.         1093.         1093.\n",
      " 1093.          579.75        443.8        1093.         1093.\n",
      "  717.         1093.          507.75        521.          483.33333333\n",
      "  597.          709.          495.25        895.          661.33333333\n",
      "  815.          606.5        1093.          789.          594.\n",
      "  529.5         842.          821.25       1093.          487.6\n",
      "  831.5         785.5         491.25        565.          546.42857143\n",
      "  764.28571429  714.          810.          895.         1093.\n",
      "  824.         1093.         1093.         1093.         1093.\n",
      " 1093.         1093.          600.33333333 1093.         1093.\n",
      "  485.25        519.25       1093.         1093.          516.\n",
      "  467.2        1093.          477.          870.          491.25\n",
      "  534.         1093.          516.          752.          714.\n",
      "  449.5         539.2        1093.         1093.          826.5\n",
      "  485.25        767.         1093.          821.25        727.83333333\n",
      "  965.5         514.66666667 1093.         1093.         1093.\n",
      " 1093.          824.         1093.         1093.          840.\n",
      "  509.6         517.75        614.75       1093.          477.\n",
      "  562.          533.         1093.         1093.         1093.\n",
      "  725.          512.5         505.44444444  813.25        583.44444444\n",
      " 1093.          549.25       1093.          684.          495.25\n",
      "  519.25        781.          507.75        612.          781.\n",
      " 1093.          761.          507.75       1093.          652.5\n",
      " 1093.         1093.         1093.          907.5         686.\n",
      "  758.          665.66666667  669.66666667  826.5         608.6\n",
      "  425.5        1093.         1093.          620.          579.75\n",
      "  624.33333333  565.          495.25        753.75        647.5\n",
      " 1093.         1093.          440.66666667  589.42857143  635.\n",
      " 1093.          807.5         600.33333333 1093.          965.5\n",
      "  616.33333333 1093.          716.          558.33333333 1093.\n",
      " 1093.         1093.          552.25        531.5        1093.\n",
      " 1093.          457.75       1093.          512.5         781.\n",
      " 1093.          524.         1093.          570.2         498.6\n",
      "  927.5        1093.          421.66666667 1093.         1093.\n",
      " 1071.          750.5        1093.          436.         1093.\n",
      " 1093.          509.6         595.66666667  498.6         817.5\n",
      "  477.         1093.          495.25       1093.          618.5\n",
      " 1093.         1093.          639.          646.         1093.\n",
      "  449.5         633.          669.66666667 1093.          735.5\n",
      "  485.25        785.5         759.         1093.          790.\n",
      " 1093.         1093.          673.         1093.          549.25\n",
      "  548.          459.5         511.          802.         1093.\n",
      "  522.25        502.45454545 1093.          833.5        1093.\n",
      "  802.         1093.          789.          514.66666667  882.\n",
      "  546.42857143  567.         1093.          481.6        1093.\n",
      " 1093.          481.6         642.          830.         1093.\n",
      "  717.          793.5         477.          579.75       1093.\n",
      " 1093.          591.          514.66666667  789.          386.\n",
      "  533.          477.          717.         1093.         1093.\n",
      "  618.5         566.          560.5        1093.         1093.\n",
      "  602.         1093.          502.45454545  514.66666667  759.\n",
      "  735.5        1093.          554.75       1093.         1093.\n",
      "  535.          634.          522.25        858.         1093.\n",
      "  720.4        1093.          567.          522.25        681.5\n",
      " 1093.          781.          494.          683.         1093.\n",
      " 1093.          576.8         820.          772.6         762.\n",
      "  491.25       1093.          498.6         567.         1093.\n",
      "  512.5        1093.          831.5         514.66666667  514.66666667\n",
      "  882.          878.          755.25        449.5         457.75\n",
      " 1093.          810.         1093.          538.         1093.\n",
      " 1093.          610.8         600.33333333  669.66666667  764.28571429\n",
      " 1093.          633.         1093.         1093.          558.33333333\n",
      "  462.         1093.          498.6         759.          807.5\n",
      "  456.         1093.          525.375       847.          565.        ]\n",
      "r2_score: 1.0\n",
      "mean_absolute_error: 0.661\n"
     ]
    }
   ],
   "source": [
    "print(gs_result.best_params_)\n",
    "print(gs_result.best_score_)\n",
    "print(gs_result.predict(regression_test))\n",
    "pred: object = gs_result.predict(regression_test)\n",
    "print(f\"r2_score: {round(r2_score(test, pred), 3)}\")\n",
    "print(f\"mean_absolute_error: {round(mean_absolute_error(test, pred), 3)}\")"
   ],
   "metadata": {
    "collapsed": false,
    "pycharm": {
     "name": "#%%\n"
    }
   }
  },
  {
   "cell_type": "markdown",
   "source": [
    "## 14. Постройте итоговое дерево регрессии"
   ],
   "metadata": {
    "collapsed": false,
    "pycharm": {
     "name": "#%% md\n"
    }
   }
  },
  {
   "cell_type": "code",
   "execution_count": 41,
   "outputs": [
    {
     "name": "stdout",
     "output_type": "stream",
     "text": [
      "None\n"
     ]
    },
    {
     "data": {
      "text/plain": "[Text(230.95775, 208.38, 'X[4] <= 832.5\\nmse = 58761.192\\nsamples = 1470\\nvalue = 791.88'),\n Text(142.90225, 190.26, 'X[4] <= 630.5\\nmse = 12131.46\\nsamples = 868\\nvalue = 607.68'),\n Text(72.51675, 172.14, 'X[4] <= 533.5\\nmse = 2650.656\\nsamples = 534\\nvalue = 531.749'),\n Text(32.922, 154.01999999999998, 'X[4] <= 478.0\\nmse = 938.484\\nsamples = 277\\nvalue = 490.661'),\n Text(12.028, 135.89999999999998, 'X[4] <= 439.0\\nmse = 555.719\\nsamples = 76\\nvalue = 450.066'),\n Text(2.914, 117.77999999999999, 'X[4] <= 398.0\\nmse = 362.997\\nsamples = 19\\nvalue = 416.947'),\n Text(0.992, 99.66, 'X[1] <= 0.018\\nmse = 130.667\\nsamples = 3\\nvalue = 378.0'),\n Text(0.496, 81.53999999999999, 'mse = 0.0\\nsamples = 1\\nvalue = 362.0'),\n Text(1.488, 81.53999999999999, 'X[4] <= 386.0\\nmse = 4.0\\nsamples = 2\\nvalue = 386.0'),\n Text(0.992, 63.41999999999999, 'mse = 0.0\\nsamples = 1\\nvalue = 384.0'),\n Text(1.984, 63.41999999999999, 'mse = 0.0\\nsamples = 1\\nvalue = 388.0'),\n Text(4.836, 99.66, 'X[4] <= 417.0\\nmse = 68.812\\nsamples = 16\\nvalue = 424.25'),\n Text(3.472, 81.53999999999999, 'X[1] <= 0.037\\nmse = 5.556\\nsamples = 3\\nvalue = 409.667'),\n Text(2.976, 63.41999999999999, 'mse = 0.0\\nsamples = 2\\nvalue = 408.0'),\n Text(3.968, 63.41999999999999, 'mse = 0.0\\nsamples = 1\\nvalue = 413.0'),\n Text(6.2, 81.53999999999999, 'X[4] <= 428.0\\nmse = 23.006\\nsamples = 13\\nvalue = 427.615'),\n Text(4.96, 63.41999999999999, 'X[4] <= 424.0\\nmse = 4.122\\nsamples = 7\\nvalue = 423.857'),\n Text(3.968, 45.29999999999998, 'X[3] <= 0.0\\nmse = 0.889\\nsamples = 3\\nvalue = 421.667'),\n Text(3.472, 27.17999999999998, 'mse = 0.0\\nsamples = 1\\nvalue = 423.0'),\n Text(4.464, 27.17999999999998, 'mse = 0.0\\nsamples = 2\\nvalue = 421.0'),\n Text(5.952, 45.29999999999998, 'X[4] <= 425.5\\nmse = 0.25\\nsamples = 4\\nvalue = 425.5'),\n Text(5.4559999999999995, 27.17999999999998, 'mse = 0.0\\nsamples = 2\\nvalue = 425.0'),\n Text(6.448, 27.17999999999998, 'mse = 0.0\\nsamples = 2\\nvalue = 426.0'),\n Text(7.4399999999999995, 63.41999999999999, 'X[4] <= 432.0\\nmse = 9.333\\nsamples = 6\\nvalue = 432.0'),\n Text(6.944, 45.29999999999998, 'mse = 0.0\\nsamples = 4\\nvalue = 430.0'),\n Text(7.936, 45.29999999999998, 'X[4] <= 436.0\\nmse = 4.0\\nsamples = 2\\nvalue = 436.0'),\n Text(7.4399999999999995, 27.17999999999998, 'mse = 0.0\\nsamples = 1\\nvalue = 434.0'),\n Text(8.432, 27.17999999999998, 'mse = 0.0\\nsamples = 1\\nvalue = 438.0'),\n Text(21.142, 117.77999999999999, 'X[4] <= 461.0\\nmse = 132.48\\nsamples = 57\\nvalue = 461.105'),\n Text(15.996, 99.66, 'X[4] <= 451.5\\nmse = 42.321\\nsamples = 27\\nvalue = 450.444'),\n Text(12.896, 81.53999999999999, 'X[4] <= 446.0\\nmse = 11.109\\nsamples = 16\\nvalue = 445.625'),\n Text(10.911999999999999, 63.41999999999999, 'X[4] <= 442.5\\nmse = 3.234\\nsamples = 8\\nvalue = 442.625'),\n Text(9.92, 45.29999999999998, 'X[0] <= 0.003\\nmse = 0.889\\nsamples = 3\\nvalue = 440.667'),\n Text(9.424, 27.17999999999998, 'mse = 0.0\\nsamples = 2\\nvalue = 440.0'),\n Text(10.416, 27.17999999999998, 'mse = 0.0\\nsamples = 1\\nvalue = 442.0'),\n Text(11.904, 45.29999999999998, 'X[4] <= 444.0\\nmse = 0.96\\nsamples = 5\\nvalue = 443.8'),\n Text(11.408, 27.17999999999998, 'mse = 0.0\\nsamples = 3\\nvalue = 443.0'),\n Text(12.4, 27.17999999999998, 'mse = 0.0\\nsamples = 2\\nvalue = 445.0'),\n Text(14.879999999999999, 63.41999999999999, 'X[4] <= 448.5\\nmse = 0.984\\nsamples = 8\\nvalue = 448.625'),\n Text(13.888, 45.29999999999998, 'X[4] <= 447.5\\nmse = 0.188\\nsamples = 4\\nvalue = 447.75'),\n Text(13.392, 27.17999999999998, 'mse = 0.0\\nsamples = 1\\nvalue = 447.0'),\n Text(14.384, 27.17999999999998, 'mse = 0.0\\nsamples = 3\\nvalue = 448.0'),\n Text(15.872, 45.29999999999998, 'X[4] <= 449.5\\nmse = 0.25\\nsamples = 4\\nvalue = 449.5'),\n Text(15.376, 27.17999999999998, 'mse = 0.0\\nsamples = 2\\nvalue = 449.0'),\n Text(16.368, 27.17999999999998, 'mse = 0.0\\nsamples = 2\\nvalue = 450.0'),\n Text(19.096, 81.53999999999999, 'X[4] <= 456.5\\nmse = 4.793\\nsamples = 11\\nvalue = 457.455'),\n Text(17.36, 63.41999999999999, 'X[1] <= 0.009\\nmse = 1.556\\nsamples = 3\\nvalue = 454.333'),\n Text(16.864, 45.29999999999998, 'mse = 0.0\\nsamples = 1\\nvalue = 456.0'),\n Text(17.856, 45.29999999999998, 'X[1] <= 0.02\\nmse = 0.25\\nsamples = 2\\nvalue = 453.5'),\n Text(17.36, 27.17999999999998, 'mse = 0.0\\nsamples = 1\\nvalue = 453.0'),\n Text(18.352, 27.17999999999998, 'mse = 0.0\\nsamples = 1\\nvalue = 454.0'),\n Text(20.832, 63.41999999999999, 'X[4] <= 458.5\\nmse = 0.984\\nsamples = 8\\nvalue = 458.625'),\n Text(19.84, 45.29999999999998, 'X[4] <= 457.5\\nmse = 0.188\\nsamples = 4\\nvalue = 457.75'),\n Text(19.344, 27.17999999999998, 'mse = 0.0\\nsamples = 1\\nvalue = 457.0'),\n Text(20.336, 27.17999999999998, 'mse = 0.0\\nsamples = 3\\nvalue = 458.0'),\n Text(21.823999999999998, 45.29999999999998, 'X[3] <= 0.0\\nmse = 0.25\\nsamples = 4\\nvalue = 459.5'),\n Text(21.328, 27.17999999999998, 'mse = 0.0\\nsamples = 2\\nvalue = 460.0'),\n Text(22.32, 27.17999999999998, 'mse = 0.0\\nsamples = 2\\nvalue = 459.0'),\n Text(26.288, 99.66, 'X[4] <= 470.5\\nmse = 19.277\\nsamples = 30\\nvalue = 470.7'),\n Text(24.304, 81.53999999999999, 'X[4] <= 465.0\\nmse = 4.427\\nsamples = 15\\nvalue = 466.8'),\n Text(23.312, 63.41999999999999, 'X[1] <= 0.026\\nmse = 0.889\\nsamples = 3\\nvalue = 463.333'),\n Text(22.816, 45.29999999999998, 'mse = 0.0\\nsamples = 1\\nvalue = 462.0'),\n Text(23.808, 45.29999999999998, 'mse = 0.0\\nsamples = 2\\nvalue = 464.0'),\n Text(25.296, 63.41999999999999, 'X[4] <= 469.0\\nmse = 1.556\\nsamples = 12\\nvalue = 467.667'),\n Text(24.8, 45.29999999999998, 'X[4] <= 467.5\\nmse = 0.56\\nsamples = 10\\nvalue = 467.2'),\n Text(24.304, 27.17999999999998, 'X[3] <= 0.0\\nmse = 0.222\\nsamples = 6\\nvalue = 466.667'),\n Text(23.808, 9.059999999999974, 'mse = 0.0\\nsamples = 2\\nvalue = 466.0'),\n Text(24.8, 9.059999999999974, 'mse = 0.0\\nsamples = 4\\nvalue = 467.0'),\n Text(25.296, 27.17999999999998, 'mse = 0.0\\nsamples = 4\\nvalue = 468.0'),\n Text(25.792, 45.29999999999998, 'mse = 0.0\\nsamples = 2\\nvalue = 470.0'),\n Text(28.272, 81.53999999999999, 'X[4] <= 474.0\\nmse = 3.707\\nsamples = 15\\nvalue = 474.6'),\n Text(27.28, 63.41999999999999, 'X[0] <= 0.002\\nmse = 0.56\\nsamples = 5\\nvalue = 472.2'),\n Text(26.784, 45.29999999999998, 'X[4] <= 471.5\\nmse = 0.222\\nsamples = 3\\nvalue = 471.667'),\n Text(26.288, 27.17999999999998, 'mse = 0.0\\nsamples = 1\\nvalue = 471.0'),\n Text(27.28, 27.17999999999998, 'mse = 0.0\\nsamples = 2\\nvalue = 472.0'),\n Text(27.776, 45.29999999999998, 'mse = 0.0\\nsamples = 2\\nvalue = 473.0'),\n Text(29.264, 63.41999999999999, 'X[4] <= 476.0\\nmse = 0.96\\nsamples = 10\\nvalue = 475.8'),\n Text(28.768, 45.29999999999998, 'mse = 0.0\\nsamples = 6\\nvalue = 475.0'),\n Text(29.759999999999998, 45.29999999999998, 'mse = 0.0\\nsamples = 4\\nvalue = 477.0'),\n Text(53.816, 135.89999999999998, 'X[4] <= 506.5\\nmse = 224.507\\nsamples = 201\\nvalue = 506.01'),\n Text(42.346, 117.77999999999999, 'X[4] <= 493.5\\nmse = 65.315\\nsamples = 103\\nvalue = 493.447'),\n Text(36.704, 99.66, 'X[4] <= 486.5\\nmse = 17.513\\nsamples = 53\\nvalue = 486.642'),\n Text(32.984, 81.53999999999999, 'X[4] <= 482.5\\nmse = 2.96\\nsamples = 25\\nvalue = 482.6'),\n Text(31.248, 63.41999999999999, 'X[4] <= 480.0\\nmse = 1.139\\nsamples = 12\\nvalue = 481.167'),\n Text(30.752, 45.29999999999998, 'mse = 0.0\\nsamples = 2\\nvalue = 479.0'),\n Text(31.744, 45.29999999999998, 'X[4] <= 481.5\\nmse = 0.24\\nsamples = 10\\nvalue = 481.6'),\n Text(31.248, 27.17999999999998, 'mse = 0.0\\nsamples = 4\\nvalue = 481.0'),\n Text(32.24, 27.17999999999998, 'mse = 0.0\\nsamples = 6\\nvalue = 482.0'),\n Text(34.72, 63.41999999999999, 'X[4] <= 484.5\\nmse = 0.994\\nsamples = 13\\nvalue = 483.923'),\n Text(33.728, 45.29999999999998, 'X[4] <= 483.5\\nmse = 0.222\\nsamples = 9\\nvalue = 483.333'),\n Text(33.232, 27.17999999999998, 'mse = 0.0\\nsamples = 6\\nvalue = 483.0'),\n Text(34.224, 27.17999999999998, 'mse = 0.0\\nsamples = 3\\nvalue = 484.0'),\n Text(35.712, 45.29999999999998, 'X[3] <= 0.0\\nmse = 0.188\\nsamples = 4\\nvalue = 485.25'),\n Text(35.216, 27.17999999999998, 'mse = 0.0\\nsamples = 3\\nvalue = 485.0'),\n Text(36.208, 27.17999999999998, 'mse = 0.0\\nsamples = 1\\nvalue = 486.0'),\n Text(40.424, 81.53999999999999, 'X[4] <= 490.5\\nmse = 2.902\\nsamples = 28\\nvalue = 490.25'),\n Text(38.688, 63.41999999999999, 'X[4] <= 488.5\\nmse = 1.163\\nsamples = 19\\nvalue = 489.316'),\n Text(37.696, 45.29999999999998, 'X[3] <= 0.0\\nmse = 0.24\\nsamples = 5\\nvalue = 487.6'),\n Text(37.2, 27.17999999999998, 'mse = 0.0\\nsamples = 2\\nvalue = 487.0'),\n Text(38.192, 27.17999999999998, 'mse = 0.0\\nsamples = 3\\nvalue = 488.0'),\n Text(39.68, 45.29999999999998, 'X[1] <= 0.035\\nmse = 0.066\\nsamples = 14\\nvalue = 489.929'),\n Text(39.184, 27.17999999999998, 'mse = 0.0\\nsamples = 13\\nvalue = 490.0'),\n Text(40.176, 27.17999999999998, 'mse = 0.0\\nsamples = 1\\nvalue = 489.0'),\n Text(42.16, 63.41999999999999, 'X[4] <= 492.5\\nmse = 0.84\\nsamples = 9\\nvalue = 492.222'),\n Text(41.664, 45.29999999999998, 'X[1] <= 0.028\\nmse = 0.188\\nsamples = 4\\nvalue = 491.25'),\n Text(41.168, 27.17999999999998, 'mse = 0.0\\nsamples = 3\\nvalue = 491.0'),\n Text(42.16, 27.17999999999998, 'mse = 0.0\\nsamples = 1\\nvalue = 492.0'),\n Text(42.656, 45.29999999999998, 'mse = 0.0\\nsamples = 5\\nvalue = 493.0'),\n Text(47.988, 99.66, 'X[4] <= 499.5\\nmse = 14.864\\nsamples = 50\\nvalue = 500.66'),\n Text(45.136, 81.53999999999999, 'X[4] <= 496.5\\nmse = 3.247\\nsamples = 19\\nvalue = 496.263'),\n Text(44.144, 63.41999999999999, 'X[4] <= 494.5\\nmse = 0.469\\nsamples = 9\\nvalue = 494.556'),\n Text(43.647999999999996, 45.29999999999998, 'mse = 0.0\\nsamples = 5\\nvalue = 494.0'),\n Text(44.64, 45.29999999999998, 'X[2] <= 0.001\\nmse = 0.188\\nsamples = 4\\nvalue = 495.25'),\n Text(44.144, 27.17999999999998, 'mse = 0.0\\nsamples = 1\\nvalue = 496.0'),\n Text(45.136, 27.17999999999998, 'mse = 0.0\\nsamples = 3\\nvalue = 495.0'),\n Text(46.128, 63.41999999999999, 'X[4] <= 497.5\\nmse = 0.76\\nsamples = 10\\nvalue = 497.8'),\n Text(45.632, 45.29999999999998, 'mse = 0.0\\nsamples = 5\\nvalue = 497.0'),\n Text(46.624, 45.29999999999998, 'X[4] <= 498.5\\nmse = 0.24\\nsamples = 5\\nvalue = 498.6'),\n Text(46.128, 27.17999999999998, 'mse = 0.0\\nsamples = 2\\nvalue = 498.0'),\n Text(47.12, 27.17999999999998, 'mse = 0.0\\nsamples = 3\\nvalue = 499.0'),\n Text(50.839999999999996, 81.53999999999999, 'X[4] <= 503.5\\nmse = 2.874\\nsamples = 31\\nvalue = 503.355'),\n Text(49.6, 63.41999999999999, 'X[4] <= 501.5\\nmse = 0.809\\nsamples = 16\\nvalue = 501.938'),\n Text(48.608, 45.29999999999998, 'X[2] <= 0.009\\nmse = 0.16\\nsamples = 5\\nvalue = 500.8'),\n Text(48.112, 27.17999999999998, 'mse = 0.0\\nsamples = 4\\nvalue = 501.0'),\n Text(49.104, 27.17999999999998, 'mse = 0.0\\nsamples = 1\\nvalue = 500.0'),\n Text(50.592, 45.29999999999998, 'X[4] <= 502.5\\nmse = 0.248\\nsamples = 11\\nvalue = 502.455'),\n Text(50.096, 27.17999999999998, 'mse = 0.0\\nsamples = 6\\nvalue = 502.0'),\n Text(51.088, 27.17999999999998, 'mse = 0.0\\nsamples = 5\\nvalue = 503.0'),\n Text(52.08, 63.41999999999999, 'X[4] <= 504.5\\nmse = 0.649\\nsamples = 15\\nvalue = 504.867'),\n Text(51.584, 45.29999999999998, 'mse = 0.0\\nsamples = 6\\nvalue = 504.0'),\n Text(52.576, 45.29999999999998, 'X[4] <= 505.5\\nmse = 0.247\\nsamples = 9\\nvalue = 505.444'),\n Text(52.08, 27.17999999999998, 'mse = 0.0\\nsamples = 5\\nvalue = 505.0'),\n Text(53.072, 27.17999999999998, 'mse = 0.0\\nsamples = 4\\nvalue = 506.0'),\n Text(65.286, 117.77999999999999, 'X[4] <= 520.5\\nmse = 51.577\\nsamples = 98\\nvalue = 519.214'),\n Text(59.519999999999996, 99.66, 'X[4] <= 513.5\\nmse = 13.948\\nsamples = 59\\nvalue = 514.136'),\n Text(56.792, 81.53999999999999, 'X[4] <= 510.5\\nmse = 2.936\\nsamples = 26\\nvalue = 510.423'),\n Text(55.552, 63.41999999999999, 'X[4] <= 508.5\\nmse = 0.923\\nsamples = 14\\nvalue = 509.071'),\n Text(54.56, 45.29999999999998, 'X[4] <= 507.5\\nmse = 0.188\\nsamples = 4\\nvalue = 507.75'),\n Text(54.064, 27.17999999999998, 'mse = 0.0\\nsamples = 1\\nvalue = 507.0'),\n Text(55.056, 27.17999999999998, 'mse = 0.0\\nsamples = 3\\nvalue = 508.0'),\n Text(56.544, 45.29999999999998, 'X[4] <= 509.5\\nmse = 0.24\\nsamples = 10\\nvalue = 509.6'),\n Text(56.048, 27.17999999999998, 'mse = 0.0\\nsamples = 4\\nvalue = 509.0'),\n Text(57.04, 27.17999999999998, 'mse = 0.0\\nsamples = 6\\nvalue = 510.0'),\n Text(58.032, 63.41999999999999, 'X[4] <= 511.5\\nmse = 0.667\\nsamples = 12\\nvalue = 512.0'),\n Text(57.536, 45.29999999999998, 'mse = 0.0\\nsamples = 4\\nvalue = 511.0'),\n Text(58.528, 45.29999999999998, 'X[4] <= 512.5\\nmse = 0.25\\nsamples = 8\\nvalue = 512.5'),\n Text(58.032, 27.17999999999998, 'mse = 0.0\\nsamples = 4\\nvalue = 512.0'),\n Text(59.024, 27.17999999999998, 'mse = 0.0\\nsamples = 4\\nvalue = 513.0'),\n Text(62.248, 81.53999999999999, 'X[4] <= 516.5\\nmse = 3.208\\nsamples = 33\\nvalue = 517.061'),\n Text(61.008, 63.41999999999999, 'X[4] <= 515.5\\nmse = 0.533\\nsamples = 13\\nvalue = 515.077'),\n Text(60.512, 45.29999999999998, 'X[4] <= 514.5\\nmse = 0.222\\nsamples = 9\\nvalue = 514.667'),\n Text(60.016, 27.17999999999998, 'mse = 0.0\\nsamples = 3\\nvalue = 514.0'),\n Text(61.008, 27.17999999999998, 'mse = 0.0\\nsamples = 6\\nvalue = 515.0'),\n Text(61.504, 45.29999999999998, 'mse = 0.0\\nsamples = 4\\nvalue = 516.0'),\n Text(63.488, 63.41999999999999, 'X[4] <= 518.5\\nmse = 0.727\\nsamples = 20\\nvalue = 518.35'),\n Text(62.496, 45.29999999999998, 'X[4] <= 517.5\\nmse = 0.188\\nsamples = 12\\nvalue = 517.75'),\n Text(62.0, 27.17999999999998, 'mse = 0.0\\nsamples = 3\\nvalue = 517.0'),\n Text(62.992, 27.17999999999998, 'mse = 0.0\\nsamples = 9\\nvalue = 518.0'),\n Text(64.48, 45.29999999999998, 'X[4] <= 519.5\\nmse = 0.188\\nsamples = 8\\nvalue = 519.25'),\n Text(63.984, 27.17999999999998, 'mse = 0.0\\nsamples = 6\\nvalue = 519.0'),\n Text(64.976, 27.17999999999998, 'mse = 0.0\\nsamples = 2\\nvalue = 520.0'),\n Text(71.05199999999999, 99.66, 'X[4] <= 526.5\\nmse = 10.451\\nsamples = 39\\nvalue = 526.897'),\n Text(67.952, 81.53999999999999, 'X[4] <= 523.5\\nmse = 2.81\\nsamples = 17\\nvalue = 523.882'),\n Text(66.96, 63.41999999999999, 'X[2] <= 0.008\\nmse = 0.472\\nsamples = 6\\nvalue = 521.833'),\n Text(66.464, 45.29999999999998, 'X[1] <= 0.022\\nmse = 0.188\\nsamples = 4\\nvalue = 522.25'),\n Text(65.968, 27.17999999999998, 'mse = 0.0\\nsamples = 3\\nvalue = 522.0'),\n Text(66.96, 27.17999999999998, 'mse = 0.0\\nsamples = 1\\nvalue = 523.0'),\n Text(67.456, 45.29999999999998, 'mse = 0.0\\nsamples = 2\\nvalue = 521.0'),\n Text(68.944, 63.41999999999999, 'X[4] <= 524.5\\nmse = 0.545\\nsamples = 11\\nvalue = 525.0'),\n Text(68.448, 45.29999999999998, 'mse = 0.0\\nsamples = 3\\nvalue = 524.0'),\n Text(69.44, 45.29999999999998, 'X[4] <= 525.5\\nmse = 0.234\\nsamples = 8\\nvalue = 525.375'),\n Text(68.944, 27.17999999999998, 'mse = 0.0\\nsamples = 5\\nvalue = 525.0'),\n Text(69.93599999999999, 27.17999999999998, 'mse = 0.0\\nsamples = 3\\nvalue = 526.0'),\n Text(74.152, 81.53999999999999, 'X[4] <= 530.5\\nmse = 3.903\\nsamples = 22\\nvalue = 529.227'),\n Text(72.416, 63.41999999999999, 'X[4] <= 528.5\\nmse = 1.031\\nsamples = 17\\nvalue = 528.294'),\n Text(71.424, 45.29999999999998, 'X[4] <= 527.5\\nmse = 0.231\\nsamples = 11\\nvalue = 527.636'),\n Text(70.928, 27.17999999999998, 'mse = 0.0\\nsamples = 4\\nvalue = 527.0'),\n Text(71.92, 27.17999999999998, 'mse = 0.0\\nsamples = 7\\nvalue = 528.0'),\n Text(73.408, 45.29999999999998, 'X[0] <= 0.003\\nmse = 0.25\\nsamples = 6\\nvalue = 529.5'),\n Text(72.912, 27.17999999999998, 'mse = 0.0\\nsamples = 3\\nvalue = 529.0'),\n Text(73.904, 27.17999999999998, 'mse = 0.0\\nsamples = 3\\nvalue = 530.0'),\n Text(75.888, 63.41999999999999, 'X[4] <= 532.5\\nmse = 0.64\\nsamples = 5\\nvalue = 532.4'),\n Text(75.392, 45.29999999999998, 'X[4] <= 531.5\\nmse = 0.25\\nsamples = 2\\nvalue = 531.5'),\n Text(74.896, 27.17999999999998, 'mse = 0.0\\nsamples = 1\\nvalue = 531.0'),\n Text(75.888, 27.17999999999998, 'mse = 0.0\\nsamples = 1\\nvalue = 532.0'),\n Text(76.384, 45.29999999999998, 'mse = 0.0\\nsamples = 3\\nvalue = 533.0'),\n Text(112.11149999999999, 154.01999999999998, 'X[4] <= 575.5\\nmse = 715.186\\nsamples = 257\\nvalue = 576.035'),\n Text(93.62, 135.89999999999998, 'X[4] <= 553.5\\nmse = 148.028\\nsamples = 126\\nvalue = 552.627'),\n Text(84.816, 117.77999999999999, 'X[4] <= 542.5\\nmse = 32.408\\nsamples = 70\\nvalue = 543.143'),\n Text(80.848, 99.66, 'X[4] <= 537.5\\nmse = 6.699\\nsamples = 31\\nvalue = 537.548'),\n Text(78.864, 81.53999999999999, 'X[4] <= 535.5\\nmse = 1.19\\nsamples = 17\\nvalue = 535.529'),\n Text(77.872, 63.41999999999999, 'X[4] <= 534.5\\nmse = 0.25\\nsamples = 8\\nvalue = 534.5'),\n Text(77.376, 45.29999999999998, 'mse = 0.0\\nsamples = 4\\nvalue = 534.0'),\n Text(78.368, 45.29999999999998, 'mse = 0.0\\nsamples = 4\\nvalue = 535.0'),\n Text(79.856, 63.41999999999999, 'X[4] <= 536.5\\nmse = 0.247\\nsamples = 9\\nvalue = 536.444'),\n Text(79.36, 45.29999999999998, 'mse = 0.0\\nsamples = 5\\nvalue = 536.0'),\n Text(80.352, 45.29999999999998, 'mse = 0.0\\nsamples = 4\\nvalue = 537.0'),\n Text(82.832, 81.53999999999999, 'X[4] <= 540.5\\nmse = 2.429\\nsamples = 14\\nvalue = 540.0'),\n Text(81.84, 63.41999999999999, 'X[4] <= 538.5\\nmse = 0.438\\nsamples = 8\\nvalue = 538.75'),\n Text(81.344, 45.29999999999998, 'mse = 0.0\\nsamples = 3\\nvalue = 538.0'),\n Text(82.336, 45.29999999999998, 'X[3] <= 0.0\\nmse = 0.16\\nsamples = 5\\nvalue = 539.2'),\n Text(81.84, 27.17999999999998, 'mse = 0.0\\nsamples = 1\\nvalue = 540.0'),\n Text(82.832, 27.17999999999998, 'mse = 0.0\\nsamples = 4\\nvalue = 539.0'),\n Text(83.824, 63.41999999999999, 'X[2] <= 0.007\\nmse = 0.222\\nsamples = 6\\nvalue = 541.667'),\n Text(83.328, 45.29999999999998, 'mse = 0.0\\nsamples = 4\\nvalue = 542.0'),\n Text(84.32, 45.29999999999998, 'mse = 0.0\\nsamples = 2\\nvalue = 541.0'),\n Text(88.784, 99.66, 'X[4] <= 547.5\\nmse = 8.191\\nsamples = 39\\nvalue = 547.59'),\n Text(86.8, 81.53999999999999, 'X[4] <= 544.5\\nmse = 1.941\\nsamples = 18\\nvalue = 544.944'),\n Text(85.80799999999999, 63.41999999999999, 'X[4] <= 543.5\\nmse = 0.245\\nsamples = 7\\nvalue = 543.429'),\n Text(85.312, 45.29999999999998, 'mse = 0.0\\nsamples = 4\\nvalue = 543.0'),\n Text(86.304, 45.29999999999998, 'mse = 0.0\\nsamples = 3\\nvalue = 544.0'),\n Text(87.792, 63.41999999999999, 'X[4] <= 545.5\\nmse = 0.628\\nsamples = 11\\nvalue = 545.909'),\n Text(87.29599999999999, 45.29999999999998, 'mse = 0.0\\nsamples = 4\\nvalue = 545.0'),\n Text(88.288, 45.29999999999998, 'X[4] <= 546.5\\nmse = 0.245\\nsamples = 7\\nvalue = 546.429'),\n Text(87.792, 27.17999999999998, 'mse = 0.0\\nsamples = 4\\nvalue = 546.0'),\n Text(88.784, 27.17999999999998, 'mse = 0.0\\nsamples = 3\\nvalue = 547.0'),\n Text(90.768, 81.53999999999999, 'X[4] <= 550.5\\nmse = 2.408\\nsamples = 21\\nvalue = 549.857'),\n Text(89.776, 63.41999999999999, 'X[4] <= 548.5\\nmse = 0.485\\nsamples = 13\\nvalue = 548.769'),\n Text(89.28, 45.29999999999998, 'mse = 0.0\\nsamples = 5\\nvalue = 548.0'),\n Text(90.272, 45.29999999999998, 'X[4] <= 549.5\\nmse = 0.188\\nsamples = 8\\nvalue = 549.25'),\n Text(89.776, 27.17999999999998, 'mse = 0.0\\nsamples = 6\\nvalue = 549.0'),\n Text(90.768, 27.17999999999998, 'mse = 0.0\\nsamples = 2\\nvalue = 550.0'),\n Text(91.76, 63.41999999999999, 'X[4] <= 551.5\\nmse = 0.484\\nsamples = 8\\nvalue = 551.625'),\n Text(91.264, 45.29999999999998, 'mse = 0.0\\nsamples = 4\\nvalue = 551.0'),\n Text(92.256, 45.29999999999998, 'X[0] <= 0.002\\nmse = 0.188\\nsamples = 4\\nvalue = 552.25'),\n Text(91.76, 27.17999999999998, 'mse = 0.0\\nsamples = 1\\nvalue = 553.0'),\n Text(92.752, 27.17999999999998, 'mse = 0.0\\nsamples = 3\\nvalue = 552.0'),\n Text(102.42399999999999, 117.77999999999999, 'X[4] <= 564.5\\nmse = 39.571\\nsamples = 56\\nvalue = 564.482'),\n Text(98.208, 99.66, 'X[4] <= 559.5\\nmse = 10.31\\nsamples = 28\\nvalue = 559.107'),\n Text(95.728, 81.53999999999999, 'X[4] <= 556.5\\nmse = 2.062\\nsamples = 17\\nvalue = 556.765'),\n Text(94.736, 63.41999999999999, 'X[1] <= 0.019\\nmse = 0.49\\nsamples = 7\\nvalue = 555.286'),\n Text(94.24, 45.29999999999998, 'X[4] <= 554.5\\nmse = 0.188\\nsamples = 4\\nvalue = 554.75'),\n Text(93.744, 27.17999999999998, 'mse = 0.0\\nsamples = 1\\nvalue = 554.0'),\n Text(94.736, 27.17999999999998, 'mse = 0.0\\nsamples = 3\\nvalue = 555.0'),\n Text(95.232, 45.29999999999998, 'mse = 0.0\\nsamples = 3\\nvalue = 556.0'),\n Text(96.72, 63.41999999999999, 'X[4] <= 557.5\\nmse = 0.56\\nsamples = 10\\nvalue = 557.8'),\n Text(96.224, 45.29999999999998, 'mse = 0.0\\nsamples = 4\\nvalue = 557.0'),\n Text(97.216, 45.29999999999998, 'X[4] <= 558.5\\nmse = 0.222\\nsamples = 6\\nvalue = 558.333'),\n Text(96.72, 27.17999999999998, 'mse = 0.0\\nsamples = 4\\nvalue = 558.0'),\n Text(97.712, 27.17999999999998, 'mse = 0.0\\nsamples = 2\\nvalue = 559.0'),\n Text(100.688, 81.53999999999999, 'X[4] <= 562.5\\nmse = 1.471\\nsamples = 11\\nvalue = 562.727'),\n Text(99.696, 63.41999999999999, 'X[3] <= 0.0\\nmse = 0.667\\nsamples = 3\\nvalue = 561.0'),\n Text(99.2, 45.29999999999998, 'X[1] <= 0.01\\nmse = 0.25\\nsamples = 2\\nvalue = 560.5'),\n Text(98.704, 27.17999999999998, 'mse = 0.0\\nsamples = 1\\nvalue = 561.0'),\n Text(99.696, 27.17999999999998, 'mse = 0.0\\nsamples = 1\\nvalue = 560.0'),\n Text(100.192, 45.29999999999998, 'mse = 0.0\\nsamples = 1\\nvalue = 562.0'),\n Text(101.67999999999999, 63.41999999999999, 'X[4] <= 563.5\\nmse = 0.234\\nsamples = 8\\nvalue = 563.375'),\n Text(101.184, 45.29999999999998, 'mse = 0.0\\nsamples = 5\\nvalue = 563.0'),\n Text(102.176, 45.29999999999998, 'mse = 0.0\\nsamples = 3\\nvalue = 564.0'),\n Text(106.64, 99.66, 'X[4] <= 569.5\\nmse = 11.051\\nsamples = 28\\nvalue = 569.857'),\n Text(104.656, 81.53999999999999, 'X[4] <= 566.5\\nmse = 1.417\\nsamples = 12\\nvalue = 566.5'),\n Text(103.664, 63.41999999999999, 'X[4] <= 565.5\\nmse = 0.25\\nsamples = 6\\nvalue = 565.5'),\n Text(103.168, 45.29999999999998, 'mse = 0.0\\nsamples = 3\\nvalue = 565.0'),\n Text(104.16, 45.29999999999998, 'mse = 0.0\\nsamples = 3\\nvalue = 566.0'),\n Text(105.648, 63.41999999999999, 'X[2] <= 0.004\\nmse = 0.583\\nsamples = 6\\nvalue = 567.5'),\n Text(105.152, 45.29999999999998, 'X[3] <= 0.0\\nmse = 0.25\\nsamples = 2\\nvalue = 568.5'),\n Text(104.656, 27.17999999999998, 'mse = 0.0\\nsamples = 1\\nvalue = 569.0'),\n Text(105.648, 27.17999999999998, 'mse = 0.0\\nsamples = 1\\nvalue = 568.0'),\n Text(106.144, 45.29999999999998, 'mse = 0.0\\nsamples = 4\\nvalue = 567.0'),\n Text(108.624, 81.53999999999999, 'X[4] <= 572.5\\nmse = 3.484\\nsamples = 16\\nvalue = 572.375'),\n Text(107.632, 63.41999999999999, 'X[4] <= 571.5\\nmse = 0.89\\nsamples = 10\\nvalue = 571.1'),\n Text(107.136, 45.29999999999998, 'X[3] <= 0.0\\nmse = 0.16\\nsamples = 5\\nvalue = 570.2'),\n Text(106.64, 27.17999999999998, 'mse = 0.0\\nsamples = 1\\nvalue = 571.0'),\n Text(107.632, 27.17999999999998, 'mse = 0.0\\nsamples = 4\\nvalue = 570.0'),\n Text(108.128, 45.29999999999998, 'mse = 0.0\\nsamples = 5\\nvalue = 572.0'),\n Text(109.616, 63.41999999999999, 'X[4] <= 574.5\\nmse = 0.583\\nsamples = 6\\nvalue = 574.5'),\n Text(109.12, 45.29999999999998, 'X[1] <= 0.008\\nmse = 0.25\\nsamples = 2\\nvalue = 573.5'),\n Text(108.624, 27.17999999999998, 'mse = 0.0\\nsamples = 1\\nvalue = 573.0'),\n Text(109.616, 27.17999999999998, 'mse = 0.0\\nsamples = 1\\nvalue = 574.0'),\n Text(110.112, 45.29999999999998, 'mse = 0.0\\nsamples = 4\\nvalue = 575.0'),\n Text(130.603, 135.89999999999998, 'X[4] <= 601.5\\nmse = 226.767\\nsamples = 131\\nvalue = 598.55'),\n Text(120.28, 117.77999999999999, 'X[4] <= 588.5\\nmse = 54.194\\nsamples = 80\\nvalue = 588.138'),\n Text(114.948, 99.66, 'X[4] <= 581.5\\nmse = 9.391\\nsamples = 41\\nvalue = 581.78'),\n Text(112.592, 81.53999999999999, 'X[4] <= 578.5\\nmse = 2.576\\nsamples = 19\\nvalue = 579.053'),\n Text(111.6, 63.41999999999999, 'X[4] <= 577.5\\nmse = 0.408\\nsamples = 7\\nvalue = 577.143'),\n Text(111.104, 45.29999999999998, 'X[3] <= 0.0\\nmse = 0.16\\nsamples = 5\\nvalue = 576.8'),\n Text(110.608, 27.17999999999998, 'mse = 0.0\\nsamples = 4\\nvalue = 577.0'),\n Text(111.6, 27.17999999999998, 'mse = 0.0\\nsamples = 1\\nvalue = 576.0'),\n Text(112.096, 45.29999999999998, 'mse = 0.0\\nsamples = 2\\nvalue = 578.0'),\n Text(113.584, 63.41999999999999, 'X[4] <= 580.5\\nmse = 0.472\\nsamples = 12\\nvalue = 580.167'),\n Text(113.088, 45.29999999999998, 'X[4] <= 579.5\\nmse = 0.188\\nsamples = 8\\nvalue = 579.75'),\n Text(112.592, 27.17999999999998, 'mse = 0.0\\nsamples = 2\\nvalue = 579.0'),\n Text(113.584, 27.17999999999998, 'mse = 0.0\\nsamples = 6\\nvalue = 580.0'),\n Text(114.08, 45.29999999999998, 'mse = 0.0\\nsamples = 4\\nvalue = 581.0'),\n Text(117.304, 81.53999999999999, 'X[4] <= 584.5\\nmse = 3.3\\nsamples = 22\\nvalue = 584.136'),\n Text(115.568, 63.41999999999999, 'X[4] <= 582.5\\nmse = 0.638\\nsamples = 14\\nvalue = 582.929'),\n Text(115.072, 45.29999999999998, 'mse = 0.0\\nsamples = 5\\nvalue = 582.0'),\n Text(116.064, 45.29999999999998, 'X[4] <= 583.5\\nmse = 0.247\\nsamples = 9\\nvalue = 583.444'),\n Text(115.568, 27.17999999999998, 'mse = 0.0\\nsamples = 5\\nvalue = 583.0'),\n Text(116.56, 27.17999999999998, 'mse = 0.0\\nsamples = 4\\nvalue = 584.0'),\n Text(119.03999999999999, 63.41999999999999, 'X[4] <= 586.5\\nmse = 0.938\\nsamples = 8\\nvalue = 586.25'),\n Text(118.048, 45.29999999999998, 'X[4] <= 585.5\\nmse = 0.24\\nsamples = 5\\nvalue = 585.6'),\n Text(117.55199999999999, 27.17999999999998, 'mse = 0.0\\nsamples = 2\\nvalue = 585.0'),\n Text(118.544, 27.17999999999998, 'mse = 0.0\\nsamples = 3\\nvalue = 586.0'),\n Text(120.032, 45.29999999999998, 'X[4] <= 587.5\\nmse = 0.222\\nsamples = 3\\nvalue = 587.333'),\n Text(119.536, 27.17999999999998, 'mse = 0.0\\nsamples = 2\\nvalue = 587.0'),\n Text(120.528, 27.17999999999998, 'mse = 0.0\\nsamples = 1\\nvalue = 588.0'),\n Text(125.612, 99.66, 'X[4] <= 594.5\\nmse = 14.147\\nsamples = 39\\nvalue = 594.821'),\n Text(123.504, 81.53999999999999, 'X[4] <= 591.5\\nmse = 3.496\\nsamples = 19\\nvalue = 591.368'),\n Text(122.512, 63.41999999999999, 'X[4] <= 590.5\\nmse = 0.743\\nsamples = 12\\nvalue = 590.083'),\n Text(122.016, 45.29999999999998, 'X[4] <= 589.5\\nmse = 0.245\\nsamples = 7\\nvalue = 589.429'),\n Text(121.52, 27.17999999999998, 'mse = 0.0\\nsamples = 4\\nvalue = 589.0'),\n Text(122.512, 27.17999999999998, 'mse = 0.0\\nsamples = 3\\nvalue = 590.0'),\n Text(123.008, 45.29999999999998, 'mse = 0.0\\nsamples = 5\\nvalue = 591.0'),\n Text(124.496, 63.41999999999999, 'X[2] <= 0.004\\nmse = 0.531\\nsamples = 7\\nvalue = 593.571'),\n Text(124.0, 45.29999999999998, 'X[2] <= 0.002\\nmse = 0.25\\nsamples = 2\\nvalue = 592.5'),\n Text(123.504, 27.17999999999998, 'mse = 0.0\\nsamples = 1\\nvalue = 593.0'),\n Text(124.496, 27.17999999999998, 'mse = 0.0\\nsamples = 1\\nvalue = 592.0'),\n Text(124.992, 45.29999999999998, 'mse = 0.0\\nsamples = 5\\nvalue = 594.0'),\n Text(127.72, 81.53999999999999, 'X[4] <= 597.5\\nmse = 2.19\\nsamples = 20\\nvalue = 598.1'),\n Text(126.48, 63.41999999999999, 'X[4] <= 596.5\\nmse = 0.531\\nsamples = 7\\nvalue = 596.429'),\n Text(125.984, 45.29999999999998, 'X[4] <= 595.5\\nmse = 0.222\\nsamples = 3\\nvalue = 595.667'),\n Text(125.488, 27.17999999999998, 'mse = 0.0\\nsamples = 1\\nvalue = 595.0'),\n Text(126.48, 27.17999999999998, 'mse = 0.0\\nsamples = 2\\nvalue = 596.0'),\n Text(126.976, 45.29999999999998, 'mse = 0.0\\nsamples = 4\\nvalue = 597.0'),\n Text(128.96, 63.41999999999999, 'X[4] <= 599.5\\nmse = 0.769\\nsamples = 13\\nvalue = 599.0'),\n Text(127.968, 45.29999999999998, 'X[4] <= 598.5\\nmse = 0.24\\nsamples = 10\\nvalue = 598.6'),\n Text(127.472, 27.17999999999998, 'mse = 0.0\\nsamples = 4\\nvalue = 598.0'),\n Text(128.464, 27.17999999999998, 'mse = 0.0\\nsamples = 6\\nvalue = 599.0'),\n Text(129.952, 45.29999999999998, 'X[2] <= 0.002\\nmse = 0.222\\nsamples = 3\\nvalue = 600.333'),\n Text(129.456, 27.17999999999998, 'mse = 0.0\\nsamples = 1\\nvalue = 601.0'),\n Text(130.448, 27.17999999999998, 'mse = 0.0\\nsamples = 2\\nvalue = 600.0'),\n Text(140.926, 117.77999999999999, 'X[4] <= 615.5\\nmse = 60.653\\nsamples = 51\\nvalue = 614.882'),\n Text(135.284, 99.66, 'X[4] <= 607.5\\nmse = 17.167\\nsamples = 28\\nvalue = 608.893'),\n Text(132.432, 81.53999999999999, 'X[4] <= 604.0\\nmse = 3.111\\nsamples = 9\\nvalue = 603.667'),\n Text(131.44, 63.41999999999999, 'X[4] <= 602.5\\nmse = 0.25\\nsamples = 6\\nvalue = 602.5'),\n Text(130.944, 45.29999999999998, 'mse = 0.0\\nsamples = 3\\nvalue = 602.0'),\n Text(131.936, 45.29999999999998, 'mse = 0.0\\nsamples = 3\\nvalue = 603.0'),\n Text(133.424, 63.41999999999999, 'X[2] <= 0.005\\nmse = 0.667\\nsamples = 3\\nvalue = 606.0'),\n Text(132.928, 45.29999999999998, 'mse = 0.0\\nsamples = 1\\nvalue = 605.0'),\n Text(133.92, 45.29999999999998, 'X[0] <= 0.001\\nmse = 0.25\\nsamples = 2\\nvalue = 606.5'),\n Text(133.424, 27.17999999999998, 'mse = 0.0\\nsamples = 1\\nvalue = 607.0'),\n Text(134.416, 27.17999999999998, 'mse = 0.0\\nsamples = 1\\nvalue = 606.0'),\n Text(138.136, 81.53999999999999, 'X[4] <= 611.5\\nmse = 4.759\\nsamples = 19\\nvalue = 611.368'),\n Text(136.896, 63.41999999999999, 'X[4] <= 609.5\\nmse = 1.41\\nsamples = 10\\nvalue = 609.7'),\n Text(135.904, 45.29999999999998, 'X[4] <= 608.5\\nmse = 0.24\\nsamples = 5\\nvalue = 608.6'),\n Text(135.408, 27.17999999999998, 'mse = 0.0\\nsamples = 2\\nvalue = 608.0'),\n Text(136.4, 27.17999999999998, 'mse = 0.0\\nsamples = 3\\nvalue = 609.0'),\n Text(137.888, 45.29999999999998, 'X[4] <= 610.5\\nmse = 0.16\\nsamples = 5\\nvalue = 610.8'),\n Text(137.392, 27.17999999999998, 'mse = 0.0\\nsamples = 1\\nvalue = 610.0'),\n Text(138.384, 27.17999999999998, 'mse = 0.0\\nsamples = 4\\nvalue = 611.0'),\n Text(139.376, 63.41999999999999, 'X[4] <= 613.0\\nmse = 1.951\\nsamples = 9\\nvalue = 613.222'),\n Text(138.88, 45.29999999999998, 'mse = 0.0\\nsamples = 5\\nvalue = 612.0'),\n Text(139.87199999999999, 45.29999999999998, 'X[4] <= 614.5\\nmse = 0.188\\nsamples = 4\\nvalue = 614.75'),\n Text(139.376, 27.17999999999998, 'mse = 0.0\\nsamples = 1\\nvalue = 614.0'),\n Text(140.368, 27.17999999999998, 'mse = 0.0\\nsamples = 3\\nvalue = 615.0'),\n Text(146.568, 99.66, 'X[4] <= 622.5\\nmse = 16.752\\nsamples = 23\\nvalue = 622.174'),\n Text(144.088, 81.53999999999999, 'X[4] <= 619.5\\nmse = 3.976\\nsamples = 13\\nvalue = 619.154'),\n Text(142.848, 63.41999999999999, 'X[4] <= 617.5\\nmse = 1.388\\nsamples = 7\\nvalue = 617.571'),\n Text(141.856, 45.29999999999998, 'X[3] <= 0.0\\nmse = 0.222\\nsamples = 3\\nvalue = 616.333'),\n Text(141.35999999999999, 27.17999999999998, 'mse = 0.0\\nsamples = 1\\nvalue = 617.0'),\n Text(142.352, 27.17999999999998, 'mse = 0.0\\nsamples = 2\\nvalue = 616.0'),\n Text(143.84, 45.29999999999998, 'X[2] <= 0.004\\nmse = 0.25\\nsamples = 4\\nvalue = 618.5'),\n Text(143.344, 27.17999999999998, 'mse = 0.0\\nsamples = 2\\nvalue = 618.0'),\n Text(144.336, 27.17999999999998, 'mse = 0.0\\nsamples = 2\\nvalue = 619.0'),\n Text(145.328, 63.41999999999999, 'X[4] <= 620.5\\nmse = 0.667\\nsamples = 6\\nvalue = 621.0'),\n Text(144.832, 45.29999999999998, 'mse = 0.0\\nsamples = 2\\nvalue = 620.0'),\n Text(145.824, 45.29999999999998, 'X[4] <= 621.5\\nmse = 0.25\\nsamples = 4\\nvalue = 621.5'),\n Text(145.328, 27.17999999999998, 'mse = 0.0\\nsamples = 2\\nvalue = 621.0'),\n Text(146.32, 27.17999999999998, 'mse = 0.0\\nsamples = 2\\nvalue = 622.0'),\n Text(149.048, 81.53999999999999, 'X[4] <= 626.0\\nmse = 6.09\\nsamples = 10\\nvalue = 626.1'),\n Text(147.312, 63.41999999999999, 'X[1] <= 0.013\\nmse = 0.56\\nsamples = 5\\nvalue = 623.8'),\n Text(146.816, 45.29999999999998, 'mse = 0.0\\nsamples = 2\\nvalue = 623.0'),\n Text(147.808, 45.29999999999998, 'X[4] <= 624.5\\nmse = 0.222\\nsamples = 3\\nvalue = 624.333'),\n Text(147.312, 27.17999999999998, 'mse = 0.0\\nsamples = 2\\nvalue = 624.0'),\n Text(148.304, 27.17999999999998, 'mse = 0.0\\nsamples = 1\\nvalue = 625.0'),\n Text(150.784, 63.41999999999999, 'X[4] <= 628.5\\nmse = 1.04\\nsamples = 5\\nvalue = 628.4'),\n Text(149.792, 45.29999999999998, 'X[0] <= 0.002\\nmse = 0.222\\nsamples = 3\\nvalue = 627.667'),\n Text(149.296, 27.17999999999998, 'mse = 0.0\\nsamples = 1\\nvalue = 627.0'),\n Text(150.288, 27.17999999999998, 'mse = 0.0\\nsamples = 2\\nvalue = 628.0'),\n Text(151.776, 45.29999999999998, 'X[2] <= 0.004\\nmse = 0.25\\nsamples = 2\\nvalue = 629.5'),\n Text(151.28, 27.17999999999998, 'mse = 0.0\\nsamples = 1\\nvalue = 630.0'),\n Text(152.272, 27.17999999999998, 'mse = 0.0\\nsamples = 1\\nvalue = 629.0'),\n Text(213.28775, 172.14, 'X[4] <= 724.5\\nmse = 3334.048\\nsamples = 334\\nvalue = 729.078'),\n Text(180.2185, 154.01999999999998, 'X[4] <= 678.5\\nmse = 816.08\\nsamples = 152\\nvalue = 674.158'),\n Text(165.664, 135.89999999999998, 'X[4] <= 651.5\\nmse = 179.95\\nsamples = 89\\nvalue = 652.775'),\n Text(158.34799999999998, 117.77999999999999, 'X[4] <= 640.5\\nmse = 35.169\\nsamples = 40\\nvalue = 639.925'),\n Text(155.992, 99.66, 'X[4] <= 634.5\\nmse = 4.64\\nsamples = 20\\nvalue = 634.4'),\n Text(154.256, 81.53999999999999, 'X[4] <= 632.5\\nmse = 1.05\\nsamples = 10\\nvalue = 632.5'),\n Text(153.264, 63.41999999999999, 'X[4] <= 631.5\\nmse = 0.24\\nsamples = 5\\nvalue = 631.6'),\n Text(152.768, 45.29999999999998, 'mse = 0.0\\nsamples = 2\\nvalue = 631.0'),\n Text(153.76, 45.29999999999998, 'mse = 0.0\\nsamples = 3\\nvalue = 632.0'),\n Text(155.248, 63.41999999999999, 'X[4] <= 633.5\\nmse = 0.24\\nsamples = 5\\nvalue = 633.4'),\n Text(154.752, 45.29999999999998, 'mse = 0.0\\nsamples = 3\\nvalue = 633.0'),\n Text(155.744, 45.29999999999998, 'mse = 0.0\\nsamples = 2\\nvalue = 634.0'),\n Text(157.728, 81.53999999999999, 'X[3] <= 0.0\\nmse = 1.01\\nsamples = 10\\nvalue = 636.3'),\n Text(157.232, 63.41999999999999, 'X[1] <= 0.029\\nmse = 0.222\\nsamples = 9\\nvalue = 636.0'),\n Text(156.736, 45.29999999999998, 'X[0] <= 0.002\\nmse = 0.109\\nsamples = 8\\nvalue = 636.125'),\n Text(156.24, 27.17999999999998, 'mse = 0.0\\nsamples = 1\\nvalue = 637.0'),\n Text(157.232, 27.17999999999998, 'mse = 0.0\\nsamples = 7\\nvalue = 636.0'),\n Text(157.728, 45.29999999999998, 'mse = 0.0\\nsamples = 1\\nvalue = 635.0'),\n Text(158.224, 63.41999999999999, 'mse = 0.0\\nsamples = 1\\nvalue = 639.0'),\n Text(160.704, 99.66, 'X[4] <= 645.5\\nmse = 4.647\\nsamples = 20\\nvalue = 645.45'),\n Text(159.712, 81.53999999999999, 'X[4] <= 643.0\\nmse = 1.56\\nsamples = 10\\nvalue = 643.8'),\n Text(159.216, 63.41999999999999, 'mse = 0.0\\nsamples = 3\\nvalue = 642.0'),\n Text(160.208, 63.41999999999999, 'X[4] <= 644.5\\nmse = 0.245\\nsamples = 7\\nvalue = 644.571'),\n Text(159.712, 45.29999999999998, 'mse = 0.0\\nsamples = 3\\nvalue = 644.0'),\n Text(160.704, 45.29999999999998, 'mse = 0.0\\nsamples = 4\\nvalue = 645.0'),\n Text(161.696, 81.53999999999999, 'X[2] <= 0.002\\nmse = 2.29\\nsamples = 10\\nvalue = 647.1'),\n Text(161.2, 63.41999999999999, 'mse = 0.0\\nsamples = 1\\nvalue = 651.0'),\n Text(162.192, 63.41999999999999, 'X[4] <= 646.5\\nmse = 0.667\\nsamples = 9\\nvalue = 646.667'),\n Text(161.696, 45.29999999999998, 'mse = 0.0\\nsamples = 5\\nvalue = 646.0'),\n Text(162.688, 45.29999999999998, 'X[4] <= 647.5\\nmse = 0.25\\nsamples = 4\\nvalue = 647.5'),\n Text(162.192, 27.17999999999998, 'mse = 0.0\\nsamples = 2\\nvalue = 647.0'),\n Text(163.184, 27.17999999999998, 'mse = 0.0\\nsamples = 2\\nvalue = 648.0'),\n Text(172.98, 117.77999999999999, 'X[4] <= 664.0\\nmse = 53.297\\nsamples = 49\\nvalue = 663.265'),\n Text(168.392, 99.66, 'X[4] <= 657.5\\nmse = 10.241\\nsamples = 27\\nvalue = 657.407'),\n Text(166.16, 81.53999999999999, 'X[4] <= 654.5\\nmse = 3.16\\nsamples = 13\\nvalue = 654.615'),\n Text(165.168, 63.41999999999999, 'X[4] <= 653.5\\nmse = 0.694\\nsamples = 7\\nvalue = 653.143'),\n Text(164.672, 45.29999999999998, 'X[1] <= 0.008\\nmse = 0.25\\nsamples = 4\\nvalue = 652.5'),\n Text(164.176, 27.17999999999998, 'mse = 0.0\\nsamples = 2\\nvalue = 653.0'),\n Text(165.168, 27.17999999999998, 'mse = 0.0\\nsamples = 2\\nvalue = 652.0'),\n Text(165.664, 45.29999999999998, 'mse = 0.0\\nsamples = 3\\nvalue = 654.0'),\n Text(167.152, 63.41999999999999, 'X[0] <= 0.002\\nmse = 0.556\\nsamples = 6\\nvalue = 656.333'),\n Text(166.656, 45.29999999999998, 'X[1] <= 0.025\\nmse = 0.222\\nsamples = 3\\nvalue = 655.667'),\n Text(166.16, 27.17999999999998, 'mse = 0.0\\nsamples = 1\\nvalue = 655.0'),\n Text(167.152, 27.17999999999998, 'mse = 0.0\\nsamples = 2\\nvalue = 656.0'),\n Text(167.648, 45.29999999999998, 'mse = 0.0\\nsamples = 3\\nvalue = 657.0'),\n Text(170.624, 81.53999999999999, 'X[4] <= 660.5\\nmse = 2.857\\nsamples = 14\\nvalue = 660.0'),\n Text(169.136, 63.41999999999999, 'X[4] <= 658.5\\nmse = 0.543\\nsamples = 9\\nvalue = 658.889'),\n Text(168.64, 45.29999999999998, 'mse = 0.0\\nsamples = 3\\nvalue = 658.0'),\n Text(169.632, 45.29999999999998, 'X[4] <= 659.5\\nmse = 0.222\\nsamples = 6\\nvalue = 659.333'),\n Text(169.136, 27.17999999999998, 'mse = 0.0\\nsamples = 4\\nvalue = 659.0'),\n Text(170.128, 27.17999999999998, 'mse = 0.0\\nsamples = 2\\nvalue = 660.0'),\n Text(172.112, 63.41999999999999, 'X[3] <= 0.0\\nmse = 0.8\\nsamples = 5\\nvalue = 662.0'),\n Text(171.61599999999999, 45.29999999999998, 'X[4] <= 661.5\\nmse = 0.222\\nsamples = 3\\nvalue = 661.333'),\n Text(171.12, 27.17999999999998, 'mse = 0.0\\nsamples = 2\\nvalue = 661.0'),\n Text(172.112, 27.17999999999998, 'mse = 0.0\\nsamples = 1\\nvalue = 662.0'),\n Text(172.608, 45.29999999999998, 'mse = 0.0\\nsamples = 2\\nvalue = 663.0'),\n Text(177.568, 99.66, 'X[4] <= 670.5\\nmse = 12.339\\nsamples = 22\\nvalue = 670.455'),\n Text(175.088, 81.53999999999999, 'X[4] <= 667.5\\nmse = 2.243\\nsamples = 12\\nvalue = 667.583'),\n Text(174.096, 63.41999999999999, 'X[3] <= 0.0\\nmse = 0.556\\nsamples = 6\\nvalue = 666.333'),\n Text(173.6, 45.29999999999998, 'X[3] <= 0.0\\nmse = 0.222\\nsamples = 3\\nvalue = 665.667'),\n Text(173.10399999999998, 27.17999999999998, 'mse = 0.0\\nsamples = 2\\nvalue = 666.0'),\n Text(174.096, 27.17999999999998, 'mse = 0.0\\nsamples = 1\\nvalue = 665.0'),\n Text(174.59199999999998, 45.29999999999998, 'mse = 0.0\\nsamples = 3\\nvalue = 667.0'),\n Text(176.08, 63.41999999999999, 'X[4] <= 668.5\\nmse = 0.806\\nsamples = 6\\nvalue = 668.833'),\n Text(175.584, 45.29999999999998, 'mse = 0.0\\nsamples = 3\\nvalue = 668.0'),\n Text(176.576, 45.29999999999998, 'X[3] <= 0.0\\nmse = 0.222\\nsamples = 3\\nvalue = 669.667'),\n Text(176.08, 27.17999999999998, 'mse = 0.0\\nsamples = 1\\nvalue = 669.0'),\n Text(177.072, 27.17999999999998, 'mse = 0.0\\nsamples = 2\\nvalue = 670.0'),\n Text(180.048, 81.53999999999999, 'X[4] <= 674.0\\nmse = 2.69\\nsamples = 10\\nvalue = 673.9'),\n Text(179.056, 63.41999999999999, 'X[4] <= 672.5\\nmse = 0.64\\nsamples = 5\\nvalue = 672.4'),\n Text(178.56, 45.29999999999998, 'X[2] <= 0.004\\nmse = 0.25\\nsamples = 2\\nvalue = 671.5'),\n Text(178.064, 27.17999999999998, 'mse = 0.0\\nsamples = 1\\nvalue = 671.0'),\n Text(179.056, 27.17999999999998, 'mse = 0.0\\nsamples = 1\\nvalue = 672.0'),\n Text(179.552, 45.29999999999998, 'mse = 0.0\\nsamples = 3\\nvalue = 673.0'),\n Text(181.04, 63.41999999999999, 'X[4] <= 675.5\\nmse = 0.24\\nsamples = 5\\nvalue = 675.4'),\n Text(180.544, 45.29999999999998, 'mse = 0.0\\nsamples = 3\\nvalue = 675.0'),\n Text(181.536, 45.29999999999998, 'mse = 0.0\\nsamples = 2\\nvalue = 676.0'),\n Text(194.773, 135.89999999999998, 'X[4] <= 702.5\\nmse = 156.359\\nsamples = 63\\nvalue = 704.365'),\n Text(188.108, 117.77999999999999, 'X[4] <= 689.5\\nmse = 39.111\\nsamples = 27\\nvalue = 691.667'),\n Text(185.256, 99.66, 'X[4] <= 684.5\\nmse = 2.691\\nsamples = 9\\nvalue = 683.556'),\n Text(184.016, 81.53999999999999, 'X[4] <= 682.5\\nmse = 0.98\\nsamples = 7\\nvalue = 682.857'),\n Text(183.024, 63.41999999999999, 'X[2] <= 0.006\\nmse = 0.25\\nsamples = 2\\nvalue = 681.5'),\n Text(182.528, 45.29999999999998, 'mse = 0.0\\nsamples = 1\\nvalue = 681.0'),\n Text(183.52, 45.29999999999998, 'mse = 0.0\\nsamples = 1\\nvalue = 682.0'),\n Text(185.008, 63.41999999999999, 'X[4] <= 683.5\\nmse = 0.24\\nsamples = 5\\nvalue = 683.4'),\n Text(184.512, 45.29999999999998, 'mse = 0.0\\nsamples = 3\\nvalue = 683.0'),\n Text(185.504, 45.29999999999998, 'mse = 0.0\\nsamples = 2\\nvalue = 684.0'),\n Text(186.496, 81.53999999999999, 'X[0] <= 0.002\\nmse = 1.0\\nsamples = 2\\nvalue = 686.0'),\n Text(186.0, 63.41999999999999, 'mse = 0.0\\nsamples = 1\\nvalue = 687.0'),\n Text(186.992, 63.41999999999999, 'mse = 0.0\\nsamples = 1\\nvalue = 685.0'),\n Text(190.96, 99.66, 'X[4] <= 695.5\\nmse = 7.978\\nsamples = 18\\nvalue = 695.722'),\n Text(188.976, 81.53999999999999, 'X[4] <= 693.5\\nmse = 1.333\\nsamples = 9\\nvalue = 693.333'),\n Text(187.984, 63.41999999999999, 'X[4] <= 692.5\\nmse = 0.24\\nsamples = 5\\nvalue = 692.4'),\n Text(187.488, 45.29999999999998, 'mse = 0.0\\nsamples = 3\\nvalue = 692.0'),\n Text(188.48, 45.29999999999998, 'mse = 0.0\\nsamples = 2\\nvalue = 693.0'),\n Text(189.968, 63.41999999999999, 'X[4] <= 694.5\\nmse = 0.25\\nsamples = 4\\nvalue = 694.5'),\n Text(189.472, 45.29999999999998, 'mse = 0.0\\nsamples = 2\\nvalue = 694.0'),\n Text(190.464, 45.29999999999998, 'mse = 0.0\\nsamples = 2\\nvalue = 695.0'),\n Text(192.944, 81.53999999999999, 'X[4] <= 698.0\\nmse = 3.21\\nsamples = 9\\nvalue = 698.111'),\n Text(191.952, 63.41999999999999, 'X[4] <= 696.5\\nmse = 0.24\\nsamples = 5\\nvalue = 696.6'),\n Text(191.456, 45.29999999999998, 'mse = 0.0\\nsamples = 2\\nvalue = 696.0'),\n Text(192.448, 45.29999999999998, 'mse = 0.0\\nsamples = 3\\nvalue = 697.0'),\n Text(193.936, 63.41999999999999, 'X[0] <= 0.002\\nmse = 0.5\\nsamples = 4\\nvalue = 700.0'),\n Text(193.44, 45.29999999999998, 'X[4] <= 699.5\\nmse = 0.222\\nsamples = 3\\nvalue = 699.667'),\n Text(192.944, 27.17999999999998, 'mse = 0.0\\nsamples = 1\\nvalue = 699.0'),\n Text(193.936, 27.17999999999998, 'mse = 0.0\\nsamples = 2\\nvalue = 700.0'),\n Text(194.432, 45.29999999999998, 'mse = 0.0\\nsamples = 1\\nvalue = 701.0'),\n Text(201.438, 117.77999999999999, 'X[4] <= 713.5\\nmse = 32.654\\nsamples = 36\\nvalue = 713.889'),\n Text(197.656, 99.66, 'X[4] <= 708.0\\nmse = 8.734\\nsamples = 16\\nvalue = 708.375'),\n Text(196.416, 81.53999999999999, 'X[4] <= 706.0\\nmse = 1.139\\nsamples = 6\\nvalue = 704.833'),\n Text(195.92, 63.41999999999999, 'X[4] <= 704.5\\nmse = 0.24\\nsamples = 5\\nvalue = 704.4'),\n Text(195.424, 45.29999999999998, 'mse = 0.0\\nsamples = 3\\nvalue = 704.0'),\n Text(196.416, 45.29999999999998, 'mse = 0.0\\nsamples = 2\\nvalue = 705.0'),\n Text(196.912, 63.41999999999999, 'mse = 0.0\\nsamples = 1\\nvalue = 707.0'),\n Text(198.896, 81.53999999999999, 'X[4] <= 710.5\\nmse = 1.25\\nsamples = 10\\nvalue = 710.5'),\n Text(197.904, 63.41999999999999, 'X[4] <= 709.5\\nmse = 0.24\\nsamples = 5\\nvalue = 709.6'),\n Text(197.408, 45.29999999999998, 'mse = 0.0\\nsamples = 2\\nvalue = 709.0'),\n Text(198.4, 45.29999999999998, 'mse = 0.0\\nsamples = 3\\nvalue = 710.0'),\n Text(199.888, 63.41999999999999, 'X[4] <= 712.0\\nmse = 0.64\\nsamples = 5\\nvalue = 711.4'),\n Text(199.392, 45.29999999999998, 'mse = 0.0\\nsamples = 4\\nvalue = 711.0'),\n Text(200.384, 45.29999999999998, 'mse = 0.0\\nsamples = 1\\nvalue = 713.0'),\n Text(205.22, 99.66, 'X[4] <= 717.5\\nmse = 8.01\\nsamples = 20\\nvalue = 718.3'),\n Text(202.864, 81.53999999999999, 'X[4] <= 715.5\\nmse = 1.484\\nsamples = 8\\nvalue = 715.375'),\n Text(201.87199999999999, 63.41999999999999, 'X[3] <= 0.0\\nmse = 0.188\\nsamples = 4\\nvalue = 714.25'),\n Text(201.376, 45.29999999999998, 'mse = 0.0\\nsamples = 3\\nvalue = 714.0'),\n Text(202.368, 45.29999999999998, 'mse = 0.0\\nsamples = 1\\nvalue = 715.0'),\n Text(203.856, 63.41999999999999, 'X[4] <= 716.5\\nmse = 0.25\\nsamples = 4\\nvalue = 716.5'),\n Text(203.35999999999999, 45.29999999999998, 'mse = 0.0\\nsamples = 2\\nvalue = 716.0'),\n Text(204.352, 45.29999999999998, 'mse = 0.0\\nsamples = 2\\nvalue = 717.0'),\n Text(207.576, 81.53999999999999, 'X[4] <= 722.0\\nmse = 2.854\\nsamples = 12\\nvalue = 720.25'),\n Text(206.336, 63.41999999999999, 'X[4] <= 719.5\\nmse = 0.84\\nsamples = 10\\nvalue = 719.6'),\n Text(205.344, 45.29999999999998, 'X[1] <= 0.018\\nmse = 0.16\\nsamples = 5\\nvalue = 718.8'),\n Text(204.84799999999998, 27.17999999999998, 'mse = 0.0\\nsamples = 4\\nvalue = 719.0'),\n Text(205.84, 27.17999999999998, 'mse = 0.0\\nsamples = 1\\nvalue = 718.0'),\n Text(207.328, 45.29999999999998, 'X[4] <= 720.5\\nmse = 0.24\\nsamples = 5\\nvalue = 720.4'),\n Text(206.832, 27.17999999999998, 'mse = 0.0\\nsamples = 3\\nvalue = 720.0'),\n Text(207.824, 27.17999999999998, 'mse = 0.0\\nsamples = 2\\nvalue = 721.0'),\n Text(208.816, 63.41999999999999, 'X[4] <= 723.5\\nmse = 0.25\\nsamples = 2\\nvalue = 723.5'),\n Text(208.32, 45.29999999999998, 'mse = 0.0\\nsamples = 1\\nvalue = 723.0'),\n Text(209.312, 45.29999999999998, 'mse = 0.0\\nsamples = 1\\nvalue = 724.0'),\n Text(246.357, 154.01999999999998, 'X[4] <= 777.5\\nmse = 814.14\\nsamples = 182\\nvalue = 774.945'),\n Text(228.78, 135.89999999999998, 'X[4] <= 752.5\\nmse = 225.65\\nsamples = 100\\nvalue = 752.99'),\n Text(218.798, 117.77999999999999, 'X[4] <= 739.5\\nmse = 63.371\\nsamples = 48\\nvalue = 739.438'),\n Text(213.776, 99.66, 'X[4] <= 733.0\\nmse = 21.79\\nsamples = 24\\nvalue = 732.708'),\n Text(211.792, 81.53999999999999, 'X[4] <= 729.5\\nmse = 5.25\\nsamples = 12\\nvalue = 728.5'),\n Text(210.8, 63.41999999999999, 'X[4] <= 726.0\\nmse = 1.859\\nsamples = 8\\nvalue = 727.125'),\n Text(210.304, 45.29999999999998, 'mse = 0.0\\nsamples = 2\\nvalue = 725.0'),\n Text(211.296, 45.29999999999998, 'X[1] <= 0.021\\nmse = 0.472\\nsamples = 6\\nvalue = 727.833'),\n Text(210.8, 27.17999999999998, 'X[0] <= 0.002\\nmse = 0.188\\nsamples = 4\\nvalue = 728.25'),\n Text(210.304, 9.059999999999974, 'mse = 0.0\\nsamples = 3\\nvalue = 728.0'),\n Text(211.296, 9.059999999999974, 'mse = 0.0\\nsamples = 1\\nvalue = 729.0'),\n Text(211.792, 27.17999999999998, 'mse = 0.0\\nsamples = 2\\nvalue = 727.0'),\n Text(212.784, 63.41999999999999, 'X[2] <= 0.008\\nmse = 0.688\\nsamples = 4\\nvalue = 731.25'),\n Text(212.288, 45.29999999999998, 'mse = 0.0\\nsamples = 2\\nvalue = 732.0'),\n Text(213.28, 45.29999999999998, 'X[1] <= 0.014\\nmse = 0.25\\nsamples = 2\\nvalue = 730.5'),\n Text(212.784, 27.17999999999998, 'mse = 0.0\\nsamples = 1\\nvalue = 730.0'),\n Text(213.776, 27.17999999999998, 'mse = 0.0\\nsamples = 1\\nvalue = 731.0'),\n Text(215.76, 81.53999999999999, 'X[4] <= 736.5\\nmse = 2.91\\nsamples = 12\\nvalue = 736.917'),\n Text(214.768, 63.41999999999999, 'X[4] <= 734.5\\nmse = 0.688\\nsamples = 4\\nvalue = 734.75'),\n Text(214.272, 45.29999999999998, 'mse = 0.0\\nsamples = 2\\nvalue = 734.0'),\n Text(215.264, 45.29999999999998, 'X[1] <= 0.005\\nmse = 0.25\\nsamples = 2\\nvalue = 735.5'),\n Text(214.768, 27.17999999999998, 'mse = 0.0\\nsamples = 1\\nvalue = 735.0'),\n Text(215.76, 27.17999999999998, 'mse = 0.0\\nsamples = 1\\nvalue = 736.0'),\n Text(216.752, 63.41999999999999, 'X[4] <= 737.5\\nmse = 0.5\\nsamples = 8\\nvalue = 738.0'),\n Text(216.256, 45.29999999999998, 'mse = 0.0\\nsamples = 2\\nvalue = 737.0'),\n Text(217.248, 45.29999999999998, 'X[4] <= 738.5\\nmse = 0.222\\nsamples = 6\\nvalue = 738.333'),\n Text(216.752, 27.17999999999998, 'mse = 0.0\\nsamples = 4\\nvalue = 738.0'),\n Text(217.744, 27.17999999999998, 'mse = 0.0\\nsamples = 2\\nvalue = 739.0'),\n Text(223.82, 99.66, 'X[4] <= 746.5\\nmse = 14.389\\nsamples = 24\\nvalue = 746.167'),\n Text(220.968, 81.53999999999999, 'X[4] <= 742.5\\nmse = 3.306\\nsamples = 12\\nvalue = 742.833'),\n Text(219.728, 63.41999999999999, 'X[1] <= 0.015\\nmse = 0.8\\nsamples = 5\\nvalue = 741.0'),\n Text(219.232, 45.29999999999998, 'X[1] <= 0.003\\nmse = 0.222\\nsamples = 3\\nvalue = 740.333'),\n Text(218.736, 27.17999999999998, 'mse = 0.0\\nsamples = 1\\nvalue = 741.0'),\n Text(219.728, 27.17999999999998, 'mse = 0.0\\nsamples = 2\\nvalue = 740.0'),\n Text(220.224, 45.29999999999998, 'mse = 0.0\\nsamples = 2\\nvalue = 742.0'),\n Text(222.208, 63.41999999999999, 'X[4] <= 744.5\\nmse = 0.98\\nsamples = 7\\nvalue = 744.143'),\n Text(221.216, 45.29999999999998, 'X[4] <= 743.5\\nmse = 0.24\\nsamples = 5\\nvalue = 743.6'),\n Text(220.72, 27.17999999999998, 'mse = 0.0\\nsamples = 2\\nvalue = 743.0'),\n Text(221.712, 27.17999999999998, 'mse = 0.0\\nsamples = 3\\nvalue = 744.0'),\n Text(223.2, 45.29999999999998, 'X[3] <= 0.0\\nmse = 0.25\\nsamples = 2\\nvalue = 745.5'),\n Text(222.704, 27.17999999999998, 'mse = 0.0\\nsamples = 1\\nvalue = 746.0'),\n Text(223.696, 27.17999999999998, 'mse = 0.0\\nsamples = 1\\nvalue = 745.0'),\n Text(226.672, 81.53999999999999, 'X[4] <= 749.5\\nmse = 3.25\\nsamples = 12\\nvalue = 749.5'),\n Text(225.68, 63.41999999999999, 'X[4] <= 748.5\\nmse = 0.694\\nsamples = 7\\nvalue = 748.143'),\n Text(225.184, 45.29999999999998, 'X[4] <= 747.5\\nmse = 0.25\\nsamples = 4\\nvalue = 747.5'),\n Text(224.688, 27.17999999999998, 'mse = 0.0\\nsamples = 2\\nvalue = 747.0'),\n Text(225.68, 27.17999999999998, 'mse = 0.0\\nsamples = 2\\nvalue = 748.0'),\n Text(226.176, 45.29999999999998, 'mse = 0.0\\nsamples = 3\\nvalue = 749.0'),\n Text(227.664, 63.41999999999999, 'X[2] <= 0.006\\nmse = 0.64\\nsamples = 5\\nvalue = 751.4'),\n Text(227.168, 45.29999999999998, 'mse = 0.0\\nsamples = 3\\nvalue = 752.0'),\n Text(228.16, 45.29999999999998, 'X[0] <= 0.002\\nmse = 0.25\\nsamples = 2\\nvalue = 750.5'),\n Text(227.664, 27.17999999999998, 'mse = 0.0\\nsamples = 1\\nvalue = 751.0'),\n Text(228.656, 27.17999999999998, 'mse = 0.0\\nsamples = 1\\nvalue = 750.0'),\n Text(238.762, 117.77999999999999, 'X[4] <= 766.0\\nmse = 49.404\\nsamples = 52\\nvalue = 765.5'),\n Text(234.484, 99.66, 'X[4] <= 760.0\\nmse = 15.427\\nsamples = 27\\nvalue = 759.593'),\n Text(232.376, 81.53999999999999, 'X[4] <= 757.0\\nmse = 4.454\\nsamples = 14\\nvalue = 756.214'),\n Text(231.136, 63.41999999999999, 'X[4] <= 754.5\\nmse = 0.75\\nsamples = 8\\nvalue = 754.5'),\n Text(230.144, 45.29999999999998, 'X[3] <= 0.0\\nmse = 0.188\\nsamples = 4\\nvalue = 753.75'),\n Text(229.648, 27.17999999999998, 'mse = 0.0\\nsamples = 3\\nvalue = 754.0'),\n Text(230.64, 27.17999999999998, 'mse = 0.0\\nsamples = 1\\nvalue = 753.0'),\n Text(232.128, 45.29999999999998, 'X[4] <= 755.5\\nmse = 0.188\\nsamples = 4\\nvalue = 755.25'),\n Text(231.632, 27.17999999999998, 'mse = 0.0\\nsamples = 3\\nvalue = 755.0'),\n Text(232.624, 27.17999999999998, 'mse = 0.0\\nsamples = 1\\nvalue = 756.0'),\n Text(233.61599999999999, 63.41999999999999, 'X[4] <= 758.5\\nmse = 0.25\\nsamples = 6\\nvalue = 758.5'),\n Text(233.12, 45.29999999999998, 'mse = 0.0\\nsamples = 3\\nvalue = 758.0'),\n Text(234.112, 45.29999999999998, 'mse = 0.0\\nsamples = 3\\nvalue = 759.0'),\n Text(236.59199999999998, 81.53999999999999, 'X[4] <= 762.5\\nmse = 1.716\\nsamples = 13\\nvalue = 763.231'),\n Text(235.6, 63.41999999999999, 'X[4] <= 761.5\\nmse = 0.25\\nsamples = 4\\nvalue = 761.5'),\n Text(235.10399999999998, 45.29999999999998, 'mse = 0.0\\nsamples = 2\\nvalue = 761.0'),\n Text(236.096, 45.29999999999998, 'mse = 0.0\\nsamples = 2\\nvalue = 762.0'),\n Text(237.584, 63.41999999999999, 'X[1] <= 0.024\\nmse = 0.444\\nsamples = 9\\nvalue = 764.0'),\n Text(237.088, 45.29999999999998, 'X[4] <= 764.5\\nmse = 0.204\\nsamples = 7\\nvalue = 764.286'),\n Text(236.59199999999998, 27.17999999999998, 'mse = 0.0\\nsamples = 5\\nvalue = 764.0'),\n Text(237.584, 27.17999999999998, 'mse = 0.0\\nsamples = 2\\nvalue = 765.0'),\n Text(238.07999999999998, 45.29999999999998, 'mse = 0.0\\nsamples = 2\\nvalue = 763.0'),\n Text(243.04, 99.66, 'X[4] <= 771.5\\nmse = 7.706\\nsamples = 25\\nvalue = 771.88'),\n Text(240.56, 81.53999999999999, 'X[4] <= 768.5\\nmse = 1.16\\nsamples = 10\\nvalue = 768.8'),\n Text(239.568, 63.41999999999999, 'X[3] <= 0.0\\nmse = 0.188\\nsamples = 4\\nvalue = 767.75'),\n Text(239.072, 45.29999999999998, 'mse = 0.0\\nsamples = 3\\nvalue = 768.0'),\n Text(240.064, 45.29999999999998, 'mse = 0.0\\nsamples = 1\\nvalue = 767.0'),\n Text(241.552, 63.41999999999999, 'X[4] <= 769.5\\nmse = 0.583\\nsamples = 6\\nvalue = 769.5'),\n Text(241.056, 45.29999999999998, 'mse = 0.0\\nsamples = 4\\nvalue = 769.0'),\n Text(242.048, 45.29999999999998, 'X[2] <= 0.005\\nmse = 0.25\\nsamples = 2\\nvalue = 770.5'),\n Text(241.552, 27.17999999999998, 'mse = 0.0\\nsamples = 1\\nvalue = 770.0'),\n Text(242.544, 27.17999999999998, 'mse = 0.0\\nsamples = 1\\nvalue = 771.0'),\n Text(245.52, 81.53999999999999, 'X[4] <= 774.5\\nmse = 1.529\\nsamples = 15\\nvalue = 773.933'),\n Text(244.528, 63.41999999999999, 'X[4] <= 773.5\\nmse = 0.595\\nsamples = 11\\nvalue = 773.364'),\n Text(244.032, 45.29999999999998, 'X[2] <= 0.003\\nmse = 0.24\\nsamples = 5\\nvalue = 772.6'),\n Text(243.536, 27.17999999999998, 'mse = 0.0\\nsamples = 2\\nvalue = 772.0'),\n Text(244.528, 27.17999999999998, 'mse = 0.0\\nsamples = 3\\nvalue = 773.0'),\n Text(245.024, 45.29999999999998, 'mse = 0.0\\nsamples = 6\\nvalue = 774.0'),\n Text(246.512, 63.41999999999999, 'X[4] <= 776.0\\nmse = 0.75\\nsamples = 4\\nvalue = 775.5'),\n Text(246.016, 45.29999999999998, 'mse = 0.0\\nsamples = 3\\nvalue = 775.0'),\n Text(247.008, 45.29999999999998, 'mse = 0.0\\nsamples = 1\\nvalue = 777.0'),\n Text(263.934, 135.89999999999998, 'X[4] <= 803.5\\nmse = 227.104\\nsamples = 82\\nvalue = 801.72'),\n Text(256.928, 117.77999999999999, 'X[4] <= 792.0\\nmse = 48.492\\nsamples = 47\\nvalue = 790.383'),\n Text(253.456, 99.66, 'X[4] <= 787.5\\nmse = 17.232\\nsamples = 30\\nvalue = 785.967'),\n Text(250.976, 81.53999999999999, 'X[4] <= 782.5\\nmse = 6.298\\nsamples = 17\\nvalue = 782.765'),\n Text(248.992, 63.41999999999999, 'X[4] <= 779.5\\nmse = 1.484\\nsamples = 8\\nvalue = 780.375'),\n Text(248.0, 45.29999999999998, 'X[0] <= 0.002\\nmse = 0.25\\nsamples = 2\\nvalue = 778.5'),\n Text(247.504, 27.17999999999998, 'mse = 0.0\\nsamples = 1\\nvalue = 779.0'),\n Text(248.496, 27.17999999999998, 'mse = 0.0\\nsamples = 1\\nvalue = 778.0'),\n Text(249.984, 45.29999999999998, 'X[4] <= 780.5\\nmse = 0.333\\nsamples = 6\\nvalue = 781.0'),\n Text(249.488, 27.17999999999998, 'mse = 0.0\\nsamples = 1\\nvalue = 780.0'),\n Text(250.48, 27.17999999999998, 'X[1] <= 0.023\\nmse = 0.16\\nsamples = 5\\nvalue = 781.2'),\n Text(249.984, 9.059999999999974, 'mse = 0.0\\nsamples = 4\\nvalue = 781.0'),\n Text(250.976, 9.059999999999974, 'mse = 0.0\\nsamples = 1\\nvalue = 782.0'),\n Text(252.96, 63.41999999999999, 'X[4] <= 784.5\\nmse = 0.988\\nsamples = 9\\nvalue = 784.889'),\n Text(251.968, 45.29999999999998, 'X[2] <= 0.001\\nmse = 0.222\\nsamples = 3\\nvalue = 783.667'),\n Text(251.472, 27.17999999999998, 'mse = 0.0\\nsamples = 1\\nvalue = 783.0'),\n Text(252.464, 27.17999999999998, 'mse = 0.0\\nsamples = 2\\nvalue = 784.0'),\n Text(253.952, 45.29999999999998, 'X[4] <= 785.5\\nmse = 0.25\\nsamples = 6\\nvalue = 785.5'),\n Text(253.456, 27.17999999999998, 'mse = 0.0\\nsamples = 3\\nvalue = 785.0'),\n Text(254.448, 27.17999999999998, 'mse = 0.0\\nsamples = 3\\nvalue = 786.0'),\n Text(255.936, 81.53999999999999, 'X[4] <= 790.5\\nmse = 0.592\\nsamples = 13\\nvalue = 790.154'),\n Text(255.44, 63.41999999999999, 'X[4] <= 789.5\\nmse = 0.234\\nsamples = 8\\nvalue = 789.625'),\n Text(254.944, 45.29999999999998, 'mse = 0.0\\nsamples = 3\\nvalue = 789.0'),\n Text(255.936, 45.29999999999998, 'mse = 0.0\\nsamples = 5\\nvalue = 790.0'),\n Text(256.432, 63.41999999999999, 'mse = 0.0\\nsamples = 5\\nvalue = 791.0'),\n Text(260.4, 99.66, 'X[4] <= 798.0\\nmse = 8.498\\nsamples = 17\\nvalue = 798.176'),\n Text(258.416, 81.53999999999999, 'X[4] <= 794.5\\nmse = 1.429\\nsamples = 7\\nvalue = 795.0'),\n Text(257.424, 63.41999999999999, 'X[3] <= 0.0\\nmse = 0.25\\nsamples = 2\\nvalue = 793.5'),\n Text(256.928, 45.29999999999998, 'mse = 0.0\\nsamples = 1\\nvalue = 793.0'),\n Text(257.92, 45.29999999999998, 'mse = 0.0\\nsamples = 1\\nvalue = 794.0'),\n Text(259.408, 63.41999999999999, 'X[1] <= 0.019\\nmse = 0.64\\nsamples = 5\\nvalue = 795.6'),\n Text(258.912, 45.29999999999998, 'X[2] <= 0.007\\nmse = 0.25\\nsamples = 2\\nvalue = 796.5'),\n Text(258.416, 27.17999999999998, 'mse = 0.0\\nsamples = 1\\nvalue = 796.0'),\n Text(259.408, 27.17999999999998, 'mse = 0.0\\nsamples = 1\\nvalue = 797.0'),\n Text(259.904, 45.29999999999998, 'mse = 0.0\\nsamples = 3\\nvalue = 795.0'),\n Text(262.384, 81.53999999999999, 'X[4] <= 800.5\\nmse = 1.44\\nsamples = 10\\nvalue = 800.4'),\n Text(261.392, 63.41999999999999, 'X[4] <= 799.5\\nmse = 0.25\\nsamples = 6\\nvalue = 799.5'),\n Text(260.896, 45.29999999999998, 'mse = 0.0\\nsamples = 3\\nvalue = 799.0'),\n Text(261.888, 45.29999999999998, 'mse = 0.0\\nsamples = 3\\nvalue = 800.0'),\n Text(263.376, 63.41999999999999, 'X[1] <= 0.017\\nmse = 0.188\\nsamples = 4\\nvalue = 801.75'),\n Text(262.88, 45.29999999999998, 'mse = 0.0\\nsamples = 3\\nvalue = 802.0'),\n Text(263.872, 45.29999999999998, 'mse = 0.0\\nsamples = 1\\nvalue = 801.0'),\n Text(270.94, 117.77999999999999, 'X[4] <= 819.0\\nmse = 62.625\\nsamples = 35\\nvalue = 816.943'),\n Text(267.84, 99.66, 'X[4] <= 811.0\\nmse = 12.794\\nsamples = 21\\nvalue = 811.333'),\n Text(266.352, 81.53999999999999, 'X[4] <= 809.0\\nmse = 3.09\\nsamples = 10\\nvalue = 808.1'),\n Text(265.856, 63.41999999999999, 'X[4] <= 806.5\\nmse = 1.139\\nsamples = 6\\nvalue = 806.833'),\n Text(264.864, 45.29999999999998, 'X[2] <= 0.003\\nmse = 0.25\\nsamples = 2\\nvalue = 805.5'),\n Text(264.368, 27.17999999999998, 'mse = 0.0\\nsamples = 1\\nvalue = 806.0'),\n Text(265.36, 27.17999999999998, 'mse = 0.0\\nsamples = 1\\nvalue = 805.0'),\n Text(266.848, 45.29999999999998, 'X[4] <= 807.5\\nmse = 0.25\\nsamples = 4\\nvalue = 807.5'),\n Text(266.352, 27.17999999999998, 'mse = 0.0\\nsamples = 2\\nvalue = 807.0'),\n Text(267.344, 27.17999999999998, 'mse = 0.0\\nsamples = 2\\nvalue = 808.0'),\n Text(266.848, 63.41999999999999, 'mse = 0.0\\nsamples = 4\\nvalue = 810.0'),\n Text(269.328, 81.53999999999999, 'X[4] <= 814.5\\nmse = 3.471\\nsamples = 11\\nvalue = 814.273'),\n Text(268.336, 63.41999999999999, 'X[4] <= 812.5\\nmse = 0.472\\nsamples = 6\\nvalue = 812.833'),\n Text(267.84, 45.29999999999998, 'mse = 0.0\\nsamples = 2\\nvalue = 812.0'),\n Text(268.832, 45.29999999999998, 'X[1] <= 0.022\\nmse = 0.188\\nsamples = 4\\nvalue = 813.25'),\n Text(268.336, 27.17999999999998, 'mse = 0.0\\nsamples = 3\\nvalue = 813.0'),\n Text(269.328, 27.17999999999998, 'mse = 0.0\\nsamples = 1\\nvalue = 814.0'),\n Text(270.32, 63.41999999999999, 'X[4] <= 816.0\\nmse = 1.6\\nsamples = 5\\nvalue = 816.0'),\n Text(269.824, 45.29999999999998, 'mse = 0.0\\nsamples = 3\\nvalue = 815.0'),\n Text(270.816, 45.29999999999998, 'X[2] <= 0.005\\nmse = 0.25\\nsamples = 2\\nvalue = 817.5'),\n Text(270.32, 27.17999999999998, 'mse = 0.0\\nsamples = 1\\nvalue = 818.0'),\n Text(271.312, 27.17999999999998, 'mse = 0.0\\nsamples = 1\\nvalue = 817.0'),\n Text(274.04, 99.66, 'X[4] <= 825.0\\nmse = 19.372\\nsamples = 14\\nvalue = 825.357'),\n Text(272.8, 81.53999999999999, 'X[4] <= 823.0\\nmse = 1.633\\nsamples = 7\\nvalue = 821.286'),\n Text(272.304, 63.41999999999999, 'X[1] <= 0.014\\nmse = 0.472\\nsamples = 6\\nvalue = 820.833'),\n Text(271.808, 45.29999999999998, 'mse = 0.0\\nsamples = 2\\nvalue = 820.0'),\n Text(272.8, 45.29999999999998, 'X[1] <= 0.031\\nmse = 0.188\\nsamples = 4\\nvalue = 821.25'),\n Text(272.304, 27.17999999999998, 'mse = 0.0\\nsamples = 3\\nvalue = 821.0'),\n Text(273.296, 27.17999999999998, 'mse = 0.0\\nsamples = 1\\nvalue = 822.0'),\n Text(273.296, 63.41999999999999, 'mse = 0.0\\nsamples = 1\\nvalue = 824.0'),\n Text(275.28, 81.53999999999999, 'X[4] <= 828.5\\nmse = 3.959\\nsamples = 7\\nvalue = 829.429'),\n Text(274.288, 63.41999999999999, 'X[0] <= 0.001\\nmse = 0.25\\nsamples = 2\\nvalue = 826.5'),\n Text(273.792, 45.29999999999998, 'mse = 0.0\\nsamples = 1\\nvalue = 827.0'),\n Text(274.784, 45.29999999999998, 'mse = 0.0\\nsamples = 1\\nvalue = 826.0'),\n Text(276.272, 63.41999999999999, 'X[0] <= 0.001\\nmse = 0.64\\nsamples = 5\\nvalue = 830.6'),\n Text(275.776, 45.29999999999998, 'mse = 0.0\\nsamples = 3\\nvalue = 830.0'),\n Text(276.768, 45.29999999999998, 'X[3] <= 0.0\\nmse = 0.25\\nsamples = 2\\nvalue = 831.5'),\n Text(276.272, 27.17999999999998, 'mse = 0.0\\nsamples = 1\\nvalue = 831.0'),\n Text(277.264, 27.17999999999998, 'mse = 0.0\\nsamples = 1\\nvalue = 832.0'),\n Text(319.01324999999997, 190.26, 'X[4] <= 993.0\\nmse = 6534.704\\nsamples = 602\\nvalue = 1057.47'),\n Text(308.3105, 172.14, 'X[4] <= 898.5\\nmse = 1240.367\\nsamples = 98\\nvalue = 877.286'),\n Text(294.996, 154.01999999999998, 'X[4] <= 860.5\\nmse = 271.69\\nsamples = 75\\nvalue = 860.493'),\n Text(285.262, 135.89999999999998, 'X[4] <= 846.5\\nmse = 68.115\\nsamples = 37\\nvalue = 846.216'),\n Text(281.728, 117.77999999999999, 'X[4] <= 838.5\\nmse = 12.737\\nsamples = 19\\nvalue = 839.0'),\n Text(279.74399999999997, 99.66, 'X[4] <= 835.5\\nmse = 2.395\\nsamples = 9\\nvalue = 835.778'),\n Text(278.752, 81.53999999999999, 'X[4] <= 834.5\\nmse = 0.688\\nsamples = 4\\nvalue = 834.25'),\n Text(278.256, 63.41999999999999, 'X[2] <= 0.006\\nmse = 0.25\\nsamples = 2\\nvalue = 833.5'),\n Text(277.76, 45.29999999999998, 'mse = 0.0\\nsamples = 1\\nvalue = 834.0'),\n Text(278.752, 45.29999999999998, 'mse = 0.0\\nsamples = 1\\nvalue = 833.0'),\n Text(279.248, 63.41999999999999, 'mse = 0.0\\nsamples = 2\\nvalue = 835.0'),\n Text(280.736, 81.53999999999999, 'X[3] <= 0.0\\nmse = 0.4\\nsamples = 5\\nvalue = 837.0'),\n Text(280.24, 63.41999999999999, 'mse = 0.0\\nsamples = 1\\nvalue = 838.0'),\n Text(281.23199999999997, 63.41999999999999, 'X[4] <= 836.5\\nmse = 0.188\\nsamples = 4\\nvalue = 836.75'),\n Text(280.736, 45.29999999999998, 'mse = 0.0\\nsamples = 1\\nvalue = 836.0'),\n Text(281.728, 45.29999999999998, 'mse = 0.0\\nsamples = 3\\nvalue = 837.0'),\n Text(283.712, 99.66, 'X[4] <= 841.0\\nmse = 4.29\\nsamples = 10\\nvalue = 841.9'),\n Text(282.71999999999997, 81.53999999999999, 'X[4] <= 839.5\\nmse = 0.188\\nsamples = 4\\nvalue = 839.75'),\n Text(282.224, 63.41999999999999, 'mse = 0.0\\nsamples = 1\\nvalue = 839.0'),\n Text(283.216, 63.41999999999999, 'mse = 0.0\\nsamples = 3\\nvalue = 840.0'),\n Text(284.704, 81.53999999999999, 'X[2] <= 0.009\\nmse = 1.889\\nsamples = 6\\nvalue = 843.333'),\n Text(284.20799999999997, 63.41999999999999, 'X[2] <= 0.004\\nmse = 0.56\\nsamples = 5\\nvalue = 842.8'),\n Text(283.712, 45.29999999999998, 'mse = 0.0\\nsamples = 2\\nvalue = 842.0'),\n Text(284.704, 45.29999999999998, 'X[1] <= 0.018\\nmse = 0.222\\nsamples = 3\\nvalue = 843.333'),\n Text(284.20799999999997, 27.17999999999998, 'mse = 0.0\\nsamples = 2\\nvalue = 843.0'),\n Text(285.2, 27.17999999999998, 'mse = 0.0\\nsamples = 1\\nvalue = 844.0'),\n Text(285.2, 63.41999999999999, 'mse = 0.0\\nsamples = 1\\nvalue = 846.0'),\n Text(288.796, 117.77999999999999, 'X[4] <= 852.5\\nmse = 13.583\\nsamples = 18\\nvalue = 853.833'),\n Text(286.192, 99.66, 'X[1] <= 0.011\\nmse = 3.889\\nsamples = 6\\nvalue = 849.667'),\n Text(285.696, 81.53999999999999, 'mse = 0.0\\nsamples = 2\\nvalue = 847.0'),\n Text(286.688, 81.53999999999999, 'X[2] <= 0.004\\nmse = 0.5\\nsamples = 4\\nvalue = 851.0'),\n Text(286.192, 63.41999999999999, 'mse = 0.0\\nsamples = 1\\nvalue = 852.0'),\n Text(287.184, 63.41999999999999, 'X[4] <= 850.5\\nmse = 0.222\\nsamples = 3\\nvalue = 850.667'),\n Text(286.688, 45.29999999999998, 'mse = 0.0\\nsamples = 1\\nvalue = 850.0'),\n Text(287.68, 45.29999999999998, 'mse = 0.0\\nsamples = 2\\nvalue = 851.0'),\n Text(291.4, 99.66, 'X[4] <= 857.0\\nmse = 5.41\\nsamples = 12\\nvalue = 855.917'),\n Text(290.16, 81.53999999999999, 'X[4] <= 854.5\\nmse = 0.734\\nsamples = 8\\nvalue = 854.375'),\n Text(289.168, 63.41999999999999, 'X[4] <= 853.5\\nmse = 0.16\\nsamples = 5\\nvalue = 853.8'),\n Text(288.672, 45.29999999999998, 'mse = 0.0\\nsamples = 1\\nvalue = 853.0'),\n Text(289.664, 45.29999999999998, 'mse = 0.0\\nsamples = 4\\nvalue = 854.0'),\n Text(291.152, 63.41999999999999, 'X[4] <= 855.5\\nmse = 0.222\\nsamples = 3\\nvalue = 855.333'),\n Text(290.656, 45.29999999999998, 'mse = 0.0\\nsamples = 2\\nvalue = 855.0'),\n Text(291.648, 45.29999999999998, 'mse = 0.0\\nsamples = 1\\nvalue = 856.0'),\n Text(292.64, 81.53999999999999, 'X[4] <= 858.5\\nmse = 0.5\\nsamples = 4\\nvalue = 859.0'),\n Text(292.144, 63.41999999999999, 'mse = 0.0\\nsamples = 1\\nvalue = 858.0'),\n Text(293.136, 63.41999999999999, 'X[3] <= 0.0\\nmse = 0.222\\nsamples = 3\\nvalue = 859.333'),\n Text(292.64, 45.29999999999998, 'mse = 0.0\\nsamples = 1\\nvalue = 860.0'),\n Text(293.632, 45.29999999999998, 'mse = 0.0\\nsamples = 2\\nvalue = 859.0'),\n Text(304.73, 135.89999999999998, 'X[4] <= 874.5\\nmse = 78.186\\nsamples = 38\\nvalue = 874.395'),\n Text(300.204, 117.77999999999999, 'X[4] <= 868.0\\nmse = 14.903\\nsamples = 19\\nvalue = 866.789'),\n Text(297.848, 99.66, 'X[4] <= 864.5\\nmse = 2.876\\nsamples = 11\\nvalue = 863.818'),\n Text(296.112, 81.53999999999999, 'X[4] <= 862.5\\nmse = 0.776\\nsamples = 7\\nvalue = 862.714'),\n Text(295.12, 63.41999999999999, 'X[4] <= 861.5\\nmse = 0.25\\nsamples = 2\\nvalue = 861.5'),\n Text(294.624, 45.29999999999998, 'mse = 0.0\\nsamples = 1\\nvalue = 861.0'),\n Text(295.616, 45.29999999999998, 'mse = 0.0\\nsamples = 1\\nvalue = 862.0'),\n Text(297.104, 63.41999999999999, 'X[3] <= 0.0\\nmse = 0.16\\nsamples = 5\\nvalue = 863.2'),\n Text(296.608, 45.29999999999998, 'mse = 0.0\\nsamples = 4\\nvalue = 863.0'),\n Text(297.6, 45.29999999999998, 'mse = 0.0\\nsamples = 1\\nvalue = 864.0'),\n Text(299.584, 81.53999999999999, 'X[3] <= 0.0\\nmse = 0.688\\nsamples = 4\\nvalue = 865.75'),\n Text(299.088, 63.41999999999999, 'X[2] <= 0.004\\nmse = 0.25\\nsamples = 2\\nvalue = 866.5'),\n Text(298.592, 45.29999999999998, 'mse = 0.0\\nsamples = 1\\nvalue = 867.0'),\n Text(299.584, 45.29999999999998, 'mse = 0.0\\nsamples = 1\\nvalue = 866.0'),\n Text(300.08, 63.41999999999999, 'mse = 0.0\\nsamples = 2\\nvalue = 865.0'),\n Text(302.56, 99.66, 'X[4] <= 871.5\\nmse = 2.609\\nsamples = 8\\nvalue = 870.875'),\n Text(301.568, 81.53999999999999, 'X[4] <= 869.5\\nmse = 0.56\\nsamples = 5\\nvalue = 869.8'),\n Text(301.072, 63.41999999999999, 'mse = 0.0\\nsamples = 2\\nvalue = 869.0'),\n Text(302.064, 63.41999999999999, 'X[4] <= 870.5\\nmse = 0.222\\nsamples = 3\\nvalue = 870.333'),\n Text(301.568, 45.29999999999998, 'mse = 0.0\\nsamples = 2\\nvalue = 870.0'),\n Text(302.56, 45.29999999999998, 'mse = 0.0\\nsamples = 1\\nvalue = 871.0'),\n Text(303.552, 81.53999999999999, 'X[2] <= 0.004\\nmse = 0.889\\nsamples = 3\\nvalue = 872.667'),\n Text(303.056, 63.41999999999999, 'mse = 0.0\\nsamples = 1\\nvalue = 874.0'),\n Text(304.048, 63.41999999999999, 'mse = 0.0\\nsamples = 2\\nvalue = 872.0'),\n Text(309.256, 117.77999999999999, 'X[4] <= 883.0\\nmse = 25.789\\nsamples = 19\\nvalue = 882.0'),\n Text(307.024, 99.66, 'X[4] <= 878.5\\nmse = 5.14\\nsamples = 11\\nvalue = 878.364'),\n Text(305.536, 81.53999999999999, 'X[4] <= 876.0\\nmse = 1.556\\nsamples = 6\\nvalue = 876.667'),\n Text(305.04, 63.41999999999999, 'mse = 0.0\\nsamples = 2\\nvalue = 875.0'),\n Text(306.032, 63.41999999999999, 'X[4] <= 877.5\\nmse = 0.25\\nsamples = 4\\nvalue = 877.5'),\n Text(305.536, 45.29999999999998, 'mse = 0.0\\nsamples = 2\\nvalue = 877.0'),\n Text(306.528, 45.29999999999998, 'mse = 0.0\\nsamples = 2\\nvalue = 878.0'),\n Text(308.512, 81.53999999999999, 'X[1] <= 0.014\\nmse = 1.84\\nsamples = 5\\nvalue = 880.4'),\n Text(308.016, 63.41999999999999, 'X[3] <= 0.0\\nmse = 0.222\\nsamples = 3\\nvalue = 879.333'),\n Text(307.52, 45.29999999999998, 'mse = 0.0\\nsamples = 2\\nvalue = 879.0'),\n Text(308.512, 45.29999999999998, 'mse = 0.0\\nsamples = 1\\nvalue = 880.0'),\n Text(309.008, 63.41999999999999, 'mse = 0.0\\nsamples = 2\\nvalue = 882.0'),\n Text(311.488, 99.66, 'X[4] <= 891.5\\nmse = 11.0\\nsamples = 8\\nvalue = 887.0'),\n Text(310.992, 81.53999999999999, 'X[4] <= 885.5\\nmse = 2.122\\nsamples = 7\\nvalue = 885.857'),\n Text(310.0, 63.41999999999999, 'X[2] <= 0.006\\nmse = 0.222\\nsamples = 3\\nvalue = 884.333'),\n Text(309.504, 45.29999999999998, 'mse = 0.0\\nsamples = 2\\nvalue = 884.0'),\n Text(310.496, 45.29999999999998, 'mse = 0.0\\nsamples = 1\\nvalue = 885.0'),\n Text(311.984, 63.41999999999999, 'X[0] <= 0.001\\nmse = 0.5\\nsamples = 4\\nvalue = 887.0'),\n Text(311.488, 45.29999999999998, 'mse = 0.0\\nsamples = 1\\nvalue = 888.0'),\n Text(312.48, 45.29999999999998, 'X[4] <= 886.5\\nmse = 0.222\\nsamples = 3\\nvalue = 886.667'),\n Text(311.984, 27.17999999999998, 'mse = 0.0\\nsamples = 1\\nvalue = 886.0'),\n Text(312.976, 27.17999999999998, 'mse = 0.0\\nsamples = 2\\nvalue = 887.0'),\n Text(311.984, 81.53999999999999, 'mse = 0.0\\nsamples = 1\\nvalue = 895.0'),\n Text(321.625, 154.01999999999998, 'X[4] <= 950.5\\nmse = 481.172\\nsamples = 23\\nvalue = 932.043'),\n Text(317.874, 135.89999999999998, 'X[4] <= 916.5\\nmse = 141.823\\nsamples = 19\\nvalue = 923.421'),\n Text(314.96, 117.77999999999999, 'X[4] <= 909.0\\nmse = 11.556\\nsamples = 6\\nvalue = 907.667'),\n Text(313.968, 99.66, 'X[0] <= 0.002\\nmse = 5.188\\nsamples = 4\\nvalue = 905.75'),\n Text(313.472, 81.53999999999999, 'X[1] <= 0.003\\nmse = 0.667\\nsamples = 3\\nvalue = 907.0'),\n Text(312.976, 63.41999999999999, 'mse = 0.0\\nsamples = 1\\nvalue = 906.0'),\n Text(313.968, 63.41999999999999, 'X[0] <= 0.001\\nmse = 0.25\\nsamples = 2\\nvalue = 907.5'),\n Text(313.472, 45.29999999999998, 'mse = 0.0\\nsamples = 1\\nvalue = 907.0'),\n Text(314.464, 45.29999999999998, 'mse = 0.0\\nsamples = 1\\nvalue = 908.0'),\n Text(314.464, 81.53999999999999, 'mse = 0.0\\nsamples = 1\\nvalue = 902.0'),\n Text(315.952, 99.66, 'X[0] <= 0.001\\nmse = 2.25\\nsamples = 2\\nvalue = 911.5'),\n Text(315.456, 81.53999999999999, 'mse = 0.0\\nsamples = 1\\nvalue = 913.0'),\n Text(316.448, 81.53999999999999, 'mse = 0.0\\nsamples = 1\\nvalue = 910.0'),\n Text(320.788, 117.77999999999999, 'X[4] <= 931.5\\nmse = 34.521\\nsamples = 13\\nvalue = 930.692'),\n Text(318.68, 99.66, 'X[2] <= 0.003\\nmse = 10.857\\nsamples = 7\\nvalue = 926.0'),\n Text(317.44, 81.53999999999999, 'X[4] <= 928.5\\nmse = 1.25\\nsamples = 4\\nvalue = 928.5'),\n Text(316.448, 63.41999999999999, 'X[0] <= 0.001\\nmse = 0.25\\nsamples = 2\\nvalue = 927.5'),\n Text(315.952, 45.29999999999998, 'mse = 0.0\\nsamples = 1\\nvalue = 928.0'),\n Text(316.944, 45.29999999999998, 'mse = 0.0\\nsamples = 1\\nvalue = 927.0'),\n Text(318.432, 63.41999999999999, 'X[1] <= 0.009\\nmse = 0.25\\nsamples = 2\\nvalue = 929.5'),\n Text(317.936, 45.29999999999998, 'mse = 0.0\\nsamples = 1\\nvalue = 930.0'),\n Text(318.928, 45.29999999999998, 'mse = 0.0\\nsamples = 1\\nvalue = 929.0'),\n Text(319.92, 81.53999999999999, 'X[4] <= 921.5\\nmse = 4.222\\nsamples = 3\\nvalue = 922.667'),\n Text(319.424, 63.41999999999999, 'mse = 0.0\\nsamples = 1\\nvalue = 920.0'),\n Text(320.416, 63.41999999999999, 'X[4] <= 924.0\\nmse = 1.0\\nsamples = 2\\nvalue = 924.0'),\n Text(319.92, 45.29999999999998, 'mse = 0.0\\nsamples = 1\\nvalue = 923.0'),\n Text(320.912, 45.29999999999998, 'mse = 0.0\\nsamples = 1\\nvalue = 925.0'),\n Text(322.896, 99.66, 'X[4] <= 936.0\\nmse = 6.472\\nsamples = 6\\nvalue = 936.167'),\n Text(321.904, 81.53999999999999, 'X[4] <= 933.5\\nmse = 0.222\\nsamples = 3\\nvalue = 933.667'),\n Text(321.408, 63.41999999999999, 'mse = 0.0\\nsamples = 1\\nvalue = 933.0'),\n Text(322.4, 63.41999999999999, 'mse = 0.0\\nsamples = 2\\nvalue = 934.0'),\n Text(323.888, 81.53999999999999, 'X[2] <= 0.007\\nmse = 0.222\\nsamples = 3\\nvalue = 938.667'),\n Text(323.392, 63.41999999999999, 'mse = 0.0\\nsamples = 2\\nvalue = 939.0'),\n Text(324.384, 63.41999999999999, 'mse = 0.0\\nsamples = 1\\nvalue = 938.0'),\n Text(325.376, 135.89999999999998, 'X[4] <= 974.5\\nmse = 62.5\\nsamples = 4\\nvalue = 973.0'),\n Text(324.384, 117.77999999999999, 'X[1] <= 0.022\\nmse = 12.25\\nsamples = 2\\nvalue = 965.5'),\n Text(323.888, 99.66, 'mse = 0.0\\nsamples = 1\\nvalue = 969.0'),\n Text(324.88, 99.66, 'mse = 0.0\\nsamples = 1\\nvalue = 962.0'),\n Text(326.368, 117.77999999999999, 'X[1] <= 0.023\\nmse = 0.25\\nsamples = 2\\nvalue = 980.5'),\n Text(325.872, 99.66, 'mse = 0.0\\nsamples = 1\\nvalue = 980.0'),\n Text(326.864, 99.66, 'mse = 0.0\\nsamples = 1\\nvalue = 981.0'),\n Text(329.716, 172.14, 'X[4] <= 1063.0\\nmse = 23.734\\nsamples = 504\\nvalue = 1092.506'),\n Text(327.36, 154.01999999999998, 'X[2] <= 0.003\\nmse = 552.667\\nsamples = 3\\nvalue = 1038.0'),\n Text(326.864, 135.89999999999998, 'mse = 0.0\\nsamples = 1\\nvalue = 1005.0'),\n Text(327.856, 135.89999999999998, 'X[2] <= 0.004\\nmse = 12.25\\nsamples = 2\\nvalue = 1054.5'),\n Text(327.36, 117.77999999999999, 'mse = 0.0\\nsamples = 1\\nvalue = 1058.0'),\n Text(328.352, 117.77999999999999, 'mse = 0.0\\nsamples = 1\\nvalue = 1051.0'),\n Text(332.072, 154.01999999999998, 'X[4] <= 1085.0\\nmse = 2.67\\nsamples = 501\\nvalue = 1092.832'),\n Text(330.336, 135.89999999999998, 'X[4] <= 1078.0\\nmse = 36.4\\nsamples = 5\\nvalue = 1078.0'),\n Text(329.344, 117.77999999999999, 'X[0] <= 0.002\\nmse = 9.0\\nsamples = 2\\nvalue = 1071.0'),\n Text(328.848, 99.66, 'mse = 0.0\\nsamples = 1\\nvalue = 1068.0'),\n Text(329.84, 99.66, 'mse = 0.0\\nsamples = 1\\nvalue = 1074.0'),\n Text(331.328, 117.77999999999999, 'X[2] <= 0.005\\nmse = 0.222\\nsamples = 3\\nvalue = 1082.667'),\n Text(330.832, 99.66, 'mse = 0.0\\nsamples = 1\\nvalue = 1082.0'),\n Text(331.824, 99.66, 'mse = 0.0\\nsamples = 2\\nvalue = 1083.0'),\n Text(333.808, 135.89999999999998, 'X[4] <= 1091.5\\nmse = 0.09\\nsamples = 496\\nvalue = 1092.982'),\n Text(333.312, 117.77999999999999, 'X[1] <= 0.016\\nmse = 2.25\\nsamples = 2\\nvalue = 1088.5'),\n Text(332.816, 99.66, 'mse = 0.0\\nsamples = 1\\nvalue = 1090.0'),\n Text(333.808, 99.66, 'mse = 0.0\\nsamples = 1\\nvalue = 1087.0'),\n Text(334.304, 117.77999999999999, 'mse = 0.0\\nsamples = 494\\nvalue = 1093.0')]"
     },
     "execution_count": 41,
     "metadata": {},
     "output_type": "execute_result"
    },
    {
     "data": {
      "text/plain": "<Figure size 432x288 with 1 Axes>",
      "image/png": "[encoded data removed]"
     },
     "metadata": {
      "needs_background": "light"
     },
     "output_type": "display_data"
    }
   ],
   "source": [
    "graph = export_graphviz(\n",
    "    clf,\n",
    "    out_file =  \"data/regression.dot\",\n",
    "    filled = True,\n",
    "    rounded = True\n",
    ")\n",
    "print(graph)\n",
    "plot_tree(clf)"
   ],
   "metadata": {
    "collapsed": false,
    "pycharm": {
     "name": "#%%\n"
    }
   }
  },
  {
   "cell_type": "markdown",
   "source": [
    "# Ответы на контрольные вопросы"
   ],
   "metadata": {
    "collapsed": false
   }
  },
  {
   "cell_type": "markdown",
   "source": [
    "## 1. Опишите этапы построения алгоритма дерева решений для задачи классификации и регрессии. Чем они отличаются и чем схожи?\n",
    "\n",
    "Деревья решений как аналитические модели более вербализуемы и интерпретируемы, чем, скажем, нейронные сети. В обучающем множестве для примеров должно быть задано целевое значение, т.к. деревья решений являются моделями, строящимися на основе обучения с учителем. При этом, если целевая переменная дискретная (метка класса), то модель называют деревом классификации, а если непрерывная, то деревом регрессии.\n",
    "\n",
    "Собственно, само дерево решений — это метод представления решающих правил в иерархической структуре, состоящей из элементов двух типов — узлов (node) и листьев (leaf). В узлах находятся решающие правила и производится проверка соответствия примеров этому правилу по какому-либо атрибуту обучающего множества.\n",
    "\n",
    "В простейшем случае, в результате проверки, множество примеров, попавших в узел, разбивается на два подмножества, в одно из которых попадают примеры, удовлетворяющие правилу, а в другое — не удовлетворяющие.\n",
    "\n",
    "Затем к каждому подмножеству вновь применяется правило и процедура рекурсивно повторяется пока не будет достигнуто некоторое условие остановки алгоритма. В результате в последнем узле проверка и разбиение не производится и он объявляется листом. Лист определяет решение для каждого попавшего в него примера. Для дерева классификации — это класс, ассоциируемый с узлом, а для дерева регрессии — соответствующий листу модальный интервал целевой переменной.\n",
    "\n",
    "Таким образом, в отличие от узла, в листе содержится не правило, а подмножество объектов, удовлетворяющих всем правилам ветви, которая заканчивается данным листом.\n",
    "\n",
    "Очевидно, чтобы попасть в лист, пример должен удовлетворять всем правилам, лежащим на пути к этому листу. Поскольку путь в дереве к каждому листу единственный, то и каждый пример может попасть только в один лист, что обеспечивает единственность решения.\n",
    "\n",
    "В ходе построения дерева решений нужно решить несколько основных проблем, с каждой из которых связан соответствующий шаг процесса обучения:\n",
    "\n",
    "Выбор атрибута, по которому будет производиться разбиение в данном узле (атрибута разбиения).\n",
    "Выбор критерия остановки обучения.\n",
    "Выбор метода отсечения ветвей (упрощения).\n",
    "Оценка точности построенного дерева."
   ],
   "metadata": {
    "collapsed": false,
    "pycharm": {
     "name": "#%% md\n"
    }
   }
  },
  {
   "cell_type": "markdown",
   "source": [
    "## 2. Какие метрики используются для оценки качества работы алгоритмов при решении задачи регрессии? Опишите данные метрики с математической точки зрения и скажите, чем они отличаются друг от друга.\n",
    "\n",
    "1.\tCредняя абсолютная ошибка (англ. Mean Absolute Error, MAE)\n",
    "Среднеквадратичный функционал сильнее штрафует за большие отклонения по сравнению со среднеабсолютным, и поэтому более чувствителен к выбросам. При использовании любого из этих двух функционалов может быть полезно проанализировать, какие объекты вносят наибольший вклад в общую ошибку — не исключено, что на этих объектах была допущена ошибка при вычислении признаков или целевой величины.\n",
    "Среднеквадратичная ошибка подходит для сравнения двух моделей или для контроля качества во время обучения, но не позволяет сделать выводов о том, на сколько хорошо данная модель решает задачу. Например, MSE = 10 является очень плохим показателем, если целевая переменная принимает значения от 0 до 1, и очень хорошим, если целевая переменная лежит в интервале (10000, 100000). В таких ситуациях вместо среднеквадратичной ошибки полезно использовать коэффициент детерминации — R^2\n",
    "\n",
    "2.\tСредняя квадратичная ошибка (англ. Mean Squared Error, MSE)\n",
    "MSE применяется в ситуациях, когда нам надо подчеркнуть большие ошибки и выбрать модель, которая дает меньше больших ошибок прогноза. Грубые ошибки становятся заметнее за счет того, что ошибку прогноза мы возводим в квадрат. И модель, которая дает нам меньшее значение среднеквадратической ошибки, можно сказать, что что у этой модели меньше грубых ошибок.\n",
    "\n",
    "3.\tКорень из средней квадратичной ошибки (англ. Root Mean Squared Error, RMSE)\n",
    "Примерно такая же проблема, как и в MAPE: так как каждое отклонение возводится в квадрат, любое небольшое отклонение может значительно повлиять на показатель ошибки. Стоит отметить, что существует также ошибка MSE, из которой RMSE как раз и получается путем извлечения корня.\n",
    "\n",
    "4.\tСредняя абсолютная процентная ошибка (англ. Mean Absolute Percentage Error, MAPE)\n",
    "Это коэффициент, не имеющий размерности, с очень простой интерпретацией. Его можно измерять в долях или процентах. Если у вас получилось, например, что MAPE=11.4%, то это говорит о том, что ошибка составила 11,4% от фактических значений. Основная проблема данной ошибки — нестабильность.\n",
    "\n",
    "5.\tКоэффициент детерминации\n",
    "Коэффициент детерминации измеряет долю дисперсии, объясненную моделью, в общей дисперсии целевой переменной. Фактически, данная мера качества — это нормированная среднеквадратичная ошибка. Если она близка к единице, то модель хорошо объясняет данные, если же она близка к нулю, то прогнозы сопоставимы по качеству с константным предсказанием."
   ],
   "metadata": {
    "collapsed": false
   }
  },
  {
   "cell_type": "markdown",
   "source": [
    "## 3. Каким способом можно повысить качество работы алгоритмов регрессии?\n",
    "\n",
    "Чтобы повысить качество кластеризации у нас есть два варианта. 1) Применить метрики, посмотреть результат и попробовать другой метод(алгоритм) кластеризации. 2) Применить метрики, посмотреть результат и изменить или добавить информативные признаки.(Это исходя из пункта 21 самой работы)\n",
    "\n",
    "На повышение качества работы алгоритма оказывают влияние правильно подобранные гиперпараметры. Есть три подхода в оптимизации гиперпараметров: Байесовская оптимизация, поиск по решетке и случайный поиск. Как правило, самым эффективным подходом оказывается Байесовская оптимизация.\n",
    "1) Байесовская оптимизация - значения гиперпараметров в текущей итерации выбираются с учётом результатов на предыдущем шаге. Основная идея алгоритма заключается в следующем – на каждой итерации подбора находится компромисс между исследованием регионов с самыми удачными из найденных комбинаций гиперпараметров и исследованием регионов с большой неопределённостью (где могут находиться ещё более удачные комбинации).\n",
    "2) Поиск по решётке - в этом способе значения гиперпараметров задаются вручную, затем выполняется их полный перебор. Популярной реализацией этого метода является Grid Search из sklearn."
   ],
   "metadata": {
    "collapsed": false
   }
  }
 ],
 "metadata": {
  "kernelspec": {
   "display_name": "Python 3",
   "language": "python",
   "name": "python3"
  },
  "language_info": {
   "codemirror_mode": {
    "name": "ipython",
    "version": 2
   },
   "file_extension": ".py",
   "mimetype": "text/x-python",
   "name": "python",
   "nbconvert_exporter": "python",
   "pygments_lexer": "ipython2",
   "version": "2.7.6"
  }
 },
 "nbformat": 4,
 "nbformat_minor": 0
}