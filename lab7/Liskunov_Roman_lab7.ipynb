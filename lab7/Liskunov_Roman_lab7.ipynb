{
 "cells": [
  {
   "cell_type": "markdown",
   "metadata": {
    "collapsed": true,
    "pycharm": {
     "name": "#%% md\n"
    }
   },
   "source": [
    "# Техники градиентного бустинга, бэггинга и стэкинга для решения задач классификации и регрессии\n",
    "Группа: ИВТ-М20.<br/>\n",
    "Студент: Лискунов Роман Геннадьвич"
   ]
  },
  {
   "cell_type": "code",
   "execution_count": 1,
   "outputs": [],
   "source": [
    "from math import isnan\n",
    "from pprint import pprint\n",
    "from typing import (\n",
    "    Any,\n",
    "    Union\n",
    ")\n",
    "from warnings import filterwarnings\n",
    "\n",
    "from pandas import (\n",
    "    DataFrame,\n",
    "    read_csv,\n",
    "    Series,\n",
    "    read_table\n",
    ")\n",
    "from sklearn.ensemble import (\n",
    "    RandomForestClassifier,\n",
    "    GradientBoostingClassifier,\n",
    "    StackingClassifier\n",
    ")\n",
    "from sklearn.linear_model import LogisticRegression\n",
    "from sklearn.metrics import (\n",
    "    classification_report,\n",
    "    accuracy_score\n",
    ")\n",
    "from sklearn.model_selection import (\n",
    "    train_test_split, GridSearchCV\n",
    ")\n",
    "from sklearn.pipeline import make_pipeline\n",
    "from sklearn.preprocessing import StandardScaler\n",
    "from sklearn.svm import LinearSVC\n",
    "from sklearn.tree import DecisionTreeClassifier"
   ],
   "metadata": {
    "collapsed": false,
    "pycharm": {
     "name": "#%%\n"
    }
   }
  },
  {
   "cell_type": "code",
   "execution_count": 2,
   "outputs": [],
   "source": [
    "filterwarnings('ignore')"
   ],
   "metadata": {
    "collapsed": false,
    "pycharm": {
     "name": "#%%\n"
    }
   }
  },
  {
   "cell_type": "markdown",
   "source": [
    "## Прочтите данные из файлов"
   ],
   "metadata": {
    "collapsed": false
   }
  },
  {
   "cell_type": "code",
   "execution_count": 3,
   "outputs": [
    {
     "data": {
      "text/plain": "(1042, 16)"
     },
     "execution_count": 3,
     "metadata": {},
     "output_type": "execute_result"
    }
   ],
   "source": [
    "sop1: DataFrame = DataFrame(\n",
    "    read_table(\n",
    "        \"data/train/SOP1.dat\",\n",
    "        sep=\"\\s\",\n",
    "        header=0\n",
    "    )\n",
    ")\n",
    "sop1 = sop1.drop('0000', axis=1)\n",
    "sop1.name = \"SOP1\"\n",
    "sop1.shape"
   ],
   "metadata": {
    "collapsed": false,
    "pycharm": {
     "name": "#%%\n"
    }
   }
  },
  {
   "cell_type": "code",
   "execution_count": 4,
   "outputs": [
    {
     "data": {
      "text/plain": "(1039, 16)"
     },
     "execution_count": 4,
     "metadata": {},
     "output_type": "execute_result"
    }
   ],
   "source": [
    "sop2: DataFrame = DataFrame(\n",
    "    read_table(\n",
    "        \"data/train/SOP2.dat\",\n",
    "        sep=\"\\s\",\n",
    "        header=0\n",
    "    )\n",
    ")\n",
    "sop2 = sop2.drop('0000', axis=1)\n",
    "sop2.name = \"SOP2\"\n",
    "sop2.shape"
   ],
   "metadata": {
    "collapsed": false,
    "pycharm": {
     "name": "#%%\n"
    }
   }
  },
  {
   "cell_type": "code",
   "execution_count": 5,
   "outputs": [
    {
     "data": {
      "text/plain": "(1038, 16)"
     },
     "execution_count": 5,
     "metadata": {},
     "output_type": "execute_result"
    }
   ],
   "source": [
    "sop3: DataFrame = DataFrame(\n",
    "    read_table(\n",
    "        \"data/train/SOP3.dat\",\n",
    "        sep=\"\\s\",\n",
    "        header=0\n",
    "    )\n",
    ")\n",
    "sop3 = sop3.drop('0000', axis=1)\n",
    "sop3.name = \"SOP3\"\n",
    "sop3.shape"
   ],
   "metadata": {
    "collapsed": false,
    "pycharm": {
     "name": "#%%\n"
    }
   }
  },
  {
   "cell_type": "code",
   "execution_count": 6,
   "outputs": [],
   "source": [
    "target1: DataFrame = DataFrame(\n",
    "    read_csv(\n",
    "        \"data/train/target1.csv\",\n",
    "        sep=\",\",\n",
    "        header=0\n",
    "    )\n",
    ")\n",
    "target1.name = \"target1\""
   ],
   "metadata": {
    "collapsed": false,
    "pycharm": {
     "name": "#%%\n"
    }
   }
  },
  {
   "cell_type": "code",
   "execution_count": 7,
   "outputs": [],
   "source": [
    "target2: DataFrame = DataFrame(\n",
    "    read_csv(\n",
    "        \"data/train/target2.csv\",\n",
    "        sep=\",\",\n",
    "        header=0\n",
    "    )\n",
    ")\n",
    "target2.name = \"target2\""
   ],
   "metadata": {
    "collapsed": false,
    "pycharm": {
     "name": "#%%\n"
    }
   }
  },
  {
   "cell_type": "code",
   "execution_count": 8,
   "outputs": [],
   "source": [
    "target3: DataFrame = DataFrame(\n",
    "    read_csv(\n",
    "        \"data/train/target3.csv\",\n",
    "        sep=\",\",\n",
    "        header=0\n",
    "    )\n",
    ")\n",
    "target3.name = \"target3\""
   ],
   "metadata": {
    "collapsed": false,
    "pycharm": {
     "name": "#%%\n"
    }
   }
  },
  {
   "cell_type": "markdown",
   "source": [
    "##  Отобразите несколько первых и несколько последних записей."
   ],
   "metadata": {
    "collapsed": false
   }
  },
  {
   "cell_type": "code",
   "execution_count": 9,
   "outputs": [],
   "source": [
    "def printer(variable: DataFrame) -> None:\n",
    "    pprint(variable.name)\n",
    "    print(end=\"\\n\")\n",
    "    pprint(variable.head())\n",
    "    print(end=\"\\n\\n\")\n",
    "    pprint(variable.tail())\n",
    "    print(end=\"\\n\\n\\n\\n\")"
   ],
   "metadata": {
    "collapsed": false,
    "pycharm": {
     "name": "#%%\n"
    }
   }
  },
  {
   "cell_type": "code",
   "execution_count": 10,
   "outputs": [
    {
     "name": "stdout",
     "output_type": "stream",
     "text": [
      "'SOP1'\n",
      "\n",
      "   29-08-03  12:34:21  +20C  Unnamed: 4  Unnamed: 5  257  Unnamed: 7  \\\n",
      "0         0        35   202          27          29   35           0   \n",
      "1         0        23   190          27          22   29           0   \n",
      "2         1         0   188          24          10   13           0   \n",
      "3         5         0   183          26           6    1           0   \n",
      "4         4         0   188          32           4    0           0   \n",
      "\n",
      "   Unnamed: 8  325  Unnamed: 10  Unnamed: 11   16  Unnamed: 13  Unnamed: 14  \\\n",
      "0           0  255          147           54  119          125          212   \n",
      "1           0  255          147           56   95          156          223   \n",
      "2           0  255          145           59   40          172          254   \n",
      "3           0  255          153           66   22          172          255   \n",
      "4           0  255          157           62   18          170          255   \n",
      "\n",
      "    5  СОП1  \n",
      "0  17    39  \n",
      "1  13    27  \n",
      "2  10     0  \n",
      "3   7     0  \n",
      "4  14    21  \n",
      "\n",
      "\n",
      "      29-08-03  12:34:21  +20C  Unnamed: 4  Unnamed: 5  257  Unnamed: 7  \\\n",
      "1037         0         0   159          36           0    0           0   \n",
      "1038         0         0   189          56           0    0           0   \n",
      "1039         0         0   188          64          16    0           0   \n",
      "1040         0         0   177          43          25    0           0   \n",
      "1041         0         0   177          22          21    0           0   \n",
      "\n",
      "      Unnamed: 8  325  Unnamed: 10  Unnamed: 11  16  Unnamed: 13  Unnamed: 14  \\\n",
      "1037           0  255          175            0   0          127           11   \n",
      "1038           0  255          221            0   0          129            6   \n",
      "1039           0  255          232            0   0          163            0   \n",
      "1040           0  255          181            0   0          198            1   \n",
      "1041           0  255          133            0   0          217            0   \n",
      "\n",
      "       5  СОП1  \n",
      "1037   0     1  \n",
      "1038   0     9  \n",
      "1039   0    15  \n",
      "1040  11    13  \n",
      "1041   0     9  \n",
      "\n",
      "\n",
      "\n",
      "\n"
     ]
    }
   ],
   "source": [
    "printer(sop1)"
   ],
   "metadata": {
    "collapsed": false,
    "pycharm": {
     "name": "#%%\n"
    }
   }
  },
  {
   "cell_type": "code",
   "execution_count": 11,
   "outputs": [
    {
     "name": "stdout",
     "output_type": "stream",
     "text": [
      "'SOP2'\n",
      "\n",
      "   29-08-03  13:00:27  +23C  Unnamed: 4  Unnamed: 5  257  Unnamed: 7  \\\n",
      "0         0         0   175          12           0    0           0   \n",
      "1         0         0   159          10          10    0           0   \n",
      "2         0         0   139          25          48    0           0   \n",
      "3         0         0   130          54          61    0           0   \n",
      "4         0         0   110          54          57    0           0   \n",
      "\n",
      "   Unnamed: 8  325  Unnamed: 10  Unnamed: 11  16  Unnamed: 13  Unnamed: 14  \\\n",
      "0           0  255          112            0   0          233          173   \n",
      "1           0  255          108            0   0          222          173   \n",
      "2           0  255          145            0   0          230          175   \n",
      "3           0  255          216            0   1          237          185   \n",
      "4           0  236          207            3   4          239          205   \n",
      "\n",
      "    5  СОП2  \n",
      "0   2    23  \n",
      "1  10    34  \n",
      "2  18    18  \n",
      "3  52    22  \n",
      "4  43    20  \n",
      "\n",
      "\n",
      "      29-08-03  13:00:27  +23C  Unnamed: 4  Unnamed: 5  257  Unnamed: 7  \\\n",
      "1034         0         0     0           0           0    0           0   \n",
      "1035         0         0     0          17           0    0           0   \n",
      "1036         0         0     0          17           2    0           0   \n",
      "1037         0         0     0          11          26    0          11   \n",
      "1038         0         0     0           9          43    0           0   \n",
      "\n",
      "      Unnamed: 8  325  Unnamed: 10  Unnamed: 11  16  Unnamed: 13  Unnamed: 14  \\\n",
      "1034           0    0           79            0  28          166            4   \n",
      "1035           0    4          123            0  48          163           16   \n",
      "1036           0    9          122            0  34          125           31   \n",
      "1037           0    0          110            0  27          132           42   \n",
      "1038           0    0          104            0  14          147           40   \n",
      "\n",
      "       5  СОП2  \n",
      "1034   0    21  \n",
      "1035  14     2  \n",
      "1036   0    11  \n",
      "1037   0     2  \n",
      "1038   4    11  \n",
      "\n",
      "\n",
      "\n",
      "\n"
     ]
    }
   ],
   "source": [
    "printer(sop2)"
   ],
   "metadata": {
    "collapsed": false,
    "pycharm": {
     "name": "#%%\n"
    }
   }
  },
  {
   "cell_type": "code",
   "execution_count": 12,
   "outputs": [
    {
     "name": "stdout",
     "output_type": "stream",
     "text": [
      "'SOP3'\n",
      "\n",
      "   29-08-03  13:49:13  +21C  Unnamed: 4  Unnamed: 5  257  Unnamed: 7  \\\n",
      "0         0         0     0          10         148   56           0   \n",
      "1         0         0     0          28         129   55           0   \n",
      "2         0         0     0          48          94   58          13   \n",
      "3         0         0     0          54          68   51           0   \n",
      "4         0         0     0          81          46   36           0   \n",
      "\n",
      "   Unnamed: 8  325  Unnamed: 10  Unnamed: 11  16  Unnamed: 13  Unnamed: 14  \\\n",
      "0           3   39          118            0   4           88          154   \n",
      "1           0   48          150            0   0           67          140   \n",
      "2           0   16          210            0   0           47           98   \n",
      "3           0   18          244            2   0           37           73   \n",
      "4           0   16          255           11   0           41           58   \n",
      "\n",
      "    5  СОП3  \n",
      "0  49    14  \n",
      "1  54     5  \n",
      "2  59    62  \n",
      "3  29    12  \n",
      "4  15     3  \n",
      "\n",
      "\n",
      "      29-08-03  13:49:13  +21C  Unnamed: 4  Unnamed: 5  257  Unnamed: 7  \\\n",
      "1033         0         0     0         138          76   30           0   \n",
      "1034         0         0     0         134          71   45           0   \n",
      "1035         0         0     0         133          63   50           0   \n",
      "1036         0         0     0         132          41   47           0   \n",
      "1037         0         0     0         130          28   44           0   \n",
      "\n",
      "      Unnamed: 8  325  Unnamed: 10  Unnamed: 11  16  Unnamed: 13  Unnamed: 14  \\\n",
      "1033           0    1          255            0  15            9            0   \n",
      "1034           0   26          255            0  24            2            0   \n",
      "1035           0   12          255            0  27            0            0   \n",
      "1036           0    5          255            0  27            0            0   \n",
      "1037           0    8          255            0  21            0            0   \n",
      "\n",
      "      5  СОП3  \n",
      "1033  0     0  \n",
      "1034  0     0  \n",
      "1035  1     0  \n",
      "1036  0     0  \n",
      "1037  2     0  \n",
      "\n",
      "\n",
      "\n",
      "\n"
     ]
    }
   ],
   "source": [
    "printer(sop3)"
   ],
   "metadata": {
    "collapsed": false,
    "pycharm": {
     "name": "#%%\n"
    }
   }
  },
  {
   "cell_type": "code",
   "execution_count": 13,
   "outputs": [
    {
     "name": "stdout",
     "output_type": "stream",
     "text": [
      "'target1'\n",
      "\n",
      "   Начало дефекта  Длина дефекта  Высота дефекта Тип дефекта Сторона\n",
      "0              51           42.0               7           L       A\n",
      "1             200           40.0               6           L       B\n",
      "2             278           39.0               4           L       A\n",
      "3             365           43.0               6           L       B\n",
      "4             460           27.0               5           L       A\n",
      "\n",
      "\n",
      "   Начало дефекта  Длина дефекта  Высота дефекта Тип дефекта Сторона\n",
      "3             365           43.0               6           L       B\n",
      "4             460           27.0               5           L       A\n",
      "5             845           36.0               4           L       B\n",
      "6             959           62.0               6           L       A\n",
      "7             141            NaN               4           T        \n",
      "\n",
      "\n",
      "\n",
      "\n"
     ]
    }
   ],
   "source": [
    "printer(target1)"
   ],
   "metadata": {
    "collapsed": false,
    "pycharm": {
     "name": "#%%\n"
    }
   }
  },
  {
   "cell_type": "code",
   "execution_count": 14,
   "outputs": [
    {
     "name": "stdout",
     "output_type": "stream",
     "text": [
      "'target2'\n",
      "\n",
      "   Начало дефекта  Длина дефекта  Высота дефекта Тип дефекта Сторона\n",
      "0             178           37.0               6           L       B\n",
      "1             258           38.0               4           L       A\n",
      "2             337           53.0               5           L       B\n",
      "3             822           37.0               5           L       B\n",
      "4             957           48.0               5           L       A\n",
      "\n",
      "\n",
      "   Начало дефекта  Длина дефекта  Высота дефекта Тип дефекта Сторона\n",
      "1             258           38.0               4           L       A\n",
      "2             337           53.0               5           L       B\n",
      "3             822           37.0               5           L       B\n",
      "4             957           48.0               5           L       A\n",
      "5             123            NaN               3           T        \n",
      "\n",
      "\n",
      "\n",
      "\n"
     ]
    }
   ],
   "source": [
    "printer(target2)"
   ],
   "metadata": {
    "collapsed": false,
    "pycharm": {
     "name": "#%%\n"
    }
   }
  },
  {
   "cell_type": "code",
   "execution_count": 15,
   "outputs": [
    {
     "name": "stdout",
     "output_type": "stream",
     "text": [
      "'target3'\n",
      "\n",
      "   Начало дефекта  Длина дефекта  Высота дефекта Тип дефекта Сторона\n",
      "0              26           42.0               5           L       A\n",
      "1             172           47.0               6           L       B\n",
      "2             276           55.0               8           L       B\n",
      "3             795           34.0               8           L       B\n",
      "4             877           49.0               4           L       A\n",
      "\n",
      "\n",
      "   Начало дефекта  Длина дефекта  Высота дефекта Тип дефекта Сторона\n",
      "2             276           55.0               8           L       B\n",
      "3             795           34.0               8           L       B\n",
      "4             877           49.0               4           L       A\n",
      "5             971           50.0               5           L       B\n",
      "6             112            NaN               4           T        \n",
      "\n",
      "\n",
      "\n",
      "\n"
     ]
    }
   ],
   "source": [
    "printer(target3)"
   ],
   "metadata": {
    "collapsed": false,
    "pycharm": {
     "name": "#%%\n"
    }
   }
  },
  {
   "cell_type": "markdown",
   "source": [
    "## Вектор с результатами наличия дефектов"
   ],
   "metadata": {
    "collapsed": false
   }
  },
  {
   "cell_type": "code",
   "execution_count": 16,
   "outputs": [],
   "source": [
    "array1: Union[Union[list[int], None], Any] = [0] * sop1.count()[0]\n",
    "array2: Union[Union[list[int], None], Any] = [0] * sop2.count()[0]\n",
    "array3: Union[Union[list[int], None], Any] = [0] * sop3.count()[0]"
   ],
   "metadata": {
    "collapsed": false,
    "pycharm": {
     "name": "#%%\n"
    }
   }
  },
  {
   "cell_type": "code",
   "execution_count": 17,
   "outputs": [],
   "source": [
    "ser1: Series = Series(data=array1)\n",
    "ser2: Series = Series(data=array2)\n",
    "ser3: Series = Series(data=array3)"
   ],
   "metadata": {
    "collapsed": false,
    "pycharm": {
     "name": "#%%\n"
    }
   }
  },
  {
   "cell_type": "code",
   "execution_count": 18,
   "outputs": [],
   "source": [
    "def defects(target: DataFrame, series: Series) -> Series:\n",
    "    for index, row in target.iterrows():\n",
    "        begin = row['Начало дефекта']\n",
    "        end = row['Начало дефекта'] + row['Длина дефекта']\n",
    "        if not isnan(end):\n",
    "            series.loc[begin:int(end)] = 1\n",
    "    return series"
   ],
   "metadata": {
    "collapsed": false,
    "pycharm": {
     "name": "#%%\n"
    }
   }
  },
  {
   "cell_type": "code",
   "execution_count": 19,
   "outputs": [],
   "source": [
    "ser1 = defects(target1, ser1)\n",
    "ser2 = defects(target2, ser2)\n",
    "ser3 = defects(target2, ser3)"
   ],
   "metadata": {
    "collapsed": false,
    "pycharm": {
     "name": "#%%\n"
    }
   }
  },
  {
   "cell_type": "markdown",
   "source": [
    "## Разбиение данных на обучающую и проверочную выборки"
   ],
   "metadata": {
    "collapsed": false
   }
  },
  {
   "cell_type": "code",
   "execution_count": 20,
   "outputs": [],
   "source": [
    "sop_train1, sop_test1, target_train1, target_test1 = train_test_split(sop1, ser1, test_size=0.3, train_size=0.7)\n",
    "sop_train2, sop_test2, target_train2, target_test2 = train_test_split(sop2, ser2, test_size=0.3, train_size=0.7)\n",
    "sop_train3, sop_test3, target_train3, target_test3 = train_test_split(sop3, ser3, test_size=0.3, train_size=0.7)"
   ],
   "metadata": {
    "collapsed": false,
    "pycharm": {
     "name": "#%%\n"
    }
   }
  },
  {
   "cell_type": "markdown",
   "source": [
    "## Последовательное применение алгоритмов"
   ],
   "metadata": {
    "collapsed": false
   }
  },
  {
   "cell_type": "code",
   "execution_count": 21,
   "outputs": [],
   "source": [
    "def algorithms(sop_train: object, target_train: object) -> object:\n",
    "    rfc: RandomForestClassifier = RandomForestClassifier()\n",
    "    rfc.fit(\n",
    "        X=sop_train,\n",
    "        y=target_train\n",
    "    )\n",
    "\n",
    "    gbc: GradientBoostingClassifier = GradientBoostingClassifier()\n",
    "    gbc.fit(\n",
    "        X=sop_train,\n",
    "        y=target_train\n",
    "    )\n",
    "\n",
    "    estimators = [\n",
    "        (\n",
    "            'rf', RandomForestClassifier(\n",
    "                n_estimators=10,\n",
    "                random_state=42\n",
    "            )\n",
    "        ),\n",
    "        (\n",
    "            'svr', make_pipeline(\n",
    "                StandardScaler(),\n",
    "                LinearSVC(random_state=42)\n",
    "            )\n",
    "        )\n",
    "    ]\n",
    "    sc: StackingClassifier = StackingClassifier(\n",
    "        estimators=estimators,\n",
    "        final_estimator=LogisticRegression()\n",
    "    )\n",
    "    sc.fit(sop_train, target_train)\n",
    "\n",
    "    return rfc, gbc, sc"
   ],
   "metadata": {
    "collapsed": false,
    "pycharm": {
     "name": "#%%\n"
    }
   }
  },
  {
   "cell_type": "code",
   "execution_count": 22,
   "outputs": [],
   "source": [
    "rfc1, gbc1, sc1 = algorithms(\n",
    "    sop_train=sop_train1,\n",
    "    target_train=target_train1\n",
    ")"
   ],
   "metadata": {
    "collapsed": false,
    "pycharm": {
     "name": "#%%\n"
    }
   }
  },
  {
   "cell_type": "code",
   "execution_count": 23,
   "outputs": [],
   "source": [
    "rfc2, gbc2, sc2 = algorithms(\n",
    "    sop_train=sop_train2,\n",
    "    target_train=target_train2\n",
    ")"
   ],
   "metadata": {
    "collapsed": false,
    "pycharm": {
     "name": "#%%\n"
    }
   }
  },
  {
   "cell_type": "code",
   "execution_count": 24,
   "outputs": [],
   "source": [
    "rfc3, gbc3, sc3 = algorithms(\n",
    "    sop_train=sop_train3,\n",
    "    target_train=target_train3\n",
    ")"
   ],
   "metadata": {
    "collapsed": false,
    "pycharm": {
     "name": "#%%\n"
    }
   }
  },
  {
   "cell_type": "markdown",
   "source": [
    "## Оценка качества модели"
   ],
   "metadata": {
    "collapsed": false
   }
  },
  {
   "cell_type": "code",
   "execution_count": 25,
   "outputs": [],
   "source": [
    "def estimate(classifier: object, target_test: object, sop_test: object) -> None:\n",
    "    pred: object = classifier.predict(sop_test)\n",
    "    print(f\"accuracy_score: {round(accuracy_score(target_test, pred, normalize=True), 3)}\", end='\\n\\n')\n",
    "    print(f\"classification_report: {classification_report(target_test, pred)}\", end='\\n\\n')"
   ],
   "metadata": {
    "collapsed": false,
    "pycharm": {
     "name": "#%%\n"
    }
   }
  },
  {
   "cell_type": "markdown",
   "source": [
    "### RandomForestClassifier"
   ],
   "metadata": {
    "collapsed": false
   }
  },
  {
   "cell_type": "code",
   "execution_count": 26,
   "outputs": [
    {
     "name": "stdout",
     "output_type": "stream",
     "text": [
      "accuracy_score: 0.882\n",
      "\n",
      "classification_report:               precision    recall  f1-score   support\n",
      "\n",
      "           0       0.88      0.97      0.92       229\n",
      "           1       0.90      0.63      0.74        84\n",
      "\n",
      "    accuracy                           0.88       313\n",
      "   macro avg       0.89      0.80      0.83       313\n",
      "weighted avg       0.88      0.88      0.87       313\n",
      "\n",
      "\n"
     ]
    }
   ],
   "source": [
    "estimate(\n",
    "    classifier=rfc1,\n",
    "    target_test=target_test1,\n",
    "    sop_test=sop_test1\n",
    ")"
   ],
   "metadata": {
    "collapsed": false,
    "pycharm": {
     "name": "#%%\n"
    }
   }
  },
  {
   "cell_type": "code",
   "execution_count": 27,
   "outputs": [
    {
     "name": "stdout",
     "output_type": "stream",
     "text": [
      "accuracy_score: 0.856\n",
      "\n",
      "classification_report:               precision    recall  f1-score   support\n",
      "\n",
      "           0       0.86      0.97      0.91       240\n",
      "           1       0.83      0.47      0.60        72\n",
      "\n",
      "    accuracy                           0.86       312\n",
      "   macro avg       0.84      0.72      0.76       312\n",
      "weighted avg       0.85      0.86      0.84       312\n",
      "\n",
      "\n"
     ]
    }
   ],
   "source": [
    "estimate(\n",
    "    classifier=rfc2,\n",
    "    target_test=target_test2,\n",
    "    sop_test=sop_test2\n",
    ")"
   ],
   "metadata": {
    "collapsed": false,
    "pycharm": {
     "name": "#%%\n"
    }
   }
  },
  {
   "cell_type": "code",
   "execution_count": 28,
   "outputs": [
    {
     "name": "stdout",
     "output_type": "stream",
     "text": [
      "accuracy_score: 0.853\n",
      "\n",
      "classification_report:               precision    recall  f1-score   support\n",
      "\n",
      "           0       0.85      0.98      0.91       241\n",
      "           1       0.88      0.41      0.56        71\n",
      "\n",
      "    accuracy                           0.85       312\n",
      "   macro avg       0.86      0.70      0.73       312\n",
      "weighted avg       0.86      0.85      0.83       312\n",
      "\n",
      "\n"
     ]
    }
   ],
   "source": [
    "estimate(\n",
    "    classifier=rfc3,\n",
    "    target_test=target_test3,\n",
    "    sop_test=sop_test3\n",
    ")"
   ],
   "metadata": {
    "collapsed": false,
    "pycharm": {
     "name": "#%%\n"
    }
   }
  },
  {
   "cell_type": "markdown",
   "source": [
    "### GradientBoostingClassifier"
   ],
   "metadata": {
    "collapsed": false
   }
  },
  {
   "cell_type": "code",
   "execution_count": 29,
   "outputs": [
    {
     "name": "stdout",
     "output_type": "stream",
     "text": [
      "accuracy_score: 0.843\n",
      "\n",
      "classification_report:               precision    recall  f1-score   support\n",
      "\n",
      "           0       0.87      0.93      0.90       229\n",
      "           1       0.76      0.61      0.68        84\n",
      "\n",
      "    accuracy                           0.84       313\n",
      "   macro avg       0.81      0.77      0.79       313\n",
      "weighted avg       0.84      0.84      0.84       313\n",
      "\n",
      "\n"
     ]
    }
   ],
   "source": [
    "estimate(\n",
    "    classifier=gbc1,\n",
    "    target_test=target_test1,\n",
    "    sop_test=sop_test1\n",
    ")"
   ],
   "metadata": {
    "collapsed": false,
    "pycharm": {
     "name": "#%%\n"
    }
   }
  },
  {
   "cell_type": "code",
   "execution_count": 30,
   "outputs": [
    {
     "name": "stdout",
     "output_type": "stream",
     "text": [
      "accuracy_score: 0.859\n",
      "\n",
      "classification_report:               precision    recall  f1-score   support\n",
      "\n",
      "           0       0.87      0.96      0.91       240\n",
      "           1       0.80      0.51      0.63        72\n",
      "\n",
      "    accuracy                           0.86       312\n",
      "   macro avg       0.84      0.74      0.77       312\n",
      "weighted avg       0.85      0.86      0.85       312\n",
      "\n",
      "\n"
     ]
    }
   ],
   "source": [
    "estimate(\n",
    "    classifier=gbc2,\n",
    "    target_test=target_test2,\n",
    "    sop_test=sop_test2\n",
    ")"
   ],
   "metadata": {
    "collapsed": false,
    "pycharm": {
     "name": "#%%\n"
    }
   }
  },
  {
   "cell_type": "code",
   "execution_count": 31,
   "outputs": [
    {
     "name": "stdout",
     "output_type": "stream",
     "text": [
      "accuracy_score: 0.843\n",
      "\n",
      "classification_report:               precision    recall  f1-score   support\n",
      "\n",
      "           0       0.85      0.97      0.90       241\n",
      "           1       0.79      0.42      0.55        71\n",
      "\n",
      "    accuracy                           0.84       312\n",
      "   macro avg       0.82      0.69      0.73       312\n",
      "weighted avg       0.84      0.84      0.82       312\n",
      "\n",
      "\n"
     ]
    }
   ],
   "source": [
    "estimate(\n",
    "    classifier=gbc3,\n",
    "    target_test=target_test3,\n",
    "    sop_test=sop_test3\n",
    ")"
   ],
   "metadata": {
    "collapsed": false,
    "pycharm": {
     "name": "#%%\n"
    }
   }
  },
  {
   "cell_type": "markdown",
   "source": [
    "### StackingClassifier"
   ],
   "metadata": {
    "collapsed": false
   }
  },
  {
   "cell_type": "code",
   "execution_count": 32,
   "outputs": [
    {
     "name": "stdout",
     "output_type": "stream",
     "text": [
      "accuracy_score: 0.84\n",
      "\n",
      "classification_report:               precision    recall  f1-score   support\n",
      "\n",
      "           0       0.86      0.94      0.90       229\n",
      "           1       0.77      0.57      0.66        84\n",
      "\n",
      "    accuracy                           0.84       313\n",
      "   macro avg       0.82      0.76      0.78       313\n",
      "weighted avg       0.83      0.84      0.83       313\n",
      "\n",
      "\n"
     ]
    }
   ],
   "source": [
    "estimate(\n",
    "    classifier=sc1,\n",
    "    target_test=target_test1,\n",
    "    sop_test=sop_test1\n",
    ")"
   ],
   "metadata": {
    "collapsed": false,
    "pycharm": {
     "name": "#%%\n"
    }
   }
  },
  {
   "cell_type": "code",
   "execution_count": 33,
   "outputs": [
    {
     "name": "stdout",
     "output_type": "stream",
     "text": [
      "accuracy_score: 0.872\n",
      "\n",
      "classification_report:               precision    recall  f1-score   support\n",
      "\n",
      "           0       0.88      0.97      0.92       240\n",
      "           1       0.83      0.56      0.67        72\n",
      "\n",
      "    accuracy                           0.87       312\n",
      "   macro avg       0.86      0.76      0.79       312\n",
      "weighted avg       0.87      0.87      0.86       312\n",
      "\n",
      "\n"
     ]
    }
   ],
   "source": [
    "estimate(\n",
    "    classifier=sc2,\n",
    "    target_test=target_test2,\n",
    "    sop_test=sop_test2\n",
    ")"
   ],
   "metadata": {
    "collapsed": false,
    "pycharm": {
     "name": "#%%\n"
    }
   }
  },
  {
   "cell_type": "code",
   "execution_count": 34,
   "outputs": [
    {
     "name": "stdout",
     "output_type": "stream",
     "text": [
      "accuracy_score: 0.837\n",
      "\n",
      "classification_report:               precision    recall  f1-score   support\n",
      "\n",
      "           0       0.84      0.98      0.90       241\n",
      "           1       0.83      0.35      0.50        71\n",
      "\n",
      "    accuracy                           0.84       312\n",
      "   macro avg       0.84      0.67      0.70       312\n",
      "weighted avg       0.84      0.84      0.81       312\n",
      "\n",
      "\n"
     ]
    }
   ],
   "source": [
    "estimate(\n",
    "    classifier=sc3,\n",
    "    target_test=target_test3,\n",
    "    sop_test=sop_test3\n",
    ")"
   ],
   "metadata": {
    "collapsed": false,
    "pycharm": {
     "name": "#%%\n"
    }
   }
  },
  {
   "cell_type": "markdown",
   "source": [
    "## Подбор гиперпараметров"
   ],
   "metadata": {
    "collapsed": false
   }
  },
  {
   "cell_type": "code",
   "execution_count": 35,
   "outputs": [],
   "source": [
    "def hyperparameters(sop_train: object, target_train: object) -> object:\n",
    "    print(\"RandomForestClassifier\")\n",
    "    parameters: dict[str, Union[list[str], list[Union[float, int]]]] = {\n",
    "        'criterion': ['gini', 'entropy'],\n",
    "        'max_depth': [1, 2],\n",
    "        'min_samples_split': [1, 2, 3, 4],\n",
    "    }\n",
    "    grid: GridSearchCV = GridSearchCV(\n",
    "        RandomForestClassifier(),\n",
    "        parameters,\n",
    "        cv=5\n",
    "    )\n",
    "    rfc_grid: Union[GridSearchCV, Any] = grid.fit(sop_train, target_train)\n",
    "\n",
    "    print(\"GradientBoostingClassifier\")\n",
    "    parameters: dict[str, Union[list[str], list[Union[float, int]]]] = {\n",
    "        \"n_estimators\": [100, 150, 200],\n",
    "        \"learning_rate\": [0.1, 0.3, 0.5],\n",
    "        \"max_depth\": [1, 2],\n",
    "    }\n",
    "    grid: GridSearchCV = GridSearchCV(\n",
    "        GradientBoostingClassifier(),\n",
    "        parameters,\n",
    "        cv=5\n",
    "    )\n",
    "    gbc_grid: Union[GridSearchCV, Any] = grid.fit(sop_train, target_train)\n",
    "\n",
    "    print(\"StackingClassifier\")\n",
    "    estimators: list[Union[tuple[str, RandomForestClassifier], tuple[str, LogisticRegression]]] = [\n",
    "        (\n",
    "            'rf', RandomForestClassifier(\n",
    "                n_estimators=10,\n",
    "                random_state=42\n",
    "            )\n",
    "        ),\n",
    "        (\n",
    "            'logreg',\n",
    "            LogisticRegression()\n",
    "        )\n",
    "    ]\n",
    "    params: dict[str, list[int]] = {\n",
    "        'rf__n_estimators': [5, 10, 15]\n",
    "    }\n",
    "    grid: GridSearchCV = GridSearchCV(\n",
    "        estimator=StackingClassifier(\n",
    "            estimators=estimators,\n",
    "            final_estimator=DecisionTreeClassifier()\n",
    "        ),\n",
    "        param_grid=params,\n",
    "        cv=5\n",
    "    )\n",
    "    sc_grid: Union[GridSearchCV, Any] = grid.fit(sop_train, target_train)\n",
    "\n",
    "    return rfc_grid, gbc_grid, sc_grid"
   ],
   "metadata": {
    "collapsed": false,
    "pycharm": {
     "name": "#%%\n"
    }
   }
  },
  {
   "cell_type": "code",
   "execution_count": 36,
   "outputs": [
    {
     "name": "stdout",
     "output_type": "stream",
     "text": [
      "RandomForestClassifier\n",
      "GradientBoostingClassifier\n",
      "StackingClassifier\n"
     ]
    }
   ],
   "source": [
    "rfc_grid1, gbc_grid1, sc_grid1 = hyperparameters(\n",
    "    sop_train=sop_train1,\n",
    "    target_train=target_train1\n",
    ")"
   ],
   "metadata": {
    "collapsed": false,
    "pycharm": {
     "name": "#%%\n"
    }
   }
  },
  {
   "cell_type": "code",
   "execution_count": 37,
   "outputs": [
    {
     "name": "stdout",
     "output_type": "stream",
     "text": [
      "RandomForestClassifier\n",
      "GradientBoostingClassifier\n",
      "StackingClassifier\n"
     ]
    }
   ],
   "source": [
    "rfc_grid2, gbc_grid2, sc_grid2 = hyperparameters(\n",
    "    sop_train=sop_train2,\n",
    "    target_train=target_train2\n",
    ")"
   ],
   "metadata": {
    "collapsed": false,
    "pycharm": {
     "name": "#%%\n"
    }
   }
  },
  {
   "cell_type": "code",
   "execution_count": 38,
   "outputs": [
    {
     "name": "stdout",
     "output_type": "stream",
     "text": [
      "RandomForestClassifier\n",
      "GradientBoostingClassifier\n",
      "StackingClassifier\n"
     ]
    }
   ],
   "source": [
    "rfc_grid3, gbc_grid3, sc_grid3 = hyperparameters(\n",
    "    sop_train=sop_train3,\n",
    "    target_train=target_train3\n",
    ")"
   ],
   "metadata": {
    "collapsed": false,
    "pycharm": {
     "name": "#%%\n"
    }
   }
  },
  {
   "cell_type": "markdown",
   "source": [
    "## Заново обучите модель с подобранными гиперпараметрам"
   ],
   "metadata": {
    "collapsed": false
   }
  },
  {
   "cell_type": "markdown",
   "source": [
    "### RandomForestClassifier"
   ],
   "metadata": {
    "collapsed": false
   }
  },
  {
   "cell_type": "code",
   "execution_count": 39,
   "outputs": [
    {
     "name": "stdout",
     "output_type": "stream",
     "text": [
      "accuracy_score: 0.748\n",
      "\n",
      "classification_report:               precision    recall  f1-score   support\n",
      "\n",
      "           0       0.74      1.00      0.85       229\n",
      "           1       1.00      0.06      0.11        84\n",
      "\n",
      "    accuracy                           0.75       313\n",
      "   macro avg       0.87      0.53      0.48       313\n",
      "weighted avg       0.81      0.75      0.65       313\n",
      "\n",
      "\n"
     ]
    }
   ],
   "source": [
    "estimate(\n",
    "    classifier=rfc_grid1,\n",
    "    target_test=target_test1,\n",
    "    sop_test=sop_test1\n",
    ")"
   ],
   "metadata": {
    "collapsed": false,
    "pycharm": {
     "name": "#%%\n"
    }
   }
  },
  {
   "cell_type": "code",
   "execution_count": 40,
   "outputs": [
    {
     "name": "stdout",
     "output_type": "stream",
     "text": [
      "accuracy_score: 0.772\n",
      "\n",
      "classification_report:               precision    recall  f1-score   support\n",
      "\n",
      "           0       0.77      1.00      0.87       240\n",
      "           1       1.00      0.01      0.03        72\n",
      "\n",
      "    accuracy                           0.77       312\n",
      "   macro avg       0.89      0.51      0.45       312\n",
      "weighted avg       0.82      0.77      0.68       312\n",
      "\n",
      "\n"
     ]
    }
   ],
   "source": [
    "estimate(\n",
    "    classifier=rfc_grid2,\n",
    "    target_test=target_test2,\n",
    "    sop_test=sop_test2\n",
    ")"
   ],
   "metadata": {
    "collapsed": false,
    "pycharm": {
     "name": "#%%\n"
    }
   }
  },
  {
   "cell_type": "code",
   "execution_count": 41,
   "outputs": [
    {
     "name": "stdout",
     "output_type": "stream",
     "text": [
      "accuracy_score: 0.782\n",
      "\n",
      "classification_report:               precision    recall  f1-score   support\n",
      "\n",
      "           0       0.78      1.00      0.88       241\n",
      "           1       1.00      0.04      0.08        71\n",
      "\n",
      "    accuracy                           0.78       312\n",
      "   macro avg       0.89      0.52      0.48       312\n",
      "weighted avg       0.83      0.78      0.70       312\n",
      "\n",
      "\n"
     ]
    }
   ],
   "source": [
    "estimate(\n",
    "    classifier=rfc_grid3,\n",
    "    target_test=target_test3,\n",
    "    sop_test=sop_test3\n",
    ")"
   ],
   "metadata": {
    "collapsed": false,
    "pycharm": {
     "name": "#%%\n"
    }
   }
  },
  {
   "cell_type": "markdown",
   "source": [
    "### GradientBoostingClassifier"
   ],
   "metadata": {
    "collapsed": false
   }
  },
  {
   "cell_type": "code",
   "execution_count": 42,
   "outputs": [
    {
     "name": "stdout",
     "output_type": "stream",
     "text": [
      "accuracy_score: 0.863\n",
      "\n",
      "classification_report:               precision    recall  f1-score   support\n",
      "\n",
      "           0       0.89      0.93      0.91       229\n",
      "           1       0.77      0.69      0.73        84\n",
      "\n",
      "    accuracy                           0.86       313\n",
      "   macro avg       0.83      0.81      0.82       313\n",
      "weighted avg       0.86      0.86      0.86       313\n",
      "\n",
      "\n"
     ]
    }
   ],
   "source": [
    "estimate(\n",
    "    classifier=gbc_grid1,\n",
    "    target_test=target_test1,\n",
    "    sop_test=sop_test1\n",
    ")"
   ],
   "metadata": {
    "collapsed": false,
    "pycharm": {
     "name": "#%%\n"
    }
   }
  },
  {
   "cell_type": "code",
   "execution_count": 43,
   "outputs": [
    {
     "name": "stdout",
     "output_type": "stream",
     "text": [
      "accuracy_score: 0.859\n",
      "\n",
      "classification_report:               precision    recall  f1-score   support\n",
      "\n",
      "           0       0.87      0.96      0.91       240\n",
      "           1       0.80      0.51      0.63        72\n",
      "\n",
      "    accuracy                           0.86       312\n",
      "   macro avg       0.84      0.74      0.77       312\n",
      "weighted avg       0.85      0.86      0.85       312\n",
      "\n",
      "\n"
     ]
    }
   ],
   "source": [
    "estimate(\n",
    "    classifier=gbc_grid2,\n",
    "    target_test=target_test2,\n",
    "    sop_test=sop_test2\n",
    ")"
   ],
   "metadata": {
    "collapsed": false,
    "pycharm": {
     "name": "#%%\n"
    }
   }
  },
  {
   "cell_type": "code",
   "execution_count": 44,
   "outputs": [
    {
     "name": "stdout",
     "output_type": "stream",
     "text": [
      "accuracy_score: 0.862\n",
      "\n",
      "classification_report:               precision    recall  f1-score   support\n",
      "\n",
      "           0       0.88      0.96      0.91       241\n",
      "           1       0.79      0.54      0.64        71\n",
      "\n",
      "    accuracy                           0.86       312\n",
      "   macro avg       0.83      0.75      0.78       312\n",
      "weighted avg       0.86      0.86      0.85       312\n",
      "\n",
      "\n"
     ]
    }
   ],
   "source": [
    "estimate(\n",
    "    classifier=gbc_grid3,\n",
    "    target_test=target_test3,\n",
    "    sop_test=sop_test3\n",
    ")"
   ],
   "metadata": {
    "collapsed": false,
    "pycharm": {
     "name": "#%%\n"
    }
   }
  },
  {
   "cell_type": "markdown",
   "source": [
    "### StackingClassifier"
   ],
   "metadata": {
    "collapsed": false
   }
  },
  {
   "cell_type": "code",
   "execution_count": 45,
   "outputs": [
    {
     "name": "stdout",
     "output_type": "stream",
     "text": [
      "accuracy_score: 0.824\n",
      "\n",
      "classification_report:               precision    recall  f1-score   support\n",
      "\n",
      "           0       0.86      0.90      0.88       229\n",
      "           1       0.70      0.61      0.65        84\n",
      "\n",
      "    accuracy                           0.82       313\n",
      "   macro avg       0.78      0.76      0.77       313\n",
      "weighted avg       0.82      0.82      0.82       313\n",
      "\n",
      "\n"
     ]
    }
   ],
   "source": [
    "estimate(\n",
    "    classifier=sc_grid1,\n",
    "    target_test=target_test1,\n",
    "    sop_test=sop_test1\n",
    ")"
   ],
   "metadata": {
    "collapsed": false,
    "pycharm": {
     "name": "#%%\n"
    }
   }
  },
  {
   "cell_type": "code",
   "execution_count": 46,
   "outputs": [
    {
     "name": "stdout",
     "output_type": "stream",
     "text": [
      "accuracy_score: 0.795\n",
      "\n",
      "classification_report:               precision    recall  f1-score   support\n",
      "\n",
      "           0       0.87      0.86      0.87       240\n",
      "           1       0.55      0.57      0.56        72\n",
      "\n",
      "    accuracy                           0.79       312\n",
      "   macro avg       0.71      0.72      0.71       312\n",
      "weighted avg       0.80      0.79      0.80       312\n",
      "\n",
      "\n"
     ]
    }
   ],
   "source": [
    "estimate(\n",
    "    classifier=sc_grid2,\n",
    "    target_test=target_test2,\n",
    "    sop_test=sop_test2\n",
    ")"
   ],
   "metadata": {
    "collapsed": false,
    "pycharm": {
     "name": "#%%\n"
    }
   }
  },
  {
   "cell_type": "code",
   "execution_count": 47,
   "outputs": [
    {
     "name": "stdout",
     "output_type": "stream",
     "text": [
      "accuracy_score: 0.798\n",
      "\n",
      "classification_report:               precision    recall  f1-score   support\n",
      "\n",
      "           0       0.86      0.88      0.87       241\n",
      "           1       0.56      0.54      0.55        71\n",
      "\n",
      "    accuracy                           0.80       312\n",
      "   macro avg       0.71      0.71      0.71       312\n",
      "weighted avg       0.80      0.80      0.80       312\n",
      "\n",
      "\n"
     ]
    }
   ],
   "source": [
    "estimate(\n",
    "    classifier=sc_grid3,\n",
    "    target_test=target_test3,\n",
    "    sop_test=sop_test3\n",
    ")"
   ],
   "metadata": {
    "collapsed": false,
    "pycharm": {
     "name": "#%%\n"
    }
   }
  },
  {
   "cell_type": "markdown",
   "source": [
    "# Ответы на контрольные вопросы"
   ],
   "metadata": {
    "collapsed": false
   }
  },
  {
   "cell_type": "markdown",
   "source": [
    "## 1. Что такое алгоритм «Случайного леса»? Чем он отличается от обычного дерева решений?"
   ],
   "metadata": {
    "collapsed": false,
    "pycharm": {
     "name": "#%% md\n"
    }
   }
  },
  {
   "cell_type": "markdown",
   "source": [],
   "metadata": {
    "collapsed": false
   }
  },
  {
   "cell_type": "markdown",
   "source": [
    "## 2. Что такое алгоритм градиентного бустинга?"
   ],
   "metadata": {
    "collapsed": false
   }
  },
  {
   "cell_type": "markdown",
   "source": [],
   "metadata": {
    "collapsed": false
   }
  },
  {
   "cell_type": "markdown",
   "source": [
    "## 3. Что означает техника стекинга в машинном обучении?"
   ],
   "metadata": {
    "collapsed": false
   }
  },
  {
   "cell_type": "markdown",
   "source": [],
   "metadata": {
    "collapsed": false,
    "pycharm": {
     "name": "#%% md\n"
    }
   }
  }
 ],
 "metadata": {
  "kernelspec": {
   "display_name": "Python 3",
   "language": "python",
   "name": "python3"
  },
  "language_info": {
   "codemirror_mode": {
    "name": "ipython",
    "version": 2
   },
   "file_extension": ".py",
   "mimetype": "text/x-python",
   "name": "python",
   "nbconvert_exporter": "python",
   "pygments_lexer": "ipython2",
   "version": "2.7.6"
  }
 },
 "nbformat": 4,
 "nbformat_minor": 0
}